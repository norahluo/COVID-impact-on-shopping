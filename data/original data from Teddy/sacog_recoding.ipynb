{
 "cells": [
  {
   "cell_type": "code",
   "execution_count": 1,
   "metadata": {},
   "outputs": [],
   "source": [
    "import pandas as pd, numpy as np, os, seaborn as sns, matplotlib.pyplot as plt, matplotlib.ticker as ticker, \\\n",
    "json, sys, site, pylogit as pl\n",
    "from matplotlib import rcParams\n",
    "from datetime import date\n",
    "%matplotlib inline\n",
    "pd.set_option('display.precision',3)"
   ]
  },
  {
   "cell_type": "code",
   "execution_count": 2,
   "metadata": {},
   "outputs": [
    {
     "name": "stdout",
     "output_type": "stream",
     "text": [
      "last updated: 07/03/2020\n"
     ]
    }
   ],
   "source": [
    "print('last updated: ' + date.today().strftime(\"%m/%d/%Y\"))"
   ]
  },
  {
   "cell_type": "markdown",
   "metadata": {},
   "source": [
    "## Part 1 - Load Data"
   ]
  },
  {
   "cell_type": "code",
   "execution_count": 3,
   "metadata": {},
   "outputs": [
    {
     "data": {
      "text/html": [
       "<div>\n",
       "<style scoped>\n",
       "    .dataframe tbody tr th:only-of-type {\n",
       "        vertical-align: middle;\n",
       "    }\n",
       "\n",
       "    .dataframe tbody tr th {\n",
       "        vertical-align: top;\n",
       "    }\n",
       "\n",
       "    .dataframe thead th {\n",
       "        text-align: right;\n",
       "    }\n",
       "</style>\n",
       "<table border=\"1\" class=\"dataframe\">\n",
       "  <thead>\n",
       "    <tr style=\"text-align: right;\">\n",
       "      <th></th>\n",
       "      <th>Start Date</th>\n",
       "      <th>End Date</th>\n",
       "      <th>Response Type</th>\n",
       "      <th>IP Address</th>\n",
       "      <th>Progress</th>\n",
       "      <th>Duration (in seconds)</th>\n",
       "      <th>Finished</th>\n",
       "      <th>Recorded Date</th>\n",
       "      <th>Response ID</th>\n",
       "      <th>Recipient Last Name</th>\n",
       "      <th>...</th>\n",
       "      <th>Has your household income been affected by the COVID-19 pandemic thus far?</th>\n",
       "      <th>Have the Shelter in Place/Stay at Home orders increased your responsibilities in any of the following ways?\\n\\n\\n\\nPlease select all that apply.</th>\n",
       "      <th>You're a survey master! Please pick your $10 gift card and let us know where to send it before you go. \\n\\nPlease choose from amongst the options below, available from https://www.giftbit.com/rewards/ (make sure that USA is selected in the top left).</th>\n",
       "      <th>Please provide an address to which we can send your gift card!\\n \\n\\nWe can either distribute your gift card via email, or via physical mail. Due to COVID-19 delivery issues, physical distribution of gift cards is not possible until Shelter in Place orders have been lifted in Alameda County. Currently, the orders are in effect until at least the end of May 2020, and we cannot provide an estimate for the delivery of physical gift cards.\\n\\n \\n\\nVirtual gift cards will be distributed within three weeks of the study closing date, which is one- to two-weeks from when were invited to participate. \\n\\n \\n\\nIf you do not provide a valid email or mailing address, we will be unable to distribute your gift card. - Email address</th>\n",
       "      <th>Please provide an address to which we can send your gift card!\\n \\n\\nWe can either distribute your gift card via email, or via physical mail. Due to COVID-19 delivery issues, physical distribution of gift cards is not possible until Shelter in Place orders have been lifted in Alameda County. Currently, the orders are in effect until at least the end of May 2020, and we cannot provide an estimate for the delivery of physical gift cards.\\n\\n \\n\\nVirtual gift cards will be distributed within three weeks of the study closing date, which is one- to two-weeks from when were invited to participate. \\n\\n \\n\\nIf you do not provide a valid email or mailing address, we will be unable to distribute your gift card. - Mailing address</th>\n",
       "      <th>Are you willing to participate in future studies?\\n\\n\\n\\nIf you are willing to participate in future studies (e.g., surveys, interviews, or focus groups) related to shopping and deliveries, you may be provided a link by which to complete additional forms and researchers may contact you regarding future participation. Future studies may include incentives (e.g., gift cards, promotional discounts) for participation.\\n \\n\\nAt this time, participation in future panel phases will make your household eligible to receive one $150 gift card during each panel phase. Additionally, If you are contacted about participating in phone, teleconference, or video interviews, you will receive one $25 gift card per interview.</th>\n",
       "      <th>If you have any feedback on this survey, please provide it below.\\n\\n\\n\\nWere any questions unclear? Were certain questions annoying to answer? Did you have to look somewhere unexpected to be able to answer any questions?\\n \\n\\nBe advised that your responses will be read by a real human being, so please try to keep your feedback as constructive as possible.</th>\n",
       "      <th>Random ID</th>\n",
       "      <th>ResponseID</th>\n",
       "      <th>DeviceIdentifier</th>\n",
       "    </tr>\n",
       "  </thead>\n",
       "  <tbody>\n",
       "    <tr>\n",
       "      <th>0</th>\n",
       "      <td>2020-05-25 12:07:41</td>\n",
       "      <td>2020-05-25 12:40:19</td>\n",
       "      <td>IP Address</td>\n",
       "      <td>98.208.112.200</td>\n",
       "      <td>100</td>\n",
       "      <td>1957</td>\n",
       "      <td>True</td>\n",
       "      <td>2020-05-25 12:40:20.264</td>\n",
       "      <td>R_3HLKBXhTIWgpd5v</td>\n",
       "      <td>NaN</td>\n",
       "      <td>...</td>\n",
       "      <td>Yes, decreased</td>\n",
       "      <td>Prefer not to answer</td>\n",
       "      <td>Walmart</td>\n",
       "      <td>bhaktavar.baba@gmail.com</td>\n",
       "      <td>9444 Harbour Point Drive\\nUnit Number 50</td>\n",
       "      <td>Yes</td>\n",
       "      <td>NaN</td>\n",
       "      <td>542189</td>\n",
       "      <td>R_3HLKBXhTIWgpd5v</td>\n",
       "      <td>NaN</td>\n",
       "    </tr>\n",
       "    <tr>\n",
       "      <th>1</th>\n",
       "      <td>2020-05-25 12:10:20</td>\n",
       "      <td>2020-05-25 12:40:47</td>\n",
       "      <td>IP Address</td>\n",
       "      <td>75.111.25.35</td>\n",
       "      <td>100</td>\n",
       "      <td>1826</td>\n",
       "      <td>True</td>\n",
       "      <td>2020-05-25 12:40:48.693</td>\n",
       "      <td>R_2dgBf5xYdf4pJDs</td>\n",
       "      <td>NaN</td>\n",
       "      <td>...</td>\n",
       "      <td>NaN</td>\n",
       "      <td>Prefer not to answer</td>\n",
       "      <td>Amazon</td>\n",
       "      <td>vmwales@gmail.com</td>\n",
       "      <td>PO Box 144\\nFields Landing, CA 95537</td>\n",
       "      <td>Yes</td>\n",
       "      <td>NaN</td>\n",
       "      <td>153740</td>\n",
       "      <td>R_2dgBf5xYdf4pJDs</td>\n",
       "      <td>NaN</td>\n",
       "    </tr>\n",
       "    <tr>\n",
       "      <th>2</th>\n",
       "      <td>2020-05-25 12:15:34</td>\n",
       "      <td>2020-05-25 12:43:10</td>\n",
       "      <td>IP Address</td>\n",
       "      <td>107.138.66.44</td>\n",
       "      <td>100</td>\n",
       "      <td>1655</td>\n",
       "      <td>True</td>\n",
       "      <td>2020-05-25 12:43:11.046</td>\n",
       "      <td>R_wXWh8mxuoPtnAWt</td>\n",
       "      <td>NaN</td>\n",
       "      <td>...</td>\n",
       "      <td>NaN</td>\n",
       "      <td>Prefer not to answer</td>\n",
       "      <td>Amazon</td>\n",
       "      <td>Texastoads@sbcglobal.net</td>\n",
       "      <td>1399 Sacramento Ave Unit 54 West Sacramento Ca...</td>\n",
       "      <td>Yes</td>\n",
       "      <td>NaN</td>\n",
       "      <td>269033</td>\n",
       "      <td>R_wXWh8mxuoPtnAWt</td>\n",
       "      <td>NaN</td>\n",
       "    </tr>\n",
       "    <tr>\n",
       "      <th>3</th>\n",
       "      <td>2020-05-25 12:13:15</td>\n",
       "      <td>2020-05-25 12:47:12</td>\n",
       "      <td>IP Address</td>\n",
       "      <td>23.114.218.168</td>\n",
       "      <td>100</td>\n",
       "      <td>2036</td>\n",
       "      <td>True</td>\n",
       "      <td>2020-05-25 12:47:13.365</td>\n",
       "      <td>R_2TNwp9PZ6T9eKdl</td>\n",
       "      <td>NaN</td>\n",
       "      <td>...</td>\n",
       "      <td>No change</td>\n",
       "      <td>Increased time spent shopping online</td>\n",
       "      <td>Amazon</td>\n",
       "      <td>camquad@sbcglobal.net</td>\n",
       "      <td>5266 Ridgevale Way\\nFair Oaks CA 95628</td>\n",
       "      <td>Yes</td>\n",
       "      <td>Very well laid out and easy to understand and ...</td>\n",
       "      <td>722343</td>\n",
       "      <td>R_2TNwp9PZ6T9eKdl</td>\n",
       "      <td>NaN</td>\n",
       "    </tr>\n",
       "    <tr>\n",
       "      <th>4</th>\n",
       "      <td>2020-05-25 12:16:28</td>\n",
       "      <td>2020-05-25 12:47:25</td>\n",
       "      <td>IP Address</td>\n",
       "      <td>73.2.34.66</td>\n",
       "      <td>100</td>\n",
       "      <td>1856</td>\n",
       "      <td>True</td>\n",
       "      <td>2020-05-25 12:47:26.445</td>\n",
       "      <td>R_1ouIsItTUyGkZBh</td>\n",
       "      <td>NaN</td>\n",
       "      <td>...</td>\n",
       "      <td>No change</td>\n",
       "      <td>NaN</td>\n",
       "      <td>Amazon</td>\n",
       "      <td>paulajavery@gmail.com</td>\n",
       "      <td>NaN</td>\n",
       "      <td>Yes</td>\n",
       "      <td>NaN</td>\n",
       "      <td>141483</td>\n",
       "      <td>R_1ouIsItTUyGkZBh</td>\n",
       "      <td>NaN</td>\n",
       "    </tr>\n",
       "  </tbody>\n",
       "</table>\n",
       "<p>5 rows × 916 columns</p>\n",
       "</div>"
      ],
      "text/plain": [
       "           Start Date            End Date Response Type      IP Address  \\\n",
       "0 2020-05-25 12:07:41 2020-05-25 12:40:19    IP Address  98.208.112.200   \n",
       "1 2020-05-25 12:10:20 2020-05-25 12:40:47    IP Address    75.111.25.35   \n",
       "2 2020-05-25 12:15:34 2020-05-25 12:43:10    IP Address   107.138.66.44   \n",
       "3 2020-05-25 12:13:15 2020-05-25 12:47:12    IP Address  23.114.218.168   \n",
       "4 2020-05-25 12:16:28 2020-05-25 12:47:25    IP Address      73.2.34.66   \n",
       "\n",
       "   Progress  Duration (in seconds)  Finished           Recorded Date  \\\n",
       "0       100                   1957      True 2020-05-25 12:40:20.264   \n",
       "1       100                   1826      True 2020-05-25 12:40:48.693   \n",
       "2       100                   1655      True 2020-05-25 12:43:11.046   \n",
       "3       100                   2036      True 2020-05-25 12:47:13.365   \n",
       "4       100                   1856      True 2020-05-25 12:47:26.445   \n",
       "\n",
       "         Response ID  Recipient Last Name  ...  \\\n",
       "0  R_3HLKBXhTIWgpd5v                  NaN  ...   \n",
       "1  R_2dgBf5xYdf4pJDs                  NaN  ...   \n",
       "2  R_wXWh8mxuoPtnAWt                  NaN  ...   \n",
       "3  R_2TNwp9PZ6T9eKdl                  NaN  ...   \n",
       "4  R_1ouIsItTUyGkZBh                  NaN  ...   \n",
       "\n",
       "   Has your household income been affected by the COVID-19 pandemic thus far?  \\\n",
       "0                                     Yes, decreased                            \n",
       "1                                                NaN                            \n",
       "2                                                NaN                            \n",
       "3                                          No change                            \n",
       "4                                          No change                            \n",
       "\n",
       "  Have the Shelter in Place/Stay at Home orders increased your responsibilities in any of the following ways?\\n\\n\\n\\nPlease select all that apply.  \\\n",
       "0                               Prefer not to answer                                                                                                 \n",
       "1                               Prefer not to answer                                                                                                 \n",
       "2                               Prefer not to answer                                                                                                 \n",
       "3               Increased time spent shopping online                                                                                                 \n",
       "4                                                NaN                                                                                                 \n",
       "\n",
       "   You're a survey master! Please pick your $10 gift card and let us know where to send it before you go. \\n\\nPlease choose from amongst the options below, available from https://www.giftbit.com/rewards/ (make sure that USA is selected in the top left).  \\\n",
       "0                                            Walmart                                                                                                                                                                                                            \n",
       "1                                             Amazon                                                                                                                                                                                                            \n",
       "2                                             Amazon                                                                                                                                                                                                            \n",
       "3                                             Amazon                                                                                                                                                                                                            \n",
       "4                                             Amazon                                                                                                                                                                                                            \n",
       "\n",
       "   Please provide an address to which we can send your gift card!\\n \\n\\nWe can either distribute your gift card via email, or via physical mail. Due to COVID-19 delivery issues, physical distribution of gift cards is not possible until Shelter in Place orders have been lifted in Alameda County. Currently, the orders are in effect until at least the end of May 2020, and we cannot provide an estimate for the delivery of physical gift cards.\\n\\n \\n\\nVirtual gift cards will be distributed within three weeks of the study closing date, which is one- to two-weeks from when were invited to participate. \\n\\n \\n\\nIf you do not provide a valid email or mailing address, we will be unable to distribute your gift card. - Email address  \\\n",
       "0                           bhaktavar.baba@gmail.com                                                                                                                                                                                                                                                                                                                                                                                                                                                                                                                                                                                                                                                                                                         \n",
       "1                                  vmwales@gmail.com                                                                                                                                                                                                                                                                                                                                                                                                                                                                                                                                                                                                                                                                                                         \n",
       "2                           Texastoads@sbcglobal.net                                                                                                                                                                                                                                                                                                                                                                                                                                                                                                                                                                                                                                                                                                         \n",
       "3                              camquad@sbcglobal.net                                                                                                                                                                                                                                                                                                                                                                                                                                                                                                                                                                                                                                                                                                         \n",
       "4                              paulajavery@gmail.com                                                                                                                                                                                                                                                                                                                                                                                                                                                                                                                                                                                                                                                                                                         \n",
       "\n",
       "   Please provide an address to which we can send your gift card!\\n \\n\\nWe can either distribute your gift card via email, or via physical mail. Due to COVID-19 delivery issues, physical distribution of gift cards is not possible until Shelter in Place orders have been lifted in Alameda County. Currently, the orders are in effect until at least the end of May 2020, and we cannot provide an estimate for the delivery of physical gift cards.\\n\\n \\n\\nVirtual gift cards will be distributed within three weeks of the study closing date, which is one- to two-weeks from when were invited to participate. \\n\\n \\n\\nIf you do not provide a valid email or mailing address, we will be unable to distribute your gift card. - Mailing address  \\\n",
       "0           9444 Harbour Point Drive\\nUnit Number 50                                                                                                                                                                                                                                                                                                                                                                                                                                                                                                                                                                                                                                                                                                           \n",
       "1               PO Box 144\\nFields Landing, CA 95537                                                                                                                                                                                                                                                                                                                                                                                                                                                                                                                                                                                                                                                                                                           \n",
       "2  1399 Sacramento Ave Unit 54 West Sacramento Ca...                                                                                                                                                                                                                                                                                                                                                                                                                                                                                                                                                                                                                                                                                                           \n",
       "3             5266 Ridgevale Way\\nFair Oaks CA 95628                                                                                                                                                                                                                                                                                                                                                                                                                                                                                                                                                                                                                                                                                                           \n",
       "4                                                NaN                                                                                                                                                                                                                                                                                                                                                                                                                                                                                                                                                                                                                                                                                                           \n",
       "\n",
       "  Are you willing to participate in future studies?\\n\\n\\n\\nIf you are willing to participate in future studies (e.g., surveys, interviews, or focus groups) related to shopping and deliveries, you may be provided a link by which to complete additional forms and researchers may contact you regarding future participation. Future studies may include incentives (e.g., gift cards, promotional discounts) for participation.\\n \\n\\nAt this time, participation in future panel phases will make your household eligible to receive one $150 gift card during each panel phase. Additionally, If you are contacted about participating in phone, teleconference, or video interviews, you will receive one $25 gift card per interview.  \\\n",
       "0                                                Yes                                                                                                                                                                                                                                                                                                                                                                                                                                                                                                                                                                                                                                                                                            \n",
       "1                                                Yes                                                                                                                                                                                                                                                                                                                                                                                                                                                                                                                                                                                                                                                                                            \n",
       "2                                                Yes                                                                                                                                                                                                                                                                                                                                                                                                                                                                                                                                                                                                                                                                                            \n",
       "3                                                Yes                                                                                                                                                                                                                                                                                                                                                                                                                                                                                                                                                                                                                                                                                            \n",
       "4                                                Yes                                                                                                                                                                                                                                                                                                                                                                                                                                                                                                                                                                                                                                                                                            \n",
       "\n",
       "  If you have any feedback on this survey, please provide it below.\\n\\n\\n\\nWere any questions unclear? Were certain questions annoying to answer? Did you have to look somewhere unexpected to be able to answer any questions?\\n \\n\\nBe advised that your responses will be read by a real human being, so please try to keep your feedback as constructive as possible.  \\\n",
       "0                                                NaN                                                                                                                                                                                                                                                                                                                        \n",
       "1                                                NaN                                                                                                                                                                                                                                                                                                                        \n",
       "2                                                NaN                                                                                                                                                                                                                                                                                                                        \n",
       "3  Very well laid out and easy to understand and ...                                                                                                                                                                                                                                                                                                                        \n",
       "4                                                NaN                                                                                                                                                                                                                                                                                                                        \n",
       "\n",
       "   Random ID         ResponseID DeviceIdentifier  \n",
       "0     542189  R_3HLKBXhTIWgpd5v              NaN  \n",
       "1     153740  R_2dgBf5xYdf4pJDs              NaN  \n",
       "2     269033  R_wXWh8mxuoPtnAWt              NaN  \n",
       "3     722343  R_2TNwp9PZ6T9eKdl              NaN  \n",
       "4     141483  R_1ouIsItTUyGkZBh              NaN  \n",
       "\n",
       "[5 rows x 916 columns]"
      ]
     },
     "execution_count": 3,
     "metadata": {},
     "output_type": "execute_result"
    }
   ],
   "source": [
    "sacog = pd.read_excel('SACOG intake - final_June 5, 2020_14.33.xlsx', skiprows = [0], encoding = 'utf-8')\n",
    "sacog.head()"
   ]
  },
  {
   "cell_type": "markdown",
   "metadata": {},
   "source": [
    "### 1.1 Users"
   ]
  },
  {
   "cell_type": "code",
   "execution_count": 4,
   "metadata": {},
   "outputs": [
    {
     "data": {
      "text/plain": [
       "327"
      ]
     },
     "execution_count": 4,
     "metadata": {},
     "output_type": "execute_result"
    }
   ],
   "source": [
    "len(sacog)"
   ]
  },
  {
   "cell_type": "markdown",
   "metadata": {},
   "source": [
    "All 327 records are completed surveys."
   ]
  },
  {
   "cell_type": "code",
   "execution_count": 5,
   "metadata": {},
   "outputs": [
    {
     "data": {
      "text/plain": [
       "0      100\n",
       "221    100\n",
       "220    100\n",
       "219    100\n",
       "218    100\n",
       "      ... \n",
       "105    100\n",
       "104    100\n",
       "103    100\n",
       "121    100\n",
       "326    100\n",
       "Name: Progress, Length: 327, dtype: int64"
      ]
     },
     "execution_count": 5,
     "metadata": {},
     "output_type": "execute_result"
    }
   ],
   "source": [
    "sacog['Progress'].sort_values()"
   ]
  },
  {
   "cell_type": "code",
   "execution_count": 6,
   "metadata": {},
   "outputs": [
    {
     "name": "stdout",
     "output_type": "stream",
     "text": [
      "0 Start Date\n",
      "1 End Date\n",
      "2 Response Type\n",
      "3 IP Address\n",
      "4 Progress\n",
      "5 Duration (in seconds)\n",
      "6 Finished\n",
      "7 Recorded Date\n",
      "8 Response ID\n",
      "9 Recipient Last Name\n",
      "10 Recipient First Name\n",
      "11 Recipient Email\n",
      "12 External Data Reference\n",
      "13 Location Latitude\n",
      "14 Location Longitude\n",
      "15 Distribution Channel\n",
      "16 User Language\n",
      "17 Q_RecaptchaScore\n",
      "18 Participant Consent\n",
      "19 What is your age group?\n",
      "20 In what county do you currently reside?\n",
      "21 Please write the name of your county of residence below.\n",
      "22 What is the zip code of your household?\n",
      "23 What are the nearest cross streets to your current household? - Cross street 1\n",
      "24 What are the nearest cross streets to your current household? - Cross street 2\n",
      "25 How did you fill out the 2018 Sacramento Area Council of Governments (SACOG) Household travel survey in May, 2018? - Selected Choice\n",
      "26 How did you fill out the 2018 Sacramento Area Council of Governments (SACOG) Household travel survey in May, 2018? - Something else - Text\n",
      "27 Do you still live with the household member who filled out the survey in May 2018?\n",
      "28 Have you moved since May 2018?\n",
      "29 In May 2018, in what county did you reside?\n",
      "30 Please write the name of your county of residence in May 2018 below.\n",
      "31 Since completing the 2018 Household travel survey, have you been recontacted by SACOG or by researchers not related to this individual project to participate in followup studies?\n",
      "32 Are you currently participating in any followup studies, other than this one?\n",
      "33 From Sunday, May 17th through Saturday, May 23rd, approximately what were your working hours? - Selected Choice\n",
      "34 From Sunday, May 17th through Saturday, May 23rd, approximately what were your working hours? - Some other work schedule: - Text\n",
      "35 From Sunday, May 17th through Saturday, May 23rd, how many days did you telecommute or work from home?\n",
      "36 From Sunday, May 17th through Saturday, May 23rd, about how many trips did you make (i.e., please... - Number of trips - Commuting to work/school or other primary destination\n",
      "37 From Sunday, May 17th through Saturday, May 23rd, about how many trips did you make (i.e., please... - Number of trips - Traveling to medical appointments\n",
      "38 From Sunday, May 17th through Saturday, May 23rd, about how many trips did you make (i.e., please... - Number of trips - Going to the gym\n",
      "39 From Sunday, May 17th through Saturday, May 23rd, about how many trips did you make (i.e., please... - Number of trips - Taking my children to school\n",
      "40 From Sunday, May 17th through Saturday, May 23rd, about how many trips did you make (i.e., please... - Number of trips - Taking my children home from school\n",
      "41 From Sunday, May 17th through Saturday, May 23rd, about how many trips did you make (i.e., please... - Number of trips - Going to a bar\n",
      "42 From Sunday, May 17th through Saturday, May 23rd, about how many trips did you make (i.e., please... - Number of trips - Seeing a movie in theaters\n",
      "43 From Sunday, May 17th through Saturday, May 23rd, about how many trips did you make (i.e., please... - Number of trips - Visiting friends\n",
      "44 From Sunday, May 17th through Saturday, May 23rd, about how many trips did you make (i.e., please... - Number of trips - Visiting family\n",
      "45 From Sunday, May 17th through Saturday, May 23rd, about how many trips did you make (i.e., please... - Number of trips - Some other trip type\n",
      "46 From Sunday, May 17th through Saturday, May 23rd, about how many trips did you make (i.e., please... - Number of trips - Some other trip type - Text\n",
      "47 From Sunday, May 17th through Saturday, May 23rd, about how many trips did you make (i.e., please... - I did not make any of these trips - Commuting to work/school or other primary destination\n",
      "48 From Sunday, May 17th through Saturday, May 23rd, about how many trips did you make (i.e., please... - I did not make any of these trips - Traveling to medical appointments\n",
      "49 From Sunday, May 17th through Saturday, May 23rd, about how many trips did you make (i.e., please... - I did not make any of these trips - Going to the gym\n",
      "50 From Sunday, May 17th through Saturday, May 23rd, about how many trips did you make (i.e., please... - I did not make any of these trips - Taking my children to school\n",
      "51 From Sunday, May 17th through Saturday, May 23rd, about how many trips did you make (i.e., please... - I did not make any of these trips - Taking my children home from school\n",
      "52 From Sunday, May 17th through Saturday, May 23rd, about how many trips did you make (i.e., please... - I did not make any of these trips - Going to a bar\n",
      "53 From Sunday, May 17th through Saturday, May 23rd, about how many trips did you make (i.e., please... - I did not make any of these trips - Seeing a movie in theaters\n",
      "54 From Sunday, May 17th through Saturday, May 23rd, about how many trips did you make (i.e., please... - I did not make any of these trips - Visiting friends\n",
      "55 From Sunday, May 17th through Saturday, May 23rd, about how many trips did you make (i.e., please... - I did not make any of these trips - Visiting family\n",
      "56 From Sunday, May 17th through Saturday, May 23rd, about how many trips did you make (i.e., please... - I did not make any of these trips - Some other trip type\n",
      "57 From Sunday, May 17th through Saturday, May 23rd, about how many trips did you make (i.e., please... - I did not make any of these trips - Some other trip type - Text\n",
      "58 From Sunday, May 17th through Saturday, May 23rd, about how many trips did you make (i.e., please... - I don't remember - Commuting to work/school or other primary destination\n",
      "59 From Sunday, May 17th through Saturday, May 23rd, about how many trips did you make (i.e., please... - I don't remember - Traveling to medical appointments\n",
      "60 From Sunday, May 17th through Saturday, May 23rd, about how many trips did you make (i.e., please... - I don't remember - Going to the gym\n",
      "61 From Sunday, May 17th through Saturday, May 23rd, about how many trips did you make (i.e., please... - I don't remember - Taking my children to school\n",
      "62 From Sunday, May 17th through Saturday, May 23rd, about how many trips did you make (i.e., please... - I don't remember - Taking my children home from school\n",
      "63 From Sunday, May 17th through Saturday, May 23rd, about how many trips did you make (i.e., please... - I don't remember - Going to a bar\n",
      "64 From Sunday, May 17th through Saturday, May 23rd, about how many trips did you make (i.e., please... - I don't remember - Seeing a movie in theaters\n",
      "65 From Sunday, May 17th through Saturday, May 23rd, about how many trips did you make (i.e., please... - I don't remember - Visiting friends\n",
      "66 From Sunday, May 17th through Saturday, May 23rd, about how many trips did you make (i.e., please... - I don't remember - Visiting family\n",
      "67 From Sunday, May 17th through Saturday, May 23rd, about how many trips did you make (i.e., please... - I don't remember - Some other trip type\n",
      "68 From Sunday, May 17th through Saturday, May 23rd, about how many trips did you make (i.e., please... - I don't remember - Some other trip type - Text\n",
      "69 If you have any followup about your reasons for commuting and working from your workplace, please provide them below.\n",
      "70 From Sunday, May 17th through Saturday, May 23rd, about how far was your trip distance for each o... - Trip distance - Commuting to work/school or other primary destination\n",
      "71 From Sunday, May 17th through Saturday, May 23rd, about how far was your trip distance for each o... - Trip distance - Traveling to medical appointments\n",
      "72 From Sunday, May 17th through Saturday, May 23rd, about how far was your trip distance for each o... - Trip distance - Going to the gym\n",
      "73 From Sunday, May 17th through Saturday, May 23rd, about how far was your trip distance for each o... - Trip distance - Taking my children to school\n",
      "74 From Sunday, May 17th through Saturday, May 23rd, about how far was your trip distance for each o... - Trip distance - Taking my children home from school\n",
      "75 From Sunday, May 17th through Saturday, May 23rd, about how far was your trip distance for each o... - Trip distance - Going to a bar\n",
      "76 From Sunday, May 17th through Saturday, May 23rd, about how far was your trip distance for each o... - Trip distance - Seeing a movie in theaters\n",
      "77 From Sunday, May 17th through Saturday, May 23rd, about how far was your trip distance for each o... - Trip distance - Visiting friends\n",
      "78 From Sunday, May 17th through Saturday, May 23rd, about how far was your trip distance for each o... - Trip distance - Visiting family\n",
      "79 From Sunday, May 17th through Saturday, May 23rd, about how far was your trip distance for each o... - Trip distance - Some other trip type\n",
      "80 From Sunday, May 17th through Saturday, May 23rd, about how far was your trip distance for each o... - Trip distance - Some other trip type - Text\n",
      "81 From Sunday, May 17th through Saturday, May 23rd, what was the primary mode you used for these tr... - Primary mode - Commuting to work/school or other primary destination\n",
      "82 From Sunday, May 17th through Saturday, May 23rd, what was the primary mode you used for these tr... - Primary mode - Traveling to medical appointments\n",
      "83 From Sunday, May 17th through Saturday, May 23rd, what was the primary mode you used for these tr... - Primary mode - Going to the gym\n",
      "84 From Sunday, May 17th through Saturday, May 23rd, what was the primary mode you used for these tr... - Primary mode - Taking my children to school\n",
      "85 From Sunday, May 17th through Saturday, May 23rd, what was the primary mode you used for these tr... - Primary mode - Taking my children home from school\n",
      "86 From Sunday, May 17th through Saturday, May 23rd, what was the primary mode you used for these tr... - Primary mode - Going to a bar\n",
      "87 From Sunday, May 17th through Saturday, May 23rd, what was the primary mode you used for these tr... - Primary mode - Seeing a movie in theaters\n",
      "88 From Sunday, May 17th through Saturday, May 23rd, what was the primary mode you used for these tr... - Primary mode - Visiting friends\n",
      "89 From Sunday, May 17th through Saturday, May 23rd, what was the primary mode you used for these tr... - Primary mode - Visiting family\n",
      "90 From Sunday, May 17th through Saturday, May 23rd, what was the primary mode you used for these tr... - Primary mode - Some other trip type\n",
      "91 From Sunday, May 17th through Saturday, May 23rd, what was the primary mode you used for these tr... - Primary mode - Some other trip type - Text\n",
      "92 During that typical week in Jan./Feb. 2020 (prior to the COVID-19 pandemic), were you living in the same place as you were from Sunday, May 17th through Saturday, May 23rd?\n",
      "93 During that typical week in Jan./Feb. 2020 (prior to the COVID-19 pandemic), approximately what were your working hours? - Selected Choice\n",
      "94 During that typical week in Jan./Feb. 2020 (prior to the COVID-19 pandemic), approximately what were your working hours? - Some other work schedule: - Text\n",
      "95 During that typical week in Jan./Feb. 2020 (prior to the COVID-19 pandemic), how many days did you tele-commute or work from home?\n",
      "96 During that typical week in Jan./Feb. 2020 (prior to the COVID-19 pandemic), were your travel patterns different than they would have otherwise been? This could be due to Shelter in Place preparations, other COVID-19 related issues, or something else.\n",
      "97 If you would like to elaborate on these differences, please do so below.\n",
      "98 During that typical week in Jan./Feb. 2020 (prior to the COVID-19 pandemic), about how many trips... - Number of trips - Commuting to work/school or other primary destination\n",
      "99 During that typical week in Jan./Feb. 2020 (prior to the COVID-19 pandemic), about how many trips... - Number of trips - Traveling to medical appointments\n",
      "100 During that typical week in Jan./Feb. 2020 (prior to the COVID-19 pandemic), about how many trips... - Number of trips - Going to the gym\n",
      "101 During that typical week in Jan./Feb. 2020 (prior to the COVID-19 pandemic), about how many trips... - Number of trips - Taking my children to school\n",
      "102 During that typical week in Jan./Feb. 2020 (prior to the COVID-19 pandemic), about how many trips... - Number of trips - Taking my children home from school\n",
      "103 During that typical week in Jan./Feb. 2020 (prior to the COVID-19 pandemic), about how many trips... - Number of trips - Going to a bar\n",
      "104 During that typical week in Jan./Feb. 2020 (prior to the COVID-19 pandemic), about how many trips... - Number of trips - Seeing a movie in theaters\n",
      "105 During that typical week in Jan./Feb. 2020 (prior to the COVID-19 pandemic), about how many trips... - Number of trips - Visiting friends\n",
      "106 During that typical week in Jan./Feb. 2020 (prior to the COVID-19 pandemic), about how many trips... - Number of trips - Visiting family\n",
      "107 During that typical week in Jan./Feb. 2020 (prior to the COVID-19 pandemic), about how many trips... - Number of trips - Some other trip type\n",
      "108 During that typical week in Jan./Feb. 2020 (prior to the COVID-19 pandemic), about how many trips... - Number of trips - Some other trip type - Text\n",
      "109 During that typical week in Jan./Feb. 2020 (prior to the COVID-19 pandemic), about how many trips... - I did not make any of these trips during a typical week - Commuting to work/school or other primary destination\n",
      "110 During that typical week in Jan./Feb. 2020 (prior to the COVID-19 pandemic), about how many trips... - I did not make any of these trips during a typical week - Traveling to medical appointments\n",
      "111 During that typical week in Jan./Feb. 2020 (prior to the COVID-19 pandemic), about how many trips... - I did not make any of these trips during a typical week - Going to the gym\n",
      "112 During that typical week in Jan./Feb. 2020 (prior to the COVID-19 pandemic), about how many trips... - I did not make any of these trips during a typical week - Taking my children to school\n",
      "113 During that typical week in Jan./Feb. 2020 (prior to the COVID-19 pandemic), about how many trips... - I did not make any of these trips during a typical week - Taking my children home from school\n",
      "114 During that typical week in Jan./Feb. 2020 (prior to the COVID-19 pandemic), about how many trips... - I did not make any of these trips during a typical week - Going to a bar\n",
      "115 During that typical week in Jan./Feb. 2020 (prior to the COVID-19 pandemic), about how many trips... - I did not make any of these trips during a typical week - Seeing a movie in theaters\n",
      "116 During that typical week in Jan./Feb. 2020 (prior to the COVID-19 pandemic), about how many trips... - I did not make any of these trips during a typical week - Visiting friends\n",
      "117 During that typical week in Jan./Feb. 2020 (prior to the COVID-19 pandemic), about how many trips... - I did not make any of these trips during a typical week - Visiting family\n",
      "118 During that typical week in Jan./Feb. 2020 (prior to the COVID-19 pandemic), about how many trips... - I did not make any of these trips during a typical week - Some other trip type\n",
      "119 During that typical week in Jan./Feb. 2020 (prior to the COVID-19 pandemic), about how many trips... - I did not make any of these trips during a typical week - Some other trip type - Text\n",
      "120 For trips that you made from Sunday, May 17th through Saturday, May 23rd were your trip distances... - Trip distance change? - Commuting to work/school or other primary destination\n",
      "121 For trips that you made from Sunday, May 17th through Saturday, May 23rd were your trip distances... - Trip distance change? - Traveling to medical appointments\n",
      "122 For trips that you made from Sunday, May 17th through Saturday, May 23rd were your trip distances... - Trip distance change? - Going to the gym\n",
      "123 For trips that you made from Sunday, May 17th through Saturday, May 23rd were your trip distances... - Trip distance change? - Taking my children to school\n",
      "124 For trips that you made from Sunday, May 17th through Saturday, May 23rd were your trip distances... - Trip distance change? - Taking my children home from school\n",
      "125 For trips that you made from Sunday, May 17th through Saturday, May 23rd were your trip distances... - Trip distance change? - Going to a bar\n",
      "126 For trips that you made from Sunday, May 17th through Saturday, May 23rd were your trip distances... - Trip distance change? - Seeing a movie in theaters\n",
      "127 For trips that you made from Sunday, May 17th through Saturday, May 23rd were your trip distances... - Trip distance change? - Visiting friends\n",
      "128 For trips that you made from Sunday, May 17th through Saturday, May 23rd were your trip distances... - Trip distance change? - Visiting family\n",
      "129 For trips that you made from Sunday, May 17th through Saturday, May 23rd were your trip distances... - Trip distance change? - Some other trip type\n",
      "130 For trips that you made from Sunday, May 17th through Saturday, May 23rd were your trip distances... - Trip distance change? - Some other trip type - Text\n",
      "131 For trips that you made from Sunday, May 17th through Saturday, May 23rd were your trip distances... - Primary mode change? - Commuting to work/school or other primary destination\n",
      "132 For trips that you made from Sunday, May 17th through Saturday, May 23rd were your trip distances... - Primary mode change? - Traveling to medical appointments\n",
      "133 For trips that you made from Sunday, May 17th through Saturday, May 23rd were your trip distances... - Primary mode change? - Going to the gym\n",
      "134 For trips that you made from Sunday, May 17th through Saturday, May 23rd were your trip distances... - Primary mode change? - Taking my children to school\n",
      "135 For trips that you made from Sunday, May 17th through Saturday, May 23rd were your trip distances... - Primary mode change? - Taking my children home from school\n",
      "136 For trips that you made from Sunday, May 17th through Saturday, May 23rd were your trip distances... - Primary mode change? - Going to a bar\n",
      "137 For trips that you made from Sunday, May 17th through Saturday, May 23rd were your trip distances... - Primary mode change? - Seeing a movie in theaters\n",
      "138 For trips that you made from Sunday, May 17th through Saturday, May 23rd were your trip distances... - Primary mode change? - Visiting friends\n",
      "139 For trips that you made from Sunday, May 17th through Saturday, May 23rd were your trip distances... - Primary mode change? - Visiting family\n",
      "140 For trips that you made from Sunday, May 17th through Saturday, May 23rd were your trip distances... - Primary mode change? - Some other trip type\n",
      "141 For trips that you made from Sunday, May 17th through Saturday, May 23rd were your trip distances... - Primary mode change? - Some other trip type - Text\n",
      "142 What primary modes did you use during that typical week in Jan./Feb. 2020 (prior to the COVID-19... - Primary mode - Commuting to work/school or other primary destination\n",
      "143 What primary modes did you use during that typical week in Jan./Feb. 2020 (prior to the COVID-19... - Primary mode - Traveling to medical appointments\n",
      "144 What primary modes did you use during that typical week in Jan./Feb. 2020 (prior to the COVID-19... - Primary mode - Going to the gym\n",
      "145 What primary modes did you use during that typical week in Jan./Feb. 2020 (prior to the COVID-19... - Primary mode - Taking my children to school\n",
      "146 What primary modes did you use during that typical week in Jan./Feb. 2020 (prior to the COVID-19... - Primary mode - Taking my children home from school\n",
      "147 What primary modes did you use during that typical week in Jan./Feb. 2020 (prior to the COVID-19... - Primary mode - Going to a bar\n",
      "148 What primary modes did you use during that typical week in Jan./Feb. 2020 (prior to the COVID-19... - Primary mode - Seeing a movie in theaters\n",
      "149 What primary modes did you use during that typical week in Jan./Feb. 2020 (prior to the COVID-19... - Primary mode - Visiting friends\n",
      "150 What primary modes did you use during that typical week in Jan./Feb. 2020 (prior to the COVID-19... - Primary mode - Visiting family\n",
      "151 What primary modes did you use during that typical week in Jan./Feb. 2020 (prior to the COVID-19... - Primary mode - Some other trip type\n",
      "152 What primary modes did you use during that typical week in Jan./Feb. 2020 (prior to the COVID-19... - Primary mode - Some other trip type - Text\n",
      "153 What were your trip distances during that typical week in Jan./Feb. 2020 (prior to the COVID-19 p... - Trip distance - Commuting to work/school or other primary destination\n",
      "154 What were your trip distances during that typical week in Jan./Feb. 2020 (prior to the COVID-19 p... - Trip distance - Traveling to medical appointments\n",
      "155 What were your trip distances during that typical week in Jan./Feb. 2020 (prior to the COVID-19 p... - Trip distance - Going to the gym\n",
      "156 What were your trip distances during that typical week in Jan./Feb. 2020 (prior to the COVID-19 p... - Trip distance - Taking my children to school\n",
      "157 What were your trip distances during that typical week in Jan./Feb. 2020 (prior to the COVID-19 p... - Trip distance - Taking my children home from school\n",
      "158 What were your trip distances during that typical week in Jan./Feb. 2020 (prior to the COVID-19 p... - Trip distance - Going to a bar\n",
      "159 What were your trip distances during that typical week in Jan./Feb. 2020 (prior to the COVID-19 p... - Trip distance - Seeing a movie in theaters\n",
      "160 What were your trip distances during that typical week in Jan./Feb. 2020 (prior to the COVID-19 p... - Trip distance - Visiting friends\n",
      "161 What were your trip distances during that typical week in Jan./Feb. 2020 (prior to the COVID-19 p... - Trip distance - Visiting family\n",
      "162 What were your trip distances during that typical week in Jan./Feb. 2020 (prior to the COVID-19 p... - Trip distance - Some other trip type\n",
      "163 What were your trip distances during that typical week in Jan./Feb. 2020 (prior to the COVID-19 p... - Trip distance - Some other trip type - Text\n",
      "164 What were your trip distances during that typical week in Jan./Feb. 2020 (prior to the COVID-19 p... - Trip distance - Commuting to work/school or other primary destination.1\n",
      "165 What were your trip distances during that typical week in Jan./Feb. 2020 (prior to the COVID-19 p... - Trip distance - Traveling to medical appointments.1\n",
      "166 What were your trip distances during that typical week in Jan./Feb. 2020 (prior to the COVID-19 p... - Trip distance - Going to the gym.1\n",
      "167 What were your trip distances during that typical week in Jan./Feb. 2020 (prior to the COVID-19 p... - Trip distance - Taking my children to school.1\n",
      "168 What were your trip distances during that typical week in Jan./Feb. 2020 (prior to the COVID-19 p... - Trip distance - Taking my children home from school.1\n",
      "169 What were your trip distances during that typical week in Jan./Feb. 2020 (prior to the COVID-19 p... - Trip distance - Going to a bar.1\n",
      "170 What were your trip distances during that typical week in Jan./Feb. 2020 (prior to the COVID-19 p... - Trip distance - Seeing a movie in theaters.1\n",
      "171 What were your trip distances during that typical week in Jan./Feb. 2020 (prior to the COVID-19 p... - Trip distance - Visiting friends.1\n",
      "172 What were your trip distances during that typical week in Jan./Feb. 2020 (prior to the COVID-19 p... - Trip distance - Visiting family.1\n",
      "173 What were your trip distances during that typical week in Jan./Feb. 2020 (prior to the COVID-19 p... - Trip distance - Some other trip type.1\n",
      "174 What were your trip distances during that typical week in Jan./Feb. 2020 (prior to the COVID-19 p... - Trip distance - Some other trip type - Text.1\n",
      "175 What primary modes did you use during that typical week in Jan./Feb. 2020 (prior to the COVID-19... - Primary mode - Commuting to work/school or other primary destination.1\n",
      "176 What primary modes did you use during that typical week in Jan./Feb. 2020 (prior to the COVID-19... - Primary mode - Traveling to medical appointments.1\n",
      "177 What primary modes did you use during that typical week in Jan./Feb. 2020 (prior to the COVID-19... - Primary mode - Going to the gym.1\n",
      "178 What primary modes did you use during that typical week in Jan./Feb. 2020 (prior to the COVID-19... - Primary mode - Taking my children to school.1\n",
      "179 What primary modes did you use during that typical week in Jan./Feb. 2020 (prior to the COVID-19... - Primary mode - Taking my children home from school.1\n",
      "180 What primary modes did you use during that typical week in Jan./Feb. 2020 (prior to the COVID-19... - Primary mode - Going to a bar.1\n",
      "181 What primary modes did you use during that typical week in Jan./Feb. 2020 (prior to the COVID-19... - Primary mode - Seeing a movie in theaters.1\n",
      "182 What primary modes did you use during that typical week in Jan./Feb. 2020 (prior to the COVID-19... - Primary mode - Visiting friends.1\n",
      "183 What primary modes did you use during that typical week in Jan./Feb. 2020 (prior to the COVID-19... - Primary mode - Visiting family.1\n",
      "184 What primary modes did you use during that typical week in Jan./Feb. 2020 (prior to the COVID-19... - Primary mode - Some other trip type.1\n",
      "185 What primary modes did you use during that typical week in Jan./Feb. 2020 (prior to the COVID-19... - Primary mode - Some other trip type - Text.1\n",
      "186 When did you first hear about upcoming Shelter in Place orders? For reference, Governer Gavin Newsom issued his statewide Shelter in Place order on Thursday, March 19th, 2020.\n",
      "187 Around when did you start preparing to Shelter in Place?\n",
      "188 Including you, how many people live in your household?\n",
      "189 Who else do you live with? Please select all that apply. - Selected Choice\n",
      "190 Who else do you live with? Please select all that apply. - Someone not previously listed: - Text\n",
      "191 From Sunday, May 17th through Saturday, May 23rd, were you sharing the shopping responsibilities with other members of your household?\n",
      "192 For what items were you sharing shopping responsibilities? - Shared shopping responsibilities for: - Prepared meal or beverages (i.e., from a restaurant or a café)\n",
      "193 For what items were you sharing shopping responsibilities? - Shared shopping responsibilities for: - Groceries\n",
      "194 For what items were you sharing shopping responsibilities? - Shared shopping responsibilities for: - Other food items (e.g., specialty foods, farmer's markets, farm boxes, meal preparation kits)\n",
      "195 For what items were you sharing shopping responsibilities? - Shared shopping responsibilities for: - Paper products and cleaning supplies\n",
      "196 For what items were you sharing shopping responsibilities? - Shared shopping responsibilities for: - Clothing\n",
      "197 For what items were you sharing shopping responsibilities? - Shared shopping responsibilities for: - Home office items\n",
      "198 For what items were you sharing shopping responsibilities? - Shared shopping responsibilities for: - Medication(s)\n",
      "199 For what items were you sharing shopping responsibilities? - Shared shopping responsibilities for: - Childcare items (e.g., diapers, formula, toys, children's books)\n",
      "200 For what items were you sharing shopping responsibilities? - Shared shopping responsibilities for: - Some other item(s):\n",
      "201 For what items were you sharing shopping responsibilities? - Shared shopping responsibilities for: - Some other item(s): - Text\n",
      "202 From Sunday, May 17th through Saturday, May 23rd, were you and/or someone else in your household shopping or making purchases on behalf of other people?\n",
      "203 Who were you and/or someone else in your household shopping or making these purchases for?\n",
      " \n",
      "\n",
      "Please select all that apply. - Selected Choice\n",
      "204 Who were you and/or someone else in your household shopping or making these purchases for?\n",
      " \n",
      "\n",
      "Please select all that apply. - Any person(s) not listed above - Text\n",
      "205 Where did each of these individuals live? You may need to scroll to the right to see all available options. \n",
      "\n",
      "Please select all that apply. - My immediate family members\n",
      "206 Where did each of these individuals live? You may need to scroll to the right to see all available options. \n",
      "\n",
      "Please select all that apply. - My extended family members\n",
      "207 Where did each of these individuals live? You may need to scroll to the right to see all available options. \n",
      "\n",
      "Please select all that apply. - Non-family members (e.g., housemates, friends, neighbors)\n",
      "208 Where did each of these individuals live? You may need to scroll to the right to see all available options. \n",
      "\n",
      "Please select all that apply. - Colleagues or members of my professional network\n",
      "209 Where did each of these individuals live? You may need to scroll to the right to see all available options. \n",
      "\n",
      "Please select all that apply. - Any person(s) not listed above\n",
      "210 Where did each of these individuals live? You may need to scroll to the right to see all available options. \n",
      "\n",
      "Please select all that apply. - Any person(s) not listed above - Text\n",
      "211 From Sunday, May 17th through Saturday, May 23rd, about how many shopping trips (i.e., please cou... - Number of trips to a store to purchase primarily - A prepared meal or beverage (i.e., from a restaurant or a café)\n",
      "212 From Sunday, May 17th through Saturday, May 23rd, about how many shopping trips (i.e., please cou... - Number of trips to a store to purchase primarily - Groceries\n",
      "213 From Sunday, May 17th through Saturday, May 23rd, about how many shopping trips (i.e., please cou... - Number of trips to a store to purchase primarily - Other food items (e.g., specialty foods, farmer's markets, farm boxes, meal preparation kits)\n",
      "214 From Sunday, May 17th through Saturday, May 23rd, about how many shopping trips (i.e., please cou... - Number of trips to a store to purchase primarily - Paper products and cleaning supplies\n",
      "215 From Sunday, May 17th through Saturday, May 23rd, about how many shopping trips (i.e., please cou... - Number of trips to a store to purchase primarily - Clothing\n",
      "216 From Sunday, May 17th through Saturday, May 23rd, about how many shopping trips (i.e., please cou... - Number of trips to a store to purchase primarily - Home office items\n",
      "217 From Sunday, May 17th through Saturday, May 23rd, about how many shopping trips (i.e., please cou... - Number of trips to a store to purchase primarily - Medication(s)\n",
      "218 From Sunday, May 17th through Saturday, May 23rd, about how many shopping trips (i.e., please cou... - Number of trips to a store to purchase primarily - Childcare items (e.g., diapers, formula, toys, children's books)\n",
      "219 From Sunday, May 17th through Saturday, May 23rd, about how many shopping trips (i.e., please cou... - Number of trips to a store to purchase primarily - Some other item(s):\n",
      "220 From Sunday, May 17th through Saturday, May 23rd, about how many shopping trips (i.e., please cou... - Number of trips to a store to purchase primarily - Some other item(s): - Text\n",
      "221 From Sunday, May 17th through Saturday, May 23rd, about how many shopping trips (i.e., please cou... - Number of orders made by phone, online, mobile application, or other e-commerce means - A prepared meal or beverage (i.e., from a restaurant or a café)\n",
      "222 From Sunday, May 17th through Saturday, May 23rd, about how many shopping trips (i.e., please cou... - Number of orders made by phone, online, mobile application, or other e-commerce means - Groceries\n",
      "223 From Sunday, May 17th through Saturday, May 23rd, about how many shopping trips (i.e., please cou... - Number of orders made by phone, online, mobile application, or other e-commerce means - Other food items (e.g., specialty foods, farmer's markets, farm boxes, meal preparation kits)\n",
      "224 From Sunday, May 17th through Saturday, May 23rd, about how many shopping trips (i.e., please cou... - Number of orders made by phone, online, mobile application, or other e-commerce means - Paper products and cleaning supplies\n",
      "225 From Sunday, May 17th through Saturday, May 23rd, about how many shopping trips (i.e., please cou... - Number of orders made by phone, online, mobile application, or other e-commerce means - Clothing\n",
      "226 From Sunday, May 17th through Saturday, May 23rd, about how many shopping trips (i.e., please cou... - Number of orders made by phone, online, mobile application, or other e-commerce means - Home office items\n",
      "227 From Sunday, May 17th through Saturday, May 23rd, about how many shopping trips (i.e., please cou... - Number of orders made by phone, online, mobile application, or other e-commerce means - Medication(s)\n",
      "228 From Sunday, May 17th through Saturday, May 23rd, about how many shopping trips (i.e., please cou... - Number of orders made by phone, online, mobile application, or other e-commerce means - Childcare items (e.g., diapers, formula, toys, children's books)\n",
      "229 From Sunday, May 17th through Saturday, May 23rd, about how many shopping trips (i.e., please cou... - Number of orders made by phone, online, mobile application, or other e-commerce means - Some other item(s):\n",
      "230 From Sunday, May 17th through Saturday, May 23rd, about how many shopping trips (i.e., please cou... - Number of orders made by phone, online, mobile application, or other e-commerce means - Some other item(s): - Text\n",
      "231 From Sunday, May 17th through Saturday, May 23rd, about how many shopping trips (i.e., please cou... - No trips to the store - A prepared meal or beverage (i.e., from a restaurant or a café)\n",
      "232 From Sunday, May 17th through Saturday, May 23rd, about how many shopping trips (i.e., please cou... - No trips to the store - Groceries\n",
      "233 From Sunday, May 17th through Saturday, May 23rd, about how many shopping trips (i.e., please cou... - No trips to the store - Other food items (e.g., specialty foods, farmer's markets, farm boxes, meal preparation kits)\n",
      "234 From Sunday, May 17th through Saturday, May 23rd, about how many shopping trips (i.e., please cou... - No trips to the store - Paper products and cleaning supplies\n",
      "235 From Sunday, May 17th through Saturday, May 23rd, about how many shopping trips (i.e., please cou... - No trips to the store - Clothing\n",
      "236 From Sunday, May 17th through Saturday, May 23rd, about how many shopping trips (i.e., please cou... - No trips to the store - Home office items\n",
      "237 From Sunday, May 17th through Saturday, May 23rd, about how many shopping trips (i.e., please cou... - No trips to the store - Medication(s)\n",
      "238 From Sunday, May 17th through Saturday, May 23rd, about how many shopping trips (i.e., please cou... - No trips to the store - Childcare items (e.g., diapers, formula, toys, children's books)\n",
      "239 From Sunday, May 17th through Saturday, May 23rd, about how many shopping trips (i.e., please cou... - No trips to the store - Some other item(s):\n",
      "240 From Sunday, May 17th through Saturday, May 23rd, about how many shopping trips (i.e., please cou... - No trips to the store - Some other item(s): - Text\n",
      "241 From Sunday, May 17th through Saturday, May 23rd, about how many shopping trips (i.e., please cou... - No e-commerce orders - A prepared meal or beverage (i.e., from a restaurant or a café)\n",
      "242 From Sunday, May 17th through Saturday, May 23rd, about how many shopping trips (i.e., please cou... - No e-commerce orders - Groceries\n",
      "243 From Sunday, May 17th through Saturday, May 23rd, about how many shopping trips (i.e., please cou... - No e-commerce orders - Other food items (e.g., specialty foods, farmer's markets, farm boxes, meal preparation kits)\n",
      "244 From Sunday, May 17th through Saturday, May 23rd, about how many shopping trips (i.e., please cou... - No e-commerce orders - Paper products and cleaning supplies\n",
      "245 From Sunday, May 17th through Saturday, May 23rd, about how many shopping trips (i.e., please cou... - No e-commerce orders - Clothing\n",
      "246 From Sunday, May 17th through Saturday, May 23rd, about how many shopping trips (i.e., please cou... - No e-commerce orders - Home office items\n",
      "247 From Sunday, May 17th through Saturday, May 23rd, about how many shopping trips (i.e., please cou... - No e-commerce orders - Medication(s)\n",
      "248 From Sunday, May 17th through Saturday, May 23rd, about how many shopping trips (i.e., please cou... - No e-commerce orders - Childcare items (e.g., diapers, formula, toys, children's books)\n",
      "249 From Sunday, May 17th through Saturday, May 23rd, about how many shopping trips (i.e., please cou... - No e-commerce orders - Some other item(s):\n",
      "250 From Sunday, May 17th through Saturday, May 23rd, about how many shopping trips (i.e., please cou... - No e-commerce orders - Some other item(s): - Text\n",
      "251 For items that you (or someone in your household) did not purchase in a store from Sunday, May 17... - In-store purchase frequency - A prepared meal or beverage (i.e., from a restaurant or a café)\n",
      "252 For items that you (or someone in your household) did not purchase in a store from Sunday, May 17... - In-store purchase frequency - Groceries\n",
      "253 For items that you (or someone in your household) did not purchase in a store from Sunday, May 17... - In-store purchase frequency - Other food items (e.g., specialty foods, farmer's markets, farm boxes, meal preparation kits)\n",
      "254 For items that you (or someone in your household) did not purchase in a store from Sunday, May 17... - In-store purchase frequency - Paper products and cleaning supplies\n",
      "255 For items that you (or someone in your household) did not purchase in a store from Sunday, May 17... - In-store purchase frequency - Clothing\n",
      "256 For items that you (or someone in your household) did not purchase in a store from Sunday, May 17... - In-store purchase frequency - Home office items\n",
      "257 For items that you (or someone in your household) did not purchase in a store from Sunday, May 17... - In-store purchase frequency - Medication(s)\n",
      "258 For items that you (or someone in your household) did not purchase in a store from Sunday, May 17... - In-store purchase frequency - Childcare items (e.g., diapers, formula, toys, children's books)\n",
      "259 For items that you (or someone in your household) did not purchase in a store from Sunday, May 17... - In-store purchase frequency - Some other item(s):\n",
      "260 For items that you (or someone in your household) did not purchase in a store from Sunday, May 17... - In-store purchase frequency - Some other item(s): - Text\n",
      "261 From Sunday, May 17th through Saturday, May 23rd, for each trip, about how many items did you and... - Number of items purchased on trips to a store - A prepared meal or beverage (i.e., from a restaurant or a café)\n",
      "262 From Sunday, May 17th through Saturday, May 23rd, for each trip, about how many items did you and... - Number of items purchased on trips to a store - Groceries\n",
      "263 From Sunday, May 17th through Saturday, May 23rd, for each trip, about how many items did you and... - Number of items purchased on trips to a store - Other food items (e.g., specialty foods, farmer's markets, farm boxes, meal preparation kits)\n",
      "264 From Sunday, May 17th through Saturday, May 23rd, for each trip, about how many items did you and... - Number of items purchased on trips to a store - Paper products and cleaning supplies\n",
      "265 From Sunday, May 17th through Saturday, May 23rd, for each trip, about how many items did you and... - Number of items purchased on trips to a store - Clothing\n",
      "266 From Sunday, May 17th through Saturday, May 23rd, for each trip, about how many items did you and... - Number of items purchased on trips to a store - Home office items\n",
      "267 From Sunday, May 17th through Saturday, May 23rd, for each trip, about how many items did you and... - Number of items purchased on trips to a store - Medication(s)\n",
      "268 From Sunday, May 17th through Saturday, May 23rd, for each trip, about how many items did you and... - Number of items purchased on trips to a store - Childcare items (e.g., diapers, formula, toys, children's books)\n",
      "269 From Sunday, May 17th through Saturday, May 23rd, for each trip, about how many items did you and... - Number of items purchased on trips to a store - Some other item(s):\n",
      "270 From Sunday, May 17th through Saturday, May 23rd, for each trip, about how many items did you and... - Number of items purchased on trips to a store - Some other item(s): - Text\n",
      "271 From Sunday, May 17th through Saturday, May 23rd, what primary mode did you and/or someone else i... - Primary mode used for in-store shopping - A prepared meal or beverage (i.e., from a restaurant or a café)\n",
      "272 From Sunday, May 17th through Saturday, May 23rd, what primary mode did you and/or someone else i... - Primary mode used for in-store shopping - Groceries\n",
      "273 From Sunday, May 17th through Saturday, May 23rd, what primary mode did you and/or someone else i... - Primary mode used for in-store shopping - Other food items (e.g., specialty foods, farmer's markets, farm boxes, meal preparation kits)\n",
      "274 From Sunday, May 17th through Saturday, May 23rd, what primary mode did you and/or someone else i... - Primary mode used for in-store shopping - Paper products and cleaning supplies\n",
      "275 From Sunday, May 17th through Saturday, May 23rd, what primary mode did you and/or someone else i... - Primary mode used for in-store shopping - Clothing\n",
      "276 From Sunday, May 17th through Saturday, May 23rd, what primary mode did you and/or someone else i... - Primary mode used for in-store shopping - Home office items\n",
      "277 From Sunday, May 17th through Saturday, May 23rd, what primary mode did you and/or someone else i... - Primary mode used for in-store shopping - Medication(s)\n",
      "278 From Sunday, May 17th through Saturday, May 23rd, what primary mode did you and/or someone else i... - Primary mode used for in-store shopping - Childcare items (e.g., diapers, formula, toys, children's books)\n",
      "279 From Sunday, May 17th through Saturday, May 23rd, what primary mode did you and/or someone else i... - Primary mode used for in-store shopping - Some other item(s):\n",
      "280 From Sunday, May 17th through Saturday, May 23rd, what primary mode did you and/or someone else i... - Primary mode used for in-store shopping - Some other item(s): - Text\n",
      "281 From Sunday, May 17th through Saturday, May 23rd, about how far did you and/or someone else in yo... - In-person shopping trip distance - A prepared meal or beverage (i.e., from a restaurant or a café)\n",
      "282 From Sunday, May 17th through Saturday, May 23rd, about how far did you and/or someone else in yo... - In-person shopping trip distance - Groceries\n",
      "283 From Sunday, May 17th through Saturday, May 23rd, about how far did you and/or someone else in yo... - In-person shopping trip distance - Other food items (e.g., specialty foods, farmer's markets, farm boxes, meal preparation kits)\n",
      "284 From Sunday, May 17th through Saturday, May 23rd, about how far did you and/or someone else in yo... - In-person shopping trip distance - Paper products and cleaning supplies\n",
      "285 From Sunday, May 17th through Saturday, May 23rd, about how far did you and/or someone else in yo... - In-person shopping trip distance - Clothing\n",
      "286 From Sunday, May 17th through Saturday, May 23rd, about how far did you and/or someone else in yo... - In-person shopping trip distance - Home office items\n",
      "287 From Sunday, May 17th through Saturday, May 23rd, about how far did you and/or someone else in yo... - In-person shopping trip distance - Medication(s)\n",
      "288 From Sunday, May 17th through Saturday, May 23rd, about how far did you and/or someone else in yo... - In-person shopping trip distance - Childcare items (e.g., diapers, formula, toys, children's books)\n",
      "289 From Sunday, May 17th through Saturday, May 23rd, about how far did you and/or someone else in yo... - In-person shopping trip distance - Some other item(s):\n",
      "290 From Sunday, May 17th through Saturday, May 23rd, about how far did you and/or someone else in yo... - In-person shopping trip distance - Some other item(s): - Text\n",
      "291 For items that you (or someone in your household) did not purchase using e-commerce from Sunday, ... - E-commerce purchase frequency - A prepared meal or beverage (i.e., from a restaurant or a café)\n",
      "292 For items that you (or someone in your household) did not purchase using e-commerce from Sunday, ... - E-commerce purchase frequency - Groceries\n",
      "293 For items that you (or someone in your household) did not purchase using e-commerce from Sunday, ... - E-commerce purchase frequency - Other food items (e.g., specialty foods, farmer's markets, farm boxes, meal preparation kits)\n",
      "294 For items that you (or someone in your household) did not purchase using e-commerce from Sunday, ... - E-commerce purchase frequency - Paper products and cleaning supplies\n",
      "295 For items that you (or someone in your household) did not purchase using e-commerce from Sunday, ... - E-commerce purchase frequency - Clothing\n",
      "296 For items that you (or someone in your household) did not purchase using e-commerce from Sunday, ... - E-commerce purchase frequency - Home office items\n",
      "297 For items that you (or someone in your household) did not purchase using e-commerce from Sunday, ... - E-commerce purchase frequency - Medication(s)\n",
      "298 For items that you (or someone in your household) did not purchase using e-commerce from Sunday, ... - E-commerce purchase frequency - Childcare items (e.g., diapers, formula, toys, children's books)\n",
      "299 For items that you (or someone in your household) did not purchase using e-commerce from Sunday, ... - E-commerce purchase frequency - Some other item(s):\n",
      "300 For items that you (or someone in your household) did not purchase using e-commerce from Sunday, ... - E-commerce purchase frequency - Some other item(s): - Text\n",
      "301 From February 2019 to February 2020, had you and/or someone else in your household made an e-comm... - E-commerce purchases from March 2019 to March 2020 - A prepared meal or beverage (i.e., from a restaurant or a café)\n",
      "302 From February 2019 to February 2020, had you and/or someone else in your household made an e-comm... - E-commerce purchases from March 2019 to March 2020 - Groceries\n",
      "303 From February 2019 to February 2020, had you and/or someone else in your household made an e-comm... - E-commerce purchases from March 2019 to March 2020 - Other food items (e.g., specialty foods, farmer's markets, farm boxes, meal preparation kits)\n",
      "304 From February 2019 to February 2020, had you and/or someone else in your household made an e-comm... - E-commerce purchases from March 2019 to March 2020 - Paper products and cleaning supplies\n",
      "305 From February 2019 to February 2020, had you and/or someone else in your household made an e-comm... - E-commerce purchases from March 2019 to March 2020 - Clothing\n",
      "306 From February 2019 to February 2020, had you and/or someone else in your household made an e-comm... - E-commerce purchases from March 2019 to March 2020 - Home office items\n",
      "307 From February 2019 to February 2020, had you and/or someone else in your household made an e-comm... - E-commerce purchases from March 2019 to March 2020 - Medication(s)\n",
      "308 From February 2019 to February 2020, had you and/or someone else in your household made an e-comm... - E-commerce purchases from March 2019 to March 2020 - Childcare items (e.g., diapers, formula, toys, children's books)\n",
      "309 From February 2019 to February 2020, had you and/or someone else in your household made an e-comm... - E-commerce purchases from March 2019 to March 2020 - Some other item(s):\n",
      "310 From February 2019 to February 2020, had you and/or someone else in your household made an e-comm... - E-commerce purchases from March 2019 to March 2020 - Some other item(s): - Text\n",
      "311 From Sunday, May 17th through Saturday, May 23rd, for e-commerce orders, about how many items did... - Number of items purchased per e-commerce order - A prepared meal or beverage (i.e., from a restaurant or a café)\n",
      "312 From Sunday, May 17th through Saturday, May 23rd, for e-commerce orders, about how many items did... - Number of items purchased per e-commerce order - Groceries\n",
      "313 From Sunday, May 17th through Saturday, May 23rd, for e-commerce orders, about how many items did... - Number of items purchased per e-commerce order - Other food items (e.g., specialty foods, farmer's markets, farm boxes, meal preparation kits)\n",
      "314 From Sunday, May 17th through Saturday, May 23rd, for e-commerce orders, about how many items did... - Number of items purchased per e-commerce order - Paper products and cleaning supplies\n",
      "315 From Sunday, May 17th through Saturday, May 23rd, for e-commerce orders, about how many items did... - Number of items purchased per e-commerce order - Clothing\n",
      "316 From Sunday, May 17th through Saturday, May 23rd, for e-commerce orders, about how many items did... - Number of items purchased per e-commerce order - Home office items\n",
      "317 From Sunday, May 17th through Saturday, May 23rd, for e-commerce orders, about how many items did... - Number of items purchased per e-commerce order - Medication(s)\n",
      "318 From Sunday, May 17th through Saturday, May 23rd, for e-commerce orders, about how many items did... - Number of items purchased per e-commerce order - Childcare items (e.g., diapers, formula, toys, children's books)\n",
      "319 From Sunday, May 17th through Saturday, May 23rd, for e-commerce orders, about how many items did... - Number of items purchased per e-commerce order - Some other item(s):\n",
      "320 From Sunday, May 17th through Saturday, May 23rd, for e-commerce orders, about how many items did... - Number of items purchased per e-commerce order - Some other item(s): - Text\n",
      "321 From Sunday, May 17th through Saturday, May 23rd, for e-commerce orders, about how many items did... - The same number of items as I would going to the store. - A prepared meal or beverage (i.e., from a restaurant or a café)\n",
      "322 From Sunday, May 17th through Saturday, May 23rd, for e-commerce orders, about how many items did... - The same number of items as I would going to the store. - Groceries\n",
      "323 From Sunday, May 17th through Saturday, May 23rd, for e-commerce orders, about how many items did... - The same number of items as I would going to the store. - Other food items (e.g., specialty foods, farmer's markets, farm boxes, meal preparation kits)\n",
      "324 From Sunday, May 17th through Saturday, May 23rd, for e-commerce orders, about how many items did... - The same number of items as I would going to the store. - Paper products and cleaning supplies\n",
      "325 From Sunday, May 17th through Saturday, May 23rd, for e-commerce orders, about how many items did... - The same number of items as I would going to the store. - Clothing\n",
      "326 From Sunday, May 17th through Saturday, May 23rd, for e-commerce orders, about how many items did... - The same number of items as I would going to the store. - Home office items\n",
      "327 From Sunday, May 17th through Saturday, May 23rd, for e-commerce orders, about how many items did... - The same number of items as I would going to the store. - Medication(s)\n",
      "328 From Sunday, May 17th through Saturday, May 23rd, for e-commerce orders, about how many items did... - The same number of items as I would going to the store. - Childcare items (e.g., diapers, formula, toys, children's books)\n",
      "329 From Sunday, May 17th through Saturday, May 23rd, for e-commerce orders, about how many items did... - The same number of items as I would going to the store. - Some other item(s):\n",
      "330 From Sunday, May 17th through Saturday, May 23rd, for e-commerce orders, about how many items did... - The same number of items as I would going to the store. - Some other item(s): - Text\n",
      "331 From Sunday, May 17th through Saturday, May 23rd, about how many different kinds of online purcha... - Number of call-in phone orders - A prepared meal or beverage (i.e., from a restaurant or a café)\n",
      "332 From Sunday, May 17th through Saturday, May 23rd, about how many different kinds of online purcha... - Number of call-in phone orders - Groceries\n",
      "333 From Sunday, May 17th through Saturday, May 23rd, about how many different kinds of online purcha... - Number of call-in phone orders - Other food items (e.g., specialty foods, farmer's markets, farm boxes, meal preparation kits)\n",
      "334 From Sunday, May 17th through Saturday, May 23rd, about how many different kinds of online purcha... - Number of call-in phone orders - Paper products and cleaning supplies\n",
      "335 From Sunday, May 17th through Saturday, May 23rd, about how many different kinds of online purcha... - Number of call-in phone orders - Clothing\n",
      "336 From Sunday, May 17th through Saturday, May 23rd, about how many different kinds of online purcha... - Number of call-in phone orders - Home office items\n",
      "337 From Sunday, May 17th through Saturday, May 23rd, about how many different kinds of online purcha... - Number of call-in phone orders - Medication(s)\n",
      "338 From Sunday, May 17th through Saturday, May 23rd, about how many different kinds of online purcha... - Number of call-in phone orders - Childcare items (e.g., diapers, formula, toys, children's books)\n",
      "339 From Sunday, May 17th through Saturday, May 23rd, about how many different kinds of online purcha... - Number of call-in phone orders - Some other item(s):\n",
      "340 From Sunday, May 17th through Saturday, May 23rd, about how many different kinds of online purcha... - Number of call-in phone orders - Some other item(s): - Text\n",
      "341 From Sunday, May 17th through Saturday, May 23rd, about how many different kinds of online purcha... - Mumber of mobile app-based orders - A prepared meal or beverage (i.e., from a restaurant or a café)\n",
      "342 From Sunday, May 17th through Saturday, May 23rd, about how many different kinds of online purcha... - Mumber of mobile app-based orders - Groceries\n",
      "343 From Sunday, May 17th through Saturday, May 23rd, about how many different kinds of online purcha... - Mumber of mobile app-based orders - Other food items (e.g., specialty foods, farmer's markets, farm boxes, meal preparation kits)\n",
      "344 From Sunday, May 17th through Saturday, May 23rd, about how many different kinds of online purcha... - Mumber of mobile app-based orders - Paper products and cleaning supplies\n",
      "345 From Sunday, May 17th through Saturday, May 23rd, about how many different kinds of online purcha... - Mumber of mobile app-based orders - Clothing\n",
      "346 From Sunday, May 17th through Saturday, May 23rd, about how many different kinds of online purcha... - Mumber of mobile app-based orders - Home office items\n",
      "347 From Sunday, May 17th through Saturday, May 23rd, about how many different kinds of online purcha... - Mumber of mobile app-based orders - Medication(s)\n",
      "348 From Sunday, May 17th through Saturday, May 23rd, about how many different kinds of online purcha... - Mumber of mobile app-based orders - Childcare items (e.g., diapers, formula, toys, children's books)\n",
      "349 From Sunday, May 17th through Saturday, May 23rd, about how many different kinds of online purcha... - Mumber of mobile app-based orders - Some other item(s):\n",
      "350 From Sunday, May 17th through Saturday, May 23rd, about how many different kinds of online purcha... - Mumber of mobile app-based orders - Some other item(s): - Text\n",
      "351 From Sunday, May 17th through Saturday, May 23rd, about how many different kinds of online purcha... - Number of internet (computer, tablet, or mobile) browser-based orders - A prepared meal or beverage (i.e., from a restaurant or a café)\n",
      "352 From Sunday, May 17th through Saturday, May 23rd, about how many different kinds of online purcha... - Number of internet (computer, tablet, or mobile) browser-based orders - Groceries\n",
      "353 From Sunday, May 17th through Saturday, May 23rd, about how many different kinds of online purcha... - Number of internet (computer, tablet, or mobile) browser-based orders - Other food items (e.g., specialty foods, farmer's markets, farm boxes, meal preparation kits)\n",
      "354 From Sunday, May 17th through Saturday, May 23rd, about how many different kinds of online purcha... - Number of internet (computer, tablet, or mobile) browser-based orders - Paper products and cleaning supplies\n",
      "355 From Sunday, May 17th through Saturday, May 23rd, about how many different kinds of online purcha... - Number of internet (computer, tablet, or mobile) browser-based orders - Clothing\n",
      "356 From Sunday, May 17th through Saturday, May 23rd, about how many different kinds of online purcha... - Number of internet (computer, tablet, or mobile) browser-based orders - Home office items\n",
      "357 From Sunday, May 17th through Saturday, May 23rd, about how many different kinds of online purcha... - Number of internet (computer, tablet, or mobile) browser-based orders - Medication(s)\n",
      "358 From Sunday, May 17th through Saturday, May 23rd, about how many different kinds of online purcha... - Number of internet (computer, tablet, or mobile) browser-based orders - Childcare items (e.g., diapers, formula, toys, children's books)\n",
      "359 From Sunday, May 17th through Saturday, May 23rd, about how many different kinds of online purcha... - Number of internet (computer, tablet, or mobile) browser-based orders - Some other item(s):\n",
      "360 From Sunday, May 17th through Saturday, May 23rd, about how many different kinds of online purcha... - Number of internet (computer, tablet, or mobile) browser-based orders - Some other item(s): - Text\n",
      "361 From Sunday, May 17th through Saturday, May 23rd, about how many different kinds of online pick u... - Number of curbside pick ups - A prepared meal or beverage (i.e., from a restaurant or a café)\n",
      "362 From Sunday, May 17th through Saturday, May 23rd, about how many different kinds of online pick u... - Number of curbside pick ups - Groceries\n",
      "363 From Sunday, May 17th through Saturday, May 23rd, about how many different kinds of online pick u... - Number of curbside pick ups - Other food items (e.g., specialty foods, farmer's markets, farm boxes, meal preparation kits)\n",
      "364 From Sunday, May 17th through Saturday, May 23rd, about how many different kinds of online pick u... - Number of curbside pick ups - Paper products and cleaning supplies\n",
      "365 From Sunday, May 17th through Saturday, May 23rd, about how many different kinds of online pick u... - Number of curbside pick ups - Clothing\n",
      "366 From Sunday, May 17th through Saturday, May 23rd, about how many different kinds of online pick u... - Number of curbside pick ups - Home office items\n",
      "367 From Sunday, May 17th through Saturday, May 23rd, about how many different kinds of online pick u... - Number of curbside pick ups - Medication(s)\n",
      "368 From Sunday, May 17th through Saturday, May 23rd, about how many different kinds of online pick u... - Number of curbside pick ups - Childcare items (e.g., diapers, formula, toys, children's books)\n",
      "369 From Sunday, May 17th through Saturday, May 23rd, about how many different kinds of online pick u... - Number of curbside pick ups - Some other item(s):\n",
      "370 From Sunday, May 17th through Saturday, May 23rd, about how many different kinds of online pick u... - Number of curbside pick ups - Some other item(s): - Text\n",
      "371 From Sunday, May 17th through Saturday, May 23rd, about how many different kinds of online pick u... - Number of in-store pick ups - A prepared meal or beverage (i.e., from a restaurant or a café)\n",
      "372 From Sunday, May 17th through Saturday, May 23rd, about how many different kinds of online pick u... - Number of in-store pick ups - Groceries\n",
      "373 From Sunday, May 17th through Saturday, May 23rd, about how many different kinds of online pick u... - Number of in-store pick ups - Other food items (e.g., specialty foods, farmer's markets, farm boxes, meal preparation kits)\n",
      "374 From Sunday, May 17th through Saturday, May 23rd, about how many different kinds of online pick u... - Number of in-store pick ups - Paper products and cleaning supplies\n",
      "375 From Sunday, May 17th through Saturday, May 23rd, about how many different kinds of online pick u... - Number of in-store pick ups - Clothing\n",
      "376 From Sunday, May 17th through Saturday, May 23rd, about how many different kinds of online pick u... - Number of in-store pick ups - Home office items\n",
      "377 From Sunday, May 17th through Saturday, May 23rd, about how many different kinds of online pick u... - Number of in-store pick ups - Medication(s)\n",
      "378 From Sunday, May 17th through Saturday, May 23rd, about how many different kinds of online pick u... - Number of in-store pick ups - Childcare items (e.g., diapers, formula, toys, children's books)\n",
      "379 From Sunday, May 17th through Saturday, May 23rd, about how many different kinds of online pick u... - Number of in-store pick ups - Some other item(s):\n",
      "380 From Sunday, May 17th through Saturday, May 23rd, about how many different kinds of online pick u... - Number of in-store pick ups - Some other item(s): - Text\n",
      "381 From Sunday, May 17th through Saturday, May 23rd, about how many different kinds of online pick u... - Number of deliveries to my home - A prepared meal or beverage (i.e., from a restaurant or a café)\n",
      "382 From Sunday, May 17th through Saturday, May 23rd, about how many different kinds of online pick u... - Number of deliveries to my home - Groceries\n",
      "383 From Sunday, May 17th through Saturday, May 23rd, about how many different kinds of online pick u... - Number of deliveries to my home - Other food items (e.g., specialty foods, farmer's markets, farm boxes, meal preparation kits)\n",
      "384 From Sunday, May 17th through Saturday, May 23rd, about how many different kinds of online pick u... - Number of deliveries to my home - Paper products and cleaning supplies\n",
      "385 From Sunday, May 17th through Saturday, May 23rd, about how many different kinds of online pick u... - Number of deliveries to my home - Clothing\n",
      "386 From Sunday, May 17th through Saturday, May 23rd, about how many different kinds of online pick u... - Number of deliveries to my home - Home office items\n",
      "387 From Sunday, May 17th through Saturday, May 23rd, about how many different kinds of online pick u... - Number of deliveries to my home - Medication(s)\n",
      "388 From Sunday, May 17th through Saturday, May 23rd, about how many different kinds of online pick u... - Number of deliveries to my home - Childcare items (e.g., diapers, formula, toys, children's books)\n",
      "389 From Sunday, May 17th through Saturday, May 23rd, about how many different kinds of online pick u... - Number of deliveries to my home - Some other item(s):\n",
      "390 From Sunday, May 17th through Saturday, May 23rd, about how many different kinds of online pick u... - Number of deliveries to my home - Some other item(s): - Text\n",
      "391 From Sunday, May 17th through Saturday, May 23rd, about how many different kinds of online pick u... - Number of deliveries to my work/school/other primary non-home location - A prepared meal or beverage (i.e., from a restaurant or a café)\n",
      "392 From Sunday, May 17th through Saturday, May 23rd, about how many different kinds of online pick u... - Number of deliveries to my work/school/other primary non-home location - Groceries\n",
      "393 From Sunday, May 17th through Saturday, May 23rd, about how many different kinds of online pick u... - Number of deliveries to my work/school/other primary non-home location - Other food items (e.g., specialty foods, farmer's markets, farm boxes, meal preparation kits)\n",
      "394 From Sunday, May 17th through Saturday, May 23rd, about how many different kinds of online pick u... - Number of deliveries to my work/school/other primary non-home location - Paper products and cleaning supplies\n",
      "395 From Sunday, May 17th through Saturday, May 23rd, about how many different kinds of online pick u... - Number of deliveries to my work/school/other primary non-home location - Clothing\n",
      "396 From Sunday, May 17th through Saturday, May 23rd, about how many different kinds of online pick u... - Number of deliveries to my work/school/other primary non-home location - Home office items\n",
      "397 From Sunday, May 17th through Saturday, May 23rd, about how many different kinds of online pick u... - Number of deliveries to my work/school/other primary non-home location - Medication(s)\n",
      "398 From Sunday, May 17th through Saturday, May 23rd, about how many different kinds of online pick u... - Number of deliveries to my work/school/other primary non-home location - Childcare items (e.g., diapers, formula, toys, children's books)\n",
      "399 From Sunday, May 17th through Saturday, May 23rd, about how many different kinds of online pick u... - Number of deliveries to my work/school/other primary non-home location - Some other item(s):\n",
      "400 From Sunday, May 17th through Saturday, May 23rd, about how many different kinds of online pick u... - Number of deliveries to my work/school/other primary non-home location - Some other item(s): - Text\n",
      "401 From Sunday, May 17th through Saturday, May 23rd, what primary mode did you (or someone in your h... - Primary mode used for e-commerce pick ups - A prepared meal or beverage (i.e., from a restaurant or a café)\n",
      "402 From Sunday, May 17th through Saturday, May 23rd, what primary mode did you (or someone in your h... - Primary mode used for e-commerce pick ups - Groceries\n",
      "403 From Sunday, May 17th through Saturday, May 23rd, what primary mode did you (or someone in your h... - Primary mode used for e-commerce pick ups - Other food items (e.g., specialty foods, farmer's markets, farm boxes, meal preparation kits)\n",
      "404 From Sunday, May 17th through Saturday, May 23rd, what primary mode did you (or someone in your h... - Primary mode used for e-commerce pick ups - Paper products and cleaning supplies\n",
      "405 From Sunday, May 17th through Saturday, May 23rd, what primary mode did you (or someone in your h... - Primary mode used for e-commerce pick ups - Clothing\n",
      "406 From Sunday, May 17th through Saturday, May 23rd, what primary mode did you (or someone in your h... - Primary mode used for e-commerce pick ups - Home office items\n",
      "407 From Sunday, May 17th through Saturday, May 23rd, what primary mode did you (or someone in your h... - Primary mode used for e-commerce pick ups - Medication(s)\n",
      "408 From Sunday, May 17th through Saturday, May 23rd, what primary mode did you (or someone in your h... - Primary mode used for e-commerce pick ups - Childcare items (e.g., diapers, formula, toys, children's books)\n",
      "409 From Sunday, May 17th through Saturday, May 23rd, what primary mode did you (or someone in your h... - Primary mode used for e-commerce pick ups - Some other item(s):\n",
      "410 From Sunday, May 17th through Saturday, May 23rd, what primary mode did you (or someone in your h... - Primary mode used for e-commerce pick ups - Some other item(s): - Text\n",
      "411 From Sunday, May 17th through Saturday, May 23rd, what primary mode did you (or someone in your h... - I used the same mode as for in-person shopping trips. - A prepared meal or beverage (i.e., from a restaurant or a café)\n",
      "412 From Sunday, May 17th through Saturday, May 23rd, what primary mode did you (or someone in your h... - I used the same mode as for in-person shopping trips. - Groceries\n",
      "413 From Sunday, May 17th through Saturday, May 23rd, what primary mode did you (or someone in your h... - I used the same mode as for in-person shopping trips. - Other food items (e.g., specialty foods, farmer's markets, farm boxes, meal preparation kits)\n",
      "414 From Sunday, May 17th through Saturday, May 23rd, what primary mode did you (or someone in your h... - I used the same mode as for in-person shopping trips. - Paper products and cleaning supplies\n",
      "415 From Sunday, May 17th through Saturday, May 23rd, what primary mode did you (or someone in your h... - I used the same mode as for in-person shopping trips. - Clothing\n",
      "416 From Sunday, May 17th through Saturday, May 23rd, what primary mode did you (or someone in your h... - I used the same mode as for in-person shopping trips. - Home office items\n",
      "417 From Sunday, May 17th through Saturday, May 23rd, what primary mode did you (or someone in your h... - I used the same mode as for in-person shopping trips. - Medication(s)\n",
      "418 From Sunday, May 17th through Saturday, May 23rd, what primary mode did you (or someone in your h... - I used the same mode as for in-person shopping trips. - Childcare items (e.g., diapers, formula, toys, children's books)\n",
      "419 From Sunday, May 17th through Saturday, May 23rd, what primary mode did you (or someone in your h... - I used the same mode as for in-person shopping trips. - Some other item(s):\n",
      "420 From Sunday, May 17th through Saturday, May 23rd, what primary mode did you (or someone in your h... - I used the same mode as for in-person shopping trips. - Some other item(s): - Text\n",
      "421 From Sunday, May 17th through Saturday, May 23rd, about how far did you and/or someone else in yo... - E-commerce pick up trip distance - A prepared meal or beverage (i.e., from a restaurant or a café)\n",
      "422 From Sunday, May 17th through Saturday, May 23rd, about how far did you and/or someone else in yo... - E-commerce pick up trip distance - Groceries\n",
      "423 From Sunday, May 17th through Saturday, May 23rd, about how far did you and/or someone else in yo... - E-commerce pick up trip distance - Other food items (e.g., specialty foods, farmer's markets, farm boxes, meal preparation kits)\n",
      "424 From Sunday, May 17th through Saturday, May 23rd, about how far did you and/or someone else in yo... - E-commerce pick up trip distance - Paper products and cleaning supplies\n",
      "425 From Sunday, May 17th through Saturday, May 23rd, about how far did you and/or someone else in yo... - E-commerce pick up trip distance - Clothing\n",
      "426 From Sunday, May 17th through Saturday, May 23rd, about how far did you and/or someone else in yo... - E-commerce pick up trip distance - Home office items\n",
      "427 From Sunday, May 17th through Saturday, May 23rd, about how far did you and/or someone else in yo... - E-commerce pick up trip distance - Medication(s)\n",
      "428 From Sunday, May 17th through Saturday, May 23rd, about how far did you and/or someone else in yo... - E-commerce pick up trip distance - Childcare items (e.g., diapers, formula, toys, children's books)\n",
      "429 From Sunday, May 17th through Saturday, May 23rd, about how far did you and/or someone else in yo... - E-commerce pick up trip distance - Some other item(s):\n",
      "430 From Sunday, May 17th through Saturday, May 23rd, about how far did you and/or someone else in yo... - E-commerce pick up trip distance - Some other item(s): - Text\n",
      "431 From Sunday, May 17th through Saturday, May 23rd, about how far did you and/or someone else in yo... - These trip distances were about the same as for in-person shopping trips. - A prepared meal or beverage (i.e., from a restaurant or a café)\n",
      "432 From Sunday, May 17th through Saturday, May 23rd, about how far did you and/or someone else in yo... - These trip distances were about the same as for in-person shopping trips. - Groceries\n",
      "433 From Sunday, May 17th through Saturday, May 23rd, about how far did you and/or someone else in yo... - These trip distances were about the same as for in-person shopping trips. - Other food items (e.g., specialty foods, farmer's markets, farm boxes, meal preparation kits)\n",
      "434 From Sunday, May 17th through Saturday, May 23rd, about how far did you and/or someone else in yo... - These trip distances were about the same as for in-person shopping trips. - Paper products and cleaning supplies\n",
      "435 From Sunday, May 17th through Saturday, May 23rd, about how far did you and/or someone else in yo... - These trip distances were about the same as for in-person shopping trips. - Clothing\n",
      "436 From Sunday, May 17th through Saturday, May 23rd, about how far did you and/or someone else in yo... - These trip distances were about the same as for in-person shopping trips. - Home office items\n",
      "437 From Sunday, May 17th through Saturday, May 23rd, about how far did you and/or someone else in yo... - These trip distances were about the same as for in-person shopping trips. - Medication(s)\n",
      "438 From Sunday, May 17th through Saturday, May 23rd, about how far did you and/or someone else in yo... - These trip distances were about the same as for in-person shopping trips. - Childcare items (e.g., diapers, formula, toys, children's books)\n",
      "439 From Sunday, May 17th through Saturday, May 23rd, about how far did you and/or someone else in yo... - These trip distances were about the same as for in-person shopping trips. - Some other item(s):\n",
      "440 From Sunday, May 17th through Saturday, May 23rd, about how far did you and/or someone else in yo... - These trip distances were about the same as for in-person shopping trips. - Some other item(s): - Text\n",
      "441 From Sunday, May 17th through Saturday, May 23rd, please rate your level of agreement with the following statements about your household's ease of obtaining these items (either in a store or by using e-commerce).\n",
      " \n",
      "\n",
      "You may need to scroll to the right to see all available options. --> - A prepared meal or beverage (i.e., from a restaurant or a café)\n",
      "442 From Sunday, May 17th through Saturday, May 23rd, please rate your level of agreement with the following statements about your household's ease of obtaining these items (either in a store or by using e-commerce).\n",
      " \n",
      "\n",
      "You may need to scroll to the right to see all available options. --> - Groceries\n",
      "443 From Sunday, May 17th through Saturday, May 23rd, please rate your level of agreement with the following statements about your household's ease of obtaining these items (either in a store or by using e-commerce).\n",
      " \n",
      "\n",
      "You may need to scroll to the right to see all available options. --> - Other food items (e.g., specialty foods, farmer's markets, farm boxes, meal preparation kits)\n",
      "444 From Sunday, May 17th through Saturday, May 23rd, please rate your level of agreement with the following statements about your household's ease of obtaining these items (either in a store or by using e-commerce).\n",
      " \n",
      "\n",
      "You may need to scroll to the right to see all available options. --> - Paper products and cleaning supplies\n",
      "445 From Sunday, May 17th through Saturday, May 23rd, please rate your level of agreement with the following statements about your household's ease of obtaining these items (either in a store or by using e-commerce).\n",
      " \n",
      "\n",
      "You may need to scroll to the right to see all available options. --> - Clothing\n",
      "446 From Sunday, May 17th through Saturday, May 23rd, please rate your level of agreement with the following statements about your household's ease of obtaining these items (either in a store or by using e-commerce).\n",
      " \n",
      "\n",
      "You may need to scroll to the right to see all available options. --> - Home office items\n",
      "447 From Sunday, May 17th through Saturday, May 23rd, please rate your level of agreement with the following statements about your household's ease of obtaining these items (either in a store or by using e-commerce).\n",
      " \n",
      "\n",
      "You may need to scroll to the right to see all available options. --> - Medication(s)\n",
      "448 From Sunday, May 17th through Saturday, May 23rd, please rate your level of agreement with the following statements about your household's ease of obtaining these items (either in a store or by using e-commerce).\n",
      " \n",
      "\n",
      "You may need to scroll to the right to see all available options. --> - Childcare items (e.g., diapers, formula, toys, children's books)\n",
      "449 From Sunday, May 17th through Saturday, May 23rd, please rate your level of agreement with the following statements about your household's ease of obtaining these items (either in a store or by using e-commerce).\n",
      " \n",
      "\n",
      "You may need to scroll to the right to see all available options. --> - Some other item(s):\n",
      "450 From Sunday, May 17th through Saturday, May 23rd, please rate your level of agreement with the following statements about your household's ease of obtaining these items (either in a store or by using e-commerce).\n",
      " \n",
      "\n",
      "You may need to scroll to the right to see all available options. --> - Some other item(s): - Text\n",
      "451 During that typical week in Jan./Feb. 2020 (prior to the COVID-19 pandemic), were you sharing the shopping responsibilities with other members of your household?\n",
      "452 For what items were you sharing shopping responsibilities? - Shared shopping responsibilities for: - Prepared meal or beverages (i.e., from a restaurant or a café).1\n",
      "453 For what items were you sharing shopping responsibilities? - Shared shopping responsibilities for: - Groceries.1\n",
      "454 For what items were you sharing shopping responsibilities? - Shared shopping responsibilities for: - Other food items (e.g., specialty foods, farmer's markets, farm boxes, meal preparation kits).1\n",
      "455 For what items were you sharing shopping responsibilities? - Shared shopping responsibilities for: - Paper products and cleaning supplies.1\n",
      "456 For what items were you sharing shopping responsibilities? - Shared shopping responsibilities for: - Clothing.1\n",
      "457 For what items were you sharing shopping responsibilities? - Shared shopping responsibilities for: - Home office items.1\n",
      "458 For what items were you sharing shopping responsibilities? - Shared shopping responsibilities for: - Medication(s).1\n",
      "459 For what items were you sharing shopping responsibilities? - Shared shopping responsibilities for: - Childcare items (e.g., diapers, formula, toys, children's books).1\n",
      "460 For what items were you sharing shopping responsibilities? - Shared shopping responsibilities for: - Some other item(s):.1\n",
      "461 For what items were you sharing shopping responsibilities? - Shared shopping responsibilities for: - Some other item(s): - Text.1\n",
      "462 During that typical week in Jan./Feb. 2020 (prior to the COVID-19 pandemic), were your household shopping patterns different than they would have been on a typical week? This could be due to Shelter in Place preparations, other COVID-19 related issues, or something else.\n",
      "463 If you would like to elaborate on these reasons, please do so below.\n",
      "464 What was different during the week of Sunday, May 17th through Saturday, May 23rd, compared to th... - The weekly number of trips my household took to the store was different - A prepared meal or beverage (i.e., from a restaurant or a café)\n",
      "465 What was different during the week of Sunday, May 17th through Saturday, May 23rd, compared to th... - The weekly number of trips my household took to the store was different - Groceries\n",
      "466 What was different during the week of Sunday, May 17th through Saturday, May 23rd, compared to th... - The weekly number of trips my household took to the store was different - Other food items (e.g., specialty foods, farmer's markets, farm boxes, meal preparation kits)\n",
      "467 What was different during the week of Sunday, May 17th through Saturday, May 23rd, compared to th... - The weekly number of trips my household took to the store was different - Paper products and cleaning supplies\n",
      "468 What was different during the week of Sunday, May 17th through Saturday, May 23rd, compared to th... - The weekly number of trips my household took to the store was different - Clothing\n",
      "469 What was different during the week of Sunday, May 17th through Saturday, May 23rd, compared to th... - The weekly number of trips my household took to the store was different - Home office items\n",
      "470 What was different during the week of Sunday, May 17th through Saturday, May 23rd, compared to th... - The weekly number of trips my household took to the store was different - Medication(s)\n",
      "471 What was different during the week of Sunday, May 17th through Saturday, May 23rd, compared to th... - The weekly number of trips my household took to the store was different - Childcare items (e.g., diapers, formula, toys, children's books)\n",
      "472 What was different during the week of Sunday, May 17th through Saturday, May 23rd, compared to th... - The weekly number of trips my household took to the store was different - Some other item(s):\n",
      "473 What was different during the week of Sunday, May 17th through Saturday, May 23rd, compared to th... - The weekly number of trips my household took to the store was different - Some other item(s): - Text\n",
      "474 What was different during the week of Sunday, May 17th through Saturday, May 23rd, compared to th... - My household's primary mode used to go to the store was different - A prepared meal or beverage (i.e., from a restaurant or a café)\n",
      "475 What was different during the week of Sunday, May 17th through Saturday, May 23rd, compared to th... - My household's primary mode used to go to the store was different - Groceries\n",
      "476 What was different during the week of Sunday, May 17th through Saturday, May 23rd, compared to th... - My household's primary mode used to go to the store was different - Other food items (e.g., specialty foods, farmer's markets, farm boxes, meal preparation kits)\n",
      "477 What was different during the week of Sunday, May 17th through Saturday, May 23rd, compared to th... - My household's primary mode used to go to the store was different - Paper products and cleaning supplies\n",
      "478 What was different during the week of Sunday, May 17th through Saturday, May 23rd, compared to th... - My household's primary mode used to go to the store was different - Clothing\n",
      "479 What was different during the week of Sunday, May 17th through Saturday, May 23rd, compared to th... - My household's primary mode used to go to the store was different - Home office items\n",
      "480 What was different during the week of Sunday, May 17th through Saturday, May 23rd, compared to th... - My household's primary mode used to go to the store was different - Medication(s)\n",
      "481 What was different during the week of Sunday, May 17th through Saturday, May 23rd, compared to th... - My household's primary mode used to go to the store was different - Childcare items (e.g., diapers, formula, toys, children's books)\n",
      "482 What was different during the week of Sunday, May 17th through Saturday, May 23rd, compared to th... - My household's primary mode used to go to the store was different - Some other item(s):\n",
      "483 What was different during the week of Sunday, May 17th through Saturday, May 23rd, compared to th... - My household's primary mode used to go to the store was different - Some other item(s): - Text\n",
      "484 What was different during the week of Sunday, May 17th through Saturday, May 23rd, compared to th... - My houshehold's in-store purchase sizes were different - A prepared meal or beverage (i.e., from a restaurant or a café)\n",
      "485 What was different during the week of Sunday, May 17th through Saturday, May 23rd, compared to th... - My houshehold's in-store purchase sizes were different - Groceries\n",
      "486 What was different during the week of Sunday, May 17th through Saturday, May 23rd, compared to th... - My houshehold's in-store purchase sizes were different - Other food items (e.g., specialty foods, farmer's markets, farm boxes, meal preparation kits)\n",
      "487 What was different during the week of Sunday, May 17th through Saturday, May 23rd, compared to th... - My houshehold's in-store purchase sizes were different - Paper products and cleaning supplies\n",
      "488 What was different during the week of Sunday, May 17th through Saturday, May 23rd, compared to th... - My houshehold's in-store purchase sizes were different - Clothing\n",
      "489 What was different during the week of Sunday, May 17th through Saturday, May 23rd, compared to th... - My houshehold's in-store purchase sizes were different - Home office items\n",
      "490 What was different during the week of Sunday, May 17th through Saturday, May 23rd, compared to th... - My houshehold's in-store purchase sizes were different - Medication(s)\n",
      "491 What was different during the week of Sunday, May 17th through Saturday, May 23rd, compared to th... - My houshehold's in-store purchase sizes were different - Childcare items (e.g., diapers, formula, toys, children's books)\n",
      "492 What was different during the week of Sunday, May 17th through Saturday, May 23rd, compared to th... - My houshehold's in-store purchase sizes were different - Some other item(s):\n",
      "493 What was different during the week of Sunday, May 17th through Saturday, May 23rd, compared to th... - My houshehold's in-store purchase sizes were different - Some other item(s): - Text\n",
      "494 What was different during the week of Sunday, May 17th through Saturday, May 23rd, compared to th... - I and/or my household made in-store purchases on behalf of people that I/it was not making before - A prepared meal or beverage (i.e., from a restaurant or a café)\n",
      "495 What was different during the week of Sunday, May 17th through Saturday, May 23rd, compared to th... - I and/or my household made in-store purchases on behalf of people that I/it was not making before - Groceries\n",
      "496 What was different during the week of Sunday, May 17th through Saturday, May 23rd, compared to th... - I and/or my household made in-store purchases on behalf of people that I/it was not making before - Other food items (e.g., specialty foods, farmer's markets, farm boxes, meal preparation kits)\n",
      "497 What was different during the week of Sunday, May 17th through Saturday, May 23rd, compared to th... - I and/or my household made in-store purchases on behalf of people that I/it was not making before - Paper products and cleaning supplies\n",
      "498 What was different during the week of Sunday, May 17th through Saturday, May 23rd, compared to th... - I and/or my household made in-store purchases on behalf of people that I/it was not making before - Clothing\n",
      "499 What was different during the week of Sunday, May 17th through Saturday, May 23rd, compared to th... - I and/or my household made in-store purchases on behalf of people that I/it was not making before - Home office items\n",
      "500 What was different during the week of Sunday, May 17th through Saturday, May 23rd, compared to th... - I and/or my household made in-store purchases on behalf of people that I/it was not making before - Medication(s)\n",
      "501 What was different during the week of Sunday, May 17th through Saturday, May 23rd, compared to th... - I and/or my household made in-store purchases on behalf of people that I/it was not making before - Childcare items (e.g., diapers, formula, toys, children's books)\n",
      "502 What was different during the week of Sunday, May 17th through Saturday, May 23rd, compared to th... - I and/or my household made in-store purchases on behalf of people that I/it was not making before - Some other item(s):\n",
      "503 What was different during the week of Sunday, May 17th through Saturday, May 23rd, compared to th... - I and/or my household made in-store purchases on behalf of people that I/it was not making before - Some other item(s): - Text\n",
      "504 What was different during the week of Sunday, May 17th through Saturday, May 23rd, compared to th... - My household's trip distance was different - A prepared meal or beverage (i.e., from a restaurant or a café)\n",
      "505 What was different during the week of Sunday, May 17th through Saturday, May 23rd, compared to th... - My household's trip distance was different - Groceries\n",
      "506 What was different during the week of Sunday, May 17th through Saturday, May 23rd, compared to th... - My household's trip distance was different - Other food items (e.g., specialty foods, farmer's markets, farm boxes, meal preparation kits)\n",
      "507 What was different during the week of Sunday, May 17th through Saturday, May 23rd, compared to th... - My household's trip distance was different - Paper products and cleaning supplies\n",
      "508 What was different during the week of Sunday, May 17th through Saturday, May 23rd, compared to th... - My household's trip distance was different - Clothing\n",
      "509 What was different during the week of Sunday, May 17th through Saturday, May 23rd, compared to th... - My household's trip distance was different - Home office items\n",
      "510 What was different during the week of Sunday, May 17th through Saturday, May 23rd, compared to th... - My household's trip distance was different - Medication(s)\n",
      "511 What was different during the week of Sunday, May 17th through Saturday, May 23rd, compared to th... - My household's trip distance was different - Childcare items (e.g., diapers, formula, toys, children's books)\n",
      "512 What was different during the week of Sunday, May 17th through Saturday, May 23rd, compared to th... - My household's trip distance was different - Some other item(s):\n",
      "513 What was different during the week of Sunday, May 17th through Saturday, May 23rd, compared to th... - My household's trip distance was different - Some other item(s): - Text\n",
      "514 What primary modes did you and/or someone else in your household use to shop in a store during th... - Primary mode to go to the store - A prepared meal or beverage (i.e., from a restaurant or a café)\n",
      "515 What primary modes did you and/or someone else in your household use to shop in a store during th... - Primary mode to go to the store - Groceries\n",
      "516 What primary modes did you and/or someone else in your household use to shop in a store during th... - Primary mode to go to the store - Other food items (e.g., specialty foods, farmer's markets, farm boxes, meal preparation kits)\n",
      "517 What primary modes did you and/or someone else in your household use to shop in a store during th... - Primary mode to go to the store - Paper products and cleaning supplies\n",
      "518 What primary modes did you and/or someone else in your household use to shop in a store during th... - Primary mode to go to the store - Clothing\n",
      "519 What primary modes did you and/or someone else in your household use to shop in a store during th... - Primary mode to go to the store - Home office items\n",
      "520 What primary modes did you and/or someone else in your household use to shop in a store during th... - Primary mode to go to the store - Medication(s)\n",
      "521 What primary modes did you and/or someone else in your household use to shop in a store during th... - Primary mode to go to the store - Childcare items (e.g., diapers, formula, toys, children's books)\n",
      "522 What primary modes did you and/or someone else in your household use to shop in a store during th... - Primary mode to go to the store - Some other item(s):\n",
      "523 What primary modes did you and/or someone else in your household use to shop in a store during th... - Primary mode to go to the store - Some other item(s): - Text\n",
      "524 What was different during the week of Sunday, May 17th through Saturday, May 23rd, compared to th... - The number of e-commerce purchases I and/or my household made per week was different - A prepared meal or beverage (i.e., from a restaurant or a café)\n",
      "525 What was different during the week of Sunday, May 17th through Saturday, May 23rd, compared to th... - The number of e-commerce purchases I and/or my household made per week was different - Groceries\n",
      "526 What was different during the week of Sunday, May 17th through Saturday, May 23rd, compared to th... - The number of e-commerce purchases I and/or my household made per week was different - Other food items (e.g., specialty foods, farmer's markets, farm boxes, meal preparation kits)\n",
      "527 What was different during the week of Sunday, May 17th through Saturday, May 23rd, compared to th... - The number of e-commerce purchases I and/or my household made per week was different - Paper products and cleaning supplies\n",
      "528 What was different during the week of Sunday, May 17th through Saturday, May 23rd, compared to th... - The number of e-commerce purchases I and/or my household made per week was different - Clothing\n",
      "529 What was different during the week of Sunday, May 17th through Saturday, May 23rd, compared to th... - The number of e-commerce purchases I and/or my household made per week was different - Home office items\n",
      "530 What was different during the week of Sunday, May 17th through Saturday, May 23rd, compared to th... - The number of e-commerce purchases I and/or my household made per week was different - Medication(s)\n",
      "531 What was different during the week of Sunday, May 17th through Saturday, May 23rd, compared to th... - The number of e-commerce purchases I and/or my household made per week was different - Childcare items (e.g., diapers, formula, toys, children's books)\n",
      "532 What was different during the week of Sunday, May 17th through Saturday, May 23rd, compared to th... - The number of e-commerce purchases I and/or my household made per week was different - Some other item(s):\n",
      "533 What was different during the week of Sunday, May 17th through Saturday, May 23rd, compared to th... - The number of e-commerce purchases I and/or my household made per week was different - Some other item(s): - Text\n",
      "534 What was different during the week of Sunday, May 17th through Saturday, May 23rd, compared to th... - I and/or my household made e-commerce purchases on behalf of people that it I/it was not making before - A prepared meal or beverage (i.e., from a restaurant or a café)\n",
      "535 What was different during the week of Sunday, May 17th through Saturday, May 23rd, compared to th... - I and/or my household made e-commerce purchases on behalf of people that it I/it was not making before - Groceries\n",
      "536 What was different during the week of Sunday, May 17th through Saturday, May 23rd, compared to th... - I and/or my household made e-commerce purchases on behalf of people that it I/it was not making before - Other food items (e.g., specialty foods, farmer's markets, farm boxes, meal preparation kits)\n",
      "537 What was different during the week of Sunday, May 17th through Saturday, May 23rd, compared to th... - I and/or my household made e-commerce purchases on behalf of people that it I/it was not making before - Paper products and cleaning supplies\n",
      "538 What was different during the week of Sunday, May 17th through Saturday, May 23rd, compared to th... - I and/or my household made e-commerce purchases on behalf of people that it I/it was not making before - Clothing\n",
      "539 What was different during the week of Sunday, May 17th through Saturday, May 23rd, compared to th... - I and/or my household made e-commerce purchases on behalf of people that it I/it was not making before - Home office items\n",
      "540 What was different during the week of Sunday, May 17th through Saturday, May 23rd, compared to th... - I and/or my household made e-commerce purchases on behalf of people that it I/it was not making before - Medication(s)\n",
      "541 What was different during the week of Sunday, May 17th through Saturday, May 23rd, compared to th... - I and/or my household made e-commerce purchases on behalf of people that it I/it was not making before - Childcare items (e.g., diapers, formula, toys, children's books)\n",
      "542 What was different during the week of Sunday, May 17th through Saturday, May 23rd, compared to th... - I and/or my household made e-commerce purchases on behalf of people that it I/it was not making before - Some other item(s):\n",
      "543 What was different during the week of Sunday, May 17th through Saturday, May 23rd, compared to th... - I and/or my household made e-commerce purchases on behalf of people that it I/it was not making before - Some other item(s): - Text\n",
      "544 What was different during the week of Sunday, May 17th through Saturday, May 23rd, compared to th... - The number of deliveries I and/or my household received to my house was different - A prepared meal or beverage (i.e., from a restaurant or a café)\n",
      "545 What was different during the week of Sunday, May 17th through Saturday, May 23rd, compared to th... - The number of deliveries I and/or my household received to my house was different - Groceries\n",
      "546 What was different during the week of Sunday, May 17th through Saturday, May 23rd, compared to th... - The number of deliveries I and/or my household received to my house was different - Other food items (e.g., specialty foods, farmer's markets, farm boxes, meal preparation kits)\n",
      "547 What was different during the week of Sunday, May 17th through Saturday, May 23rd, compared to th... - The number of deliveries I and/or my household received to my house was different - Paper products and cleaning supplies\n",
      "548 What was different during the week of Sunday, May 17th through Saturday, May 23rd, compared to th... - The number of deliveries I and/or my household received to my house was different - Clothing\n",
      "549 What was different during the week of Sunday, May 17th through Saturday, May 23rd, compared to th... - The number of deliveries I and/or my household received to my house was different - Home office items\n",
      "550 What was different during the week of Sunday, May 17th through Saturday, May 23rd, compared to th... - The number of deliveries I and/or my household received to my house was different - Medication(s)\n",
      "551 What was different during the week of Sunday, May 17th through Saturday, May 23rd, compared to th... - The number of deliveries I and/or my household received to my house was different - Childcare items (e.g., diapers, formula, toys, children's books)\n",
      "552 What was different during the week of Sunday, May 17th through Saturday, May 23rd, compared to th... - The number of deliveries I and/or my household received to my house was different - Some other item(s):\n",
      "553 What was different during the week of Sunday, May 17th through Saturday, May 23rd, compared to th... - The number of deliveries I and/or my household received to my house was different - Some other item(s): - Text\n",
      "554 What was different during the week of Sunday, May 17th through Saturday, May 23rd, compared to th... - The number of times I and/or my household picked up e-commerce purchases at a store was different - A prepared meal or beverage (i.e., from a restaurant or a café)\n",
      "555 What was different during the week of Sunday, May 17th through Saturday, May 23rd, compared to th... - The number of times I and/or my household picked up e-commerce purchases at a store was different - Groceries\n",
      "556 What was different during the week of Sunday, May 17th through Saturday, May 23rd, compared to th... - The number of times I and/or my household picked up e-commerce purchases at a store was different - Other food items (e.g., specialty foods, farmer's markets, farm boxes, meal preparation kits)\n",
      "557 What was different during the week of Sunday, May 17th through Saturday, May 23rd, compared to th... - The number of times I and/or my household picked up e-commerce purchases at a store was different - Paper products and cleaning supplies\n",
      "558 What was different during the week of Sunday, May 17th through Saturday, May 23rd, compared to th... - The number of times I and/or my household picked up e-commerce purchases at a store was different - Clothing\n",
      "559 What was different during the week of Sunday, May 17th through Saturday, May 23rd, compared to th... - The number of times I and/or my household picked up e-commerce purchases at a store was different - Home office items\n",
      "560 What was different during the week of Sunday, May 17th through Saturday, May 23rd, compared to th... - The number of times I and/or my household picked up e-commerce purchases at a store was different - Medication(s)\n",
      "561 What was different during the week of Sunday, May 17th through Saturday, May 23rd, compared to th... - The number of times I and/or my household picked up e-commerce purchases at a store was different - Childcare items (e.g., diapers, formula, toys, children's books)\n",
      "562 What was different during the week of Sunday, May 17th through Saturday, May 23rd, compared to th... - The number of times I and/or my household picked up e-commerce purchases at a store was different - Some other item(s):\n",
      "563 What was different during the week of Sunday, May 17th through Saturday, May 23rd, compared to th... - The number of times I and/or my household picked up e-commerce purchases at a store was different - Some other item(s): - Text\n",
      "564 What was different during the week of Sunday, May 17th through Saturday, May 23rd, compared to th... - My/ and/or my household's primary mode used for pick ups was different - A prepared meal or beverage (i.e., from a restaurant or a café)\n",
      "565 What was different during the week of Sunday, May 17th through Saturday, May 23rd, compared to th... - My/ and/or my household's primary mode used for pick ups was different - Groceries\n",
      "566 What was different during the week of Sunday, May 17th through Saturday, May 23rd, compared to th... - My/ and/or my household's primary mode used for pick ups was different - Other food items (e.g., specialty foods, farmer's markets, farm boxes, meal preparation kits)\n",
      "567 What was different during the week of Sunday, May 17th through Saturday, May 23rd, compared to th... - My/ and/or my household's primary mode used for pick ups was different - Paper products and cleaning supplies\n",
      "568 What was different during the week of Sunday, May 17th through Saturday, May 23rd, compared to th... - My/ and/or my household's primary mode used for pick ups was different - Clothing\n",
      "569 What was different during the week of Sunday, May 17th through Saturday, May 23rd, compared to th... - My/ and/or my household's primary mode used for pick ups was different - Home office items\n",
      "570 What was different during the week of Sunday, May 17th through Saturday, May 23rd, compared to th... - My/ and/or my household's primary mode used for pick ups was different - Medication(s)\n",
      "571 What was different during the week of Sunday, May 17th through Saturday, May 23rd, compared to th... - My/ and/or my household's primary mode used for pick ups was different - Childcare items (e.g., diapers, formula, toys, children's books)\n",
      "572 What was different during the week of Sunday, May 17th through Saturday, May 23rd, compared to th... - My/ and/or my household's primary mode used for pick ups was different - Some other item(s):\n",
      "573 What was different during the week of Sunday, May 17th through Saturday, May 23rd, compared to th... - My/ and/or my household's primary mode used for pick ups was different - Some other item(s): - Text\n",
      "574 What was different during the week of Sunday, May 17th through Saturday, May 23rd, compared to th... - The number of times I and/or my household used curbside pick up for e-commerce orders was different - A prepared meal or beverage (i.e., from a restaurant or a café)\n",
      "575 What was different during the week of Sunday, May 17th through Saturday, May 23rd, compared to th... - The number of times I and/or my household used curbside pick up for e-commerce orders was different - Groceries\n",
      "576 What was different during the week of Sunday, May 17th through Saturday, May 23rd, compared to th... - The number of times I and/or my household used curbside pick up for e-commerce orders was different - Other food items (e.g., specialty foods, farmer's markets, farm boxes, meal preparation kits)\n",
      "577 What was different during the week of Sunday, May 17th through Saturday, May 23rd, compared to th... - The number of times I and/or my household used curbside pick up for e-commerce orders was different - Paper products and cleaning supplies\n",
      "578 What was different during the week of Sunday, May 17th through Saturday, May 23rd, compared to th... - The number of times I and/or my household used curbside pick up for e-commerce orders was different - Clothing\n",
      "579 What was different during the week of Sunday, May 17th through Saturday, May 23rd, compared to th... - The number of times I and/or my household used curbside pick up for e-commerce orders was different - Home office items\n",
      "580 What was different during the week of Sunday, May 17th through Saturday, May 23rd, compared to th... - The number of times I and/or my household used curbside pick up for e-commerce orders was different - Medication(s)\n",
      "581 What was different during the week of Sunday, May 17th through Saturday, May 23rd, compared to th... - The number of times I and/or my household used curbside pick up for e-commerce orders was different - Childcare items (e.g., diapers, formula, toys, children's books)\n",
      "582 What was different during the week of Sunday, May 17th through Saturday, May 23rd, compared to th... - The number of times I and/or my household used curbside pick up for e-commerce orders was different - Some other item(s):\n",
      "583 What was different during the week of Sunday, May 17th through Saturday, May 23rd, compared to th... - The number of times I and/or my household used curbside pick up for e-commerce orders was different - Some other item(s): - Text\n",
      "584 What was different during the week of Sunday, May 17th through Saturday, May 23rd, compared to th... - The number of deliveries  I and/or my household received to work/school/other locations was different - A prepared meal or beverage (i.e., from a restaurant or a café)\n",
      "585 What was different during the week of Sunday, May 17th through Saturday, May 23rd, compared to th... - The number of deliveries  I and/or my household received to work/school/other locations was different - Groceries\n",
      "586 What was different during the week of Sunday, May 17th through Saturday, May 23rd, compared to th... - The number of deliveries  I and/or my household received to work/school/other locations was different - Other food items (e.g., specialty foods, farmer's markets, farm boxes, meal preparation kits)\n",
      "587 What was different during the week of Sunday, May 17th through Saturday, May 23rd, compared to th... - The number of deliveries  I and/or my household received to work/school/other locations was different - Paper products and cleaning supplies\n",
      "588 What was different during the week of Sunday, May 17th through Saturday, May 23rd, compared to th... - The number of deliveries  I and/or my household received to work/school/other locations was different - Clothing\n",
      "589 What was different during the week of Sunday, May 17th through Saturday, May 23rd, compared to th... - The number of deliveries  I and/or my household received to work/school/other locations was different - Home office items\n",
      "590 What was different during the week of Sunday, May 17th through Saturday, May 23rd, compared to th... - The number of deliveries  I and/or my household received to work/school/other locations was different - Medication(s)\n",
      "591 What was different during the week of Sunday, May 17th through Saturday, May 23rd, compared to th... - The number of deliveries  I and/or my household received to work/school/other locations was different - Childcare items (e.g., diapers, formula, toys, children's books)\n",
      "592 What was different during the week of Sunday, May 17th through Saturday, May 23rd, compared to th... - The number of deliveries  I and/or my household received to work/school/other locations was different - Some other item(s):\n",
      "593 What was different during the week of Sunday, May 17th through Saturday, May 23rd, compared to th... - The number of deliveries  I and/or my household received to work/school/other locations was different - Some other item(s): - Text\n",
      "594 What primary modes did you and/or someone else in your household use to make e-commerce pick ups... - Primary mode for pick ups - A prepared meal or beverage (i.e., from a restaurant or a café)\n",
      "595 What primary modes did you and/or someone else in your household use to make e-commerce pick ups... - Primary mode for pick ups - Groceries\n",
      "596 What primary modes did you and/or someone else in your household use to make e-commerce pick ups... - Primary mode for pick ups - Other food items (e.g., specialty foods, farmer's markets, farm boxes, meal preparation kits)\n",
      "597 What primary modes did you and/or someone else in your household use to make e-commerce pick ups... - Primary mode for pick ups - Paper products and cleaning supplies\n",
      "598 What primary modes did you and/or someone else in your household use to make e-commerce pick ups... - Primary mode for pick ups - Clothing\n",
      "599 What primary modes did you and/or someone else in your household use to make e-commerce pick ups... - Primary mode for pick ups - Home office items\n",
      "600 What primary modes did you and/or someone else in your household use to make e-commerce pick ups... - Primary mode for pick ups - Medication(s)\n",
      "601 What primary modes did you and/or someone else in your household use to make e-commerce pick ups... - Primary mode for pick ups - Childcare items (e.g., diapers, formula, toys, children's books)\n",
      "602 What primary modes did you and/or someone else in your household use to make e-commerce pick ups... - Primary mode for pick ups - Some other item(s):\n",
      "603 What primary modes did you and/or someone else in your household use to make e-commerce pick ups... - Primary mode for pick ups - Some other item(s): - Text\n",
      "604 What primary modes did you and/or someone else in your household use to make e-commerce pick ups... - My household used the same mode as for in-person shopping trips - A prepared meal or beverage (i.e., from a restaurant or a café)\n",
      "605 What primary modes did you and/or someone else in your household use to make e-commerce pick ups... - My household used the same mode as for in-person shopping trips - Groceries\n",
      "606 What primary modes did you and/or someone else in your household use to make e-commerce pick ups... - My household used the same mode as for in-person shopping trips - Other food items (e.g., specialty foods, farmer's markets, farm boxes, meal preparation kits)\n",
      "607 What primary modes did you and/or someone else in your household use to make e-commerce pick ups... - My household used the same mode as for in-person shopping trips - Paper products and cleaning supplies\n",
      "608 What primary modes did you and/or someone else in your household use to make e-commerce pick ups... - My household used the same mode as for in-person shopping trips - Clothing\n",
      "609 What primary modes did you and/or someone else in your household use to make e-commerce pick ups... - My household used the same mode as for in-person shopping trips - Home office items\n",
      "610 What primary modes did you and/or someone else in your household use to make e-commerce pick ups... - My household used the same mode as for in-person shopping trips - Medication(s)\n",
      "611 What primary modes did you and/or someone else in your household use to make e-commerce pick ups... - My household used the same mode as for in-person shopping trips - Childcare items (e.g., diapers, formula, toys, children's books)\n",
      "612 What primary modes did you and/or someone else in your household use to make e-commerce pick ups... - My household used the same mode as for in-person shopping trips - Some other item(s):\n",
      "613 What primary modes did you and/or someone else in your household use to make e-commerce pick ups... - My household used the same mode as for in-person shopping trips - Some other item(s): - Text\n",
      "614 Is there anything important that you'd like to share regarding your purchases that wasn't covered in any of the previous questions?\n",
      "\n",
      "\n",
      "\n",
      "Please feel free to include anything that you think might be valuable to the project!\n",
      "615 During that typical week in Jan./Feb. 2020 (prior to the COVID-19 pandemic), did you share the burden of grocery shopping with anyone else in your household?\n",
      "616 During that typical week in Jan./Feb. 2020 (prior to the COVID-19 pandemic), who would you shop for when grocery shopping?\n",
      " \n",
      "\n",
      "Please select all that apply. - Selected Choice\n",
      "617 During that typical week in Jan./Feb. 2020 (prior to the COVID-19 pandemic), who would you shop for when grocery shopping?\n",
      " \n",
      "\n",
      "Please select all that apply. - Any person(s) not listed above - Text\n",
      "618 During that typical week in Jan./Feb. 2020 (prior to the COVID-19 pandemic), about how often did you and/or someone in your household make in-person grocery shopping trips?\n",
      "619 During that typical week in Jan./Feb. 2020 (prior to the COVID-19 pandemic), did you and/or someone in your household visit multiple food stores per trip when you were shopping for groceries in person? - Selected Choice\n",
      "620 During that typical week in Jan./Feb. 2020 (prior to the COVID-19 pandemic), did you and/or someone in your household visit multiple food stores per trip when you were shopping for groceries in person? - Something else: - Text\n",
      "621 During that typical week in Jan./Feb. 2020 (prior to the COVID-19 pandemic), did you and/or someone in your household run other errands while out shopping for groceries? - Selected Choice\n",
      "622 During that typical week in Jan./Feb. 2020 (prior to the COVID-19 pandemic), did you and/or someone in your household run other errands while out shopping for groceries? - Something else: - Text\n",
      "623 During that typical week in Jan./Feb. 2020 (prior to the COVID-19 pandemic), did you and/or someone in your household shop for groceries in person on your way to or from work, school, or elsewhere? - Selected Choice\n",
      "624 During that typical week in Jan./Feb. 2020 (prior to the COVID-19 pandemic), did you and/or someone in your household shop for groceries in person on your way to or from work, school, or elsewhere? - I did something else: - Text\n",
      "625 During a typical week in Jan./Feb. 2020 (prior to the COVID-19 pandemic), on what days did you (or someone in your household) usually shop for groceries in person? - Selected Choice\n",
      "626 During a typical week in Jan./Feb. 2020 (prior to the COVID-19 pandemic), on what days did you (or someone in your household) usually shop for groceries in person? - I do something else: - Text\n",
      "627 Since the start of the COVID-19 pandemic, are any of the following true?   You may need to scroll... - My household shops at a different store (or stores) - When shopping in-person for groceries:\n",
      "628 Since the start of the COVID-19 pandemic, are any of the following true?   You may need to scroll... - My household makes a different number of shopping trips per week - When shopping in-person for groceries:\n",
      "629 Since the start of the COVID-19 pandemic, are any of the following true?   You may need to scroll... - The number of stores my household visits on a shopping trip is different - When shopping in-person for groceries:\n",
      "630 Since the start of the COVID-19 pandemic, are any of the following true? You may need to scroll t... - My household shops at a different store (or stores) - When shopping in-person for groceries:\n",
      "631 Since the start of the COVID-19 pandemic, are any of the following true? You may need to scroll t... - My household makes a different number of shopping trips per week - When shopping in-person for groceries:\n",
      "632 Since the start of the COVID-19 pandemic, are any of the following true? You may need to scroll t... - The number of stores my household visits on a shopping trip is different - When shopping in-person for groceries:\n",
      "633 Since the start of the COVID-19 pandemic, are any of the following true? You may need to scroll t... - My household no longer shops on my way to/from work/school/elsewhere - When shopping in-person for groceries:\n",
      "634 Are you a member of any online shopping rewards programs (e.g., Amazon Prime, Target Circle or Shipt, Shoprunner, Wine Club)\n",
      "\n",
      "\n",
      "Please select all that apply. - Selected Choice\n",
      "635 Are you a member of any online shopping rewards programs (e.g., Amazon Prime, Target Circle or Shipt, Shoprunner, Wine Club)\n",
      "\n",
      "\n",
      "Please select all that apply. - Another rewards program not listed: - Text\n",
      "636 Please estimate how long you have been a member of these programs.   Please estimate from the fir... - Q359#1 - Amazon Prime\n",
      "637 Please estimate how long you have been a member of these programs.   Please estimate from the fir... - Q359#1 - Target Circle\n",
      "638 Please estimate how long you have been a member of these programs.   Please estimate from the fir... - Q359#1 - Shoprunner\n",
      "639 Please estimate how long you have been a member of these programs.   Please estimate from the fir... - Q359#1 - DashPass, Postmates Unlimited, Grubhub+, or other restaurant food delivery rewards program\n",
      "640 Please estimate how long you have been a member of these programs.   Please estimate from the fir... - Q359#1 - Instacart Express, Amazon Prime Pantry, or other grocery delivery rewards prorgram\n",
      "641 Please estimate how long you have been a member of these programs.   Please estimate from the fir... - Q359#1 - Another rewards program not listed:\n",
      "642 Please estimate how long you have been a member of these programs.   Please estimate from the fir... - Q359#1 - Another rewards program not listed: - Text\n",
      "643 Please estimate how long you have been a member of these programs.   Please estimate from the fir... - Q359#1 - No, I am not a member of of any online shopping rewards program\n",
      "644 Please estimate the annual fees (i.e., membership fees, not item costs) for each of these service... - Q360#1 - Amazon Prime\n",
      "645 Please estimate the annual fees (i.e., membership fees, not item costs) for each of these service... - Q360#1 - Target Circle\n",
      "646 Please estimate the annual fees (i.e., membership fees, not item costs) for each of these service... - Q360#1 - Shoprunner\n",
      "647 Please estimate the annual fees (i.e., membership fees, not item costs) for each of these service... - Q360#1 - DashPass, Postmates Unlimited, Grubhub+, or other restaurant food delivery rewards program\n",
      "648 Please estimate the annual fees (i.e., membership fees, not item costs) for each of these service... - Q360#1 - Instacart Express, Amazon Prime Pantry, or other grocery delivery rewards prorgram\n",
      "649 Please estimate the annual fees (i.e., membership fees, not item costs) for each of these service... - Q360#1 - Another rewards program not listed:\n",
      "650 Please estimate the annual fees (i.e., membership fees, not item costs) for each of these service... - Q360#1 - Another rewards program not listed: - Text\n",
      "651 Please estimate the annual fees (i.e., membership fees, not item costs) for each of these service... - Q360#1 - No, I am not a member of of any online shopping rewards program\n",
      "652 Did you sign up for any of these services due to COVID-19? - Q361#1 - Amazon Prime\n",
      "653 Did you sign up for any of these services due to COVID-19? - Q361#1 - Target Circle\n",
      "654 Did you sign up for any of these services due to COVID-19? - Q361#1 - Shoprunner\n",
      "655 Did you sign up for any of these services due to COVID-19? - Q361#1 - DashPass, Postmates Unlimited, Grubhub+, or other restaurant food delivery rewards program\n",
      "656 Did you sign up for any of these services due to COVID-19? - Q361#1 - Instacart Express, Amazon Prime Pantry, or other grocery delivery rewards prorgram\n",
      "657 Did you sign up for any of these services due to COVID-19? - Q361#1 - Another rewards program not listed:\n",
      "658 Did you sign up for any of these services due to COVID-19? - Q361#1 - Another rewards program not listed: - Text\n",
      "659 Did you sign up for any of these services due to COVID-19? - Q361#1 - No, I am not a member of of any online shopping rewards program\n",
      "660 If these programs were to offer an additional subscription to offset the carbon emissions of deli... - Q362#1 - Amazon Prime\n",
      "661 If these programs were to offer an additional subscription to offset the carbon emissions of deli... - Q362#1 - Target Circle\n",
      "662 If these programs were to offer an additional subscription to offset the carbon emissions of deli... - Q362#1 - Shoprunner\n",
      "663 If these programs were to offer an additional subscription to offset the carbon emissions of deli... - Q362#1 - DashPass, Postmates Unlimited, Grubhub+, or other restaurant food delivery rewards program\n",
      "664 If these programs were to offer an additional subscription to offset the carbon emissions of deli... - Q362#1 - Instacart Express, Amazon Prime Pantry, or other grocery delivery rewards prorgram\n",
      "665 If these programs were to offer an additional subscription to offset the carbon emissions of deli... - Q362#1 - Another rewards program not listed:\n",
      "666 If these programs were to offer an additional subscription to offset the carbon emissions of deli... - Q362#1 - Another rewards program not listed: - Text\n",
      "667 If these programs were to offer an additional subscription to offset the carbon emissions of deli... - Q362#1 - No, I am not a member of of any online shopping rewards program\n",
      "668 If these programs were to offer a separate subscription to offset the carbon emissions of deliver... - Q365#1 - Amazon Prime\n",
      "669 If these programs were to offer a separate subscription to offset the carbon emissions of deliver... - Q365#1 - Target Circle\n",
      "670 If these programs were to offer a separate subscription to offset the carbon emissions of deliver... - Q365#1 - Shoprunner\n",
      "671 If these programs were to offer a separate subscription to offset the carbon emissions of deliver... - Q365#1 - DashPass, Postmates Unlimited, Grubhub+, or other restaurant food delivery rewards program\n",
      "672 If these programs were to offer a separate subscription to offset the carbon emissions of deliver... - Q365#1 - Instacart Express, Amazon Prime Pantry, or other grocery delivery rewards prorgram\n",
      "673 If these programs were to offer a separate subscription to offset the carbon emissions of deliver... - Q365#1 - Another rewards program not listed:\n",
      "674 If these programs were to offer a separate subscription to offset the carbon emissions of deliver... - Q365#1 - Another rewards program not listed: - Text\n",
      "675 If these programs were to offer a separate subscription to offset the carbon emissions of deliver... - Q365#1 - No, I am not a member of of any online shopping rewards program\n",
      "676 Are you a member of any subscription delivery services, either for food (e.g., farm boxes, meal prep kits); clothes (e.g., Stitch Fix, Trunk Club); beauty items (e.g., Dollar Shave Club); household items (e.g., Amazon Subscribe and Save) or other item? \n",
      "\n",
      "\n",
      "\n",
      "Please select all that apply. - Selected Choice\n",
      "677 Are you a member of any subscription delivery services, either for food (e.g., farm boxes, meal prep kits); clothes (e.g., Stitch Fix, Trunk Club); beauty items (e.g., Dollar Shave Club); household items (e.g., Amazon Subscribe and Save) or other item? \n",
      "\n",
      "\n",
      "\n",
      "Please select all that apply. - Some other delivery subscription service - Text\n",
      "678 Please estimate how long you have been a member of these services. Please estimate from the first... - Q357#1 - Food delivery subscription service (e.g., farm or CSA box, meal prep kits)\n",
      "679 Please estimate how long you have been a member of these services. Please estimate from the first... - Q357#1 - Clothing delivery subscription service (e.g., Stitch Fix, Trunk Club)\n",
      "680 Please estimate how long you have been a member of these services. Please estimate from the first... - Q357#1 - Personal care delivery subscription service (e.g., Dollar Shave Club)\n",
      "681 Please estimate how long you have been a member of these services. Please estimate from the first... - Q357#1 - Household items delivery service (e.g., Amazon Subscribe & Save)\n",
      "682 Please estimate how long you have been a member of these services. Please estimate from the first... - Q357#1 - Some other delivery subscription service\n",
      "683 Please estimate how long you have been a member of these services. Please estimate from the first... - Q357#1 - Some other delivery subscription service - Text\n",
      "684 Please estimate how long you have been a member of these services. Please estimate from the first... - Q357#1 - No, I am not a member of any delivery subscription service\n",
      "685 Please estimate the annual fees (i.e., membership fees, not item costs) for each of these services. - Q358#1 - Food delivery subscription service (e.g., farm or CSA box, meal prep kits)\n",
      "686 Please estimate the annual fees (i.e., membership fees, not item costs) for each of these services. - Q358#1 - Clothing delivery subscription service (e.g., Stitch Fix, Trunk Club)\n",
      "687 Please estimate the annual fees (i.e., membership fees, not item costs) for each of these services. - Q358#1 - Personal care delivery subscription service (e.g., Dollar Shave Club)\n",
      "688 Please estimate the annual fees (i.e., membership fees, not item costs) for each of these services. - Q358#1 - Household items delivery service (e.g., Amazon Subscribe & Save)\n",
      "689 Please estimate the annual fees (i.e., membership fees, not item costs) for each of these services. - Q358#1 - Some other delivery subscription service\n",
      "690 Please estimate the annual fees (i.e., membership fees, not item costs) for each of these services. - Q358#1 - Some other delivery subscription service - Text\n",
      "691 Please estimate the annual fees (i.e., membership fees, not item costs) for each of these services. - Q358#1 - No, I am not a member of any delivery subscription service\n",
      "692 Did you sign up for any of these services due to COVID-19? - Q284#1 - Food delivery subscription service (e.g., farm or CSA box, meal prep kits)\n",
      "693 Did you sign up for any of these services due to COVID-19? - Q284#1 - Clothing delivery subscription service (e.g., Stitch Fix, Trunk Club)\n",
      "694 Did you sign up for any of these services due to COVID-19? - Q284#1 - Personal care delivery subscription service (e.g., Dollar Shave Club)\n",
      "695 Did you sign up for any of these services due to COVID-19? - Q284#1 - Household items delivery service (e.g., Amazon Subscribe & Save)\n",
      "696 Did you sign up for any of these services due to COVID-19? - Q284#1 - Some other delivery subscription service\n",
      "697 Did you sign up for any of these services due to COVID-19? - Q284#1 - Some other delivery subscription service - Text\n",
      "698 Did you sign up for any of these services due to COVID-19? - Q284#1 - No, I am not a member of any delivery subscription service\n",
      "699 If these services were to offer an additional subscription to offset the carbon emissions of deli... - Q363#1 - Food delivery subscription service (e.g., farm or CSA box, meal prep kits)\n",
      "700 If these services were to offer an additional subscription to offset the carbon emissions of deli... - Q363#1 - Clothing delivery subscription service (e.g., Stitch Fix, Trunk Club)\n",
      "701 If these services were to offer an additional subscription to offset the carbon emissions of deli... - Q363#1 - Personal care delivery subscription service (e.g., Dollar Shave Club)\n",
      "702 If these services were to offer an additional subscription to offset the carbon emissions of deli... - Q363#1 - Household items delivery service (e.g., Amazon Subscribe & Save)\n",
      "703 If these services were to offer an additional subscription to offset the carbon emissions of deli... - Q363#1 - Some other delivery subscription service\n",
      "704 If these services were to offer an additional subscription to offset the carbon emissions of deli... - Q363#1 - Some other delivery subscription service - Text\n",
      "705 If these services were to offer an additional subscription to offset the carbon emissions of deli... - Q363#1 - No, I am not a member of any delivery subscription service\n",
      "706 If these services were to offer a separate subscription to offset the carbon emissions of deliver... - Q364#1 - Food delivery subscription service (e.g., farm or CSA box, meal prep kits)\n",
      "707 If these services were to offer a separate subscription to offset the carbon emissions of deliver... - Q364#1 - Clothing delivery subscription service (e.g., Stitch Fix, Trunk Club)\n",
      "708 If these services were to offer a separate subscription to offset the carbon emissions of deliver... - Q364#1 - Personal care delivery subscription service (e.g., Dollar Shave Club)\n",
      "709 If these services were to offer a separate subscription to offset the carbon emissions of deliver... - Q364#1 - Household items delivery service (e.g., Amazon Subscribe & Save)\n",
      "710 If these services were to offer a separate subscription to offset the carbon emissions of deliver... - Q364#1 - Some other delivery subscription service\n",
      "711 If these services were to offer a separate subscription to offset the carbon emissions of deliver... - Q364#1 - Some other delivery subscription service - Text\n",
      "712 If these services were to offer a separate subscription to offset the carbon emissions of deliver... - Q364#1 - No, I am not a member of any delivery subscription service\n",
      "713 When shopping online or via mobile app, do how would you describe the ease or difficulty of making purchases?\n",
      "714 Do you have anything to add about the ease or difficulty of making purchases?\n",
      "715 When shopping online or via mobile app, do you ever use one-click ordering?\n",
      "\n",
      "\n",
      "\n",
      "One-click ordering allows you to save shipping and purchase information to skip entering it and purchase items with one click.\n",
      "716 When shopping online or via mobile app, have you ever bought multiple items with the intention of returning some of them?\n",
      "717 When shopping online or by mobile app, how do you track your orders? You may have to scroll to th... - I use a dedicated third-party parcel tracking application (e.g., Arrive, Deliveries, ParcelTrack). - Parcels/non-food:\n",
      "718 When shopping online or by mobile app, how do you track your orders? You may have to scroll to th... - I use a dedicated third-party parcel tracking application (e.g., Arrive, Deliveries, ParcelTrack). - Prepared food:\n",
      "719 When shopping online or by mobile app, how do you track your orders? You may have to scroll to th... - I use a dedicated third-party parcel tracking application (e.g., Arrive, Deliveries, ParcelTrack). - Groceries:\n",
      "720 When shopping online or by mobile app, how do you track your orders? You may have to scroll to th... - I check my email for tracking updates. - Parcels/non-food:\n",
      "721 When shopping online or by mobile app, how do you track your orders? You may have to scroll to th... - I check my email for tracking updates. - Prepared food:\n",
      "722 When shopping online or by mobile app, how do you track your orders? You may have to scroll to th... - I check my email for tracking updates. - Groceries:\n",
      "723 When shopping online or by mobile app, how do you track your orders? You may have to scroll to th... - I check the detailed tracking information online. - Parcels/non-food:\n"
     ]
    },
    {
     "name": "stdout",
     "output_type": "stream",
     "text": [
      "724 When shopping online or by mobile app, how do you track your orders? You may have to scroll to th... - I check the detailed tracking information online. - Prepared food:\n",
      "725 When shopping online or by mobile app, how do you track your orders? You may have to scroll to th... - I check the detailed tracking information online. - Groceries:\n",
      "726 When shopping online or by mobile app, how do you track your orders? You may have to scroll to th... - None of these. - Parcels/non-food:\n",
      "727 When shopping online or by mobile app, how do you track your orders? You may have to scroll to th... - None of these. - Prepared food:\n",
      "728 When shopping online or by mobile app, how do you track your orders? You may have to scroll to th... - None of these. - Groceries:\n",
      "729 When shopping online or by mobile app, how do you track your orders? You may have to scroll to th... - I keep track via the app which I made the purchase. - Parcels/non-food:\n",
      "730 When shopping online or by mobile app, how do you track your orders? You may have to scroll to th... - I keep track via the app which I made the purchase. - Prepared food:\n",
      "731 When shopping online or by mobile app, how do you track your orders? You may have to scroll to th... - I keep track via the app which I made the purchase. - Groceries:\n",
      "732 Have you tried any of the following, and if so, when was the first time you tried it? - Bundled an online grocery order with your neighbor(s)\n",
      "733 Have you tried any of the following, and if so, when was the first time you tried it? - Received a crowd-sourced delivery (i.e., from a part-time or Gig worker)\n",
      "734 Have you tried any of the following, and if so, when was the first time you tried it? - Received a contactless e-commerce delivery at the curb in front of your home\n",
      "735 Have you tried any of the following, and if so, when was the first time you tried it? - Received a contactless e-commerce delivery at the door to your residence\n",
      "736 Have you tried any of the following, and if so, when was the first time you tried it? - Received a contactless e-commerce delivery from a driverless vehicle at the curb in front of your home\n",
      "737 Have you tried any of the following, and if so, when was the first time you tried it? - Completed an e-commerce curbside pick up at a store\n",
      "738 Have you tried any of the following, and if so, when was the first time you tried it? - Completed an e-commerce in-store pick up at a store\n",
      "739 Have you tried any of the following, and if so, when was the first time you tried it? - Used a pick up locker/collection point to receive an e-commerce purchase\n",
      "740 Have you tried any of the following, and if so, when was the first time you tried it? - Received a delivery from an aerial drone\n",
      "741 How likely are you to continue doing the following as Shelter in Place/Stay at Home orders relax (i.e., during Stages 2 and 3 of the California re-opening plan)? - Bundle an online grocery order with your neighbor(s)\n",
      "742 How likely are you to continue doing the following as Shelter in Place/Stay at Home orders relax (i.e., during Stages 2 and 3 of the California re-opening plan)? - Receive a crowd-sourced delivery (i.e., from a part-time or Gig worker)\n",
      "743 How likely are you to continue doing the following as Shelter in Place/Stay at Home orders relax (i.e., during Stages 2 and 3 of the California re-opening plan)? - Receive a contactless e-commerce delivery at the curb in front of your home\n",
      "744 How likely are you to continue doing the following as Shelter in Place/Stay at Home orders relax (i.e., during Stages 2 and 3 of the California re-opening plan)? - Receive a contactless e-commerce delivery at the door to your residence\n",
      "745 How likely are you to continue doing the following as Shelter in Place/Stay at Home orders relax (i.e., during Stages 2 and 3 of the California re-opening plan)? - Receive a contactless e-commerce delivery from a driverless vehicle at the curb in front of your home\n",
      "746 How likely are you to continue doing the following as Shelter in Place/Stay at Home orders relax (i.e., during Stages 2 and 3 of the California re-opening plan)? - Complete an e-commerce curbside pick up at a store\n",
      "747 How likely are you to continue doing the following as Shelter in Place/Stay at Home orders relax (i.e., during Stages 2 and 3 of the California re-opening plan)? - Complete an e-commerce in-store pick up at a store\n",
      "748 How likely are you to continue doing the following as Shelter in Place/Stay at Home orders relax (i.e., during Stages 2 and 3 of the California re-opening plan)? - Use a pick up locker/collection point to receive an e-commerce purchase\n",
      "749 How likely are you to continue doing the following as Shelter in Place/Stay at Home orders relax (i.e., during Stages 2 and 3 of the California re-opening plan)? - Receive a delivery from an aerial drone\n",
      "750 If available, how likely are you to try the following as Shelter in Place/Stay at Home orders relax (i.e., during Stages 2 and 3 of the California re-opening plan)? - Visit a retail (non-food) store in person\n",
      "751 If available, how likely are you to try the following as Shelter in Place/Stay at Home orders relax (i.e., during Stages 2 and 3 of the California re-opening plan)? - Visit a restaurant or café in person to dine in\n",
      "752 If available, how likely are you to try the following as Shelter in Place/Stay at Home orders relax (i.e., during Stages 2 and 3 of the California re-opening plan)? - Visit a bar in person to have a drink\n",
      "753 If available, how likely are you to try the following as Shelter in Place/Stay at Home orders relax (i.e., during Stages 2 and 3 of the California re-opening plan)? - Bundle an online grocery order with your neighbor(s)\n",
      "754 If available, how likely are you to try the following as Shelter in Place/Stay at Home orders relax (i.e., during Stages 2 and 3 of the California re-opening plan)? - Receive a crowd-sourced delivery (i.e., from a part-time or Gig worker)\n",
      "755 If available, how likely are you to try the following as Shelter in Place/Stay at Home orders relax (i.e., during Stages 2 and 3 of the California re-opening plan)? - Receive a contactless e-commerce delivery at the curb in front of your home\n",
      "756 If available, how likely are you to try the following as Shelter in Place/Stay at Home orders relax (i.e., during Stages 2 and 3 of the California re-opening plan)? - Receive a contactless e-commerce delivery at the door to your residence\n",
      "757 If available, how likely are you to try the following as Shelter in Place/Stay at Home orders relax (i.e., during Stages 2 and 3 of the California re-opening plan)? - Receive a contactless e-commerce delivery from a driverless vehicle at the curb in front of your home\n",
      "758 If available, how likely are you to try the following as Shelter in Place/Stay at Home orders relax (i.e., during Stages 2 and 3 of the California re-opening plan)? - Complete an e-commerce curbside pick up at a store\n",
      "759 If available, how likely are you to try the following as Shelter in Place/Stay at Home orders relax (i.e., during Stages 2 and 3 of the California re-opening plan)? - Complete an e-commerce in-store pick up at a store\n",
      "760 If available, how likely are you to try the following as Shelter in Place/Stay at Home orders relax (i.e., during Stages 2 and 3 of the California re-opening plan)? - Use a pick up locker/collection point to receive an e-commerce purchase\n",
      "761 If available, how likely are you to try the following as Shelter in Place/Stay at Home orders relax (i.e., during Stages 2 and 3 of the California re-opening plan)? - Receive a delivery from an aerial drone\n",
      "762 At present, please indicate your level of agreement with the following statements about your food purchasing behaviors. - When I go to a grocery store, I usually only buy items on my list.\n",
      "763 At present, please indicate your level of agreement with the following statements about your food purchasing behaviors. - I would not mind shopping for groceries online.\n",
      "764 At present, please indicate your level of agreement with the following statements about your food purchasing behaviors. - I would not mind shopping for restaurant meals online.\n",
      "765 At present, please indicate your level of agreement with the following statements about your food purchasing behaviors. - In-person grocery shopping is usually a chore for me.\n",
      "766 At present, please indicate your level of agreement with the following statements about your food purchasing behaviors. - I like grocery shopping as an excuse to get out of the house.\n",
      "767 At present, please indicate your level of agreement with the following statements about your food purchasing behaviors. - I like picking up restaurant food that I ordered via e-commerce as an excuse to get out of the house.\n",
      "768 At present, please indicate your level of agreement with the following statements about e-commerce food purchases.\n",
      "\n",
      "\n",
      "\n",
      "E-commerce food purchases include prepared food (i.e., from Grubhub, Postmates, DoorDash), groceries (i.e., from Instacart, FreshDirect, AmazonFresh, Walmart grocery, Target grocery), and any other food items (e.g., meal preparation kits, farm boxes, alcohol) purchased by phone, mobile app, or the internet. - It is environmentally friendly.\n",
      "769 At present, please indicate your level of agreement with the following statements about e-commerce food purchases.\n",
      "\n",
      "\n",
      "\n",
      "E-commerce food purchases include prepared food (i.e., from Grubhub, Postmates, DoorDash), groceries (i.e., from Instacart, FreshDirect, AmazonFresh, Walmart grocery, Target grocery), and any other food items (e.g., meal preparation kits, farm boxes, alcohol) purchased by phone, mobile app, or the internet. - It supports local businesses.\n",
      "770 At present, please indicate your level of agreement with the following statements about e-commerce food purchases.\n",
      "\n",
      "\n",
      "\n",
      "E-commerce food purchases include prepared food (i.e., from Grubhub, Postmates, DoorDash), groceries (i.e., from Instacart, FreshDirect, AmazonFresh, Walmart grocery, Target grocery), and any other food items (e.g., meal preparation kits, farm boxes, alcohol) purchased by phone, mobile app, or the internet. - It saves me time.\n",
      "771 At present, please indicate your level of agreement with the following statements about e-commerce food purchases.\n",
      "\n",
      "\n",
      "\n",
      "E-commerce food purchases include prepared food (i.e., from Grubhub, Postmates, DoorDash), groceries (i.e., from Instacart, FreshDirect, AmazonFresh, Walmart grocery, Target grocery), and any other food items (e.g., meal preparation kits, farm boxes, alcohol) purchased by phone, mobile app, or the internet. - It saves me money.\n",
      "772 At present, please indicate your level of agreement with the following statements about e-commerce food purchases.\n",
      "\n",
      "\n",
      "\n",
      "E-commerce food purchases include prepared food (i.e., from Grubhub, Postmates, DoorDash), groceries (i.e., from Instacart, FreshDirect, AmazonFresh, Walmart grocery, Target grocery), and any other food items (e.g., meal preparation kits, farm boxes, alcohol) purchased by phone, mobile app, or the internet. - It is harder to know exactly what I'm getting (e.g., quality, freshness).\n",
      "773 At present, please indicate your level of agreement with the following statements about e-commerce food purchases.\n",
      "\n",
      "\n",
      "\n",
      "E-commerce food purchases include prepared food (i.e., from Grubhub, Postmates, DoorDash), groceries (i.e., from Instacart, FreshDirect, AmazonFresh, Walmart grocery, Target grocery), and any other food items (e.g., meal preparation kits, farm boxes, alcohol) purchased by phone, mobile app, or the internet. - I worry about my deliveries being stolen.\n",
      "774 At present, please indicate your level of agreement with the following statements about e-commerce food purchases.\n",
      "\n",
      "\n",
      "\n",
      "E-commerce food purchases include prepared food (i.e., from Grubhub, Postmates, DoorDash), groceries (i.e., from Instacart, FreshDirect, AmazonFresh, Walmart grocery, Target grocery), and any other food items (e.g., meal preparation kits, farm boxes, alcohol) purchased by phone, mobile app, or the internet. - I do it to avoid carrying heavy/bulky items.\n",
      "775 At present, please indicate your level of agreement with the following statements about e-commerce food purchases.\n",
      "\n",
      "\n",
      "\n",
      "E-commerce food purchases include prepared food (i.e., from Grubhub, Postmates, DoorDash), groceries (i.e., from Instacart, FreshDirect, AmazonFresh, Walmart grocery, Target grocery), and any other food items (e.g., meal preparation kits, farm boxes, alcohol) purchased by phone, mobile app, or the internet. - Ordering food for instant delivery (i.e., within one hour) is cool.\n",
      "776 At present, please indicate your level of agreement with the following statements about e-commerce food purchases.\n",
      "\n",
      "\n",
      "\n",
      "E-commerce food purchases include prepared food (i.e., from Grubhub, Postmates, DoorDash), groceries (i.e., from Instacart, FreshDirect, AmazonFresh, Walmart grocery, Target grocery), and any other food items (e.g., meal preparation kits, farm boxes, alcohol) purchased by phone, mobile app, or the internet. - Something else:\n",
      "777 At present, please indicate your level of agreement with the following statements about e-commerce food purchases.\n",
      "\n",
      "\n",
      "\n",
      "E-commerce food purchases include prepared food (i.e., from Grubhub, Postmates, DoorDash), groceries (i.e., from Instacart, FreshDirect, AmazonFresh, Walmart grocery, Target grocery), and any other food items (e.g., meal preparation kits, farm boxes, alcohol) purchased by phone, mobile app, or the internet. - Something else: - Text\n",
      "778 At present, please indicate your level of agreement with the following statements about non-food shopping. - I find online shopping relaxing.\n",
      "779 At present, please indicate your level of agreement with the following statements about non-food shopping. - I enjoy shopping online for clothing.\n",
      "780 At present, please indicate your level of agreement with the following statements about non-food shopping. - I enjoy shopping online for electronics items.\n",
      "781 At present, please indicate your level of agreement with the following statements about non-food shopping. - I always search for the best deals when shopping online.\n",
      "782 At present, please indicate your level of agreement with the following statements about non-food shopping. - Even if I do not end up buying anything, I still enjoy going to stores and browsing.\n",
      "783 At present, please indicate your level of agreement with the following statements about non-food shopping. - In-person clothing shopping is usually a chore for me.\n",
      "784 At present, please indicate your level of agreement with the following statements about non-food shopping. - I like  retail shopping as an excuse to get out of the house.\n",
      "785 At present, please indicate your level of agreement with the following statements regarding e-commerce non-food purchases.\n",
      " \n",
      "\n",
      "E-commerce non-food purchases include paper goods and cleaning products, clothing, medication, electronics, home office items, or any other non-food items purchased by phone, mobile app, or the internet (i.e., from Amazon, eBay, Walmart, Target, Nike, Levi's, or other retailers). - It is environmentally friendly.\n",
      "786 At present, please indicate your level of agreement with the following statements regarding e-commerce non-food purchases.\n",
      " \n",
      "\n",
      "E-commerce non-food purchases include paper goods and cleaning products, clothing, medication, electronics, home office items, or any other non-food items purchased by phone, mobile app, or the internet (i.e., from Amazon, eBay, Walmart, Target, Nike, Levi's, or other retailers). - It supports local businesses.\n",
      "787 At present, please indicate your level of agreement with the following statements regarding e-commerce non-food purchases.\n",
      " \n",
      "\n",
      "E-commerce non-food purchases include paper goods and cleaning products, clothing, medication, electronics, home office items, or any other non-food items purchased by phone, mobile app, or the internet (i.e., from Amazon, eBay, Walmart, Target, Nike, Levi's, or other retailers). - It saves me time.\n",
      "788 At present, please indicate your level of agreement with the following statements regarding e-commerce non-food purchases.\n",
      " \n",
      "\n",
      "E-commerce non-food purchases include paper goods and cleaning products, clothing, medication, electronics, home office items, or any other non-food items purchased by phone, mobile app, or the internet (i.e., from Amazon, eBay, Walmart, Target, Nike, Levi's, or other retailers). - It saves me money.\n",
      "789 At present, please indicate your level of agreement with the following statements regarding e-commerce non-food purchases.\n",
      " \n",
      "\n",
      "E-commerce non-food purchases include paper goods and cleaning products, clothing, medication, electronics, home office items, or any other non-food items purchased by phone, mobile app, or the internet (i.e., from Amazon, eBay, Walmart, Target, Nike, Levi's, or other retailers). - It is harder to know exactly what I'm getting (e.g., quality, sizing).\n",
      "790 At present, please indicate your level of agreement with the following statements regarding e-commerce non-food purchases.\n",
      " \n",
      "\n",
      "E-commerce non-food purchases include paper goods and cleaning products, clothing, medication, electronics, home office items, or any other non-food items purchased by phone, mobile app, or the internet (i.e., from Amazon, eBay, Walmart, Target, Nike, Levi's, or other retailers). - I worry about my deliveries being stolen.\n",
      "791 At present, please indicate your level of agreement with the following statements regarding e-commerce non-food purchases.\n",
      " \n",
      "\n",
      "E-commerce non-food purchases include paper goods and cleaning products, clothing, medication, electronics, home office items, or any other non-food items purchased by phone, mobile app, or the internet (i.e., from Amazon, eBay, Walmart, Target, Nike, Levi's, or other retailers). - I pay close attention to product or item reviews when making my purchases.\n",
      "792 At present, please indicate your level of agreement with the following statements regarding e-commerce non-food purchases.\n",
      " \n",
      "\n",
      "E-commerce non-food purchases include paper goods and cleaning products, clothing, medication, electronics, home office items, or any other non-food items purchased by phone, mobile app, or the internet (i.e., from Amazon, eBay, Walmart, Target, Nike, Levi's, or other retailers). - It is easy to compare and choose from options and prices for items and shipping.\n",
      "793 At present, please indicate your level of agreement with the following statements regarding e-commerce non-food purchases.\n",
      " \n",
      "\n",
      "E-commerce non-food purchases include paper goods and cleaning products, clothing, medication, electronics, home office items, or any other non-food items purchased by phone, mobile app, or the internet (i.e., from Amazon, eBay, Walmart, Target, Nike, Levi's, or other retailers). - Ordering things for instant delivery (i.e., within one hour) is cool.\n",
      "794 At present, please indicate your level of agreement with the following statements regarding e-commerce non-food purchases.\n",
      " \n",
      "\n",
      "E-commerce non-food purchases include paper goods and cleaning products, clothing, medication, electronics, home office items, or any other non-food items purchased by phone, mobile app, or the internet (i.e., from Amazon, eBay, Walmart, Target, Nike, Levi's, or other retailers). - Something else:\n",
      "795 At present, please indicate your level of agreement with the following statements regarding e-commerce non-food purchases.\n",
      " \n",
      "\n",
      "E-commerce non-food purchases include paper goods and cleaning products, clothing, medication, electronics, home office items, or any other non-food items purchased by phone, mobile app, or the internet (i.e., from Amazon, eBay, Walmart, Target, Nike, Levi's, or other retailers). - Something else: - Text\n",
      "796 Over the past week, please indicate your level of agreement with the following statements about your satisfaction and basic needs. - I am generally satisfied with my life.\n",
      "797 Over the past week, please indicate your level of agreement with the following statements about your satisfaction and basic needs. - I have Zoom/teleconference fatigue.\n",
      "798 Over the past week, please indicate your level of agreement with the following statements about your satisfaction and basic needs. - I feel socially isolated.\n",
      "799 Over the past week, please indicate your level of agreement with the following statements about your satisfaction and basic needs. - I feel stressed.\n",
      "800 Over the past week, please indicate your level of agreement with the following statements about your satisfaction and basic needs. - I feel like I have enough time in the day.\n",
      "801 Over the past week, please indicate your level of agreement with the following statements about your satisfaction and basic needs. - I have enough food.\n",
      "802 Over the past week, please indicate your level of agreement with the following statements about your satisfaction and basic needs. - I have a sufficient supply of needed medications.\n",
      "803 Over the past week, please indicate your level of agreement with the following statements about your satisfaction and basic needs. - I worry about my current ability to meet my basic needs.\n",
      "804 At present, would you say that it is possible to trust most people, or on the contrary, that we can never be too cautious in our dealings with other people?\n",
      "805 If you feel you are unable to meet your basic needs right now, why not?\n",
      "806 These few questions mention people or institutions, and we'd like to know your opinion about whether they are trustworthy.\n",
      "At present, do you find the following people/institutions trustworthy? - Frontline medical workers\n",
      "807 These few questions mention people or institutions, and we'd like to know your opinion about whether they are trustworthy.\n",
      "At present, do you find the following people/institutions trustworthy? - Bus or train drivers\n",
      "808 These few questions mention people or institutions, and we'd like to know your opinion about whether they are trustworthy.\n",
      "At present, do you find the following people/institutions trustworthy? - Amazon\n",
      "809 These few questions mention people or institutions, and we'd like to know your opinion about whether they are trustworthy.\n",
      "At present, do you find the following people/institutions trustworthy? - Walmart\n",
      "810 These few questions mention people or institutions, and we'd like to know your opinion about whether they are trustworthy.\n",
      "At present, do you find the following people/institutions trustworthy? - Target\n",
      "811 These few questions mention people or institutions, and we'd like to know your opinion about whether they are trustworthy.\n",
      "At present, do you find the following people/institutions trustworthy? - Uber, Lyft, and/or other Transportation Network companies\n",
      "812 These few questions mention people or institutions, and we'd like to know your opinion about whether they are trustworthy.\n",
      "At present, do you find the following people/institutions trustworthy? - Postmates, Grubhub, DoorDash, and/or other on-demand food delivery companies\n",
      "813 These few questions mention people or institutions, and we'd like to know your opinion about whether they are trustworthy.\n",
      "At present, do you find the following people/institutions trustworthy? - Instacart and/or other on-demand grocery delivery companies\n",
      "814 These few questions mention people or institutions, and we'd like to know your opinion about whether they are trustworthy.\n",
      "At present, do you find the following people/institutions trustworthy? - Uber/Lyft drivers\n",
      "815 These few questions mention people or institutions, and we'd like to know your opinion about whether they are trustworthy.\n",
      "At present, do you find the following people/institutions trustworthy? - Taxi drivers\n",
      "816 These few questions mention people or institutions, and we'd like to know your opinion about whether they are trustworthy.\n",
      "At present, do you find the following people/institutions trustworthy? - United States Postal Service workers\n",
      "817 These few questions mention people or institutions, and we'd like to know your opinion about whether they are trustworthy.\n",
      "At present, do you find the following people/institutions trustworthy? - Private parcel delivery drivers (e.g., UPS, FedEx, DHL)\n",
      "818 These few questions mention people or institutions, and we'd like to know your opinion about whether they are trustworthy.\n",
      "At present, do you find the following people/institutions trustworthy? - Amazon delivery couriers\n",
      "819 These few questions mention people or institutions, and we'd like to know your opinion about whether they are trustworthy.\n",
      "At present, do you find the following people/institutions trustworthy? - On-demand food delivery couriers\n",
      "820 These few questions mention people or institutions, and we'd like to know your opinion about whether they are trustworthy.\n",
      "At present, do you find the following people/institutions trustworthy? - On-demand grocery delivery couriers\n",
      "821 Please indicate your level of agreement with the following statements. - Wearing personal protective equipment (PPE) reduces the chance that I will contract COVID-19.\n",
      "822 Please indicate your level of agreement with the following statements. - Wearing PPE reduces the chance that I will transmit COVID-19 to others if have it.\n",
      "823 Please indicate your level of agreement with the following statements. - I am able to maintain social/physical distance (i.e., a 6 foot buffer) from others.\n",
      "824 Since the onset of COVID-19, Shelter in Place/Stay at Home, and social/physical distancing orders, how has your trust in your community changed?\n",
      "825 Have you experienced any COVID-19 symptoms? \n",
      " \n",
      "\n",
      "These can include: a scratchy or painful sore throat; a cough (worse than usual if you have a baseline cough); a runny nose; symptoms of fever or chills; a temperature greater than 100.4 F or 38.0 C; muscle aches (worse than usual), nausea, vomiting, or diarrhea; shortness of breath; loss of taste or smell; red or painful eyes.\n",
      "826 Have you been tested for COVID-19 symptoms?\n",
      "827 Did you test positive for COVID-19?\n",
      "828 Has anyone in your household experienced any COVID-19 symptoms? \n",
      " \n",
      "\n",
      "These can include: a scratchy or painful sore throat; a cough (worse than usual if you have a baseline cough); a runny nose; symptoms of fever or chills; a temperature greater than 100.4 F or 38.0 C; muscle aches (worse than usual), nausea, vomiting, or diarrhea; shortness of breath; loss of taste or smell; red or painful eyes.\n",
      "829 Have they been tested for COVID-19 symptoms?\n",
      "830 Did they test positive for COVID-19?\n",
      "831 Do you have one or more disabilities or chonic health conditions? (please check all that apply.) - Selected Choice\n",
      "832 Do you have one or more disabilities or chonic health conditions? (please check all that apply.) - Other - Text\n",
      "833 Because of a disability or chronic condition, do you require assistance with tasks of daily living, like dressing or bathing?\n",
      "834 Because of a disability or chronic condition, do you occasionally or routinely use a communication device (e.g., a smartphone, an AAC device) when you communicate in-person with others?\n",
      "835 Because of a disability or chronic condition, do you have difficulty running errands, like grocery shopping at a store, alone?\n",
      "836 Who usually accompanies you when you run errands? - Selected Choice\n",
      "837 Who usually accompanies you when you run errands? - Someone else: - Text\n",
      "838 Because of a disability or chronic condition, do you have difficulty shopping at a store alone without occasional or routine assistance from store employees (i.e., to find or reach particular items)?\n",
      "839 Because of a disability or chronic condition, do you have difficulty shopping online alone without occasional or routine assistance from others including people you know and/or customer service representatives?\n",
      "840 Do you at least occasionally need to contact customer service representatives to get help when shopping online alone?\n",
      "841 With what gender do you identify?\n",
      " \n",
      "\n",
      "Please select all that apply. - Selected Choice\n",
      "842 With what gender do you identify?\n",
      " \n",
      "\n",
      "Please select all that apply. - Any gender not listed: - Text\n",
      "843 Were you a currently enrolled student from Sunday, May 17th to Saturday, May 23rd? - Selected Choice\n",
      "844 Were you a currently enrolled student from Sunday, May 17th to Saturday, May 23rd? - Yes, currently enrolled in another program - Text\n",
      "845 What is the highest level of education you have completed?\n",
      "846 How would you describe your level of employment from Sunday, May 17th to Saturday, May 23rd?\n",
      " \n",
      "\n",
      "If you are working 32 hours per week or more you are considered fully employed. If you are not, you may be considered a part-time worker.\n",
      "847 What best describes your type of employment?\n",
      " \n",
      "\n",
      "Please answer this question for the job at which you spend the most hours per week, which we will call your primary employment or primary workplace.\n",
      "848 What best describes your primary employment's business or industry? - Selected Choice\n",
      "849 What best describes your primary employment's business or industry? - Any business or industry not listed: - Text\n",
      "850 Which, if any, of the following 'for-hire' or contract services do you provide?\n",
      "\n",
      "Please select all that apply. - Selected Choice\n",
      "851 Which, if any, of the following 'for-hire' or contract services do you provide?\n",
      "\n",
      "Please select all that apply. - I provide some other 'for-hire' services not previously listed - Text\n",
      "852 Were you providing these 'for-hire' or contract services before the COVID-19 pandemic? - I drive passengers for Uber, Lyft, Via, or other smartphone-app ride service\n",
      "853 Were you providing these 'for-hire' or contract services before the COVID-19 pandemic? - I deliver packages for a gig, contract-based, or smartphone-app service (e.g., AmazonFlex, Amazon Logistics, Uber Direct, Fedex Ground)\n",
      "854 Were you providing these 'for-hire' or contract services before the COVID-19 pandemic? - I deliver food for a smartphone-app service (e.g., Postmates, Doordash, Caviar, UberEats)\n",
      "855 Were you providing these 'for-hire' or contract services before the COVID-19 pandemic? - I deliver groceries for a smartphone-app service (e.g., Instacart)\n",
      "856 Were you providing these 'for-hire' or contract services before the COVID-19 pandemic? - I shop for groceries for a smartphone-app service (e.g., Instacart)\n",
      "857 Were you providing these 'for-hire' or contract services before the COVID-19 pandemic? - I provide some other 'for-hire' services not previously listed\n",
      "858 Were you providing these 'for-hire' or contract services before the COVID-19 pandemic? - I provide some other 'for-hire' services not previously listed - Text\n",
      "859 Were you providing these 'for-hire' or contract services before the COVID-19 pandemic? - I provide none of these services\n",
      "860 Which of the following are available to you and your co-workers at your primary workplace (i.e., the workplace you would go to if you were commuting into work)?\n",
      "Please select all that apply. - Selected Choice\n",
      "861 Which of the following are available to you and your co-workers at your primary workplace (i.e., the workplace you would go to if you were commuting into work)?\n",
      "Please select all that apply. - Some other delivery-related amenity - Text\n",
      "862 What is the zip code of the primary workplace?\n",
      "863 What are the nearest cross streets to your primary workplace? - Cross street 1\n",
      "864 What are the nearest cross streets to your primary workplace? - Cross street 2\n",
      "865 Are you of Hispanic, Latino, or Spanish origin? - Selected Choice\n",
      "866 Are you of Hispanic, Latino, or Spanish origin? - Yes, another Hispanic, Latino, or Spanish origin: - Text\n",
      "867 With what race(s) do you identify? Please check all that apply.\n",
      " \n",
      "\n",
      "If you would like to add a racial identity group that is not listed, please either select the text box(es) with which you most closely identify and add the racial identity group as a text response. If you feel that your racial identity group is not adequately described, please select \"Any race not otherwise listed:\" and enter your racial identity group as a text response. - Selected Choice\n",
      "868 With what race(s) do you identify? Please check all that apply.\n",
      " \n",
      "\n",
      "If you would like to add a racial identity group that is not listed, please either select the text box(es) with which you most closely identify and add the racial identity group as a text response. If you feel that your racial identity group is not adequately described, please select \"Any race not otherwise listed:\" and enter your racial identity group as a text response. - White - Text\n",
      "869 With what race(s) do you identify? Please check all that apply.\n",
      " \n",
      "\n",
      "If you would like to add a racial identity group that is not listed, please either select the text box(es) with which you most closely identify and add the racial identity group as a text response. If you feel that your racial identity group is not adequately described, please select \"Any race not otherwise listed:\" and enter your racial identity group as a text response. - Other Asian (for example, Pakistani, Cambodian, Hmong, etc.) - Text\n",
      "870 With what race(s) do you identify? Please check all that apply.\n",
      " \n",
      "\n",
      "If you would like to add a racial identity group that is not listed, please either select the text box(es) with which you most closely identify and add the racial identity group as a text response. If you feel that your racial identity group is not adequately described, please select \"Any race not otherwise listed:\" and enter your racial identity group as a text response. - Black or African American - Text\n",
      "871 With what race(s) do you identify? Please check all that apply.\n",
      " \n",
      "\n",
      "If you would like to add a racial identity group that is not listed, please either select the text box(es) with which you most closely identify and add the racial identity group as a text response. If you feel that your racial identity group is not adequately described, please select \"Any race not otherwise listed:\" and enter your racial identity group as a text response. - American Indian or Alaska Native - Text\n",
      "872 With what race(s) do you identify? Please check all that apply.\n",
      " \n",
      "\n",
      "If you would like to add a racial identity group that is not listed, please either select the text box(es) with which you most closely identify and add the racial identity group as a text response. If you feel that your racial identity group is not adequately described, please select \"Any race not otherwise listed:\" and enter your racial identity group as a text response. - Other Pacific Islander - Text\n",
      "873 With what race(s) do you identify? Please check all that apply.\n",
      " \n",
      "\n",
      "If you would like to add a racial identity group that is not listed, please either select the text box(es) with which you most closely identify and add the racial identity group as a text response. If you feel that your racial identity group is not adequately described, please select \"Any race not otherwise listed:\" and enter your racial identity group as a text response. - Any race not otherwise listed: - Text\n",
      "874 About what was your personal gross (pre-tax) income in 2019?\n",
      "875 Has your employment status changed as a direct result of the current COVID-19 pandemic?\n",
      "876 Has your personal income been affected by the COVID-19 pandemic?\n",
      "877 How has your income decreased? - Selected Choice\n",
      "878 How has your income decreased? - Some other way: - Text\n",
      "879 How has your income increased? - Selected Choice\n",
      "880 How has your income increased? - Some other way: - Text\n",
      "881 What was your employment before the current COVID-19 pandemic?\n",
      " \n",
      "\n",
      "If you were working 32 hours per week or more you were considered fully employed.\n",
      "882 Do you expect your employment status to change within the next three months as a direct result of the current COVID-19 pandemic?\n",
      "883 How many children under the age of 5 are in your household?\n",
      "884 How many children older than 5 but younger than 12 are in your household?\n",
      "885 How many children older than 12 but younger than 18 are in your household?\n",
      "886 Do you speak a language other than English at home? - Selected Choice\n",
      "887 Do you speak a language other than English at home? - Yes, and it is: - Text\n",
      "888 How well do you speak English?\n",
      "889 In what kind of housing do you currently reside? - Selected Choice\n",
      "890 In what kind of housing do you currently reside? - Any type of housing not listed: - Text\n",
      "891 Which of the following delivery amenities are available to residents of your building?\n",
      " \n",
      "\n",
      "Please select all that apply. - Selected Choice\n",
      "892 Which of the following delivery amenities are available to residents of your building?\n",
      " \n",
      "\n",
      "Please select all that apply. - Some other delivery-related amenity - Text\n",
      "893 Which of the following delivery amenities are available to you at your residence?\n",
      " \n",
      "\n",
      "Please select all that apply. - Selected Choice\n",
      "894 Which of the following delivery amenities are available to you at your residence?\n",
      " \n",
      "\n",
      "Please select all that apply. - Some other delivery-related amenity - Text\n",
      "895 Which of the following do you use in your residence?\n",
      " \n",
      "\n",
      "Please select all that apply. - Selected Choice\n",
      "896 Which of the following do you use in your residence?\n",
      " \n",
      "\n",
      "Please select all that apply. - Some other smart-home amenity - Text\n",
      "897 Do you have reliable internet service at your home?\n",
      "898 Do you have a smartphone (i.e., a mobile phone that allows you to do more than make calls and send text messages, such as use downloaded applications such as internet browsers)?\n",
      "899 How many devices do you have access to in your home that you can use to browse the internet (e.g., desktop computer, laptop, tablet, smartphone, smart TV)?\n",
      "900 Since the start of the COVID-19 pandemic, have you or anyone in your household purchased or rented a car?\n",
      "901 Is it a long-term (i.e., greater than two weeks) or a short-term rental (i.e., for a few hours/days)?\n",
      "902 How many motor vehicles does your household currently own or lease?\n",
      "903 Do you have access to a vehicle to go shopping (i.e., your own, a friend's car, rental car, carsharing vehicle)?\n",
      "904 Do you have a driver's license?\n",
      "905 About what was your household gross (pre-tax) income in 2019?\n",
      "906 Has your household income been affected by the COVID-19 pandemic thus far?\n",
      "907 Have the Shelter in Place/Stay at Home orders increased your responsibilities in any of the following ways?\n",
      "\n",
      "\n",
      "\n",
      "Please select all that apply.\n",
      "908 You're a survey master! Please pick your $10 gift card and let us know where to send it before you go. \n",
      "\n",
      "Please choose from amongst the options below, available from https://www.giftbit.com/rewards/ (make sure that USA is selected in the top left).\n",
      "909 Please provide an address to which we can send your gift card!\n",
      " \n",
      "\n",
      "We can either distribute your gift card via email, or via physical mail. Due to COVID-19 delivery issues, physical distribution of gift cards is not possible until Shelter in Place orders have been lifted in Alameda County. Currently, the orders are in effect until at least the end of May 2020, and we cannot provide an estimate for the delivery of physical gift cards.\n",
      "\n",
      " \n",
      "\n",
      "Virtual gift cards will be distributed within three weeks of the study closing date, which is one- to two-weeks from when were invited to participate. \n",
      "\n",
      " \n",
      "\n",
      "If you do not provide a valid email or mailing address, we will be unable to distribute your gift card. - Email address\n",
      "910 Please provide an address to which we can send your gift card!\n",
      " \n",
      "\n",
      "We can either distribute your gift card via email, or via physical mail. Due to COVID-19 delivery issues, physical distribution of gift cards is not possible until Shelter in Place orders have been lifted in Alameda County. Currently, the orders are in effect until at least the end of May 2020, and we cannot provide an estimate for the delivery of physical gift cards.\n",
      "\n",
      " \n",
      "\n",
      "Virtual gift cards will be distributed within three weeks of the study closing date, which is one- to two-weeks from when were invited to participate. \n",
      "\n",
      " \n",
      "\n",
      "If you do not provide a valid email or mailing address, we will be unable to distribute your gift card. - Mailing address\n",
      "911 Are you willing to participate in future studies?\n",
      "\n",
      "\n",
      "\n",
      "If you are willing to participate in future studies (e.g., surveys, interviews, or focus groups) related to shopping and deliveries, you may be provided a link by which to complete additional forms and researchers may contact you regarding future participation. Future studies may include incentives (e.g., gift cards, promotional discounts) for participation.\n",
      " \n",
      "\n",
      "At this time, participation in future panel phases will make your household eligible to receive one $150 gift card during each panel phase. Additionally, If you are contacted about participating in phone, teleconference, or video interviews, you will receive one $25 gift card per interview.\n",
      "912 If you have any feedback on this survey, please provide it below.\n",
      "\n",
      "\n",
      "\n",
      "Were any questions unclear? Were certain questions annoying to answer? Did you have to look somewhere unexpected to be able to answer any questions?\n",
      " \n",
      "\n",
      "Be advised that your responses will be read by a real human being, so please try to keep your feedback as constructive as possible.\n",
      "913 Random ID\n",
      "914 ResponseID\n",
      "915 DeviceIdentifier\n"
     ]
    }
   ],
   "source": [
    "for i in range(len(sacog.columns)):\n",
    "    print(i, sacog.columns[i])"
   ]
  },
  {
   "cell_type": "markdown",
   "metadata": {},
   "source": [
    "Most respondents' IP addresses pinged from California and specifically the Bay Area, but other respondents were located in other parts of the country (VPNs, just away from home, etc.)"
   ]
  },
  {
   "cell_type": "code",
   "execution_count": 7,
   "metadata": {},
   "outputs": [
    {
     "data": {
      "text/html": [
       "<div>\n",
       "<style scoped>\n",
       "    .dataframe tbody tr th:only-of-type {\n",
       "        vertical-align: middle;\n",
       "    }\n",
       "\n",
       "    .dataframe tbody tr th {\n",
       "        vertical-align: top;\n",
       "    }\n",
       "\n",
       "    .dataframe thead th {\n",
       "        text-align: right;\n",
       "    }\n",
       "</style>\n",
       "<table border=\"1\" class=\"dataframe\">\n",
       "  <thead>\n",
       "    <tr style=\"text-align: right;\">\n",
       "      <th></th>\n",
       "      <th>Location Latitude</th>\n",
       "      <th>Location Longitude</th>\n",
       "    </tr>\n",
       "  </thead>\n",
       "  <tbody>\n",
       "    <tr>\n",
       "      <th>0</th>\n",
       "      <td>38.482</td>\n",
       "      <td>-121.402</td>\n",
       "    </tr>\n",
       "    <tr>\n",
       "      <th>1</th>\n",
       "      <td>40.876</td>\n",
       "      <td>-124.076</td>\n",
       "    </tr>\n",
       "    <tr>\n",
       "      <th>2</th>\n",
       "      <td>38.566</td>\n",
       "      <td>-121.553</td>\n",
       "    </tr>\n",
       "    <tr>\n",
       "      <th>3</th>\n",
       "      <td>38.661</td>\n",
       "      <td>-121.264</td>\n",
       "    </tr>\n",
       "    <tr>\n",
       "      <th>4</th>\n",
       "      <td>38.545</td>\n",
       "      <td>-121.745</td>\n",
       "    </tr>\n",
       "    <tr>\n",
       "      <th>...</th>\n",
       "      <td>...</td>\n",
       "      <td>...</td>\n",
       "    </tr>\n",
       "    <tr>\n",
       "      <th>322</th>\n",
       "      <td>38.482</td>\n",
       "      <td>-121.402</td>\n",
       "    </tr>\n",
       "    <tr>\n",
       "      <th>323</th>\n",
       "      <td>38.641</td>\n",
       "      <td>-121.511</td>\n",
       "    </tr>\n",
       "    <tr>\n",
       "      <th>324</th>\n",
       "      <td>38.697</td>\n",
       "      <td>-121.313</td>\n",
       "    </tr>\n",
       "    <tr>\n",
       "      <th>325</th>\n",
       "      <td>38.482</td>\n",
       "      <td>-121.402</td>\n",
       "    </tr>\n",
       "    <tr>\n",
       "      <th>326</th>\n",
       "      <td>38.742</td>\n",
       "      <td>-121.195</td>\n",
       "    </tr>\n",
       "  </tbody>\n",
       "</table>\n",
       "<p>327 rows × 2 columns</p>\n",
       "</div>"
      ],
      "text/plain": [
       "     Location Latitude  Location Longitude\n",
       "0               38.482            -121.402\n",
       "1               40.876            -124.076\n",
       "2               38.566            -121.553\n",
       "3               38.661            -121.264\n",
       "4               38.545            -121.745\n",
       "..                 ...                 ...\n",
       "322             38.482            -121.402\n",
       "323             38.641            -121.511\n",
       "324             38.697            -121.313\n",
       "325             38.482            -121.402\n",
       "326             38.742            -121.195\n",
       "\n",
       "[327 rows x 2 columns]"
      ]
     },
     "execution_count": 7,
     "metadata": {},
     "output_type": "execute_result"
    }
   ],
   "source": [
    "sacog[['Location Latitude', 'Location Longitude']]"
   ]
  },
  {
   "cell_type": "code",
   "execution_count": 8,
   "metadata": {},
   "outputs": [
    {
     "data": {
      "image/png": "[encoded data removed]",
      "text/plain": [
       "<Figure size 720x432 with 1 Axes>"
      ]
     },
     "metadata": {
      "needs_background": "light"
     },
     "output_type": "display_data"
    }
   ],
   "source": [
    "fig = plt.figure(figsize=(10,6))\n",
    "ax = plt.subplot(111)\n",
    "ax = sns.scatterplot(x = 'Location Longitude', y = 'Location Latitude', data = sacog, ax = ax)\n",
    "#ax.set_ylabel('Count');"
   ]
  },
  {
   "cell_type": "code",
   "execution_count": 9,
   "metadata": {},
   "outputs": [
    {
     "data": {
      "image/png": "[encoded data removed]",
      "text/plain": [
       "<Figure size 720x432 with 1 Axes>"
      ]
     },
     "metadata": {
      "needs_background": "light"
     },
     "output_type": "display_data"
    }
   ],
   "source": [
    "fig = plt.figure(figsize=(10,6))\n",
    "ax = plt.subplot(111)\n",
    "ax = sns.countplot(sacog['What is your age group?'], order = sorted(sacog['What is your age group?'].unique()))\n",
    "#ax.set_ylabel('Count');"
   ]
  },
  {
   "cell_type": "code",
   "execution_count": 10,
   "metadata": {},
   "outputs": [
    {
     "data": {
      "text/plain": [
       "1.0"
      ]
     },
     "execution_count": 10,
     "metadata": {},
     "output_type": "execute_result"
    }
   ],
   "source": [
    "np.mean(sacog['In what county do you currently reside?'].notna())"
   ]
  },
  {
   "cell_type": "code",
   "execution_count": 11,
   "metadata": {},
   "outputs": [
    {
     "data": {
      "image/png": "[encoded data removed]",
      "text/plain": [
       "<Figure size 720x432 with 1 Axes>"
      ]
     },
     "metadata": {
      "needs_background": "light"
     },
     "output_type": "display_data"
    }
   ],
   "source": [
    "fig = plt.figure(figsize=(10,6))\n",
    "ax = plt.subplot(111)\n",
    "ax = sns.countplot(sacog['In what county do you currently reside?'], order = sorted(sacog['In what county do you currently reside?'].unique()))\n",
    "#ax.set_ylabel('Count');"
   ]
  },
  {
   "cell_type": "code",
   "execution_count": 12,
   "metadata": {},
   "outputs": [
    {
     "data": {
      "text/plain": [
       "Humboldt    1\n",
       "Name: Please write the name of your county of residence below., dtype: int64"
      ]
     },
     "execution_count": 12,
     "metadata": {},
     "output_type": "execute_result"
    }
   ],
   "source": [
    "sacog['Please write the name of your county of residence below.'].value_counts()"
   ]
  },
  {
   "cell_type": "markdown",
   "metadata": {},
   "source": [
    "Not every respondent provided his or her ZIP code. "
   ]
  },
  {
   "cell_type": "code",
   "execution_count": 13,
   "metadata": {},
   "outputs": [
    {
     "data": {
      "text/html": [
       "<div>\n",
       "<style scoped>\n",
       "    .dataframe tbody tr th:only-of-type {\n",
       "        vertical-align: middle;\n",
       "    }\n",
       "\n",
       "    .dataframe tbody tr th {\n",
       "        vertical-align: top;\n",
       "    }\n",
       "\n",
       "    .dataframe thead th {\n",
       "        text-align: right;\n",
       "    }\n",
       "</style>\n",
       "<table border=\"1\" class=\"dataframe\">\n",
       "  <thead>\n",
       "    <tr style=\"text-align: right;\">\n",
       "      <th></th>\n",
       "      <th>Start Date</th>\n",
       "      <th>End Date</th>\n",
       "      <th>Response Type</th>\n",
       "      <th>IP Address</th>\n",
       "      <th>Progress</th>\n",
       "      <th>Duration (in seconds)</th>\n",
       "      <th>Finished</th>\n",
       "      <th>Recorded Date</th>\n",
       "      <th>Response ID</th>\n",
       "      <th>Recipient Last Name</th>\n",
       "      <th>Recipient First Name</th>\n",
       "      <th>Recipient Email</th>\n",
       "      <th>External Data Reference</th>\n",
       "      <th>Location Latitude</th>\n",
       "      <th>Location Longitude</th>\n",
       "      <th>Distribution Channel</th>\n",
       "      <th>User Language</th>\n",
       "      <th>Q_RecaptchaScore</th>\n",
       "      <th>Participant Consent</th>\n",
       "      <th>What is your age group?</th>\n",
       "    </tr>\n",
       "  </thead>\n",
       "  <tbody>\n",
       "    <tr>\n",
       "      <th>0</th>\n",
       "      <td>2020-05-25 12:07:41</td>\n",
       "      <td>2020-05-25 12:40:19</td>\n",
       "      <td>IP Address</td>\n",
       "      <td>98.208.112.200</td>\n",
       "      <td>100</td>\n",
       "      <td>1957</td>\n",
       "      <td>True</td>\n",
       "      <td>2020-05-25 12:40:20.264</td>\n",
       "      <td>R_3HLKBXhTIWgpd5v</td>\n",
       "      <td>NaN</td>\n",
       "      <td>NaN</td>\n",
       "      <td>baktavarbaba@gmail.com</td>\n",
       "      <td>NaN</td>\n",
       "      <td>38.482</td>\n",
       "      <td>-121.402</td>\n",
       "      <td>email</td>\n",
       "      <td>EN</td>\n",
       "      <td>0.9</td>\n",
       "      <td>I agree to participate.</td>\n",
       "      <td>25 - 34</td>\n",
       "    </tr>\n",
       "    <tr>\n",
       "      <th>1</th>\n",
       "      <td>2020-05-25 12:10:20</td>\n",
       "      <td>2020-05-25 12:40:47</td>\n",
       "      <td>IP Address</td>\n",
       "      <td>75.111.25.35</td>\n",
       "      <td>100</td>\n",
       "      <td>1826</td>\n",
       "      <td>True</td>\n",
       "      <td>2020-05-25 12:40:48.693</td>\n",
       "      <td>R_2dgBf5xYdf4pJDs</td>\n",
       "      <td>NaN</td>\n",
       "      <td>NaN</td>\n",
       "      <td>vmwales@gmail.com</td>\n",
       "      <td>NaN</td>\n",
       "      <td>40.876</td>\n",
       "      <td>-124.076</td>\n",
       "      <td>email</td>\n",
       "      <td>EN</td>\n",
       "      <td>0.9</td>\n",
       "      <td>I agree to participate.</td>\n",
       "      <td>55 - 59</td>\n",
       "    </tr>\n",
       "    <tr>\n",
       "      <th>2</th>\n",
       "      <td>2020-05-25 12:15:34</td>\n",
       "      <td>2020-05-25 12:43:10</td>\n",
       "      <td>IP Address</td>\n",
       "      <td>107.138.66.44</td>\n",
       "      <td>100</td>\n",
       "      <td>1655</td>\n",
       "      <td>True</td>\n",
       "      <td>2020-05-25 12:43:11.046</td>\n",
       "      <td>R_wXWh8mxuoPtnAWt</td>\n",
       "      <td>NaN</td>\n",
       "      <td>NaN</td>\n",
       "      <td>Texastoads@sbcglobal.net</td>\n",
       "      <td>NaN</td>\n",
       "      <td>38.566</td>\n",
       "      <td>-121.553</td>\n",
       "      <td>email</td>\n",
       "      <td>EN</td>\n",
       "      <td>0.9</td>\n",
       "      <td>I agree to participate.</td>\n",
       "      <td>55 - 59</td>\n",
       "    </tr>\n",
       "    <tr>\n",
       "      <th>3</th>\n",
       "      <td>2020-05-25 12:13:15</td>\n",
       "      <td>2020-05-25 12:47:12</td>\n",
       "      <td>IP Address</td>\n",
       "      <td>23.114.218.168</td>\n",
       "      <td>100</td>\n",
       "      <td>2036</td>\n",
       "      <td>True</td>\n",
       "      <td>2020-05-25 12:47:13.365</td>\n",
       "      <td>R_2TNwp9PZ6T9eKdl</td>\n",
       "      <td>NaN</td>\n",
       "      <td>NaN</td>\n",
       "      <td>camquad@sbcglobal.net</td>\n",
       "      <td>NaN</td>\n",
       "      <td>38.661</td>\n",
       "      <td>-121.264</td>\n",
       "      <td>email</td>\n",
       "      <td>EN</td>\n",
       "      <td>0.9</td>\n",
       "      <td>I agree to participate.</td>\n",
       "      <td>45 - 54</td>\n",
       "    </tr>\n",
       "    <tr>\n",
       "      <th>4</th>\n",
       "      <td>2020-05-25 12:16:28</td>\n",
       "      <td>2020-05-25 12:47:25</td>\n",
       "      <td>IP Address</td>\n",
       "      <td>73.2.34.66</td>\n",
       "      <td>100</td>\n",
       "      <td>1856</td>\n",
       "      <td>True</td>\n",
       "      <td>2020-05-25 12:47:26.445</td>\n",
       "      <td>R_1ouIsItTUyGkZBh</td>\n",
       "      <td>NaN</td>\n",
       "      <td>NaN</td>\n",
       "      <td>paulajavery@gmail.com</td>\n",
       "      <td>NaN</td>\n",
       "      <td>38.545</td>\n",
       "      <td>-121.745</td>\n",
       "      <td>email</td>\n",
       "      <td>EN</td>\n",
       "      <td>0.9</td>\n",
       "      <td>I agree to participate.</td>\n",
       "      <td>25 - 34</td>\n",
       "    </tr>\n",
       "  </tbody>\n",
       "</table>\n",
       "</div>"
      ],
      "text/plain": [
       "           Start Date            End Date Response Type      IP Address  \\\n",
       "0 2020-05-25 12:07:41 2020-05-25 12:40:19    IP Address  98.208.112.200   \n",
       "1 2020-05-25 12:10:20 2020-05-25 12:40:47    IP Address    75.111.25.35   \n",
       "2 2020-05-25 12:15:34 2020-05-25 12:43:10    IP Address   107.138.66.44   \n",
       "3 2020-05-25 12:13:15 2020-05-25 12:47:12    IP Address  23.114.218.168   \n",
       "4 2020-05-25 12:16:28 2020-05-25 12:47:25    IP Address      73.2.34.66   \n",
       "\n",
       "   Progress  Duration (in seconds)  Finished           Recorded Date  \\\n",
       "0       100                   1957      True 2020-05-25 12:40:20.264   \n",
       "1       100                   1826      True 2020-05-25 12:40:48.693   \n",
       "2       100                   1655      True 2020-05-25 12:43:11.046   \n",
       "3       100                   2036      True 2020-05-25 12:47:13.365   \n",
       "4       100                   1856      True 2020-05-25 12:47:26.445   \n",
       "\n",
       "         Response ID  Recipient Last Name  Recipient First Name  \\\n",
       "0  R_3HLKBXhTIWgpd5v                  NaN                   NaN   \n",
       "1  R_2dgBf5xYdf4pJDs                  NaN                   NaN   \n",
       "2  R_wXWh8mxuoPtnAWt                  NaN                   NaN   \n",
       "3  R_2TNwp9PZ6T9eKdl                  NaN                   NaN   \n",
       "4  R_1ouIsItTUyGkZBh                  NaN                   NaN   \n",
       "\n",
       "            Recipient Email  External Data Reference  Location Latitude  \\\n",
       "0    baktavarbaba@gmail.com                      NaN             38.482   \n",
       "1         vmwales@gmail.com                      NaN             40.876   \n",
       "2  Texastoads@sbcglobal.net                      NaN             38.566   \n",
       "3     camquad@sbcglobal.net                      NaN             38.661   \n",
       "4     paulajavery@gmail.com                      NaN             38.545   \n",
       "\n",
       "   Location Longitude Distribution Channel User Language  Q_RecaptchaScore  \\\n",
       "0            -121.402                email            EN               0.9   \n",
       "1            -124.076                email            EN               0.9   \n",
       "2            -121.553                email            EN               0.9   \n",
       "3            -121.264                email            EN               0.9   \n",
       "4            -121.745                email            EN               0.9   \n",
       "\n",
       "       Participant Consent What is your age group?  \n",
       "0  I agree to participate.                 25 - 34  \n",
       "1  I agree to participate.                 55 - 59  \n",
       "2  I agree to participate.                 55 - 59  \n",
       "3  I agree to participate.                 45 - 54  \n",
       "4  I agree to participate.                 25 - 34  "
      ]
     },
     "execution_count": 13,
     "metadata": {},
     "output_type": "execute_result"
    }
   ],
   "source": [
    "recoded = sacog[sacog.columns[:20]].copy()\n",
    "recoded.head()"
   ]
  },
  {
   "cell_type": "code",
   "execution_count": 14,
   "metadata": {},
   "outputs": [
    {
     "data": {
      "text/plain": [
       "0      Sacramento\n",
       "1        Humboldt\n",
       "2            Yolo\n",
       "3      Sacramento\n",
       "4            Yolo\n",
       "          ...    \n",
       "322    Sacramento\n",
       "323    Sacramento\n",
       "324          Yolo\n",
       "325    Sacramento\n",
       "326        Placer\n",
       "Name: In what county do you currently reside?, Length: 327, dtype: object"
      ]
     },
     "execution_count": 14,
     "metadata": {},
     "output_type": "execute_result"
    }
   ],
   "source": [
    "counties = sacog[sacog.columns[20]].copy()\n",
    "counties[counties == 'Some other county'] = sacog[sacog.columns[21]][sacog[sacog.columns[21]].notna()]\n",
    "recoded['CountyofResidence'] = counties\n",
    "counties"
   ]
  },
  {
   "cell_type": "code",
   "execution_count": 15,
   "metadata": {},
   "outputs": [
    {
     "data": {
      "text/plain": [
       "0.9847094801223242"
      ]
     },
     "execution_count": 15,
     "metadata": {},
     "output_type": "execute_result"
    }
   ],
   "source": [
    "np.mean(sacog['What is the zip code of your household?'].notna())"
   ]
  },
  {
   "cell_type": "code",
   "execution_count": 16,
   "metadata": {},
   "outputs": [
    {
     "data": {
      "text/plain": [
       "What are the nearest cross streets to your current household? - Cross street 1    0.997\n",
       "What are the nearest cross streets to your current household? - Cross street 2    0.979\n",
       "dtype: float64"
      ]
     },
     "execution_count": 16,
     "metadata": {},
     "output_type": "execute_result"
    }
   ],
   "source": [
    "cross_streets = sacog.columns[23:25]\n",
    "np.mean(sacog[cross_streets].notna())"
   ]
  },
  {
   "cell_type": "code",
   "execution_count": 17,
   "metadata": {},
   "outputs": [
    {
     "data": {
      "text/html": [
       "<div>\n",
       "<style scoped>\n",
       "    .dataframe tbody tr th:only-of-type {\n",
       "        vertical-align: middle;\n",
       "    }\n",
       "\n",
       "    .dataframe tbody tr th {\n",
       "        vertical-align: top;\n",
       "    }\n",
       "\n",
       "    .dataframe thead th {\n",
       "        text-align: right;\n",
       "    }\n",
       "</style>\n",
       "<table border=\"1\" class=\"dataframe\">\n",
       "  <thead>\n",
       "    <tr style=\"text-align: right;\">\n",
       "      <th></th>\n",
       "      <th>What are the nearest cross streets to your current household? - Cross street 1</th>\n",
       "      <th>What are the nearest cross streets to your current household? - Cross street 2</th>\n",
       "    </tr>\n",
       "  </thead>\n",
       "  <tbody>\n",
       "    <tr>\n",
       "      <th>0</th>\n",
       "      <td>Ek Grove Blvd</td>\n",
       "      <td>Laguna Blvd</td>\n",
       "    </tr>\n",
       "    <tr>\n",
       "      <th>1</th>\n",
       "      <td>Spring</td>\n",
       "      <td>Orchard</td>\n",
       "    </tr>\n",
       "    <tr>\n",
       "      <th>2</th>\n",
       "      <td>Jefferson Blvd</td>\n",
       "      <td>Sacramento Ave</td>\n",
       "    </tr>\n",
       "    <tr>\n",
       "      <th>3</th>\n",
       "      <td>Sunrise</td>\n",
       "      <td>Madison</td>\n",
       "    </tr>\n",
       "    <tr>\n",
       "      <th>4</th>\n",
       "      <td>Gazelle Pl</td>\n",
       "      <td>Quail St</td>\n",
       "    </tr>\n",
       "    <tr>\n",
       "      <th>...</th>\n",
       "      <td>...</td>\n",
       "      <td>...</td>\n",
       "    </tr>\n",
       "    <tr>\n",
       "      <th>322</th>\n",
       "      <td>Sheldon Road</td>\n",
       "      <td>Bruceville Road</td>\n",
       "    </tr>\n",
       "    <tr>\n",
       "      <th>323</th>\n",
       "      <td>New Hampshire Way</td>\n",
       "      <td>Sherington Way</td>\n",
       "    </tr>\n",
       "    <tr>\n",
       "      <th>324</th>\n",
       "      <td>Locks</td>\n",
       "      <td>Jefferson</td>\n",
       "    </tr>\n",
       "    <tr>\n",
       "      <th>325</th>\n",
       "      <td>Fowler Ave</td>\n",
       "      <td>63rd St</td>\n",
       "    </tr>\n",
       "    <tr>\n",
       "      <th>326</th>\n",
       "      <td>Indian Hill Road</td>\n",
       "      <td>Auburn-Folsom Blvd</td>\n",
       "    </tr>\n",
       "  </tbody>\n",
       "</table>\n",
       "<p>327 rows × 2 columns</p>\n",
       "</div>"
      ],
      "text/plain": [
       "    What are the nearest cross streets to your current household? - Cross street 1  \\\n",
       "0                                        Ek Grove Blvd                               \n",
       "1                                               Spring                               \n",
       "2                                      Jefferson Blvd                                \n",
       "3                                              Sunrise                               \n",
       "4                                           Gazelle Pl                               \n",
       "..                                                 ...                               \n",
       "322                                       Sheldon Road                               \n",
       "323                                  New Hampshire Way                               \n",
       "324                                              Locks                               \n",
       "325                                         Fowler Ave                               \n",
       "326                                   Indian Hill Road                               \n",
       "\n",
       "    What are the nearest cross streets to your current household? - Cross street 2  \n",
       "0                                          Laguna Blvd                              \n",
       "1                                              Orchard                              \n",
       "2                                      Sacramento Ave                               \n",
       "3                                              Madison                              \n",
       "4                                             Quail St                              \n",
       "..                                                 ...                              \n",
       "322                                    Bruceville Road                              \n",
       "323                                     Sherington Way                              \n",
       "324                                          Jefferson                              \n",
       "325                                            63rd St                              \n",
       "326                                 Auburn-Folsom Blvd                              \n",
       "\n",
       "[327 rows x 2 columns]"
      ]
     },
     "execution_count": 17,
     "metadata": {},
     "output_type": "execute_result"
    }
   ],
   "source": [
    "sacog[cross_streets]"
   ]
  },
  {
   "cell_type": "markdown",
   "metadata": {},
   "source": [
    "Given the information provided, we can geocode 99% of respondents' homes down to the nearest intersection."
   ]
  },
  {
   "cell_type": "markdown",
   "metadata": {},
   "source": [
    "## Part 2 - Trips"
   ]
  },
  {
   "cell_type": "code",
   "execution_count": 18,
   "metadata": {},
   "outputs": [
    {
     "data": {
      "text/html": [
       "<div>\n",
       "<style scoped>\n",
       "    .dataframe tbody tr th:only-of-type {\n",
       "        vertical-align: middle;\n",
       "    }\n",
       "\n",
       "    .dataframe tbody tr th {\n",
       "        vertical-align: top;\n",
       "    }\n",
       "\n",
       "    .dataframe thead th {\n",
       "        text-align: right;\n",
       "    }\n",
       "</style>\n",
       "<table border=\"1\" class=\"dataframe\">\n",
       "  <thead>\n",
       "    <tr style=\"text-align: right;\">\n",
       "      <th></th>\n",
       "      <th>Start Date</th>\n",
       "      <th>End Date</th>\n",
       "      <th>Response Type</th>\n",
       "      <th>IP Address</th>\n",
       "      <th>Progress</th>\n",
       "      <th>Duration (in seconds)</th>\n",
       "      <th>Finished</th>\n",
       "      <th>Recorded Date</th>\n",
       "      <th>Response ID</th>\n",
       "      <th>Recipient Last Name</th>\n",
       "      <th>...</th>\n",
       "      <th>Location Longitude</th>\n",
       "      <th>Distribution Channel</th>\n",
       "      <th>User Language</th>\n",
       "      <th>Q_RecaptchaScore</th>\n",
       "      <th>Participant Consent</th>\n",
       "      <th>What is your age group?</th>\n",
       "      <th>CountyofResidence</th>\n",
       "      <th>Residence-ZipCode</th>\n",
       "      <th>Residence-CrossStreet1</th>\n",
       "      <th>Residence-CrossStreet2</th>\n",
       "    </tr>\n",
       "  </thead>\n",
       "  <tbody>\n",
       "    <tr>\n",
       "      <th>0</th>\n",
       "      <td>2020-05-25 12:07:41</td>\n",
       "      <td>2020-05-25 12:40:19</td>\n",
       "      <td>IP Address</td>\n",
       "      <td>98.208.112.200</td>\n",
       "      <td>100</td>\n",
       "      <td>1957</td>\n",
       "      <td>True</td>\n",
       "      <td>2020-05-25 12:40:20.264</td>\n",
       "      <td>R_3HLKBXhTIWgpd5v</td>\n",
       "      <td>NaN</td>\n",
       "      <td>...</td>\n",
       "      <td>-121.402</td>\n",
       "      <td>email</td>\n",
       "      <td>EN</td>\n",
       "      <td>0.9</td>\n",
       "      <td>I agree to participate.</td>\n",
       "      <td>25 - 34</td>\n",
       "      <td>Sacramento</td>\n",
       "      <td>95758</td>\n",
       "      <td>Ek Grove Blvd</td>\n",
       "      <td>Laguna Blvd</td>\n",
       "    </tr>\n",
       "    <tr>\n",
       "      <th>1</th>\n",
       "      <td>2020-05-25 12:10:20</td>\n",
       "      <td>2020-05-25 12:40:47</td>\n",
       "      <td>IP Address</td>\n",
       "      <td>75.111.25.35</td>\n",
       "      <td>100</td>\n",
       "      <td>1826</td>\n",
       "      <td>True</td>\n",
       "      <td>2020-05-25 12:40:48.693</td>\n",
       "      <td>R_2dgBf5xYdf4pJDs</td>\n",
       "      <td>NaN</td>\n",
       "      <td>...</td>\n",
       "      <td>-124.076</td>\n",
       "      <td>email</td>\n",
       "      <td>EN</td>\n",
       "      <td>0.9</td>\n",
       "      <td>I agree to participate.</td>\n",
       "      <td>55 - 59</td>\n",
       "      <td>Humboldt</td>\n",
       "      <td>95537</td>\n",
       "      <td>Spring</td>\n",
       "      <td>Orchard</td>\n",
       "    </tr>\n",
       "    <tr>\n",
       "      <th>2</th>\n",
       "      <td>2020-05-25 12:15:34</td>\n",
       "      <td>2020-05-25 12:43:10</td>\n",
       "      <td>IP Address</td>\n",
       "      <td>107.138.66.44</td>\n",
       "      <td>100</td>\n",
       "      <td>1655</td>\n",
       "      <td>True</td>\n",
       "      <td>2020-05-25 12:43:11.046</td>\n",
       "      <td>R_wXWh8mxuoPtnAWt</td>\n",
       "      <td>NaN</td>\n",
       "      <td>...</td>\n",
       "      <td>-121.553</td>\n",
       "      <td>email</td>\n",
       "      <td>EN</td>\n",
       "      <td>0.9</td>\n",
       "      <td>I agree to participate.</td>\n",
       "      <td>55 - 59</td>\n",
       "      <td>Yolo</td>\n",
       "      <td>95605</td>\n",
       "      <td>Jefferson Blvd</td>\n",
       "      <td>Sacramento Ave</td>\n",
       "    </tr>\n",
       "    <tr>\n",
       "      <th>3</th>\n",
       "      <td>2020-05-25 12:13:15</td>\n",
       "      <td>2020-05-25 12:47:12</td>\n",
       "      <td>IP Address</td>\n",
       "      <td>23.114.218.168</td>\n",
       "      <td>100</td>\n",
       "      <td>2036</td>\n",
       "      <td>True</td>\n",
       "      <td>2020-05-25 12:47:13.365</td>\n",
       "      <td>R_2TNwp9PZ6T9eKdl</td>\n",
       "      <td>NaN</td>\n",
       "      <td>...</td>\n",
       "      <td>-121.264</td>\n",
       "      <td>email</td>\n",
       "      <td>EN</td>\n",
       "      <td>0.9</td>\n",
       "      <td>I agree to participate.</td>\n",
       "      <td>45 - 54</td>\n",
       "      <td>Sacramento</td>\n",
       "      <td>95628</td>\n",
       "      <td>Sunrise</td>\n",
       "      <td>Madison</td>\n",
       "    </tr>\n",
       "    <tr>\n",
       "      <th>4</th>\n",
       "      <td>2020-05-25 12:16:28</td>\n",
       "      <td>2020-05-25 12:47:25</td>\n",
       "      <td>IP Address</td>\n",
       "      <td>73.2.34.66</td>\n",
       "      <td>100</td>\n",
       "      <td>1856</td>\n",
       "      <td>True</td>\n",
       "      <td>2020-05-25 12:47:26.445</td>\n",
       "      <td>R_1ouIsItTUyGkZBh</td>\n",
       "      <td>NaN</td>\n",
       "      <td>...</td>\n",
       "      <td>-121.745</td>\n",
       "      <td>email</td>\n",
       "      <td>EN</td>\n",
       "      <td>0.9</td>\n",
       "      <td>I agree to participate.</td>\n",
       "      <td>25 - 34</td>\n",
       "      <td>Yolo</td>\n",
       "      <td>95616</td>\n",
       "      <td>Gazelle Pl</td>\n",
       "      <td>Quail St</td>\n",
       "    </tr>\n",
       "  </tbody>\n",
       "</table>\n",
       "<p>5 rows × 24 columns</p>\n",
       "</div>"
      ],
      "text/plain": [
       "           Start Date            End Date Response Type      IP Address  \\\n",
       "0 2020-05-25 12:07:41 2020-05-25 12:40:19    IP Address  98.208.112.200   \n",
       "1 2020-05-25 12:10:20 2020-05-25 12:40:47    IP Address    75.111.25.35   \n",
       "2 2020-05-25 12:15:34 2020-05-25 12:43:10    IP Address   107.138.66.44   \n",
       "3 2020-05-25 12:13:15 2020-05-25 12:47:12    IP Address  23.114.218.168   \n",
       "4 2020-05-25 12:16:28 2020-05-25 12:47:25    IP Address      73.2.34.66   \n",
       "\n",
       "   Progress  Duration (in seconds)  Finished           Recorded Date  \\\n",
       "0       100                   1957      True 2020-05-25 12:40:20.264   \n",
       "1       100                   1826      True 2020-05-25 12:40:48.693   \n",
       "2       100                   1655      True 2020-05-25 12:43:11.046   \n",
       "3       100                   2036      True 2020-05-25 12:47:13.365   \n",
       "4       100                   1856      True 2020-05-25 12:47:26.445   \n",
       "\n",
       "         Response ID  Recipient Last Name  ...  Location Longitude  \\\n",
       "0  R_3HLKBXhTIWgpd5v                  NaN  ...            -121.402   \n",
       "1  R_2dgBf5xYdf4pJDs                  NaN  ...            -124.076   \n",
       "2  R_wXWh8mxuoPtnAWt                  NaN  ...            -121.553   \n",
       "3  R_2TNwp9PZ6T9eKdl                  NaN  ...            -121.264   \n",
       "4  R_1ouIsItTUyGkZBh                  NaN  ...            -121.745   \n",
       "\n",
       "  Distribution Channel  User Language  Q_RecaptchaScore  \\\n",
       "0                email             EN               0.9   \n",
       "1                email             EN               0.9   \n",
       "2                email             EN               0.9   \n",
       "3                email             EN               0.9   \n",
       "4                email             EN               0.9   \n",
       "\n",
       "       Participant Consent What is your age group? CountyofResidence  \\\n",
       "0  I agree to participate.                 25 - 34        Sacramento   \n",
       "1  I agree to participate.                 55 - 59          Humboldt   \n",
       "2  I agree to participate.                 55 - 59              Yolo   \n",
       "3  I agree to participate.                 45 - 54        Sacramento   \n",
       "4  I agree to participate.                 25 - 34              Yolo   \n",
       "\n",
       "   Residence-ZipCode Residence-CrossStreet1 Residence-CrossStreet2  \n",
       "0              95758          Ek Grove Blvd            Laguna Blvd  \n",
       "1              95537                 Spring                Orchard  \n",
       "2              95605        Jefferson Blvd         Sacramento Ave   \n",
       "3              95628                Sunrise                Madison  \n",
       "4              95616             Gazelle Pl               Quail St  \n",
       "\n",
       "[5 rows x 24 columns]"
      ]
     },
     "execution_count": 18,
     "metadata": {},
     "output_type": "execute_result"
    }
   ],
   "source": [
    "recoded['Residence-ZipCode'] = sacog[sacog.columns[22]].fillna(-9998).astype(int)\n",
    "recoded[['Residence-CrossStreet1','Residence-CrossStreet2']] = sacog[sacog.columns[23:25]].fillna('No Response')\n",
    "recoded.head()"
   ]
  },
  {
   "cell_type": "code",
   "execution_count": 19,
   "metadata": {},
   "outputs": [
    {
     "data": {
      "text/plain": [
       "0      Seven continuous days, via rMoves mobile appli...\n",
       "1                                       I don't remember\n",
       "2                                   One day only, online\n",
       "3      Seven continuous days, via rMoves mobile appli...\n",
       "4                                       I don't remember\n",
       "                             ...                        \n",
       "322    Seven continuous days, via rMoves mobile appli...\n",
       "323    Seven continuous days, via rMoves mobile appli...\n",
       "324                                                  NaN\n",
       "325    Seven continuous days, via rMoves mobile appli...\n",
       "326                                     I don't remember\n",
       "Name: How did you fill out the 2018 Sacramento Area Council of Governments (SACOG) Household travel survey in May, 2018? - Selected Choice, Length: 327, dtype: object"
      ]
     },
     "execution_count": 19,
     "metadata": {},
     "output_type": "execute_result"
    }
   ],
   "source": [
    "column = sacog[sacog.columns[25]].copy()\n",
    "column[column == 'Something else'] = sacog[sacog.columns[26]][column == 'Something else']\n",
    "recoded['SACOG2018Method'] = column.fillna('No Response')\n",
    "column"
   ]
  },
  {
   "cell_type": "code",
   "execution_count": 20,
   "metadata": {},
   "outputs": [],
   "source": [
    "recoded['LiveWithHouseholdMember'] = sacog[sacog.columns[27]].copy()\n",
    "recoded['MovedSince2018'] = sacog[sacog.columns[28]].copy()"
   ]
  },
  {
   "cell_type": "code",
   "execution_count": 21,
   "metadata": {},
   "outputs": [
    {
     "data": {
      "text/plain": [
       "Sacramento    36\n",
       "Yolo           9\n",
       "Placer         1\n",
       "El Dorado      1\n",
       "Name: In May 2018, in what county did you reside?, dtype: int64"
      ]
     },
     "execution_count": 21,
     "metadata": {},
     "output_type": "execute_result"
    }
   ],
   "source": [
    "sacog[sacog.columns[29]].copy().value_counts()"
   ]
  },
  {
   "cell_type": "code",
   "execution_count": 22,
   "metadata": {},
   "outputs": [
    {
     "data": {
      "text/plain": [
       "0             NaN\n",
       "1      Sacramento\n",
       "2             NaN\n",
       "3             NaN\n",
       "4            Yolo\n",
       "          ...    \n",
       "322           NaN\n",
       "323           NaN\n",
       "324    Sacramento\n",
       "325           NaN\n",
       "326           NaN\n",
       "Name: In May 2018, in what county did you reside?, Length: 327, dtype: object"
      ]
     },
     "execution_count": 22,
     "metadata": {},
     "output_type": "execute_result"
    }
   ],
   "source": [
    "column = sacog[sacog.columns[29]].copy()\n",
    "column[column == 'Some other county'] = sacog[sacog.columns[30]][column == 'Some other county']\n",
    "recoded['County2018'] = column.fillna('No Response')\n",
    "column"
   ]
  },
  {
   "cell_type": "code",
   "execution_count": 23,
   "metadata": {},
   "outputs": [],
   "source": [
    "binary_dict = {'Yes':1,'No':0}"
   ]
  },
  {
   "cell_type": "code",
   "execution_count": 24,
   "metadata": {},
   "outputs": [],
   "source": [
    "recoded['Recontacted'] = sacog[sacog.columns[31]].replace(binary_dict).fillna(-9998)\n",
    "recoded['OtherFollowups'] = sacog[sacog.columns[32]].replace(binary_dict).fillna(-9998)"
   ]
  },
  {
   "cell_type": "code",
   "execution_count": 25,
   "metadata": {},
   "outputs": [
    {
     "data": {
      "text/plain": [
       "No    50\n",
       "Name: Are you currently participating in any followup studies, other than this one?, dtype: int64"
      ]
     },
     "execution_count": 25,
     "metadata": {},
     "output_type": "execute_result"
    }
   ],
   "source": [
    "sacog[sacog.columns[32]].copy().value_counts()"
   ]
  },
  {
   "cell_type": "code",
   "execution_count": 26,
   "metadata": {},
   "outputs": [
    {
     "data": {
      "text/plain": [
       "0                              9 am to 5 pm (or similar)\n",
       "1      I did not work from Sunday, May 17th through S...\n",
       "2      I did not work from Sunday, May 17th through S...\n",
       "3                              9 am to 5 pm (or similar)\n",
       "4                              9 am to 5 pm (or similar)\n",
       "                             ...                        \n",
       "322                            9 am to 5 pm (or similar)\n",
       "323                            9 am to 5 pm (or similar)\n",
       "324                            9 am to 5 pm (or similar)\n",
       "325    I did not work from Sunday, May 17th through S...\n",
       "326                            9 am to 5 pm (or similar)\n",
       "Name: From Sunday, May 17th through Saturday, May 23rd, approximately what were your working hours? - Selected Choice, Length: 327, dtype: object"
      ]
     },
     "execution_count": 26,
     "metadata": {},
     "output_type": "execute_result"
    }
   ],
   "source": [
    "i = 33\n",
    "string = 'Some other work schedule:'\n",
    "column = sacog[sacog.columns[i]].copy()\n",
    "column[column == string] = sacog[sacog.columns[i+1]][column == string]\n",
    "recoded['May-WorkingHours'] = column.fillna('No Response')\n",
    "column"
   ]
  },
  {
   "cell_type": "code",
   "execution_count": 27,
   "metadata": {},
   "outputs": [
    {
     "data": {
      "text/plain": [
       "0      5\n",
       "1     -1\n",
       "2     -1\n",
       "3      0\n",
       "4      5\n",
       "      ..\n",
       "322    5\n",
       "323    4\n",
       "324    5\n",
       "325   -1\n",
       "326    4\n",
       "Name: May-TelecommutingDays, Length: 327, dtype: int64"
      ]
     },
     "execution_count": 27,
     "metadata": {},
     "output_type": "execute_result"
    }
   ],
   "source": [
    "rename_dict = {'Zero':0, 'One':1, 'Two':2, 'Three':3, 'Four':4, 'Five':5, 'More than five':6, 'I did not work from Sunday, May 17th through Saturday, May 23rd':-1}\n",
    "recoded['May-TelecommutingDays'] = sacog[sacog.columns[35]].replace(rename_dict)\n",
    "recoded['May-TelecommutingDays']"
   ]
  },
  {
   "cell_type": "code",
   "execution_count": 28,
   "metadata": {},
   "outputs": [
    {
     "data": {
      "text/plain": [
       "-1    98\n",
       " 5    95\n",
       " 0    55\n",
       " 6    28\n",
       " 4    24\n",
       " 3    11\n",
       " 2    10\n",
       " 1     6\n",
       "Name: May-TelecommutingDays, dtype: int64"
      ]
     },
     "execution_count": 28,
     "metadata": {},
     "output_type": "execute_result"
    }
   ],
   "source": [
    "recoded['May-TelecommutingDays'].value_counts()"
   ]
  },
  {
   "cell_type": "code",
   "execution_count": 29,
   "metadata": {},
   "outputs": [],
   "source": [
    "locations_dict = {'Commuting to work/school or other primary destination':'Commuting','Traveling to medical appointments':'Medical','Going to the gym':'Gym','Taking my children to school':'ToSchool','Taking my children home from school':'FromSchool','Going to a bar':'Bar','Seeing a movie in theaters':'MovieTheater','Visiting friends':'Friends','Visiting family':'Family','Some other trip type':'Other'}"
   ]
  },
  {
   "cell_type": "code",
   "execution_count": 30,
   "metadata": {},
   "outputs": [],
   "source": [
    "def scrape_trips(i):\n",
    "    series = sacog.iloc[:,i]\n",
    "    location = series.name.split(' - ')[-1]\n",
    "    name = locations_dict[location]\n",
    "    no_trips = sacog.iloc[:,i+11]\n",
    "    dont_remember = sacog.iloc[:,i+22]\n",
    "    df = series.str.split(' ',expand = True)\n",
    "    column = df[0].replace('More',11)\n",
    "    column[no_trips == 1] = 0\n",
    "    column[dont_remember == 1] = 998\n",
    "    column = column.fillna(-9998)\n",
    "    return 'May-Trips-'+name, column.astype(int)"
   ]
  },
  {
   "cell_type": "code",
   "execution_count": 31,
   "metadata": {},
   "outputs": [
    {
     "data": {
      "text/plain": [
       "0      NaN\n",
       "1      1.0\n",
       "2      1.0\n",
       "3      NaN\n",
       "4      1.0\n",
       "      ... \n",
       "322    1.0\n",
       "323    1.0\n",
       "324    1.0\n",
       "325    1.0\n",
       "326    NaN\n",
       "Name: From Sunday, May 17th through Saturday, May 23rd, about how many trips did you make (i.e., please... - I did not make any of these trips - Commuting to work/school or other primary destination, Length: 327, dtype: float64"
      ]
     },
     "execution_count": 31,
     "metadata": {},
     "output_type": "execute_result"
    }
   ],
   "source": [
    "sacog.iloc[:,36+11]"
   ]
  },
  {
   "cell_type": "code",
   "execution_count": 32,
   "metadata": {},
   "outputs": [
    {
     "data": {
      "text/plain": [
       "'Commuting to work/school or other primary destination'"
      ]
     },
     "execution_count": 32,
     "metadata": {},
     "output_type": "execute_result"
    }
   ],
   "source": [
    "sacog.iloc[:,36+11].name.split(' - ')[-1]"
   ]
  },
  {
   "cell_type": "code",
   "execution_count": 33,
   "metadata": {},
   "outputs": [],
   "source": [
    "for i in range(36,46):\n",
    "    (name, series) = scrape_trips(i)\n",
    "    recoded[name] = series"
   ]
  },
  {
   "cell_type": "code",
   "execution_count": 34,
   "metadata": {},
   "outputs": [
    {
     "data": {
      "text/html": [
       "<div>\n",
       "<style scoped>\n",
       "    .dataframe tbody tr th:only-of-type {\n",
       "        vertical-align: middle;\n",
       "    }\n",
       "\n",
       "    .dataframe tbody tr th {\n",
       "        vertical-align: top;\n",
       "    }\n",
       "\n",
       "    .dataframe thead th {\n",
       "        text-align: right;\n",
       "    }\n",
       "</style>\n",
       "<table border=\"1\" class=\"dataframe\">\n",
       "  <thead>\n",
       "    <tr style=\"text-align: right;\">\n",
       "      <th></th>\n",
       "      <th>Start Date</th>\n",
       "      <th>End Date</th>\n",
       "      <th>Response Type</th>\n",
       "      <th>IP Address</th>\n",
       "      <th>Progress</th>\n",
       "      <th>Duration (in seconds)</th>\n",
       "      <th>Finished</th>\n",
       "      <th>Recorded Date</th>\n",
       "      <th>Response ID</th>\n",
       "      <th>Recipient Last Name</th>\n",
       "      <th>...</th>\n",
       "      <th>May-Trips-Gym</th>\n",
       "      <th>May-Trips-ToSchool</th>\n",
       "      <th>May-Trips-FromSchool</th>\n",
       "      <th>May-Trips-Bar</th>\n",
       "      <th>May-Trips-MovieTheater</th>\n",
       "      <th>May-Trips-Friends</th>\n",
       "      <th>May-Trips-Family</th>\n",
       "      <th>May-Trips-Other</th>\n",
       "      <th>May-Trips-OtherType</th>\n",
       "      <th>CommutingFollowup</th>\n",
       "    </tr>\n",
       "  </thead>\n",
       "  <tbody>\n",
       "    <tr>\n",
       "      <th>0</th>\n",
       "      <td>2020-05-25 12:07:41</td>\n",
       "      <td>2020-05-25 12:40:19</td>\n",
       "      <td>IP Address</td>\n",
       "      <td>98.208.112.200</td>\n",
       "      <td>100</td>\n",
       "      <td>1957</td>\n",
       "      <td>True</td>\n",
       "      <td>2020-05-25 12:40:20.264</td>\n",
       "      <td>R_3HLKBXhTIWgpd5v</td>\n",
       "      <td>NaN</td>\n",
       "      <td>...</td>\n",
       "      <td>0</td>\n",
       "      <td>0</td>\n",
       "      <td>0</td>\n",
       "      <td>0</td>\n",
       "      <td>0</td>\n",
       "      <td>0</td>\n",
       "      <td>0</td>\n",
       "      <td>-9998</td>\n",
       "      <td>NaN</td>\n",
       "      <td>NaN</td>\n",
       "    </tr>\n",
       "    <tr>\n",
       "      <th>1</th>\n",
       "      <td>2020-05-25 12:10:20</td>\n",
       "      <td>2020-05-25 12:40:47</td>\n",
       "      <td>IP Address</td>\n",
       "      <td>75.111.25.35</td>\n",
       "      <td>100</td>\n",
       "      <td>1826</td>\n",
       "      <td>True</td>\n",
       "      <td>2020-05-25 12:40:48.693</td>\n",
       "      <td>R_2dgBf5xYdf4pJDs</td>\n",
       "      <td>NaN</td>\n",
       "      <td>...</td>\n",
       "      <td>0</td>\n",
       "      <td>0</td>\n",
       "      <td>0</td>\n",
       "      <td>0</td>\n",
       "      <td>0</td>\n",
       "      <td>0</td>\n",
       "      <td>0</td>\n",
       "      <td>0</td>\n",
       "      <td>NaN</td>\n",
       "      <td>NaN</td>\n",
       "    </tr>\n",
       "    <tr>\n",
       "      <th>2</th>\n",
       "      <td>2020-05-25 12:15:34</td>\n",
       "      <td>2020-05-25 12:43:10</td>\n",
       "      <td>IP Address</td>\n",
       "      <td>107.138.66.44</td>\n",
       "      <td>100</td>\n",
       "      <td>1655</td>\n",
       "      <td>True</td>\n",
       "      <td>2020-05-25 12:43:11.046</td>\n",
       "      <td>R_wXWh8mxuoPtnAWt</td>\n",
       "      <td>NaN</td>\n",
       "      <td>...</td>\n",
       "      <td>0</td>\n",
       "      <td>0</td>\n",
       "      <td>0</td>\n",
       "      <td>0</td>\n",
       "      <td>0</td>\n",
       "      <td>0</td>\n",
       "      <td>0</td>\n",
       "      <td>0</td>\n",
       "      <td>NaN</td>\n",
       "      <td>NaN</td>\n",
       "    </tr>\n",
       "    <tr>\n",
       "      <th>3</th>\n",
       "      <td>2020-05-25 12:13:15</td>\n",
       "      <td>2020-05-25 12:47:12</td>\n",
       "      <td>IP Address</td>\n",
       "      <td>23.114.218.168</td>\n",
       "      <td>100</td>\n",
       "      <td>2036</td>\n",
       "      <td>True</td>\n",
       "      <td>2020-05-25 12:47:13.365</td>\n",
       "      <td>R_2TNwp9PZ6T9eKdl</td>\n",
       "      <td>NaN</td>\n",
       "      <td>...</td>\n",
       "      <td>0</td>\n",
       "      <td>0</td>\n",
       "      <td>0</td>\n",
       "      <td>0</td>\n",
       "      <td>0</td>\n",
       "      <td>0</td>\n",
       "      <td>0</td>\n",
       "      <td>-9998</td>\n",
       "      <td>NaN</td>\n",
       "      <td>I work in Healthcare treating cancer patients</td>\n",
       "    </tr>\n",
       "    <tr>\n",
       "      <th>4</th>\n",
       "      <td>2020-05-25 12:16:28</td>\n",
       "      <td>2020-05-25 12:47:25</td>\n",
       "      <td>IP Address</td>\n",
       "      <td>73.2.34.66</td>\n",
       "      <td>100</td>\n",
       "      <td>1856</td>\n",
       "      <td>True</td>\n",
       "      <td>2020-05-25 12:47:26.445</td>\n",
       "      <td>R_1ouIsItTUyGkZBh</td>\n",
       "      <td>NaN</td>\n",
       "      <td>...</td>\n",
       "      <td>0</td>\n",
       "      <td>0</td>\n",
       "      <td>0</td>\n",
       "      <td>0</td>\n",
       "      <td>0</td>\n",
       "      <td>0</td>\n",
       "      <td>0</td>\n",
       "      <td>0</td>\n",
       "      <td>NaN</td>\n",
       "      <td>NaN</td>\n",
       "    </tr>\n",
       "  </tbody>\n",
       "</table>\n",
       "<p>5 rows × 44 columns</p>\n",
       "</div>"
      ],
      "text/plain": [
       "           Start Date            End Date Response Type      IP Address  \\\n",
       "0 2020-05-25 12:07:41 2020-05-25 12:40:19    IP Address  98.208.112.200   \n",
       "1 2020-05-25 12:10:20 2020-05-25 12:40:47    IP Address    75.111.25.35   \n",
       "2 2020-05-25 12:15:34 2020-05-25 12:43:10    IP Address   107.138.66.44   \n",
       "3 2020-05-25 12:13:15 2020-05-25 12:47:12    IP Address  23.114.218.168   \n",
       "4 2020-05-25 12:16:28 2020-05-25 12:47:25    IP Address      73.2.34.66   \n",
       "\n",
       "   Progress  Duration (in seconds)  Finished           Recorded Date  \\\n",
       "0       100                   1957      True 2020-05-25 12:40:20.264   \n",
       "1       100                   1826      True 2020-05-25 12:40:48.693   \n",
       "2       100                   1655      True 2020-05-25 12:43:11.046   \n",
       "3       100                   2036      True 2020-05-25 12:47:13.365   \n",
       "4       100                   1856      True 2020-05-25 12:47:26.445   \n",
       "\n",
       "         Response ID  Recipient Last Name  ...  May-Trips-Gym  \\\n",
       "0  R_3HLKBXhTIWgpd5v                  NaN  ...              0   \n",
       "1  R_2dgBf5xYdf4pJDs                  NaN  ...              0   \n",
       "2  R_wXWh8mxuoPtnAWt                  NaN  ...              0   \n",
       "3  R_2TNwp9PZ6T9eKdl                  NaN  ...              0   \n",
       "4  R_1ouIsItTUyGkZBh                  NaN  ...              0   \n",
       "\n",
       "  May-Trips-ToSchool  May-Trips-FromSchool  May-Trips-Bar  \\\n",
       "0                  0                     0              0   \n",
       "1                  0                     0              0   \n",
       "2                  0                     0              0   \n",
       "3                  0                     0              0   \n",
       "4                  0                     0              0   \n",
       "\n",
       "   May-Trips-MovieTheater May-Trips-Friends May-Trips-Family  May-Trips-Other  \\\n",
       "0                       0                 0                0            -9998   \n",
       "1                       0                 0                0                0   \n",
       "2                       0                 0                0                0   \n",
       "3                       0                 0                0            -9998   \n",
       "4                       0                 0                0                0   \n",
       "\n",
       "  May-Trips-OtherType                              CommutingFollowup  \n",
       "0                 NaN                                            NaN  \n",
       "1                 NaN                                            NaN  \n",
       "2                 NaN                                            NaN  \n",
       "3                 NaN  I work in Healthcare treating cancer patients  \n",
       "4                 NaN                                            NaN  \n",
       "\n",
       "[5 rows x 44 columns]"
      ]
     },
     "execution_count": 34,
     "metadata": {},
     "output_type": "execute_result"
    }
   ],
   "source": [
    "recoded['May-Trips-OtherType'] = sacog[sacog.columns[46]]\n",
    "recoded['CommutingFollowup'] = sacog[sacog.columns[69]]\n",
    "recoded.head(5)"
   ]
  },
  {
   "cell_type": "code",
   "execution_count": 35,
   "metadata": {},
   "outputs": [
    {
     "data": {
      "text/plain": [
       "10 - 25 miles            25\n",
       "5 - 10 miles             21\n",
       "1 - 3 miles              15\n",
       "25 - 50 miles             9\n",
       "3 - 5 miles               9\n",
       "Greater than 50 miles     3\n",
       "1/2 mile - 1 mile         3\n",
       "Less than 1/4 mile        2\n",
       "1/4 mile - 1/2 mile       2\n",
       "Name: From Sunday, May 17th through Saturday, May 23rd, about how far was your trip distance for each o... - Trip distance - Commuting to work/school or other primary destination, dtype: int64"
      ]
     },
     "execution_count": 35,
     "metadata": {},
     "output_type": "execute_result"
    }
   ],
   "source": [
    "sacog[sacog.columns[70]].value_counts()"
   ]
  },
  {
   "cell_type": "code",
   "execution_count": 36,
   "metadata": {},
   "outputs": [],
   "source": [
    "for i in range(70,80):\n",
    "    series = sacog[sacog.columns[i]]\n",
    "    name = 'May-TripDistance-'+locations_dict[series.name.split(' - ')[-1]]\n",
    "    recoded[name] = series.fillna(\"No Response\")"
   ]
  },
  {
   "cell_type": "code",
   "execution_count": 37,
   "metadata": {},
   "outputs": [],
   "source": [
    "recoded['May-TripDistance-OtherType'] = sacog[sacog.columns[80]]"
   ]
  },
  {
   "cell_type": "code",
   "execution_count": 38,
   "metadata": {},
   "outputs": [],
   "source": [
    "for i in range(81,91):\n",
    "    series = sacog[sacog.columns[i]]\n",
    "    name = 'May-TripMode-'+locations_dict[series.name.split(' - ')[-1]]\n",
    "    recoded[name] = series.fillna(\"No Response\").str.split('(').str[0]\n",
    "recoded['May-TripMode-OtherType'] = sacog[sacog.columns[91]]"
   ]
  },
  {
   "cell_type": "code",
   "execution_count": 39,
   "metadata": {},
   "outputs": [
    {
     "data": {
      "text/html": [
       "<div>\n",
       "<style scoped>\n",
       "    .dataframe tbody tr th:only-of-type {\n",
       "        vertical-align: middle;\n",
       "    }\n",
       "\n",
       "    .dataframe tbody tr th {\n",
       "        vertical-align: top;\n",
       "    }\n",
       "\n",
       "    .dataframe thead th {\n",
       "        text-align: right;\n",
       "    }\n",
       "</style>\n",
       "<table border=\"1\" class=\"dataframe\">\n",
       "  <thead>\n",
       "    <tr style=\"text-align: right;\">\n",
       "      <th></th>\n",
       "      <th>Start Date</th>\n",
       "      <th>End Date</th>\n",
       "      <th>Response Type</th>\n",
       "      <th>IP Address</th>\n",
       "      <th>Progress</th>\n",
       "      <th>Duration (in seconds)</th>\n",
       "      <th>Finished</th>\n",
       "      <th>Recorded Date</th>\n",
       "      <th>Response ID</th>\n",
       "      <th>Recipient Last Name</th>\n",
       "      <th>...</th>\n",
       "      <th>May-TripMode-Medical</th>\n",
       "      <th>May-TripMode-Gym</th>\n",
       "      <th>May-TripMode-ToSchool</th>\n",
       "      <th>May-TripMode-FromSchool</th>\n",
       "      <th>May-TripMode-Bar</th>\n",
       "      <th>May-TripMode-MovieTheater</th>\n",
       "      <th>May-TripMode-Friends</th>\n",
       "      <th>May-TripMode-Family</th>\n",
       "      <th>May-TripMode-Other</th>\n",
       "      <th>May-TripMode-OtherType</th>\n",
       "    </tr>\n",
       "  </thead>\n",
       "  <tbody>\n",
       "    <tr>\n",
       "      <th>0</th>\n",
       "      <td>2020-05-25 12:07:41</td>\n",
       "      <td>2020-05-25 12:40:19</td>\n",
       "      <td>IP Address</td>\n",
       "      <td>98.208.112.200</td>\n",
       "      <td>100</td>\n",
       "      <td>1957</td>\n",
       "      <td>True</td>\n",
       "      <td>2020-05-25 12:40:20.264</td>\n",
       "      <td>R_3HLKBXhTIWgpd5v</td>\n",
       "      <td>NaN</td>\n",
       "      <td>...</td>\n",
       "      <td>Driving alone</td>\n",
       "      <td>No Response</td>\n",
       "      <td>No Response</td>\n",
       "      <td>No Response</td>\n",
       "      <td>No Response</td>\n",
       "      <td>No Response</td>\n",
       "      <td>No Response</td>\n",
       "      <td>No Response</td>\n",
       "      <td>No Response</td>\n",
       "      <td>NaN</td>\n",
       "    </tr>\n",
       "    <tr>\n",
       "      <th>1</th>\n",
       "      <td>2020-05-25 12:10:20</td>\n",
       "      <td>2020-05-25 12:40:47</td>\n",
       "      <td>IP Address</td>\n",
       "      <td>75.111.25.35</td>\n",
       "      <td>100</td>\n",
       "      <td>1826</td>\n",
       "      <td>True</td>\n",
       "      <td>2020-05-25 12:40:48.693</td>\n",
       "      <td>R_2dgBf5xYdf4pJDs</td>\n",
       "      <td>NaN</td>\n",
       "      <td>...</td>\n",
       "      <td>No Response</td>\n",
       "      <td>No Response</td>\n",
       "      <td>No Response</td>\n",
       "      <td>No Response</td>\n",
       "      <td>No Response</td>\n",
       "      <td>No Response</td>\n",
       "      <td>No Response</td>\n",
       "      <td>No Response</td>\n",
       "      <td>No Response</td>\n",
       "      <td>NaN</td>\n",
       "    </tr>\n",
       "    <tr>\n",
       "      <th>2</th>\n",
       "      <td>2020-05-25 12:15:34</td>\n",
       "      <td>2020-05-25 12:43:10</td>\n",
       "      <td>IP Address</td>\n",
       "      <td>107.138.66.44</td>\n",
       "      <td>100</td>\n",
       "      <td>1655</td>\n",
       "      <td>True</td>\n",
       "      <td>2020-05-25 12:43:11.046</td>\n",
       "      <td>R_wXWh8mxuoPtnAWt</td>\n",
       "      <td>NaN</td>\n",
       "      <td>...</td>\n",
       "      <td>No Response</td>\n",
       "      <td>No Response</td>\n",
       "      <td>No Response</td>\n",
       "      <td>No Response</td>\n",
       "      <td>No Response</td>\n",
       "      <td>No Response</td>\n",
       "      <td>No Response</td>\n",
       "      <td>No Response</td>\n",
       "      <td>No Response</td>\n",
       "      <td>NaN</td>\n",
       "    </tr>\n",
       "    <tr>\n",
       "      <th>3</th>\n",
       "      <td>2020-05-25 12:13:15</td>\n",
       "      <td>2020-05-25 12:47:12</td>\n",
       "      <td>IP Address</td>\n",
       "      <td>23.114.218.168</td>\n",
       "      <td>100</td>\n",
       "      <td>2036</td>\n",
       "      <td>True</td>\n",
       "      <td>2020-05-25 12:47:13.365</td>\n",
       "      <td>R_2TNwp9PZ6T9eKdl</td>\n",
       "      <td>NaN</td>\n",
       "      <td>...</td>\n",
       "      <td>Driving alone</td>\n",
       "      <td>No Response</td>\n",
       "      <td>No Response</td>\n",
       "      <td>No Response</td>\n",
       "      <td>No Response</td>\n",
       "      <td>No Response</td>\n",
       "      <td>No Response</td>\n",
       "      <td>No Response</td>\n",
       "      <td>No Response</td>\n",
       "      <td>NaN</td>\n",
       "    </tr>\n",
       "    <tr>\n",
       "      <th>4</th>\n",
       "      <td>2020-05-25 12:16:28</td>\n",
       "      <td>2020-05-25 12:47:25</td>\n",
       "      <td>IP Address</td>\n",
       "      <td>73.2.34.66</td>\n",
       "      <td>100</td>\n",
       "      <td>1856</td>\n",
       "      <td>True</td>\n",
       "      <td>2020-05-25 12:47:26.445</td>\n",
       "      <td>R_1ouIsItTUyGkZBh</td>\n",
       "      <td>NaN</td>\n",
       "      <td>...</td>\n",
       "      <td>No Response</td>\n",
       "      <td>No Response</td>\n",
       "      <td>No Response</td>\n",
       "      <td>No Response</td>\n",
       "      <td>No Response</td>\n",
       "      <td>No Response</td>\n",
       "      <td>No Response</td>\n",
       "      <td>No Response</td>\n",
       "      <td>No Response</td>\n",
       "      <td>NaN</td>\n",
       "    </tr>\n",
       "    <tr>\n",
       "      <th>...</th>\n",
       "      <td>...</td>\n",
       "      <td>...</td>\n",
       "      <td>...</td>\n",
       "      <td>...</td>\n",
       "      <td>...</td>\n",
       "      <td>...</td>\n",
       "      <td>...</td>\n",
       "      <td>...</td>\n",
       "      <td>...</td>\n",
       "      <td>...</td>\n",
       "      <td>...</td>\n",
       "      <td>...</td>\n",
       "      <td>...</td>\n",
       "      <td>...</td>\n",
       "      <td>...</td>\n",
       "      <td>...</td>\n",
       "      <td>...</td>\n",
       "      <td>...</td>\n",
       "      <td>...</td>\n",
       "      <td>...</td>\n",
       "      <td>...</td>\n",
       "    </tr>\n",
       "    <tr>\n",
       "      <th>322</th>\n",
       "      <td>2020-05-31 18:36:11</td>\n",
       "      <td>2020-05-31 20:15:14</td>\n",
       "      <td>IP Address</td>\n",
       "      <td>67.187.138.65</td>\n",
       "      <td>100</td>\n",
       "      <td>5943</td>\n",
       "      <td>True</td>\n",
       "      <td>2020-05-31 20:15:15.364</td>\n",
       "      <td>R_2wp0SGwDj5EI5Vt</td>\n",
       "      <td>NaN</td>\n",
       "      <td>...</td>\n",
       "      <td>Driving alone</td>\n",
       "      <td>No Response</td>\n",
       "      <td>No Response</td>\n",
       "      <td>No Response</td>\n",
       "      <td>No Response</td>\n",
       "      <td>No Response</td>\n",
       "      <td>No Response</td>\n",
       "      <td>Carpooling</td>\n",
       "      <td>No Response</td>\n",
       "      <td>NaN</td>\n",
       "    </tr>\n",
       "    <tr>\n",
       "      <th>323</th>\n",
       "      <td>2020-05-31 20:05:38</td>\n",
       "      <td>2020-05-31 21:23:27</td>\n",
       "      <td>IP Address</td>\n",
       "      <td>99.105.32.108</td>\n",
       "      <td>100</td>\n",
       "      <td>4669</td>\n",
       "      <td>True</td>\n",
       "      <td>2020-05-31 21:23:28.470</td>\n",
       "      <td>R_QcrB2aYNBqcQXg5</td>\n",
       "      <td>NaN</td>\n",
       "      <td>...</td>\n",
       "      <td>No Response</td>\n",
       "      <td>No Response</td>\n",
       "      <td>No Response</td>\n",
       "      <td>No Response</td>\n",
       "      <td>No Response</td>\n",
       "      <td>No Response</td>\n",
       "      <td>No Response</td>\n",
       "      <td>No Response</td>\n",
       "      <td>No Response</td>\n",
       "      <td>NaN</td>\n",
       "    </tr>\n",
       "    <tr>\n",
       "      <th>324</th>\n",
       "      <td>2020-06-01 10:03:19</td>\n",
       "      <td>2020-06-01 10:53:10</td>\n",
       "      <td>IP Address</td>\n",
       "      <td>149.136.17.252</td>\n",
       "      <td>100</td>\n",
       "      <td>2990</td>\n",
       "      <td>True</td>\n",
       "      <td>2020-06-01 10:53:11.344</td>\n",
       "      <td>R_2CJHppa3U27Oxe2</td>\n",
       "      <td>NaN</td>\n",
       "      <td>...</td>\n",
       "      <td>No Response</td>\n",
       "      <td>No Response</td>\n",
       "      <td>No Response</td>\n",
       "      <td>No Response</td>\n",
       "      <td>Driving alone</td>\n",
       "      <td>No Response</td>\n",
       "      <td>No Response</td>\n",
       "      <td>Driving alone</td>\n",
       "      <td>Driving alone</td>\n",
       "      <td>NaN</td>\n",
       "    </tr>\n",
       "    <tr>\n",
       "      <th>325</th>\n",
       "      <td>2020-06-01 03:35:38</td>\n",
       "      <td>2020-06-01 12:01:49</td>\n",
       "      <td>IP Address</td>\n",
       "      <td>23.114.37.167</td>\n",
       "      <td>100</td>\n",
       "      <td>30370</td>\n",
       "      <td>True</td>\n",
       "      <td>2020-06-01 12:01:50.957</td>\n",
       "      <td>R_1liC70nsJ8qXqbW</td>\n",
       "      <td>NaN</td>\n",
       "      <td>...</td>\n",
       "      <td>No Response</td>\n",
       "      <td>No Response</td>\n",
       "      <td>No Response</td>\n",
       "      <td>No Response</td>\n",
       "      <td>No Response</td>\n",
       "      <td>No Response</td>\n",
       "      <td>Driving alone</td>\n",
       "      <td>No Response</td>\n",
       "      <td>No Response</td>\n",
       "      <td>NaN</td>\n",
       "    </tr>\n",
       "    <tr>\n",
       "      <th>326</th>\n",
       "      <td>2020-05-28 23:01:43</td>\n",
       "      <td>2020-06-05 08:47:27</td>\n",
       "      <td>IP Address</td>\n",
       "      <td>104.220.150.42</td>\n",
       "      <td>100</td>\n",
       "      <td>639943</td>\n",
       "      <td>True</td>\n",
       "      <td>2020-06-05 08:47:28.513</td>\n",
       "      <td>R_31LydsXQsx3GG1y</td>\n",
       "      <td>NaN</td>\n",
       "      <td>...</td>\n",
       "      <td>No Response</td>\n",
       "      <td>No Response</td>\n",
       "      <td>No Response</td>\n",
       "      <td>No Response</td>\n",
       "      <td>No Response</td>\n",
       "      <td>No Response</td>\n",
       "      <td>No Response</td>\n",
       "      <td>No Response</td>\n",
       "      <td>Driving alone</td>\n",
       "      <td>Groceries</td>\n",
       "    </tr>\n",
       "  </tbody>\n",
       "</table>\n",
       "<p>327 rows × 66 columns</p>\n",
       "</div>"
      ],
      "text/plain": [
       "             Start Date            End Date Response Type      IP Address  \\\n",
       "0   2020-05-25 12:07:41 2020-05-25 12:40:19    IP Address  98.208.112.200   \n",
       "1   2020-05-25 12:10:20 2020-05-25 12:40:47    IP Address    75.111.25.35   \n",
       "2   2020-05-25 12:15:34 2020-05-25 12:43:10    IP Address   107.138.66.44   \n",
       "3   2020-05-25 12:13:15 2020-05-25 12:47:12    IP Address  23.114.218.168   \n",
       "4   2020-05-25 12:16:28 2020-05-25 12:47:25    IP Address      73.2.34.66   \n",
       "..                  ...                 ...           ...             ...   \n",
       "322 2020-05-31 18:36:11 2020-05-31 20:15:14    IP Address   67.187.138.65   \n",
       "323 2020-05-31 20:05:38 2020-05-31 21:23:27    IP Address   99.105.32.108   \n",
       "324 2020-06-01 10:03:19 2020-06-01 10:53:10    IP Address  149.136.17.252   \n",
       "325 2020-06-01 03:35:38 2020-06-01 12:01:49    IP Address   23.114.37.167   \n",
       "326 2020-05-28 23:01:43 2020-06-05 08:47:27    IP Address  104.220.150.42   \n",
       "\n",
       "     Progress  Duration (in seconds)  Finished           Recorded Date  \\\n",
       "0         100                   1957      True 2020-05-25 12:40:20.264   \n",
       "1         100                   1826      True 2020-05-25 12:40:48.693   \n",
       "2         100                   1655      True 2020-05-25 12:43:11.046   \n",
       "3         100                   2036      True 2020-05-25 12:47:13.365   \n",
       "4         100                   1856      True 2020-05-25 12:47:26.445   \n",
       "..        ...                    ...       ...                     ...   \n",
       "322       100                   5943      True 2020-05-31 20:15:15.364   \n",
       "323       100                   4669      True 2020-05-31 21:23:28.470   \n",
       "324       100                   2990      True 2020-06-01 10:53:11.344   \n",
       "325       100                  30370      True 2020-06-01 12:01:50.957   \n",
       "326       100                 639943      True 2020-06-05 08:47:28.513   \n",
       "\n",
       "           Response ID  Recipient Last Name  ...  May-TripMode-Medical  \\\n",
       "0    R_3HLKBXhTIWgpd5v                  NaN  ...         Driving alone   \n",
       "1    R_2dgBf5xYdf4pJDs                  NaN  ...           No Response   \n",
       "2    R_wXWh8mxuoPtnAWt                  NaN  ...           No Response   \n",
       "3    R_2TNwp9PZ6T9eKdl                  NaN  ...         Driving alone   \n",
       "4    R_1ouIsItTUyGkZBh                  NaN  ...           No Response   \n",
       "..                 ...                  ...  ...                   ...   \n",
       "322  R_2wp0SGwDj5EI5Vt                  NaN  ...         Driving alone   \n",
       "323  R_QcrB2aYNBqcQXg5                  NaN  ...           No Response   \n",
       "324  R_2CJHppa3U27Oxe2                  NaN  ...           No Response   \n",
       "325  R_1liC70nsJ8qXqbW                  NaN  ...           No Response   \n",
       "326  R_31LydsXQsx3GG1y                  NaN  ...           No Response   \n",
       "\n",
       "    May-TripMode-Gym  May-TripMode-ToSchool  May-TripMode-FromSchool  \\\n",
       "0        No Response            No Response              No Response   \n",
       "1        No Response            No Response              No Response   \n",
       "2        No Response            No Response              No Response   \n",
       "3        No Response            No Response              No Response   \n",
       "4        No Response            No Response              No Response   \n",
       "..               ...                    ...                      ...   \n",
       "322      No Response            No Response              No Response   \n",
       "323      No Response            No Response              No Response   \n",
       "324      No Response            No Response              No Response   \n",
       "325      No Response            No Response              No Response   \n",
       "326      No Response            No Response              No Response   \n",
       "\n",
       "     May-TripMode-Bar May-TripMode-MovieTheater May-TripMode-Friends  \\\n",
       "0         No Response               No Response          No Response   \n",
       "1         No Response               No Response          No Response   \n",
       "2         No Response               No Response          No Response   \n",
       "3         No Response               No Response          No Response   \n",
       "4         No Response               No Response          No Response   \n",
       "..                ...                       ...                  ...   \n",
       "322       No Response               No Response          No Response   \n",
       "323       No Response               No Response          No Response   \n",
       "324     Driving alone               No Response          No Response   \n",
       "325       No Response               No Response        Driving alone   \n",
       "326       No Response               No Response          No Response   \n",
       "\n",
       "     May-TripMode-Family May-TripMode-Other May-TripMode-OtherType  \n",
       "0            No Response        No Response                    NaN  \n",
       "1            No Response        No Response                    NaN  \n",
       "2            No Response        No Response                    NaN  \n",
       "3            No Response        No Response                    NaN  \n",
       "4            No Response        No Response                    NaN  \n",
       "..                   ...                ...                    ...  \n",
       "322          Carpooling         No Response                    NaN  \n",
       "323          No Response        No Response                    NaN  \n",
       "324        Driving alone      Driving alone                    NaN  \n",
       "325          No Response        No Response                    NaN  \n",
       "326          No Response      Driving alone              Groceries  \n",
       "\n",
       "[327 rows x 66 columns]"
      ]
     },
     "execution_count": 39,
     "metadata": {},
     "output_type": "execute_result"
    }
   ],
   "source": [
    "recoded"
   ]
  },
  {
   "cell_type": "code",
   "execution_count": 40,
   "metadata": {},
   "outputs": [],
   "source": [
    "recoded['LivingInSamePlace'] = sacog[sacog.columns[92]].replace(binary_dict).fillna(-9998)"
   ]
  },
  {
   "cell_type": "code",
   "execution_count": 41,
   "metadata": {},
   "outputs": [
    {
     "data": {
      "text/plain": [
       "0      9 am to 5 pm (or similar)\n",
       "1                     unemployed\n",
       "2                Multiple shifts\n",
       "3      9 am to 5 pm (or similar)\n",
       "4      9 am to 5 pm (or similar)\n",
       "                 ...            \n",
       "322    9 am to 5 pm (or similar)\n",
       "323    9 am to 5 pm (or similar)\n",
       "324    9 am to 5 pm (or similar)\n",
       "325                          N/A\n",
       "326    9 am to 5 pm (or similar)\n",
       "Name: During that typical week in Jan./Feb. 2020 (prior to the COVID-19 pandemic), approximately what were your working hours? - Selected Choice, Length: 327, dtype: object"
      ]
     },
     "execution_count": 41,
     "metadata": {},
     "output_type": "execute_result"
    }
   ],
   "source": [
    "i = 93\n",
    "string = 'Some other work schedule:'\n",
    "column = sacog[sacog.columns[i]].copy()\n",
    "column[column == string] = sacog[sacog.columns[i+1]][column == string]\n",
    "recoded['JanFeb-WorkingHours'] = column.fillna('No Response')\n",
    "column"
   ]
  },
  {
   "cell_type": "code",
   "execution_count": 42,
   "metadata": {},
   "outputs": [
    {
     "data": {
      "text/plain": [
       "0      5\n",
       "1      0\n",
       "2      0\n",
       "3      0\n",
       "4      0\n",
       "      ..\n",
       "322    0\n",
       "323    0\n",
       "324    0\n",
       "325    0\n",
       "326    0\n",
       "Name: JanFeb-TelecommutingDays, Length: 327, dtype: int64"
      ]
     },
     "execution_count": 42,
     "metadata": {},
     "output_type": "execute_result"
    }
   ],
   "source": [
    "rename_dict = {'Zero':0, 'One':1, 'Two':2, 'Three':3, 'Four':4, 'Five':5, 'More than five':6, 'I did not work from Sunday, May 17th through Saturday, May 23rd':-1}\n",
    "recoded['JanFeb-TelecommutingDays'] = sacog[sacog.columns[95]].replace(rename_dict)\n",
    "recoded['JanFeb-TelecommutingDays']"
   ]
  },
  {
   "cell_type": "code",
   "execution_count": 43,
   "metadata": {},
   "outputs": [],
   "source": [
    "recoded['DifferentTravelPatterns'] = sacog[sacog.columns[96]].replace({'Yes':1,'No':0,\"I don't remember\":998}).fillna(-9998)"
   ]
  },
  {
   "cell_type": "code",
   "execution_count": 44,
   "metadata": {},
   "outputs": [
    {
     "data": {
      "text/html": [
       "<div>\n",
       "<style scoped>\n",
       "    .dataframe tbody tr th:only-of-type {\n",
       "        vertical-align: middle;\n",
       "    }\n",
       "\n",
       "    .dataframe tbody tr th {\n",
       "        vertical-align: top;\n",
       "    }\n",
       "\n",
       "    .dataframe thead th {\n",
       "        text-align: right;\n",
       "    }\n",
       "</style>\n",
       "<table border=\"1\" class=\"dataframe\">\n",
       "  <thead>\n",
       "    <tr style=\"text-align: right;\">\n",
       "      <th></th>\n",
       "      <th>Start Date</th>\n",
       "      <th>End Date</th>\n",
       "      <th>Response Type</th>\n",
       "      <th>IP Address</th>\n",
       "      <th>Progress</th>\n",
       "      <th>Duration (in seconds)</th>\n",
       "      <th>Finished</th>\n",
       "      <th>Recorded Date</th>\n",
       "      <th>Response ID</th>\n",
       "      <th>Recipient Last Name</th>\n",
       "      <th>...</th>\n",
       "      <th>May-TripMode-Bar</th>\n",
       "      <th>May-TripMode-MovieTheater</th>\n",
       "      <th>May-TripMode-Friends</th>\n",
       "      <th>May-TripMode-Family</th>\n",
       "      <th>May-TripMode-Other</th>\n",
       "      <th>May-TripMode-OtherType</th>\n",
       "      <th>LivingInSamePlace</th>\n",
       "      <th>JanFeb-WorkingHours</th>\n",
       "      <th>JanFeb-TelecommutingDays</th>\n",
       "      <th>DifferentTravelPatterns</th>\n",
       "    </tr>\n",
       "  </thead>\n",
       "  <tbody>\n",
       "    <tr>\n",
       "      <th>0</th>\n",
       "      <td>2020-05-25 12:07:41</td>\n",
       "      <td>2020-05-25 12:40:19</td>\n",
       "      <td>IP Address</td>\n",
       "      <td>98.208.112.200</td>\n",
       "      <td>100</td>\n",
       "      <td>1957</td>\n",
       "      <td>True</td>\n",
       "      <td>2020-05-25 12:40:20.264</td>\n",
       "      <td>R_3HLKBXhTIWgpd5v</td>\n",
       "      <td>NaN</td>\n",
       "      <td>...</td>\n",
       "      <td>No Response</td>\n",
       "      <td>No Response</td>\n",
       "      <td>No Response</td>\n",
       "      <td>No Response</td>\n",
       "      <td>No Response</td>\n",
       "      <td>NaN</td>\n",
       "      <td>1</td>\n",
       "      <td>9 am to 5 pm (or similar)</td>\n",
       "      <td>5</td>\n",
       "      <td>0</td>\n",
       "    </tr>\n",
       "    <tr>\n",
       "      <th>1</th>\n",
       "      <td>2020-05-25 12:10:20</td>\n",
       "      <td>2020-05-25 12:40:47</td>\n",
       "      <td>IP Address</td>\n",
       "      <td>75.111.25.35</td>\n",
       "      <td>100</td>\n",
       "      <td>1826</td>\n",
       "      <td>True</td>\n",
       "      <td>2020-05-25 12:40:48.693</td>\n",
       "      <td>R_2dgBf5xYdf4pJDs</td>\n",
       "      <td>NaN</td>\n",
       "      <td>...</td>\n",
       "      <td>No Response</td>\n",
       "      <td>No Response</td>\n",
       "      <td>No Response</td>\n",
       "      <td>No Response</td>\n",
       "      <td>No Response</td>\n",
       "      <td>NaN</td>\n",
       "      <td>0</td>\n",
       "      <td>unemployed</td>\n",
       "      <td>0</td>\n",
       "      <td>0</td>\n",
       "    </tr>\n",
       "    <tr>\n",
       "      <th>2</th>\n",
       "      <td>2020-05-25 12:15:34</td>\n",
       "      <td>2020-05-25 12:43:10</td>\n",
       "      <td>IP Address</td>\n",
       "      <td>107.138.66.44</td>\n",
       "      <td>100</td>\n",
       "      <td>1655</td>\n",
       "      <td>True</td>\n",
       "      <td>2020-05-25 12:43:11.046</td>\n",
       "      <td>R_wXWh8mxuoPtnAWt</td>\n",
       "      <td>NaN</td>\n",
       "      <td>...</td>\n",
       "      <td>No Response</td>\n",
       "      <td>No Response</td>\n",
       "      <td>No Response</td>\n",
       "      <td>No Response</td>\n",
       "      <td>No Response</td>\n",
       "      <td>NaN</td>\n",
       "      <td>1</td>\n",
       "      <td>Multiple shifts</td>\n",
       "      <td>0</td>\n",
       "      <td>0</td>\n",
       "    </tr>\n",
       "    <tr>\n",
       "      <th>3</th>\n",
       "      <td>2020-05-25 12:13:15</td>\n",
       "      <td>2020-05-25 12:47:12</td>\n",
       "      <td>IP Address</td>\n",
       "      <td>23.114.218.168</td>\n",
       "      <td>100</td>\n",
       "      <td>2036</td>\n",
       "      <td>True</td>\n",
       "      <td>2020-05-25 12:47:13.365</td>\n",
       "      <td>R_2TNwp9PZ6T9eKdl</td>\n",
       "      <td>NaN</td>\n",
       "      <td>...</td>\n",
       "      <td>No Response</td>\n",
       "      <td>No Response</td>\n",
       "      <td>No Response</td>\n",
       "      <td>No Response</td>\n",
       "      <td>No Response</td>\n",
       "      <td>NaN</td>\n",
       "      <td>1</td>\n",
       "      <td>9 am to 5 pm (or similar)</td>\n",
       "      <td>0</td>\n",
       "      <td>1</td>\n",
       "    </tr>\n",
       "    <tr>\n",
       "      <th>4</th>\n",
       "      <td>2020-05-25 12:16:28</td>\n",
       "      <td>2020-05-25 12:47:25</td>\n",
       "      <td>IP Address</td>\n",
       "      <td>73.2.34.66</td>\n",
       "      <td>100</td>\n",
       "      <td>1856</td>\n",
       "      <td>True</td>\n",
       "      <td>2020-05-25 12:47:26.445</td>\n",
       "      <td>R_1ouIsItTUyGkZBh</td>\n",
       "      <td>NaN</td>\n",
       "      <td>...</td>\n",
       "      <td>No Response</td>\n",
       "      <td>No Response</td>\n",
       "      <td>No Response</td>\n",
       "      <td>No Response</td>\n",
       "      <td>No Response</td>\n",
       "      <td>NaN</td>\n",
       "      <td>1</td>\n",
       "      <td>9 am to 5 pm (or similar)</td>\n",
       "      <td>0</td>\n",
       "      <td>0</td>\n",
       "    </tr>\n",
       "  </tbody>\n",
       "</table>\n",
       "<p>5 rows × 70 columns</p>\n",
       "</div>"
      ],
      "text/plain": [
       "           Start Date            End Date Response Type      IP Address  \\\n",
       "0 2020-05-25 12:07:41 2020-05-25 12:40:19    IP Address  98.208.112.200   \n",
       "1 2020-05-25 12:10:20 2020-05-25 12:40:47    IP Address    75.111.25.35   \n",
       "2 2020-05-25 12:15:34 2020-05-25 12:43:10    IP Address   107.138.66.44   \n",
       "3 2020-05-25 12:13:15 2020-05-25 12:47:12    IP Address  23.114.218.168   \n",
       "4 2020-05-25 12:16:28 2020-05-25 12:47:25    IP Address      73.2.34.66   \n",
       "\n",
       "   Progress  Duration (in seconds)  Finished           Recorded Date  \\\n",
       "0       100                   1957      True 2020-05-25 12:40:20.264   \n",
       "1       100                   1826      True 2020-05-25 12:40:48.693   \n",
       "2       100                   1655      True 2020-05-25 12:43:11.046   \n",
       "3       100                   2036      True 2020-05-25 12:47:13.365   \n",
       "4       100                   1856      True 2020-05-25 12:47:26.445   \n",
       "\n",
       "         Response ID  Recipient Last Name  ...  May-TripMode-Bar  \\\n",
       "0  R_3HLKBXhTIWgpd5v                  NaN  ...       No Response   \n",
       "1  R_2dgBf5xYdf4pJDs                  NaN  ...       No Response   \n",
       "2  R_wXWh8mxuoPtnAWt                  NaN  ...       No Response   \n",
       "3  R_2TNwp9PZ6T9eKdl                  NaN  ...       No Response   \n",
       "4  R_1ouIsItTUyGkZBh                  NaN  ...       No Response   \n",
       "\n",
       "  May-TripMode-MovieTheater  May-TripMode-Friends  May-TripMode-Family  \\\n",
       "0               No Response           No Response          No Response   \n",
       "1               No Response           No Response          No Response   \n",
       "2               No Response           No Response          No Response   \n",
       "3               No Response           No Response          No Response   \n",
       "4               No Response           No Response          No Response   \n",
       "\n",
       "   May-TripMode-Other May-TripMode-OtherType LivingInSamePlace  \\\n",
       "0         No Response                    NaN                 1   \n",
       "1         No Response                    NaN                 0   \n",
       "2         No Response                    NaN                 1   \n",
       "3         No Response                    NaN                 1   \n",
       "4         No Response                    NaN                 1   \n",
       "\n",
       "         JanFeb-WorkingHours JanFeb-TelecommutingDays DifferentTravelPatterns  \n",
       "0  9 am to 5 pm (or similar)                        5                       0  \n",
       "1                 unemployed                        0                       0  \n",
       "2            Multiple shifts                        0                       0  \n",
       "3  9 am to 5 pm (or similar)                        0                       1  \n",
       "4  9 am to 5 pm (or similar)                        0                       0  \n",
       "\n",
       "[5 rows x 70 columns]"
      ]
     },
     "execution_count": 44,
     "metadata": {},
     "output_type": "execute_result"
    }
   ],
   "source": [
    "recoded.head(5)"
   ]
  },
  {
   "cell_type": "code",
   "execution_count": 45,
   "metadata": {},
   "outputs": [
    {
     "data": {
      "text/plain": [
       "Index(['Start Date', 'End Date', 'Response Type', 'IP Address', 'Progress',\n",
       "       'Duration (in seconds)', 'Finished', 'Recorded Date', 'Response ID',\n",
       "       'Recipient Last Name', 'Recipient First Name', 'Recipient Email',\n",
       "       'External Data Reference', 'Location Latitude', 'Location Longitude',\n",
       "       'Distribution Channel', 'User Language', 'Q_RecaptchaScore',\n",
       "       'Participant Consent', 'What is your age group?', 'CountyofResidence',\n",
       "       'Residence-ZipCode', 'Residence-CrossStreet1', 'Residence-CrossStreet2',\n",
       "       'SACOG2018Method', 'LiveWithHouseholdMember', 'MovedSince2018',\n",
       "       'County2018', 'Recontacted', 'OtherFollowups', 'May-WorkingHours',\n",
       "       'May-TelecommutingDays', 'May-Trips-Commuting', 'May-Trips-Medical',\n",
       "       'May-Trips-Gym', 'May-Trips-ToSchool', 'May-Trips-FromSchool',\n",
       "       'May-Trips-Bar', 'May-Trips-MovieTheater', 'May-Trips-Friends',\n",
       "       'May-Trips-Family', 'May-Trips-Other', 'May-Trips-OtherType',\n",
       "       'CommutingFollowup', 'May-TripDistance-Commuting',\n",
       "       'May-TripDistance-Medical', 'May-TripDistance-Gym',\n",
       "       'May-TripDistance-ToSchool', 'May-TripDistance-FromSchool',\n",
       "       'May-TripDistance-Bar', 'May-TripDistance-MovieTheater',\n",
       "       'May-TripDistance-Friends', 'May-TripDistance-Family',\n",
       "       'May-TripDistance-Other', 'May-TripDistance-OtherType',\n",
       "       'May-TripMode-Commuting', 'May-TripMode-Medical', 'May-TripMode-Gym',\n",
       "       'May-TripMode-ToSchool', 'May-TripMode-FromSchool', 'May-TripMode-Bar',\n",
       "       'May-TripMode-MovieTheater', 'May-TripMode-Friends',\n",
       "       'May-TripMode-Family', 'May-TripMode-Other', 'May-TripMode-OtherType',\n",
       "       'LivingInSamePlace', 'JanFeb-WorkingHours', 'JanFeb-TelecommutingDays',\n",
       "       'DifferentTravelPatterns'],\n",
       "      dtype='object')"
      ]
     },
     "execution_count": 45,
     "metadata": {},
     "output_type": "execute_result"
    }
   ],
   "source": [
    "recoded.columns"
   ]
  },
  {
   "cell_type": "code",
   "execution_count": 46,
   "metadata": {},
   "outputs": [],
   "source": [
    "recoded['DifferentPatternsExplanation'] = sacog[sacog.columns[97]].copy()"
   ]
  },
  {
   "cell_type": "code",
   "execution_count": 47,
   "metadata": {},
   "outputs": [],
   "source": [
    "def scrape_trips_jan(i):\n",
    "    series = sacog.iloc[:,i]\n",
    "    location = series.name.split(' - ')[-1]\n",
    "    name = locations_dict[location]\n",
    "    no_trips = sacog.iloc[:,i+11]\n",
    "    df = series.str.split(' ',expand = True)\n",
    "    column = df[0].replace('More',11)\n",
    "    column[no_trips == 1] = 0\n",
    "    column = column.fillna(-9998)\n",
    "    return 'JanFeb-TripNumber-'+name, column.astype(int)"
   ]
  },
  {
   "cell_type": "code",
   "execution_count": 48,
   "metadata": {},
   "outputs": [
    {
     "data": {
      "text/plain": [
       "0                 5 trips\n",
       "1                     NaN\n",
       "2      More than 10 trips\n",
       "3                 8 trips\n",
       "4                10 trips\n",
       "              ...        \n",
       "322              10 trips\n",
       "323              10 trips\n",
       "324               5 trips\n",
       "325                   NaN\n",
       "326               5 trips\n",
       "Name: During that typical week in Jan./Feb. 2020 (prior to the COVID-19 pandemic), about how many trips... - Number of trips - Commuting to work/school or other primary destination, Length: 327, dtype: object"
      ]
     },
     "execution_count": 48,
     "metadata": {},
     "output_type": "execute_result"
    }
   ],
   "source": [
    "sacog.iloc[:,98]"
   ]
  },
  {
   "cell_type": "code",
   "execution_count": 49,
   "metadata": {},
   "outputs": [],
   "source": [
    "for i in range(98,108):\n",
    "    (name, series) = scrape_trips_jan(i)\n",
    "    recoded[name] = series"
   ]
  },
  {
   "cell_type": "code",
   "execution_count": 50,
   "metadata": {},
   "outputs": [],
   "source": [
    "recoded['JanFeb-TripNumber-OtherType'] = sacog[sacog.columns[108]]"
   ]
  },
  {
   "cell_type": "code",
   "execution_count": 51,
   "metadata": {},
   "outputs": [],
   "source": [
    "for i in range(120,130):\n",
    "    series = sacog[sacog.columns[i]]\n",
    "    name = 'Change-NonShopping-TripDistance-'+locations_dict[series.name.split(' - ')[-1]]\n",
    "    recoded[name] = series.replace(binary_dict).fillna(-9998).astype(int)\n",
    "recoded['Change-NonShopping-TripDistance-OtherType'] = sacog[sacog.columns[130]]"
   ]
  },
  {
   "cell_type": "code",
   "execution_count": 52,
   "metadata": {},
   "outputs": [],
   "source": [
    "for i in range(131,141):\n",
    "    series = sacog[sacog.columns[i]]\n",
    "    name = 'Change-NonShopping-TripMode-'+locations_dict[series.name.split(' - ')[-1]]\n",
    "    recoded[name] = series.replace(binary_dict).fillna(-9998).astype(int)\n",
    "recoded['Change-NonShopping-TripMode-OtherType'] = sacog[sacog.columns[141]]"
   ]
  },
  {
   "cell_type": "code",
   "execution_count": 53,
   "metadata": {},
   "outputs": [
    {
     "data": {
      "text/html": [
       "<div>\n",
       "<style scoped>\n",
       "    .dataframe tbody tr th:only-of-type {\n",
       "        vertical-align: middle;\n",
       "    }\n",
       "\n",
       "    .dataframe tbody tr th {\n",
       "        vertical-align: top;\n",
       "    }\n",
       "\n",
       "    .dataframe thead th {\n",
       "        text-align: right;\n",
       "    }\n",
       "</style>\n",
       "<table border=\"1\" class=\"dataframe\">\n",
       "  <thead>\n",
       "    <tr style=\"text-align: right;\">\n",
       "      <th></th>\n",
       "      <th>Start Date</th>\n",
       "      <th>End Date</th>\n",
       "      <th>Response Type</th>\n",
       "      <th>IP Address</th>\n",
       "      <th>Progress</th>\n",
       "      <th>Duration (in seconds)</th>\n",
       "      <th>Finished</th>\n",
       "      <th>Recorded Date</th>\n",
       "      <th>Response ID</th>\n",
       "      <th>Recipient Last Name</th>\n",
       "      <th>...</th>\n",
       "      <th>Change-NonShopping-TripMode-Medical</th>\n",
       "      <th>Change-NonShopping-TripMode-Gym</th>\n",
       "      <th>Change-NonShopping-TripMode-ToSchool</th>\n",
       "      <th>Change-NonShopping-TripMode-FromSchool</th>\n",
       "      <th>Change-NonShopping-TripMode-Bar</th>\n",
       "      <th>Change-NonShopping-TripMode-MovieTheater</th>\n",
       "      <th>Change-NonShopping-TripMode-Friends</th>\n",
       "      <th>Change-NonShopping-TripMode-Family</th>\n",
       "      <th>Change-NonShopping-TripMode-Other</th>\n",
       "      <th>Change-NonShopping-TripMode-OtherType</th>\n",
       "    </tr>\n",
       "  </thead>\n",
       "  <tbody>\n",
       "    <tr>\n",
       "      <th>0</th>\n",
       "      <td>2020-05-25 12:07:41</td>\n",
       "      <td>2020-05-25 12:40:19</td>\n",
       "      <td>IP Address</td>\n",
       "      <td>98.208.112.200</td>\n",
       "      <td>100</td>\n",
       "      <td>1957</td>\n",
       "      <td>True</td>\n",
       "      <td>2020-05-25 12:40:20.264</td>\n",
       "      <td>R_3HLKBXhTIWgpd5v</td>\n",
       "      <td>NaN</td>\n",
       "      <td>...</td>\n",
       "      <td>0</td>\n",
       "      <td>-9998</td>\n",
       "      <td>-9998</td>\n",
       "      <td>-9998</td>\n",
       "      <td>-9998</td>\n",
       "      <td>-9998</td>\n",
       "      <td>-9998</td>\n",
       "      <td>-9998</td>\n",
       "      <td>-9998</td>\n",
       "      <td>NaN</td>\n",
       "    </tr>\n",
       "    <tr>\n",
       "      <th>1</th>\n",
       "      <td>2020-05-25 12:10:20</td>\n",
       "      <td>2020-05-25 12:40:47</td>\n",
       "      <td>IP Address</td>\n",
       "      <td>75.111.25.35</td>\n",
       "      <td>100</td>\n",
       "      <td>1826</td>\n",
       "      <td>True</td>\n",
       "      <td>2020-05-25 12:40:48.693</td>\n",
       "      <td>R_2dgBf5xYdf4pJDs</td>\n",
       "      <td>NaN</td>\n",
       "      <td>...</td>\n",
       "      <td>-9998</td>\n",
       "      <td>-9998</td>\n",
       "      <td>-9998</td>\n",
       "      <td>-9998</td>\n",
       "      <td>-9998</td>\n",
       "      <td>-9998</td>\n",
       "      <td>-9998</td>\n",
       "      <td>-9998</td>\n",
       "      <td>-9998</td>\n",
       "      <td>NaN</td>\n",
       "    </tr>\n",
       "    <tr>\n",
       "      <th>2</th>\n",
       "      <td>2020-05-25 12:15:34</td>\n",
       "      <td>2020-05-25 12:43:10</td>\n",
       "      <td>IP Address</td>\n",
       "      <td>107.138.66.44</td>\n",
       "      <td>100</td>\n",
       "      <td>1655</td>\n",
       "      <td>True</td>\n",
       "      <td>2020-05-25 12:43:11.046</td>\n",
       "      <td>R_wXWh8mxuoPtnAWt</td>\n",
       "      <td>NaN</td>\n",
       "      <td>...</td>\n",
       "      <td>-9998</td>\n",
       "      <td>-9998</td>\n",
       "      <td>-9998</td>\n",
       "      <td>-9998</td>\n",
       "      <td>-9998</td>\n",
       "      <td>-9998</td>\n",
       "      <td>-9998</td>\n",
       "      <td>-9998</td>\n",
       "      <td>-9998</td>\n",
       "      <td>NaN</td>\n",
       "    </tr>\n",
       "    <tr>\n",
       "      <th>3</th>\n",
       "      <td>2020-05-25 12:13:15</td>\n",
       "      <td>2020-05-25 12:47:12</td>\n",
       "      <td>IP Address</td>\n",
       "      <td>23.114.218.168</td>\n",
       "      <td>100</td>\n",
       "      <td>2036</td>\n",
       "      <td>True</td>\n",
       "      <td>2020-05-25 12:47:13.365</td>\n",
       "      <td>R_2TNwp9PZ6T9eKdl</td>\n",
       "      <td>NaN</td>\n",
       "      <td>...</td>\n",
       "      <td>0</td>\n",
       "      <td>-9998</td>\n",
       "      <td>-9998</td>\n",
       "      <td>-9998</td>\n",
       "      <td>-9998</td>\n",
       "      <td>-9998</td>\n",
       "      <td>-9998</td>\n",
       "      <td>-9998</td>\n",
       "      <td>-9998</td>\n",
       "      <td>NaN</td>\n",
       "    </tr>\n",
       "    <tr>\n",
       "      <th>4</th>\n",
       "      <td>2020-05-25 12:16:28</td>\n",
       "      <td>2020-05-25 12:47:25</td>\n",
       "      <td>IP Address</td>\n",
       "      <td>73.2.34.66</td>\n",
       "      <td>100</td>\n",
       "      <td>1856</td>\n",
       "      <td>True</td>\n",
       "      <td>2020-05-25 12:47:26.445</td>\n",
       "      <td>R_1ouIsItTUyGkZBh</td>\n",
       "      <td>NaN</td>\n",
       "      <td>...</td>\n",
       "      <td>-9998</td>\n",
       "      <td>-9998</td>\n",
       "      <td>-9998</td>\n",
       "      <td>-9998</td>\n",
       "      <td>-9998</td>\n",
       "      <td>-9998</td>\n",
       "      <td>-9998</td>\n",
       "      <td>-9998</td>\n",
       "      <td>-9998</td>\n",
       "      <td>NaN</td>\n",
       "    </tr>\n",
       "    <tr>\n",
       "      <th>...</th>\n",
       "      <td>...</td>\n",
       "      <td>...</td>\n",
       "      <td>...</td>\n",
       "      <td>...</td>\n",
       "      <td>...</td>\n",
       "      <td>...</td>\n",
       "      <td>...</td>\n",
       "      <td>...</td>\n",
       "      <td>...</td>\n",
       "      <td>...</td>\n",
       "      <td>...</td>\n",
       "      <td>...</td>\n",
       "      <td>...</td>\n",
       "      <td>...</td>\n",
       "      <td>...</td>\n",
       "      <td>...</td>\n",
       "      <td>...</td>\n",
       "      <td>...</td>\n",
       "      <td>...</td>\n",
       "      <td>...</td>\n",
       "      <td>...</td>\n",
       "    </tr>\n",
       "    <tr>\n",
       "      <th>322</th>\n",
       "      <td>2020-05-31 18:36:11</td>\n",
       "      <td>2020-05-31 20:15:14</td>\n",
       "      <td>IP Address</td>\n",
       "      <td>67.187.138.65</td>\n",
       "      <td>100</td>\n",
       "      <td>5943</td>\n",
       "      <td>True</td>\n",
       "      <td>2020-05-31 20:15:15.364</td>\n",
       "      <td>R_2wp0SGwDj5EI5Vt</td>\n",
       "      <td>NaN</td>\n",
       "      <td>...</td>\n",
       "      <td>0</td>\n",
       "      <td>-9998</td>\n",
       "      <td>-9998</td>\n",
       "      <td>-9998</td>\n",
       "      <td>-9998</td>\n",
       "      <td>-9998</td>\n",
       "      <td>-9998</td>\n",
       "      <td>0</td>\n",
       "      <td>-9998</td>\n",
       "      <td>NaN</td>\n",
       "    </tr>\n",
       "    <tr>\n",
       "      <th>323</th>\n",
       "      <td>2020-05-31 20:05:38</td>\n",
       "      <td>2020-05-31 21:23:27</td>\n",
       "      <td>IP Address</td>\n",
       "      <td>99.105.32.108</td>\n",
       "      <td>100</td>\n",
       "      <td>4669</td>\n",
       "      <td>True</td>\n",
       "      <td>2020-05-31 21:23:28.470</td>\n",
       "      <td>R_QcrB2aYNBqcQXg5</td>\n",
       "      <td>NaN</td>\n",
       "      <td>...</td>\n",
       "      <td>-9998</td>\n",
       "      <td>-9998</td>\n",
       "      <td>-9998</td>\n",
       "      <td>-9998</td>\n",
       "      <td>-9998</td>\n",
       "      <td>-9998</td>\n",
       "      <td>-9998</td>\n",
       "      <td>-9998</td>\n",
       "      <td>-9998</td>\n",
       "      <td>NaN</td>\n",
       "    </tr>\n",
       "    <tr>\n",
       "      <th>324</th>\n",
       "      <td>2020-06-01 10:03:19</td>\n",
       "      <td>2020-06-01 10:53:10</td>\n",
       "      <td>IP Address</td>\n",
       "      <td>149.136.17.252</td>\n",
       "      <td>100</td>\n",
       "      <td>2990</td>\n",
       "      <td>True</td>\n",
       "      <td>2020-06-01 10:53:11.344</td>\n",
       "      <td>R_2CJHppa3U27Oxe2</td>\n",
       "      <td>NaN</td>\n",
       "      <td>...</td>\n",
       "      <td>-9998</td>\n",
       "      <td>-9998</td>\n",
       "      <td>-9998</td>\n",
       "      <td>-9998</td>\n",
       "      <td>0</td>\n",
       "      <td>-9998</td>\n",
       "      <td>-9998</td>\n",
       "      <td>0</td>\n",
       "      <td>0</td>\n",
       "      <td>NaN</td>\n",
       "    </tr>\n",
       "    <tr>\n",
       "      <th>325</th>\n",
       "      <td>2020-06-01 03:35:38</td>\n",
       "      <td>2020-06-01 12:01:49</td>\n",
       "      <td>IP Address</td>\n",
       "      <td>23.114.37.167</td>\n",
       "      <td>100</td>\n",
       "      <td>30370</td>\n",
       "      <td>True</td>\n",
       "      <td>2020-06-01 12:01:50.957</td>\n",
       "      <td>R_1liC70nsJ8qXqbW</td>\n",
       "      <td>NaN</td>\n",
       "      <td>...</td>\n",
       "      <td>-9998</td>\n",
       "      <td>-9998</td>\n",
       "      <td>-9998</td>\n",
       "      <td>-9998</td>\n",
       "      <td>-9998</td>\n",
       "      <td>-9998</td>\n",
       "      <td>0</td>\n",
       "      <td>-9998</td>\n",
       "      <td>-9998</td>\n",
       "      <td>NaN</td>\n",
       "    </tr>\n",
       "    <tr>\n",
       "      <th>326</th>\n",
       "      <td>2020-05-28 23:01:43</td>\n",
       "      <td>2020-06-05 08:47:27</td>\n",
       "      <td>IP Address</td>\n",
       "      <td>104.220.150.42</td>\n",
       "      <td>100</td>\n",
       "      <td>639943</td>\n",
       "      <td>True</td>\n",
       "      <td>2020-06-05 08:47:28.513</td>\n",
       "      <td>R_31LydsXQsx3GG1y</td>\n",
       "      <td>NaN</td>\n",
       "      <td>...</td>\n",
       "      <td>-9998</td>\n",
       "      <td>-9998</td>\n",
       "      <td>-9998</td>\n",
       "      <td>-9998</td>\n",
       "      <td>-9998</td>\n",
       "      <td>-9998</td>\n",
       "      <td>-9998</td>\n",
       "      <td>-9998</td>\n",
       "      <td>0</td>\n",
       "      <td>Groceries</td>\n",
       "    </tr>\n",
       "  </tbody>\n",
       "</table>\n",
       "<p>327 rows × 104 columns</p>\n",
       "</div>"
      ],
      "text/plain": [
       "             Start Date            End Date Response Type      IP Address  \\\n",
       "0   2020-05-25 12:07:41 2020-05-25 12:40:19    IP Address  98.208.112.200   \n",
       "1   2020-05-25 12:10:20 2020-05-25 12:40:47    IP Address    75.111.25.35   \n",
       "2   2020-05-25 12:15:34 2020-05-25 12:43:10    IP Address   107.138.66.44   \n",
       "3   2020-05-25 12:13:15 2020-05-25 12:47:12    IP Address  23.114.218.168   \n",
       "4   2020-05-25 12:16:28 2020-05-25 12:47:25    IP Address      73.2.34.66   \n",
       "..                  ...                 ...           ...             ...   \n",
       "322 2020-05-31 18:36:11 2020-05-31 20:15:14    IP Address   67.187.138.65   \n",
       "323 2020-05-31 20:05:38 2020-05-31 21:23:27    IP Address   99.105.32.108   \n",
       "324 2020-06-01 10:03:19 2020-06-01 10:53:10    IP Address  149.136.17.252   \n",
       "325 2020-06-01 03:35:38 2020-06-01 12:01:49    IP Address   23.114.37.167   \n",
       "326 2020-05-28 23:01:43 2020-06-05 08:47:27    IP Address  104.220.150.42   \n",
       "\n",
       "     Progress  Duration (in seconds)  Finished           Recorded Date  \\\n",
       "0         100                   1957      True 2020-05-25 12:40:20.264   \n",
       "1         100                   1826      True 2020-05-25 12:40:48.693   \n",
       "2         100                   1655      True 2020-05-25 12:43:11.046   \n",
       "3         100                   2036      True 2020-05-25 12:47:13.365   \n",
       "4         100                   1856      True 2020-05-25 12:47:26.445   \n",
       "..        ...                    ...       ...                     ...   \n",
       "322       100                   5943      True 2020-05-31 20:15:15.364   \n",
       "323       100                   4669      True 2020-05-31 21:23:28.470   \n",
       "324       100                   2990      True 2020-06-01 10:53:11.344   \n",
       "325       100                  30370      True 2020-06-01 12:01:50.957   \n",
       "326       100                 639943      True 2020-06-05 08:47:28.513   \n",
       "\n",
       "           Response ID  Recipient Last Name  ...  \\\n",
       "0    R_3HLKBXhTIWgpd5v                  NaN  ...   \n",
       "1    R_2dgBf5xYdf4pJDs                  NaN  ...   \n",
       "2    R_wXWh8mxuoPtnAWt                  NaN  ...   \n",
       "3    R_2TNwp9PZ6T9eKdl                  NaN  ...   \n",
       "4    R_1ouIsItTUyGkZBh                  NaN  ...   \n",
       "..                 ...                  ...  ...   \n",
       "322  R_2wp0SGwDj5EI5Vt                  NaN  ...   \n",
       "323  R_QcrB2aYNBqcQXg5                  NaN  ...   \n",
       "324  R_2CJHppa3U27Oxe2                  NaN  ...   \n",
       "325  R_1liC70nsJ8qXqbW                  NaN  ...   \n",
       "326  R_31LydsXQsx3GG1y                  NaN  ...   \n",
       "\n",
       "     Change-NonShopping-TripMode-Medical Change-NonShopping-TripMode-Gym  \\\n",
       "0                                      0                           -9998   \n",
       "1                                  -9998                           -9998   \n",
       "2                                  -9998                           -9998   \n",
       "3                                      0                           -9998   \n",
       "4                                  -9998                           -9998   \n",
       "..                                   ...                             ...   \n",
       "322                                    0                           -9998   \n",
       "323                                -9998                           -9998   \n",
       "324                                -9998                           -9998   \n",
       "325                                -9998                           -9998   \n",
       "326                                -9998                           -9998   \n",
       "\n",
       "     Change-NonShopping-TripMode-ToSchool  \\\n",
       "0                                   -9998   \n",
       "1                                   -9998   \n",
       "2                                   -9998   \n",
       "3                                   -9998   \n",
       "4                                   -9998   \n",
       "..                                    ...   \n",
       "322                                 -9998   \n",
       "323                                 -9998   \n",
       "324                                 -9998   \n",
       "325                                 -9998   \n",
       "326                                 -9998   \n",
       "\n",
       "     Change-NonShopping-TripMode-FromSchool  Change-NonShopping-TripMode-Bar  \\\n",
       "0                                     -9998                            -9998   \n",
       "1                                     -9998                            -9998   \n",
       "2                                     -9998                            -9998   \n",
       "3                                     -9998                            -9998   \n",
       "4                                     -9998                            -9998   \n",
       "..                                      ...                              ...   \n",
       "322                                   -9998                            -9998   \n",
       "323                                   -9998                            -9998   \n",
       "324                                   -9998                                0   \n",
       "325                                   -9998                            -9998   \n",
       "326                                   -9998                            -9998   \n",
       "\n",
       "    Change-NonShopping-TripMode-MovieTheater  \\\n",
       "0                                      -9998   \n",
       "1                                      -9998   \n",
       "2                                      -9998   \n",
       "3                                      -9998   \n",
       "4                                      -9998   \n",
       "..                                       ...   \n",
       "322                                    -9998   \n",
       "323                                    -9998   \n",
       "324                                    -9998   \n",
       "325                                    -9998   \n",
       "326                                    -9998   \n",
       "\n",
       "    Change-NonShopping-TripMode-Friends  Change-NonShopping-TripMode-Family  \\\n",
       "0                                 -9998                               -9998   \n",
       "1                                 -9998                               -9998   \n",
       "2                                 -9998                               -9998   \n",
       "3                                 -9998                               -9998   \n",
       "4                                 -9998                               -9998   \n",
       "..                                  ...                                 ...   \n",
       "322                               -9998                                   0   \n",
       "323                               -9998                               -9998   \n",
       "324                               -9998                                   0   \n",
       "325                                   0                               -9998   \n",
       "326                               -9998                               -9998   \n",
       "\n",
       "    Change-NonShopping-TripMode-Other Change-NonShopping-TripMode-OtherType  \n",
       "0                               -9998                                   NaN  \n",
       "1                               -9998                                   NaN  \n",
       "2                               -9998                                   NaN  \n",
       "3                               -9998                                   NaN  \n",
       "4                               -9998                                   NaN  \n",
       "..                                ...                                   ...  \n",
       "322                             -9998                                   NaN  \n",
       "323                             -9998                                   NaN  \n",
       "324                                 0                                   NaN  \n",
       "325                             -9998                                   NaN  \n",
       "326                                 0                             Groceries  \n",
       "\n",
       "[327 rows x 104 columns]"
      ]
     },
     "execution_count": 53,
     "metadata": {},
     "output_type": "execute_result"
    }
   ],
   "source": [
    "recoded"
   ]
  },
  {
   "cell_type": "code",
   "execution_count": 54,
   "metadata": {},
   "outputs": [],
   "source": [
    "for i in range(142,152):\n",
    "    series1 = sacog[sacog.columns[i]].copy()\n",
    "    series2 = sacog[sacog.columns[i+33]].copy()\n",
    "    name = 'JanFeb-NonShopping-TripMode-'+locations_dict[series1.name.split(' - ')[-1]]\n",
    "    series1[series2.notna()] = series2[series2.notna()]\n",
    "    recoded[name] = series1.fillna(\"No Response\").str.split('(').str[0]\n",
    "    \n",
    "other1 = sacog[sacog.columns[152]].copy()\n",
    "other2 = sacog[sacog.columns[185]].copy()\n",
    "other1[other2.notna()] = other2[other2.notna()]\n",
    "recoded['JanFeb-NonShopping-TripMode-OtherType'] = other1"
   ]
  },
  {
   "cell_type": "code",
   "execution_count": 55,
   "metadata": {},
   "outputs": [
    {
     "data": {
      "text/plain": [
       "(182, 149)"
      ]
     },
     "execution_count": 55,
     "metadata": {},
     "output_type": "execute_result"
    }
   ],
   "source": [
    "182, 182-33"
   ]
  },
  {
   "cell_type": "code",
   "execution_count": 56,
   "metadata": {},
   "outputs": [
    {
     "data": {
      "text/plain": [
       "43     Personal bike\n",
       "97     Personal bike\n",
       "104    Driving alone\n",
       "112    Driving alone\n",
       "230          Walking\n",
       "Name: What primary modes did you use during that typical week in Jan./Feb. 2020 (prior to the COVID-19... - Primary mode - Visiting friends, dtype: object"
      ]
     },
     "execution_count": 56,
     "metadata": {},
     "output_type": "execute_result"
    }
   ],
   "source": [
    "sacog[sacog.columns[149]][sacog[sacog.columns[149]].notna()]"
   ]
  },
  {
   "cell_type": "code",
   "execution_count": 57,
   "metadata": {},
   "outputs": [
    {
     "data": {
      "text/plain": [
       "47                      Driving alone\n",
       "78     Carpooling (riding or driving)\n",
       "125    Carpooling (riding or driving)\n",
       "223                     Driving alone\n",
       "257                     Driving alone\n",
       "263                     Driving alone\n",
       "285    Carpooling (riding or driving)\n",
       "287                     Driving alone\n",
       "Name: What primary modes did you use during that typical week in Jan./Feb. 2020 (prior to the COVID-19... - Primary mode - Visiting friends.1, dtype: object"
      ]
     },
     "execution_count": 57,
     "metadata": {},
     "output_type": "execute_result"
    }
   ],
   "source": [
    "sacog[sacog.columns[182]][sacog[sacog.columns[182]].notna()]"
   ]
  },
  {
   "cell_type": "code",
   "execution_count": 58,
   "metadata": {},
   "outputs": [
    {
     "data": {
      "text/plain": [
       "No Response      314\n",
       "Driving alone      7\n",
       "Carpooling         3\n",
       "Personal bike      2\n",
       "Walking            1\n",
       "Name: JanFeb-NonShopping-TripMode-Friends, dtype: int64"
      ]
     },
     "execution_count": 58,
     "metadata": {},
     "output_type": "execute_result"
    }
   ],
   "source": [
    "recoded['JanFeb-NonShopping-TripMode-Friends'].value_counts()"
   ]
  },
  {
   "cell_type": "code",
   "execution_count": 59,
   "metadata": {},
   "outputs": [],
   "source": [
    "for i in range(153,163):\n",
    "    series1 = sacog[sacog.columns[i]].copy()\n",
    "    series2 = sacog[sacog.columns[i+11]].copy()\n",
    "    name = 'JanFeb-TripDistance-'+locations_dict[series1.name.split(' - ')[-1]]\n",
    "    series1[series2.notna()] = series2[series2.notna()]\n",
    "    recoded[name] = series1.fillna(\"No Response\")\n",
    "    \n",
    "other1 = sacog[sacog.columns[163]].copy()\n",
    "other2 = sacog[sacog.columns[174]].copy()\n",
    "other1[other2.notna()] = other2[other2.notna()]\n",
    "recoded['JanFeb-TripDistance-OtherType'] = other1"
   ]
  },
  {
   "cell_type": "code",
   "execution_count": 60,
   "metadata": {},
   "outputs": [
    {
     "data": {
      "text/html": [
       "<div>\n",
       "<style scoped>\n",
       "    .dataframe tbody tr th:only-of-type {\n",
       "        vertical-align: middle;\n",
       "    }\n",
       "\n",
       "    .dataframe tbody tr th {\n",
       "        vertical-align: top;\n",
       "    }\n",
       "\n",
       "    .dataframe thead th {\n",
       "        text-align: right;\n",
       "    }\n",
       "</style>\n",
       "<table border=\"1\" class=\"dataframe\">\n",
       "  <thead>\n",
       "    <tr style=\"text-align: right;\">\n",
       "      <th></th>\n",
       "      <th>Start Date</th>\n",
       "      <th>End Date</th>\n",
       "      <th>Response Type</th>\n",
       "      <th>IP Address</th>\n",
       "      <th>Progress</th>\n",
       "      <th>Duration (in seconds)</th>\n",
       "      <th>Finished</th>\n",
       "      <th>Recorded Date</th>\n",
       "      <th>Response ID</th>\n",
       "      <th>Recipient Last Name</th>\n",
       "      <th>...</th>\n",
       "      <th>JanFeb-TripDistance-Medical</th>\n",
       "      <th>JanFeb-TripDistance-Gym</th>\n",
       "      <th>JanFeb-TripDistance-ToSchool</th>\n",
       "      <th>JanFeb-TripDistance-FromSchool</th>\n",
       "      <th>JanFeb-TripDistance-Bar</th>\n",
       "      <th>JanFeb-TripDistance-MovieTheater</th>\n",
       "      <th>JanFeb-TripDistance-Friends</th>\n",
       "      <th>JanFeb-TripDistance-Family</th>\n",
       "      <th>JanFeb-TripDistance-Other</th>\n",
       "      <th>JanFeb-TripDistance-OtherType</th>\n",
       "    </tr>\n",
       "  </thead>\n",
       "  <tbody>\n",
       "    <tr>\n",
       "      <th>0</th>\n",
       "      <td>2020-05-25 12:07:41</td>\n",
       "      <td>2020-05-25 12:40:19</td>\n",
       "      <td>IP Address</td>\n",
       "      <td>98.208.112.200</td>\n",
       "      <td>100</td>\n",
       "      <td>1957</td>\n",
       "      <td>True</td>\n",
       "      <td>2020-05-25 12:40:20.264</td>\n",
       "      <td>R_3HLKBXhTIWgpd5v</td>\n",
       "      <td>NaN</td>\n",
       "      <td>...</td>\n",
       "      <td>No Response</td>\n",
       "      <td>No Response</td>\n",
       "      <td>No Response</td>\n",
       "      <td>No Response</td>\n",
       "      <td>No Response</td>\n",
       "      <td>No Response</td>\n",
       "      <td>No Response</td>\n",
       "      <td>No Response</td>\n",
       "      <td>No Response</td>\n",
       "      <td>NaN</td>\n",
       "    </tr>\n",
       "    <tr>\n",
       "      <th>1</th>\n",
       "      <td>2020-05-25 12:10:20</td>\n",
       "      <td>2020-05-25 12:40:47</td>\n",
       "      <td>IP Address</td>\n",
       "      <td>75.111.25.35</td>\n",
       "      <td>100</td>\n",
       "      <td>1826</td>\n",
       "      <td>True</td>\n",
       "      <td>2020-05-25 12:40:48.693</td>\n",
       "      <td>R_2dgBf5xYdf4pJDs</td>\n",
       "      <td>NaN</td>\n",
       "      <td>...</td>\n",
       "      <td>No Response</td>\n",
       "      <td>No Response</td>\n",
       "      <td>No Response</td>\n",
       "      <td>No Response</td>\n",
       "      <td>No Response</td>\n",
       "      <td>No Response</td>\n",
       "      <td>No Response</td>\n",
       "      <td>No Response</td>\n",
       "      <td>No Response</td>\n",
       "      <td>NaN</td>\n",
       "    </tr>\n",
       "    <tr>\n",
       "      <th>2</th>\n",
       "      <td>2020-05-25 12:15:34</td>\n",
       "      <td>2020-05-25 12:43:10</td>\n",
       "      <td>IP Address</td>\n",
       "      <td>107.138.66.44</td>\n",
       "      <td>100</td>\n",
       "      <td>1655</td>\n",
       "      <td>True</td>\n",
       "      <td>2020-05-25 12:43:11.046</td>\n",
       "      <td>R_wXWh8mxuoPtnAWt</td>\n",
       "      <td>NaN</td>\n",
       "      <td>...</td>\n",
       "      <td>No Response</td>\n",
       "      <td>No Response</td>\n",
       "      <td>No Response</td>\n",
       "      <td>No Response</td>\n",
       "      <td>No Response</td>\n",
       "      <td>No Response</td>\n",
       "      <td>No Response</td>\n",
       "      <td>No Response</td>\n",
       "      <td>No Response</td>\n",
       "      <td>NaN</td>\n",
       "    </tr>\n",
       "    <tr>\n",
       "      <th>3</th>\n",
       "      <td>2020-05-25 12:13:15</td>\n",
       "      <td>2020-05-25 12:47:12</td>\n",
       "      <td>IP Address</td>\n",
       "      <td>23.114.218.168</td>\n",
       "      <td>100</td>\n",
       "      <td>2036</td>\n",
       "      <td>True</td>\n",
       "      <td>2020-05-25 12:47:13.365</td>\n",
       "      <td>R_2TNwp9PZ6T9eKdl</td>\n",
       "      <td>NaN</td>\n",
       "      <td>...</td>\n",
       "      <td>No Response</td>\n",
       "      <td>No Response</td>\n",
       "      <td>No Response</td>\n",
       "      <td>No Response</td>\n",
       "      <td>No Response</td>\n",
       "      <td>No Response</td>\n",
       "      <td>No Response</td>\n",
       "      <td>No Response</td>\n",
       "      <td>No Response</td>\n",
       "      <td>NaN</td>\n",
       "    </tr>\n",
       "    <tr>\n",
       "      <th>4</th>\n",
       "      <td>2020-05-25 12:16:28</td>\n",
       "      <td>2020-05-25 12:47:25</td>\n",
       "      <td>IP Address</td>\n",
       "      <td>73.2.34.66</td>\n",
       "      <td>100</td>\n",
       "      <td>1856</td>\n",
       "      <td>True</td>\n",
       "      <td>2020-05-25 12:47:26.445</td>\n",
       "      <td>R_1ouIsItTUyGkZBh</td>\n",
       "      <td>NaN</td>\n",
       "      <td>...</td>\n",
       "      <td>No Response</td>\n",
       "      <td>No Response</td>\n",
       "      <td>No Response</td>\n",
       "      <td>No Response</td>\n",
       "      <td>No Response</td>\n",
       "      <td>No Response</td>\n",
       "      <td>No Response</td>\n",
       "      <td>No Response</td>\n",
       "      <td>No Response</td>\n",
       "      <td>NaN</td>\n",
       "    </tr>\n",
       "    <tr>\n",
       "      <th>...</th>\n",
       "      <td>...</td>\n",
       "      <td>...</td>\n",
       "      <td>...</td>\n",
       "      <td>...</td>\n",
       "      <td>...</td>\n",
       "      <td>...</td>\n",
       "      <td>...</td>\n",
       "      <td>...</td>\n",
       "      <td>...</td>\n",
       "      <td>...</td>\n",
       "      <td>...</td>\n",
       "      <td>...</td>\n",
       "      <td>...</td>\n",
       "      <td>...</td>\n",
       "      <td>...</td>\n",
       "      <td>...</td>\n",
       "      <td>...</td>\n",
       "      <td>...</td>\n",
       "      <td>...</td>\n",
       "      <td>...</td>\n",
       "      <td>...</td>\n",
       "    </tr>\n",
       "    <tr>\n",
       "      <th>322</th>\n",
       "      <td>2020-05-31 18:36:11</td>\n",
       "      <td>2020-05-31 20:15:14</td>\n",
       "      <td>IP Address</td>\n",
       "      <td>67.187.138.65</td>\n",
       "      <td>100</td>\n",
       "      <td>5943</td>\n",
       "      <td>True</td>\n",
       "      <td>2020-05-31 20:15:15.364</td>\n",
       "      <td>R_2wp0SGwDj5EI5Vt</td>\n",
       "      <td>NaN</td>\n",
       "      <td>...</td>\n",
       "      <td>No Response</td>\n",
       "      <td>No Response</td>\n",
       "      <td>No Response</td>\n",
       "      <td>No Response</td>\n",
       "      <td>No Response</td>\n",
       "      <td>No Response</td>\n",
       "      <td>No Response</td>\n",
       "      <td>No Response</td>\n",
       "      <td>No Response</td>\n",
       "      <td>NaN</td>\n",
       "    </tr>\n",
       "    <tr>\n",
       "      <th>323</th>\n",
       "      <td>2020-05-31 20:05:38</td>\n",
       "      <td>2020-05-31 21:23:27</td>\n",
       "      <td>IP Address</td>\n",
       "      <td>99.105.32.108</td>\n",
       "      <td>100</td>\n",
       "      <td>4669</td>\n",
       "      <td>True</td>\n",
       "      <td>2020-05-31 21:23:28.470</td>\n",
       "      <td>R_QcrB2aYNBqcQXg5</td>\n",
       "      <td>NaN</td>\n",
       "      <td>...</td>\n",
       "      <td>No Response</td>\n",
       "      <td>No Response</td>\n",
       "      <td>No Response</td>\n",
       "      <td>No Response</td>\n",
       "      <td>No Response</td>\n",
       "      <td>No Response</td>\n",
       "      <td>No Response</td>\n",
       "      <td>No Response</td>\n",
       "      <td>No Response</td>\n",
       "      <td>NaN</td>\n",
       "    </tr>\n",
       "    <tr>\n",
       "      <th>324</th>\n",
       "      <td>2020-06-01 10:03:19</td>\n",
       "      <td>2020-06-01 10:53:10</td>\n",
       "      <td>IP Address</td>\n",
       "      <td>149.136.17.252</td>\n",
       "      <td>100</td>\n",
       "      <td>2990</td>\n",
       "      <td>True</td>\n",
       "      <td>2020-06-01 10:53:11.344</td>\n",
       "      <td>R_2CJHppa3U27Oxe2</td>\n",
       "      <td>NaN</td>\n",
       "      <td>...</td>\n",
       "      <td>No Response</td>\n",
       "      <td>No Response</td>\n",
       "      <td>No Response</td>\n",
       "      <td>No Response</td>\n",
       "      <td>No Response</td>\n",
       "      <td>No Response</td>\n",
       "      <td>No Response</td>\n",
       "      <td>No Response</td>\n",
       "      <td>No Response</td>\n",
       "      <td>NaN</td>\n",
       "    </tr>\n",
       "    <tr>\n",
       "      <th>325</th>\n",
       "      <td>2020-06-01 03:35:38</td>\n",
       "      <td>2020-06-01 12:01:49</td>\n",
       "      <td>IP Address</td>\n",
       "      <td>23.114.37.167</td>\n",
       "      <td>100</td>\n",
       "      <td>30370</td>\n",
       "      <td>True</td>\n",
       "      <td>2020-06-01 12:01:50.957</td>\n",
       "      <td>R_1liC70nsJ8qXqbW</td>\n",
       "      <td>NaN</td>\n",
       "      <td>...</td>\n",
       "      <td>No Response</td>\n",
       "      <td>No Response</td>\n",
       "      <td>No Response</td>\n",
       "      <td>No Response</td>\n",
       "      <td>No Response</td>\n",
       "      <td>No Response</td>\n",
       "      <td>No Response</td>\n",
       "      <td>No Response</td>\n",
       "      <td>No Response</td>\n",
       "      <td>NaN</td>\n",
       "    </tr>\n",
       "    <tr>\n",
       "      <th>326</th>\n",
       "      <td>2020-05-28 23:01:43</td>\n",
       "      <td>2020-06-05 08:47:27</td>\n",
       "      <td>IP Address</td>\n",
       "      <td>104.220.150.42</td>\n",
       "      <td>100</td>\n",
       "      <td>639943</td>\n",
       "      <td>True</td>\n",
       "      <td>2020-06-05 08:47:28.513</td>\n",
       "      <td>R_31LydsXQsx3GG1y</td>\n",
       "      <td>NaN</td>\n",
       "      <td>...</td>\n",
       "      <td>No Response</td>\n",
       "      <td>No Response</td>\n",
       "      <td>No Response</td>\n",
       "      <td>No Response</td>\n",
       "      <td>No Response</td>\n",
       "      <td>No Response</td>\n",
       "      <td>No Response</td>\n",
       "      <td>No Response</td>\n",
       "      <td>No Response</td>\n",
       "      <td>NaN</td>\n",
       "    </tr>\n",
       "  </tbody>\n",
       "</table>\n",
       "<p>327 rows × 126 columns</p>\n",
       "</div>"
      ],
      "text/plain": [
       "             Start Date            End Date Response Type      IP Address  \\\n",
       "0   2020-05-25 12:07:41 2020-05-25 12:40:19    IP Address  98.208.112.200   \n",
       "1   2020-05-25 12:10:20 2020-05-25 12:40:47    IP Address    75.111.25.35   \n",
       "2   2020-05-25 12:15:34 2020-05-25 12:43:10    IP Address   107.138.66.44   \n",
       "3   2020-05-25 12:13:15 2020-05-25 12:47:12    IP Address  23.114.218.168   \n",
       "4   2020-05-25 12:16:28 2020-05-25 12:47:25    IP Address      73.2.34.66   \n",
       "..                  ...                 ...           ...             ...   \n",
       "322 2020-05-31 18:36:11 2020-05-31 20:15:14    IP Address   67.187.138.65   \n",
       "323 2020-05-31 20:05:38 2020-05-31 21:23:27    IP Address   99.105.32.108   \n",
       "324 2020-06-01 10:03:19 2020-06-01 10:53:10    IP Address  149.136.17.252   \n",
       "325 2020-06-01 03:35:38 2020-06-01 12:01:49    IP Address   23.114.37.167   \n",
       "326 2020-05-28 23:01:43 2020-06-05 08:47:27    IP Address  104.220.150.42   \n",
       "\n",
       "     Progress  Duration (in seconds)  Finished           Recorded Date  \\\n",
       "0         100                   1957      True 2020-05-25 12:40:20.264   \n",
       "1         100                   1826      True 2020-05-25 12:40:48.693   \n",
       "2         100                   1655      True 2020-05-25 12:43:11.046   \n",
       "3         100                   2036      True 2020-05-25 12:47:13.365   \n",
       "4         100                   1856      True 2020-05-25 12:47:26.445   \n",
       "..        ...                    ...       ...                     ...   \n",
       "322       100                   5943      True 2020-05-31 20:15:15.364   \n",
       "323       100                   4669      True 2020-05-31 21:23:28.470   \n",
       "324       100                   2990      True 2020-06-01 10:53:11.344   \n",
       "325       100                  30370      True 2020-06-01 12:01:50.957   \n",
       "326       100                 639943      True 2020-06-05 08:47:28.513   \n",
       "\n",
       "           Response ID  Recipient Last Name  ...  JanFeb-TripDistance-Medical  \\\n",
       "0    R_3HLKBXhTIWgpd5v                  NaN  ...                  No Response   \n",
       "1    R_2dgBf5xYdf4pJDs                  NaN  ...                  No Response   \n",
       "2    R_wXWh8mxuoPtnAWt                  NaN  ...                  No Response   \n",
       "3    R_2TNwp9PZ6T9eKdl                  NaN  ...                  No Response   \n",
       "4    R_1ouIsItTUyGkZBh                  NaN  ...                  No Response   \n",
       "..                 ...                  ...  ...                          ...   \n",
       "322  R_2wp0SGwDj5EI5Vt                  NaN  ...                  No Response   \n",
       "323  R_QcrB2aYNBqcQXg5                  NaN  ...                  No Response   \n",
       "324  R_2CJHppa3U27Oxe2                  NaN  ...                  No Response   \n",
       "325  R_1liC70nsJ8qXqbW                  NaN  ...                  No Response   \n",
       "326  R_31LydsXQsx3GG1y                  NaN  ...                  No Response   \n",
       "\n",
       "    JanFeb-TripDistance-Gym  JanFeb-TripDistance-ToSchool  \\\n",
       "0               No Response                   No Response   \n",
       "1               No Response                   No Response   \n",
       "2               No Response                   No Response   \n",
       "3               No Response                   No Response   \n",
       "4               No Response                   No Response   \n",
       "..                      ...                           ...   \n",
       "322             No Response                   No Response   \n",
       "323             No Response                   No Response   \n",
       "324             No Response                   No Response   \n",
       "325             No Response                   No Response   \n",
       "326             No Response                   No Response   \n",
       "\n",
       "     JanFeb-TripDistance-FromSchool  JanFeb-TripDistance-Bar  \\\n",
       "0                       No Response              No Response   \n",
       "1                       No Response              No Response   \n",
       "2                       No Response              No Response   \n",
       "3                       No Response              No Response   \n",
       "4                       No Response              No Response   \n",
       "..                              ...                      ...   \n",
       "322                     No Response              No Response   \n",
       "323                     No Response              No Response   \n",
       "324                     No Response              No Response   \n",
       "325                     No Response              No Response   \n",
       "326                     No Response              No Response   \n",
       "\n",
       "    JanFeb-TripDistance-MovieTheater JanFeb-TripDistance-Friends  \\\n",
       "0                        No Response                 No Response   \n",
       "1                        No Response                 No Response   \n",
       "2                        No Response                 No Response   \n",
       "3                        No Response                 No Response   \n",
       "4                        No Response                 No Response   \n",
       "..                               ...                         ...   \n",
       "322                      No Response                 No Response   \n",
       "323                      No Response                 No Response   \n",
       "324                      No Response                 No Response   \n",
       "325                      No Response                 No Response   \n",
       "326                      No Response                 No Response   \n",
       "\n",
       "     JanFeb-TripDistance-Family JanFeb-TripDistance-Other  \\\n",
       "0                   No Response               No Response   \n",
       "1                   No Response               No Response   \n",
       "2                   No Response               No Response   \n",
       "3                   No Response               No Response   \n",
       "4                   No Response               No Response   \n",
       "..                          ...                       ...   \n",
       "322                 No Response               No Response   \n",
       "323                 No Response               No Response   \n",
       "324                 No Response               No Response   \n",
       "325                 No Response               No Response   \n",
       "326                 No Response               No Response   \n",
       "\n",
       "    JanFeb-TripDistance-OtherType  \n",
       "0                             NaN  \n",
       "1                             NaN  \n",
       "2                             NaN  \n",
       "3                             NaN  \n",
       "4                             NaN  \n",
       "..                            ...  \n",
       "322                           NaN  \n",
       "323                           NaN  \n",
       "324                           NaN  \n",
       "325                           NaN  \n",
       "326                           NaN  \n",
       "\n",
       "[327 rows x 126 columns]"
      ]
     },
     "execution_count": 60,
     "metadata": {},
     "output_type": "execute_result"
    }
   ],
   "source": [
    "recoded"
   ]
  },
  {
   "cell_type": "code",
   "execution_count": 61,
   "metadata": {},
   "outputs": [
    {
     "data": {
      "text/plain": [
       "29          5 - 10 miles\n",
       "41           1 - 3 miles\n",
       "62         25 - 50 miles\n",
       "68           3 - 5 miles\n",
       "138    1/2 mile - 1 mile\n",
       "301        10 - 25 miles\n",
       "303    1/2 mile - 1 mile\n",
       "Name: What were your trip distances during that typical week in Jan./Feb. 2020 (prior to the COVID-19 p... - Trip distance - Commuting to work/school or other primary destination, dtype: object"
      ]
     },
     "execution_count": 61,
     "metadata": {},
     "output_type": "execute_result"
    }
   ],
   "source": [
    "sacog[sacog.columns[153]][sacog[sacog.columns[153]].notna()]"
   ]
  },
  {
   "cell_type": "code",
   "execution_count": 62,
   "metadata": {},
   "outputs": [
    {
     "data": {
      "text/plain": [
       "55     Greater than 50 miles\n",
       "74         1/2 mile - 1 mile\n",
       "254              1 - 3 miles\n",
       "257            25 - 50 miles\n",
       "263              1 - 3 miles\n",
       "276        1/2 mile - 1 mile\n",
       "285            10 - 25 miles\n",
       "Name: What were your trip distances during that typical week in Jan./Feb. 2020 (prior to the COVID-19 p... - Trip distance - Commuting to work/school or other primary destination.1, dtype: object"
      ]
     },
     "execution_count": 62,
     "metadata": {},
     "output_type": "execute_result"
    }
   ],
   "source": [
    "sacog[sacog.columns[164]][sacog[sacog.columns[164]].notna()]"
   ]
  },
  {
   "cell_type": "code",
   "execution_count": null,
   "metadata": {},
   "outputs": [],
   "source": []
  },
  {
   "cell_type": "code",
   "execution_count": 63,
   "metadata": {},
   "outputs": [
    {
     "data": {
      "text/plain": [
       "0        A few days prior to the Governor's announcement\n",
       "1                                       I don't remember\n",
       "2        A few days prior to the Governor's announcement\n",
       "3        A few days prior to the Governor's announcement\n",
       "4      More than one week prior to the Governor's ann...\n",
       "                             ...                        \n",
       "322      A few days prior to the Governor's announcement\n",
       "323            On the day of the Governor's announcement\n",
       "324            On the day of the Governor's announcement\n",
       "325    More than one week prior to the Governor's ann...\n",
       "326      A few days prior to the Governor's announcement\n",
       "Name: When did you first hear about upcoming Shelter in Place orders? For reference, Governer Gavin Newsom issued his statewide Shelter in Place order on Thursday, March 19th, 2020., Length: 327, dtype: object"
      ]
     },
     "execution_count": 63,
     "metadata": {},
     "output_type": "execute_result"
    }
   ],
   "source": [
    "sacog[sacog.columns[186]]"
   ]
  },
  {
   "cell_type": "code",
   "execution_count": 64,
   "metadata": {},
   "outputs": [],
   "source": [
    "recoded[['KnowAboutSIP','PreparedToSIP']] = sacog[sacog.columns[186:188]].fillna('No Response')"
   ]
  },
  {
   "cell_type": "code",
   "execution_count": 65,
   "metadata": {},
   "outputs": [],
   "source": [
    "recoded['NumberInHousehold'] = sacog[sacog.columns[188]].replace({'One; I live alone.':1,'Two':2,'Three':3,'Four':4,'Five or more':5,'Prefer not to answer':999}).fillna(-9998)"
   ]
  },
  {
   "cell_type": "code",
   "execution_count": 66,
   "metadata": {},
   "outputs": [
    {
     "data": {
      "text/plain": [
       "Spouse(s), domestic partner(s)                                     125\n",
       "Spouse(s), domestic partner(s),Children                             66\n",
       "Children                                                            21\n",
       "Roommates or housemates                                              9\n",
       "Spouse(s), domestic partner(s),Children,Parents                      4\n",
       "Spouse(s), domestic partner(s),Parents                               4\n",
       "Siblings                                                             3\n",
       "Parents                                                              3\n",
       "Siblings,Parents                                                     3\n",
       "Spouse(s), domestic partner(s),Other relatives                       2\n",
       "Spouse(s), domestic partner(s),Children,Grandparents                 1\n",
       "Children,Parents                                                     1\n",
       "Children,Other relatives                                             1\n",
       "Spouse(s), domestic partner(s),Children,Roommates or housemates      1\n",
       "Spouse(s), domestic partner(s),Roommates or housemates               1\n",
       "Parents,Roommates or housemates                                      1\n",
       "Spouse(s), domestic partner(s),Children,Other relatives              1\n",
       "Name: Who else do you live with? Please select all that apply. - Selected Choice, dtype: int64"
      ]
     },
     "execution_count": 66,
     "metadata": {},
     "output_type": "execute_result"
    }
   ],
   "source": [
    "sacog[sacog.columns[189]].value_counts()"
   ]
  },
  {
   "cell_type": "code",
   "execution_count": 67,
   "metadata": {},
   "outputs": [
    {
     "data": {
      "text/plain": [
       "Series([], Name: Who else do you live with? Please select all that apply. - Someone not previously listed: - Text, dtype: int64)"
      ]
     },
     "execution_count": 67,
     "metadata": {},
     "output_type": "execute_result"
    }
   ],
   "source": [
    "sacog[sacog.columns[190]].value_counts()"
   ]
  },
  {
   "cell_type": "code",
   "execution_count": 68,
   "metadata": {},
   "outputs": [],
   "source": [
    "recoded['LiveWithSpouse'] = sacog[sacog.columns[189]].str.contains('Spouse(s), domestic partner(s)',regex=False).fillna(0).astype(int)\n",
    "recoded['LiveWithChildren'] = sacog[sacog.columns[189]].str.contains('Children',regex=False).fillna(0).astype(int)\n",
    "recoded['LiveWithSiblings'] = sacog[sacog.columns[189]].str.contains('Siblings',regex=False).fillna(0).astype(int)\n",
    "recoded['LiveWithParents'] = sacog[sacog.columns[189]].str.contains('Parents',regex=False).fillna(0).astype(int)\n",
    "recoded['LiveWithGrandparents'] = sacog[sacog.columns[189]].str.contains('Grandparents',regex=False).fillna(0).astype(int)\n",
    "recoded['LiveWithOtherRelatives'] = sacog[sacog.columns[189]].str.contains('Other relatives',regex=False).fillna(0).astype(int)\n",
    "recoded['LiveWithRoommates'] = sacog[sacog.columns[189]].str.contains('Roommates or housemates',regex=False).fillna(0).astype(int)"
   ]
  },
  {
   "cell_type": "code",
   "execution_count": 69,
   "metadata": {},
   "outputs": [
    {
     "data": {
      "text/plain": [
       "LiveWithSpouse            205\n",
       "LiveWithChildren           96\n",
       "LiveWithSiblings            6\n",
       "LiveWithParents            16\n",
       "LiveWithGrandparents        1\n",
       "LiveWithOtherRelatives      4\n",
       "LiveWithRoommates          12\n",
       "dtype: int64"
      ]
     },
     "execution_count": 69,
     "metadata": {},
     "output_type": "execute_result"
    }
   ],
   "source": [
    "recoded.loc[:,'LiveWithSpouse':'LiveWithRoommates'].sum()"
   ]
  },
  {
   "cell_type": "code",
   "execution_count": 70,
   "metadata": {},
   "outputs": [
    {
     "data": {
      "text/plain": [
       "0                                No\n",
       "1                       No Response\n",
       "2                       No Response\n",
       "3      Yes, for some shopping needs\n",
       "4                                No\n",
       "                   ...             \n",
       "322     Yes, for all shopping needs\n",
       "323                              No\n",
       "324                     No Response\n",
       "325    Yes, for some shopping needs\n",
       "326    Yes, for some shopping needs\n",
       "Name: May-ShareShopping, Length: 327, dtype: object"
      ]
     },
     "execution_count": 70,
     "metadata": {},
     "output_type": "execute_result"
    }
   ],
   "source": [
    "recoded['May-ShareShopping'] = sacog[sacog.columns[191]].fillna('No Response')\n",
    "recoded['May-ShareShopping']"
   ]
  },
  {
   "cell_type": "code",
   "execution_count": 71,
   "metadata": {},
   "outputs": [],
   "source": [
    "items_dict = {'Prepared meal or beverages (i.e., from a restaurant or a café)':'PreparedFood','Groceries':'Groceries',\"Other food items (e.g., specialty foods, farmer's markets, farm boxes, meal preparation kits)\":'OtherFood','Paper products and cleaning supplies':'PaperCleaning','Clothing':'Clothing','Home office items':'HomeOffice','Medication(s)':'Medication',\"Childcare items (e.g., diapers, formula, toys, children's books)\":'ChildcareItems','Some other item(s):':'Other'}\n",
    "for i in range(192,201):\n",
    "    items = sacog.columns[i].split(' - ')[-1]\n",
    "    name = 'May-Shared-'+items_dict[items]\n",
    "    recoded[name] = sacog[sacog.columns[i]].fillna(0).astype(int)\n",
    "recoded['May-Shared-OtherType'] = sacog[sacog.columns[201]]"
   ]
  },
  {
   "cell_type": "code",
   "execution_count": 72,
   "metadata": {},
   "outputs": [],
   "source": [
    "recoded['ShoppingOnBehalf'] = sacog[sacog.columns[202]]"
   ]
  },
  {
   "cell_type": "code",
   "execution_count": 73,
   "metadata": {},
   "outputs": [
    {
     "data": {
      "text/plain": [
       "My immediate family members                                                                                                               86\n",
       "Non-family members (e.g., housemates, friends, neighbors)                                                                                 18\n",
       "My immediate family members,My extended family members                                                                                    10\n",
       "My extended family members                                                                                                                 9\n",
       "My immediate family members,Non-family members (e.g., housemates, friends, neighbors)                                                      8\n",
       "My immediate family members,My extended family members,Non-family members (e.g., housemates, friends, neighbors)                           3\n",
       "Any person(s) not listed above                                                                                                             3\n",
       "My immediate family members,Non-family members (e.g., housemates, friends, neighbors),Colleagues or members of my professional network     1\n",
       "My immediate family members,Colleagues or members of my professional network                                                               1\n",
       "My immediate family members,Any person(s) not listed above                                                                                 1\n",
       "My extended family members,Non-family members (e.g., housemates, friends, neighbors)                                                       1\n",
       "My immediate family members,My extended family members,Colleagues or members of my professional network                                    1\n",
       "Name: Who were you and/or someone else in your household shopping or making these purchases for?\\n \\n\\nPlease select all that apply. - Selected Choice, dtype: int64"
      ]
     },
     "execution_count": 73,
     "metadata": {},
     "output_type": "execute_result"
    }
   ],
   "source": [
    "sacog[sacog.columns[203]].value_counts()"
   ]
  },
  {
   "cell_type": "code",
   "execution_count": 74,
   "metadata": {},
   "outputs": [],
   "source": [
    "shopping_for_people_dict = {'My immediate family members':'ImmediateFamily','My extended family members':'ExtendedFamily','Non-family members (e.g., housemates, friends, neighbors)':'NonFamily','Colleagues or members of my professional network':'Colleagues','Any person(s) not listed above':'Other'}"
   ]
  },
  {
   "cell_type": "code",
   "execution_count": 75,
   "metadata": {},
   "outputs": [],
   "source": [
    "for people in shopping_for_people_dict.keys():\n",
    "    recoded['May-ShoppingFor'+shopping_for_people_dict[people]] = sacog[sacog.columns[203]].str.contains(people,regex=False).fillna(0).astype(int)"
   ]
  },
  {
   "cell_type": "code",
   "execution_count": 76,
   "metadata": {},
   "outputs": [
    {
     "data": {
      "text/plain": [
       "May-ShoppingForImmediateFamily    111\n",
       "May-ShoppingForExtendedFamily      24\n",
       "May-ShoppingForNonFamily           31\n",
       "May-ShoppingForColleagues           3\n",
       "May-ShoppingForOther                4\n",
       "dtype: int64"
      ]
     },
     "execution_count": 76,
     "metadata": {},
     "output_type": "execute_result"
    }
   ],
   "source": [
    "recoded.loc[:,'May-ShoppingForImmediateFamily':'May-ShoppingForOther'].sum()"
   ]
  },
  {
   "cell_type": "code",
   "execution_count": 77,
   "metadata": {},
   "outputs": [],
   "source": [
    "recoded['May-ShoppingForOtherType'] = sacog[sacog.columns[204]]"
   ]
  },
  {
   "cell_type": "code",
   "execution_count": 78,
   "metadata": {},
   "outputs": [
    {
     "data": {
      "text/plain": [
       "In my household                                                                    75\n",
       "Outside my neighborhood but within my city or region                               13\n",
       "Outside my city or region                                                           9\n",
       "In my neighborhood                                                                  6\n",
       "In my household,Outside my city or region                                           2\n",
       "In my household,Outside my neighborhood but within my city or region                1\n",
       "In my neighborhood,Outside my neighborhood but within my city or region             1\n",
       "In my household,In my neighborhood                                                  1\n",
       "Outside my neighborhood but within my city or region,Outside my city or region      1\n",
       "Name: Where did each of these individuals live? You may need to scroll to the right to see all available options. \\n\\nPlease select all that apply. - My immediate family members, dtype: int64"
      ]
     },
     "execution_count": 78,
     "metadata": {},
     "output_type": "execute_result"
    }
   ],
   "source": [
    "sacog[sacog.columns[205]].value_counts()"
   ]
  },
  {
   "cell_type": "code",
   "execution_count": 79,
   "metadata": {},
   "outputs": [],
   "source": [
    "shopping_for_locations_dict = {'In my household':'Household','In my neighborhood':'Neighborhood','Outside my neighborhood but within my city or region':'City','Outside my city or region ':'OutsideRegion'}"
   ]
  },
  {
   "cell_type": "code",
   "execution_count": 80,
   "metadata": {},
   "outputs": [],
   "source": [
    "for i in range(205,210):\n",
    "    people = sacog.columns[i].split(' - ')[-1]\n",
    "    for location in shopping_for_locations_dict.keys():\n",
    "        recoded[shopping_for_people_dict[people]+'-'+shopping_for_locations_dict[location]] = sacog[sacog.columns[i]].str.contains(location,regex=False).fillna(0).astype(int)"
   ]
  },
  {
   "cell_type": "code",
   "execution_count": 81,
   "metadata": {},
   "outputs": [
    {
     "name": "stdout",
     "output_type": "stream",
     "text": [
      "Start Date\n",
      "End Date\n",
      "Response Type\n",
      "IP Address\n",
      "Progress\n",
      "Duration (in seconds)\n",
      "Finished\n",
      "Recorded Date\n",
      "Response ID\n",
      "Recipient Last Name\n",
      "Recipient First Name\n",
      "Recipient Email\n",
      "External Data Reference\n",
      "Location Latitude\n",
      "Location Longitude\n",
      "Distribution Channel\n",
      "User Language\n",
      "Q_RecaptchaScore\n",
      "Participant Consent\n",
      "What is your age group?\n",
      "CountyofResidence\n",
      "Residence-ZipCode\n",
      "Residence-CrossStreet1\n",
      "Residence-CrossStreet2\n",
      "SACOG2018Method\n",
      "LiveWithHouseholdMember\n",
      "MovedSince2018\n",
      "County2018\n",
      "Recontacted\n",
      "OtherFollowups\n",
      "May-WorkingHours\n",
      "May-TelecommutingDays\n",
      "May-Trips-Commuting\n",
      "May-Trips-Medical\n",
      "May-Trips-Gym\n",
      "May-Trips-ToSchool\n",
      "May-Trips-FromSchool\n",
      "May-Trips-Bar\n",
      "May-Trips-MovieTheater\n",
      "May-Trips-Friends\n",
      "May-Trips-Family\n",
      "May-Trips-Other\n",
      "May-Trips-OtherType\n",
      "CommutingFollowup\n",
      "May-TripDistance-Commuting\n",
      "May-TripDistance-Medical\n",
      "May-TripDistance-Gym\n",
      "May-TripDistance-ToSchool\n",
      "May-TripDistance-FromSchool\n",
      "May-TripDistance-Bar\n",
      "May-TripDistance-MovieTheater\n",
      "May-TripDistance-Friends\n",
      "May-TripDistance-Family\n",
      "May-TripDistance-Other\n",
      "May-TripDistance-OtherType\n",
      "May-TripMode-Commuting\n",
      "May-TripMode-Medical\n",
      "May-TripMode-Gym\n",
      "May-TripMode-ToSchool\n",
      "May-TripMode-FromSchool\n",
      "May-TripMode-Bar\n",
      "May-TripMode-MovieTheater\n",
      "May-TripMode-Friends\n",
      "May-TripMode-Family\n",
      "May-TripMode-Other\n",
      "May-TripMode-OtherType\n",
      "LivingInSamePlace\n",
      "JanFeb-WorkingHours\n",
      "JanFeb-TelecommutingDays\n",
      "DifferentTravelPatterns\n",
      "DifferentPatternsExplanation\n",
      "JanFeb-TripNumber-Commuting\n",
      "JanFeb-TripNumber-Medical\n",
      "JanFeb-TripNumber-Gym\n",
      "JanFeb-TripNumber-ToSchool\n",
      "JanFeb-TripNumber-FromSchool\n",
      "JanFeb-TripNumber-Bar\n",
      "JanFeb-TripNumber-MovieTheater\n",
      "JanFeb-TripNumber-Friends\n",
      "JanFeb-TripNumber-Family\n",
      "JanFeb-TripNumber-Other\n",
      "JanFeb-TripNumber-OtherType\n",
      "Change-NonShopping-TripDistance-Commuting\n",
      "Change-NonShopping-TripDistance-Medical\n",
      "Change-NonShopping-TripDistance-Gym\n",
      "Change-NonShopping-TripDistance-ToSchool\n",
      "Change-NonShopping-TripDistance-FromSchool\n",
      "Change-NonShopping-TripDistance-Bar\n",
      "Change-NonShopping-TripDistance-MovieTheater\n",
      "Change-NonShopping-TripDistance-Friends\n",
      "Change-NonShopping-TripDistance-Family\n",
      "Change-NonShopping-TripDistance-Other\n",
      "Change-NonShopping-TripDistance-OtherType\n",
      "Change-NonShopping-TripMode-Commuting\n",
      "Change-NonShopping-TripMode-Medical\n",
      "Change-NonShopping-TripMode-Gym\n",
      "Change-NonShopping-TripMode-ToSchool\n",
      "Change-NonShopping-TripMode-FromSchool\n",
      "Change-NonShopping-TripMode-Bar\n",
      "Change-NonShopping-TripMode-MovieTheater\n",
      "Change-NonShopping-TripMode-Friends\n",
      "Change-NonShopping-TripMode-Family\n",
      "Change-NonShopping-TripMode-Other\n",
      "Change-NonShopping-TripMode-OtherType\n",
      "JanFeb-NonShopping-TripMode-Commuting\n",
      "JanFeb-NonShopping-TripMode-Medical\n",
      "JanFeb-NonShopping-TripMode-Gym\n",
      "JanFeb-NonShopping-TripMode-ToSchool\n",
      "JanFeb-NonShopping-TripMode-FromSchool\n",
      "JanFeb-NonShopping-TripMode-Bar\n",
      "JanFeb-NonShopping-TripMode-MovieTheater\n",
      "JanFeb-NonShopping-TripMode-Friends\n",
      "JanFeb-NonShopping-TripMode-Family\n",
      "JanFeb-NonShopping-TripMode-Other\n",
      "JanFeb-NonShopping-TripMode-OtherType\n",
      "JanFeb-TripDistance-Commuting\n",
      "JanFeb-TripDistance-Medical\n",
      "JanFeb-TripDistance-Gym\n",
      "JanFeb-TripDistance-ToSchool\n",
      "JanFeb-TripDistance-FromSchool\n",
      "JanFeb-TripDistance-Bar\n",
      "JanFeb-TripDistance-MovieTheater\n",
      "JanFeb-TripDistance-Friends\n",
      "JanFeb-TripDistance-Family\n",
      "JanFeb-TripDistance-Other\n",
      "JanFeb-TripDistance-OtherType\n",
      "KnowAboutSIP\n",
      "PreparedToSIP\n",
      "NumberInHousehold\n",
      "LiveWithSpouse\n",
      "LiveWithChildren\n",
      "LiveWithSiblings\n",
      "LiveWithParents\n",
      "LiveWithGrandparents\n",
      "LiveWithOtherRelatives\n",
      "LiveWithRoommates\n",
      "May-ShareShopping\n",
      "May-Shared-PreparedFood\n",
      "May-Shared-Groceries\n",
      "May-Shared-OtherFood\n",
      "May-Shared-PaperCleaning\n",
      "May-Shared-Clothing\n",
      "May-Shared-HomeOffice\n",
      "May-Shared-Medication\n",
      "May-Shared-ChildcareItems\n",
      "May-Shared-Other\n",
      "May-Shared-OtherType\n",
      "ShoppingOnBehalf\n",
      "May-ShoppingForImmediateFamily\n",
      "May-ShoppingForExtendedFamily\n",
      "May-ShoppingForNonFamily\n",
      "May-ShoppingForColleagues\n",
      "May-ShoppingForOther\n",
      "May-ShoppingForOtherType\n",
      "ImmediateFamily-Household\n",
      "ImmediateFamily-Neighborhood\n",
      "ImmediateFamily-City\n",
      "ImmediateFamily-OutsideRegion\n",
      "ExtendedFamily-Household\n",
      "ExtendedFamily-Neighborhood\n",
      "ExtendedFamily-City\n",
      "ExtendedFamily-OutsideRegion\n",
      "NonFamily-Household\n",
      "NonFamily-Neighborhood\n",
      "NonFamily-City\n",
      "NonFamily-OutsideRegion\n",
      "Colleagues-Household\n",
      "Colleagues-Neighborhood\n",
      "Colleagues-City\n",
      "Colleagues-OutsideRegion\n",
      "Other-Household\n",
      "Other-Neighborhood\n",
      "Other-City\n",
      "Other-OutsideRegion\n"
     ]
    }
   ],
   "source": [
    "for col in recoded.columns:\n",
    "    print(col)"
   ]
  },
  {
   "cell_type": "code",
   "execution_count": 82,
   "metadata": {},
   "outputs": [
    {
     "data": {
      "text/html": [
       "<div>\n",
       "<style scoped>\n",
       "    .dataframe tbody tr th:only-of-type {\n",
       "        vertical-align: middle;\n",
       "    }\n",
       "\n",
       "    .dataframe tbody tr th {\n",
       "        vertical-align: top;\n",
       "    }\n",
       "\n",
       "    .dataframe thead th {\n",
       "        text-align: right;\n",
       "    }\n",
       "</style>\n",
       "<table border=\"1\" class=\"dataframe\">\n",
       "  <thead>\n",
       "    <tr style=\"text-align: right;\">\n",
       "      <th></th>\n",
       "      <th>ImmediateFamily-Household</th>\n",
       "      <th>ImmediateFamily-Neighborhood</th>\n",
       "      <th>ImmediateFamily-City</th>\n",
       "      <th>ImmediateFamily-OutsideRegion</th>\n",
       "      <th>ExtendedFamily-Household</th>\n",
       "      <th>ExtendedFamily-Neighborhood</th>\n",
       "      <th>ExtendedFamily-City</th>\n",
       "      <th>ExtendedFamily-OutsideRegion</th>\n",
       "      <th>NonFamily-Household</th>\n",
       "      <th>NonFamily-Neighborhood</th>\n",
       "      <th>NonFamily-City</th>\n",
       "      <th>NonFamily-OutsideRegion</th>\n",
       "      <th>Colleagues-Household</th>\n",
       "      <th>Colleagues-Neighborhood</th>\n",
       "      <th>Colleagues-City</th>\n",
       "      <th>Colleagues-OutsideRegion</th>\n",
       "      <th>Other-Household</th>\n",
       "      <th>Other-Neighborhood</th>\n",
       "      <th>Other-City</th>\n",
       "      <th>Other-OutsideRegion</th>\n",
       "    </tr>\n",
       "  </thead>\n",
       "  <tbody>\n",
       "    <tr>\n",
       "      <th>0</th>\n",
       "      <td>0</td>\n",
       "      <td>0</td>\n",
       "      <td>0</td>\n",
       "      <td>0</td>\n",
       "      <td>0</td>\n",
       "      <td>0</td>\n",
       "      <td>0</td>\n",
       "      <td>0</td>\n",
       "      <td>0</td>\n",
       "      <td>0</td>\n",
       "      <td>0</td>\n",
       "      <td>0</td>\n",
       "      <td>0</td>\n",
       "      <td>0</td>\n",
       "      <td>0</td>\n",
       "      <td>0</td>\n",
       "      <td>0</td>\n",
       "      <td>0</td>\n",
       "      <td>0</td>\n",
       "      <td>0</td>\n",
       "    </tr>\n",
       "    <tr>\n",
       "      <th>1</th>\n",
       "      <td>0</td>\n",
       "      <td>0</td>\n",
       "      <td>0</td>\n",
       "      <td>0</td>\n",
       "      <td>0</td>\n",
       "      <td>0</td>\n",
       "      <td>0</td>\n",
       "      <td>0</td>\n",
       "      <td>0</td>\n",
       "      <td>0</td>\n",
       "      <td>0</td>\n",
       "      <td>0</td>\n",
       "      <td>0</td>\n",
       "      <td>0</td>\n",
       "      <td>0</td>\n",
       "      <td>0</td>\n",
       "      <td>0</td>\n",
       "      <td>0</td>\n",
       "      <td>0</td>\n",
       "      <td>0</td>\n",
       "    </tr>\n",
       "    <tr>\n",
       "      <th>2</th>\n",
       "      <td>0</td>\n",
       "      <td>0</td>\n",
       "      <td>0</td>\n",
       "      <td>0</td>\n",
       "      <td>0</td>\n",
       "      <td>0</td>\n",
       "      <td>0</td>\n",
       "      <td>0</td>\n",
       "      <td>0</td>\n",
       "      <td>1</td>\n",
       "      <td>0</td>\n",
       "      <td>0</td>\n",
       "      <td>0</td>\n",
       "      <td>0</td>\n",
       "      <td>0</td>\n",
       "      <td>0</td>\n",
       "      <td>0</td>\n",
       "      <td>0</td>\n",
       "      <td>0</td>\n",
       "      <td>0</td>\n",
       "    </tr>\n",
       "    <tr>\n",
       "      <th>3</th>\n",
       "      <td>0</td>\n",
       "      <td>0</td>\n",
       "      <td>0</td>\n",
       "      <td>0</td>\n",
       "      <td>0</td>\n",
       "      <td>0</td>\n",
       "      <td>0</td>\n",
       "      <td>0</td>\n",
       "      <td>0</td>\n",
       "      <td>0</td>\n",
       "      <td>0</td>\n",
       "      <td>0</td>\n",
       "      <td>0</td>\n",
       "      <td>0</td>\n",
       "      <td>0</td>\n",
       "      <td>0</td>\n",
       "      <td>0</td>\n",
       "      <td>0</td>\n",
       "      <td>0</td>\n",
       "      <td>0</td>\n",
       "    </tr>\n",
       "    <tr>\n",
       "      <th>4</th>\n",
       "      <td>0</td>\n",
       "      <td>0</td>\n",
       "      <td>0</td>\n",
       "      <td>0</td>\n",
       "      <td>0</td>\n",
       "      <td>0</td>\n",
       "      <td>0</td>\n",
       "      <td>0</td>\n",
       "      <td>0</td>\n",
       "      <td>0</td>\n",
       "      <td>0</td>\n",
       "      <td>0</td>\n",
       "      <td>0</td>\n",
       "      <td>0</td>\n",
       "      <td>0</td>\n",
       "      <td>0</td>\n",
       "      <td>0</td>\n",
       "      <td>0</td>\n",
       "      <td>0</td>\n",
       "      <td>0</td>\n",
       "    </tr>\n",
       "    <tr>\n",
       "      <th>...</th>\n",
       "      <td>...</td>\n",
       "      <td>...</td>\n",
       "      <td>...</td>\n",
       "      <td>...</td>\n",
       "      <td>...</td>\n",
       "      <td>...</td>\n",
       "      <td>...</td>\n",
       "      <td>...</td>\n",
       "      <td>...</td>\n",
       "      <td>...</td>\n",
       "      <td>...</td>\n",
       "      <td>...</td>\n",
       "      <td>...</td>\n",
       "      <td>...</td>\n",
       "      <td>...</td>\n",
       "      <td>...</td>\n",
       "      <td>...</td>\n",
       "      <td>...</td>\n",
       "      <td>...</td>\n",
       "      <td>...</td>\n",
       "    </tr>\n",
       "    <tr>\n",
       "      <th>322</th>\n",
       "      <td>0</td>\n",
       "      <td>0</td>\n",
       "      <td>1</td>\n",
       "      <td>0</td>\n",
       "      <td>0</td>\n",
       "      <td>0</td>\n",
       "      <td>0</td>\n",
       "      <td>0</td>\n",
       "      <td>0</td>\n",
       "      <td>0</td>\n",
       "      <td>0</td>\n",
       "      <td>0</td>\n",
       "      <td>0</td>\n",
       "      <td>0</td>\n",
       "      <td>0</td>\n",
       "      <td>0</td>\n",
       "      <td>0</td>\n",
       "      <td>0</td>\n",
       "      <td>0</td>\n",
       "      <td>0</td>\n",
       "    </tr>\n",
       "    <tr>\n",
       "      <th>323</th>\n",
       "      <td>0</td>\n",
       "      <td>0</td>\n",
       "      <td>0</td>\n",
       "      <td>0</td>\n",
       "      <td>0</td>\n",
       "      <td>0</td>\n",
       "      <td>0</td>\n",
       "      <td>0</td>\n",
       "      <td>0</td>\n",
       "      <td>0</td>\n",
       "      <td>0</td>\n",
       "      <td>0</td>\n",
       "      <td>0</td>\n",
       "      <td>0</td>\n",
       "      <td>0</td>\n",
       "      <td>0</td>\n",
       "      <td>0</td>\n",
       "      <td>0</td>\n",
       "      <td>0</td>\n",
       "      <td>0</td>\n",
       "    </tr>\n",
       "    <tr>\n",
       "      <th>324</th>\n",
       "      <td>0</td>\n",
       "      <td>0</td>\n",
       "      <td>0</td>\n",
       "      <td>1</td>\n",
       "      <td>0</td>\n",
       "      <td>0</td>\n",
       "      <td>0</td>\n",
       "      <td>0</td>\n",
       "      <td>0</td>\n",
       "      <td>0</td>\n",
       "      <td>0</td>\n",
       "      <td>0</td>\n",
       "      <td>0</td>\n",
       "      <td>0</td>\n",
       "      <td>0</td>\n",
       "      <td>0</td>\n",
       "      <td>0</td>\n",
       "      <td>0</td>\n",
       "      <td>0</td>\n",
       "      <td>0</td>\n",
       "    </tr>\n",
       "    <tr>\n",
       "      <th>325</th>\n",
       "      <td>1</td>\n",
       "      <td>0</td>\n",
       "      <td>0</td>\n",
       "      <td>1</td>\n",
       "      <td>0</td>\n",
       "      <td>0</td>\n",
       "      <td>0</td>\n",
       "      <td>0</td>\n",
       "      <td>0</td>\n",
       "      <td>0</td>\n",
       "      <td>0</td>\n",
       "      <td>0</td>\n",
       "      <td>0</td>\n",
       "      <td>0</td>\n",
       "      <td>0</td>\n",
       "      <td>0</td>\n",
       "      <td>0</td>\n",
       "      <td>0</td>\n",
       "      <td>0</td>\n",
       "      <td>0</td>\n",
       "    </tr>\n",
       "    <tr>\n",
       "      <th>326</th>\n",
       "      <td>1</td>\n",
       "      <td>0</td>\n",
       "      <td>0</td>\n",
       "      <td>0</td>\n",
       "      <td>0</td>\n",
       "      <td>0</td>\n",
       "      <td>0</td>\n",
       "      <td>0</td>\n",
       "      <td>0</td>\n",
       "      <td>0</td>\n",
       "      <td>0</td>\n",
       "      <td>0</td>\n",
       "      <td>0</td>\n",
       "      <td>0</td>\n",
       "      <td>0</td>\n",
       "      <td>0</td>\n",
       "      <td>0</td>\n",
       "      <td>0</td>\n",
       "      <td>0</td>\n",
       "      <td>0</td>\n",
       "    </tr>\n",
       "  </tbody>\n",
       "</table>\n",
       "<p>327 rows × 20 columns</p>\n",
       "</div>"
      ],
      "text/plain": [
       "     ImmediateFamily-Household  ImmediateFamily-Neighborhood  \\\n",
       "0                            0                             0   \n",
       "1                            0                             0   \n",
       "2                            0                             0   \n",
       "3                            0                             0   \n",
       "4                            0                             0   \n",
       "..                         ...                           ...   \n",
       "322                          0                             0   \n",
       "323                          0                             0   \n",
       "324                          0                             0   \n",
       "325                          1                             0   \n",
       "326                          1                             0   \n",
       "\n",
       "     ImmediateFamily-City  ImmediateFamily-OutsideRegion  \\\n",
       "0                       0                              0   \n",
       "1                       0                              0   \n",
       "2                       0                              0   \n",
       "3                       0                              0   \n",
       "4                       0                              0   \n",
       "..                    ...                            ...   \n",
       "322                     1                              0   \n",
       "323                     0                              0   \n",
       "324                     0                              1   \n",
       "325                     0                              1   \n",
       "326                     0                              0   \n",
       "\n",
       "     ExtendedFamily-Household  ExtendedFamily-Neighborhood  \\\n",
       "0                           0                            0   \n",
       "1                           0                            0   \n",
       "2                           0                            0   \n",
       "3                           0                            0   \n",
       "4                           0                            0   \n",
       "..                        ...                          ...   \n",
       "322                         0                            0   \n",
       "323                         0                            0   \n",
       "324                         0                            0   \n",
       "325                         0                            0   \n",
       "326                         0                            0   \n",
       "\n",
       "     ExtendedFamily-City  ExtendedFamily-OutsideRegion  NonFamily-Household  \\\n",
       "0                      0                             0                    0   \n",
       "1                      0                             0                    0   \n",
       "2                      0                             0                    0   \n",
       "3                      0                             0                    0   \n",
       "4                      0                             0                    0   \n",
       "..                   ...                           ...                  ...   \n",
       "322                    0                             0                    0   \n",
       "323                    0                             0                    0   \n",
       "324                    0                             0                    0   \n",
       "325                    0                             0                    0   \n",
       "326                    0                             0                    0   \n",
       "\n",
       "     NonFamily-Neighborhood  NonFamily-City  NonFamily-OutsideRegion  \\\n",
       "0                         0               0                        0   \n",
       "1                         0               0                        0   \n",
       "2                         1               0                        0   \n",
       "3                         0               0                        0   \n",
       "4                         0               0                        0   \n",
       "..                      ...             ...                      ...   \n",
       "322                       0               0                        0   \n",
       "323                       0               0                        0   \n",
       "324                       0               0                        0   \n",
       "325                       0               0                        0   \n",
       "326                       0               0                        0   \n",
       "\n",
       "     Colleagues-Household  Colleagues-Neighborhood  Colleagues-City  \\\n",
       "0                       0                        0                0   \n",
       "1                       0                        0                0   \n",
       "2                       0                        0                0   \n",
       "3                       0                        0                0   \n",
       "4                       0                        0                0   \n",
       "..                    ...                      ...              ...   \n",
       "322                     0                        0                0   \n",
       "323                     0                        0                0   \n",
       "324                     0                        0                0   \n",
       "325                     0                        0                0   \n",
       "326                     0                        0                0   \n",
       "\n",
       "     Colleagues-OutsideRegion  Other-Household  Other-Neighborhood  \\\n",
       "0                           0                0                   0   \n",
       "1                           0                0                   0   \n",
       "2                           0                0                   0   \n",
       "3                           0                0                   0   \n",
       "4                           0                0                   0   \n",
       "..                        ...              ...                 ...   \n",
       "322                         0                0                   0   \n",
       "323                         0                0                   0   \n",
       "324                         0                0                   0   \n",
       "325                         0                0                   0   \n",
       "326                         0                0                   0   \n",
       "\n",
       "     Other-City  Other-OutsideRegion  \n",
       "0             0                    0  \n",
       "1             0                    0  \n",
       "2             0                    0  \n",
       "3             0                    0  \n",
       "4             0                    0  \n",
       "..          ...                  ...  \n",
       "322           0                    0  \n",
       "323           0                    0  \n",
       "324           0                    0  \n",
       "325           0                    0  \n",
       "326           0                    0  \n",
       "\n",
       "[327 rows x 20 columns]"
      ]
     },
     "execution_count": 82,
     "metadata": {},
     "output_type": "execute_result"
    }
   ],
   "source": [
    "recoded.loc[:,'ImmediateFamily-Household':'Other-OutsideRegion']"
   ]
  },
  {
   "cell_type": "code",
   "execution_count": 83,
   "metadata": {},
   "outputs": [
    {
     "data": {
      "text/plain": [
       "0                                                    NaN\n",
       "1                                                    NaN\n",
       "2                                                    NaN\n",
       "3                                                    NaN\n",
       "4                                                    NaN\n",
       "                             ...                        \n",
       "322    Outside my neighborhood but within my city or ...\n",
       "323                                                  NaN\n",
       "324                           Outside my city or region \n",
       "325           In my household,Outside my city or region \n",
       "326                                      In my household\n",
       "Name: Where did each of these individuals live? You may need to scroll to the right to see all available options. \\n\\nPlease select all that apply. - My immediate family members, Length: 327, dtype: object"
      ]
     },
     "execution_count": 83,
     "metadata": {},
     "output_type": "execute_result"
    }
   ],
   "source": [
    "sacog[sacog.columns[205]]"
   ]
  },
  {
   "cell_type": "code",
   "execution_count": 84,
   "metadata": {},
   "outputs": [],
   "source": [
    "recoded['OtherType'] = sacog[sacog.columns[210]]"
   ]
  },
  {
   "cell_type": "code",
   "execution_count": 85,
   "metadata": {},
   "outputs": [],
   "source": [
    "items_dict['A prepared meal or beverage (i.e., from a restaurant or a café)'] = 'PreparedFood'\n",
    "def scrape_shopping_trips(i):\n",
    "    series = sacog.iloc[:,i]\n",
    "    item = series.name.split(' - ')[-1]\n",
    "    name = items_dict[item]\n",
    "    no_trips = sacog.iloc[:,i+20]\n",
    "    df = series.str.split(' ',expand = True)\n",
    "    column = df[0].replace('More',11)\n",
    "    column[no_trips == 1] = 0\n",
    "    column = column.fillna(-9998)\n",
    "    return name, column.astype(int)"
   ]
  },
  {
   "cell_type": "code",
   "execution_count": 86,
   "metadata": {},
   "outputs": [
    {
     "data": {
      "text/plain": [
       "0          NaN\n",
       "1      2 trips\n",
       "2          NaN\n",
       "3      4 trips\n",
       "4      2 trips\n",
       "        ...   \n",
       "322    8 trips\n",
       "323        NaN\n",
       "324        NaN\n",
       "325    4 trips\n",
       "326        NaN\n",
       "Name: From Sunday, May 17th through Saturday, May 23rd, about how many shopping trips (i.e., please cou... - Number of trips to a store to purchase primarily - A prepared meal or beverage (i.e., from a restaurant or a café), Length: 327, dtype: object"
      ]
     },
     "execution_count": 86,
     "metadata": {},
     "output_type": "execute_result"
    }
   ],
   "source": [
    "sacog[sacog.columns[211]]"
   ]
  },
  {
   "cell_type": "code",
   "execution_count": 87,
   "metadata": {},
   "outputs": [
    {
     "data": {
      "text/plain": [
       "0      1.0\n",
       "1      NaN\n",
       "2      1.0\n",
       "3      NaN\n",
       "4      NaN\n",
       "      ... \n",
       "322    NaN\n",
       "323    1.0\n",
       "324    NaN\n",
       "325    NaN\n",
       "326    1.0\n",
       "Name: From Sunday, May 17th through Saturday, May 23rd, about how many shopping trips (i.e., please cou... - No trips to the store - A prepared meal or beverage (i.e., from a restaurant or a café), Length: 327, dtype: float64"
      ]
     },
     "execution_count": 87,
     "metadata": {},
     "output_type": "execute_result"
    }
   ],
   "source": [
    "sacog[sacog.columns[231]]"
   ]
  },
  {
   "cell_type": "code",
   "execution_count": 88,
   "metadata": {},
   "outputs": [],
   "source": [
    "for i in range(211,220):\n",
    "    (name,series) = scrape_shopping_trips(i)\n",
    "    recoded['May-InStore-Trips-'+name] = series\n",
    "recoded['May-InStore-Trips-OtherType'] = sacog[sacog.columns[220]]"
   ]
  },
  {
   "cell_type": "code",
   "execution_count": 89,
   "metadata": {},
   "outputs": [],
   "source": [
    "for i in range(221,230):\n",
    "    (name,series) = scrape_shopping_trips(i)\n",
    "    recoded['May-ECommerce-Orders-'+name] = series\n",
    "recoded['May-ECommerce-Orders-OtherType'] = sacog[sacog.columns[230]]"
   ]
  },
  {
   "cell_type": "code",
   "execution_count": 90,
   "metadata": {},
   "outputs": [
    {
     "data": {
      "text/plain": [
       "0      Less than 1 time per week (e.g., a few times p...\n",
       "1                                                    NaN\n",
       "2      Never (i.e., I have never purchased this in a ...\n",
       "3                                                    NaN\n",
       "4                                                    NaN\n",
       "                             ...                        \n",
       "322                                                  NaN\n",
       "323    Less than 1 time per month (e.g., a few times ...\n",
       "324                                                  NaN\n",
       "325                                                  NaN\n",
       "326    Less than 1 time per week (e.g., a few times p...\n",
       "Name: For items that you (or someone in your household) did not purchase in a store from Sunday, May 17... - In-store purchase frequency - A prepared meal or beverage (i.e., from a restaurant or a café), Length: 327, dtype: object"
      ]
     },
     "execution_count": 90,
     "metadata": {},
     "output_type": "execute_result"
    }
   ],
   "source": [
    "sacog[sacog.columns[251]]"
   ]
  },
  {
   "cell_type": "code",
   "execution_count": 91,
   "metadata": {},
   "outputs": [],
   "source": [
    "#frequency_dict = {'More than 5 times per week':'>5/wk','3 - 5 times per week':'3-5/wk','2 - 3 times per week':'2-3/wk','About 1 time per week':'1/wk','Less than 1 time per week (e.g., a few times per month)':'<1/wk','Less than 1 time per month (e.g., a few times per year)':'<1/month','Almost never':'Almost never','Never (i.e., I have never purchased this in a store)':'Never'}\n",
    "for i in range(251,260):\n",
    "    name = 'May-InStore-Frequency-'+items_dict[sacog.columns[i].split(' - ')[-1]]\n",
    "    recoded[name] = sacog[sacog.columns[i]].fillna('No Response').str.split('(').str[0]\n",
    "recoded['May-InStore-Frequency-OtherType'] = sacog[sacog.columns[260]]"
   ]
  },
  {
   "cell_type": "code",
   "execution_count": 92,
   "metadata": {},
   "outputs": [
    {
     "data": {
      "text/plain": [
       "0               NaN\n",
       "1        1 -2 items\n",
       "2               NaN\n",
       "3       2 - 5 items\n",
       "4       2 - 5 items\n",
       "           ...     \n",
       "322     2 - 5 items\n",
       "323             NaN\n",
       "324      1 -2 items\n",
       "325    5 - 10 items\n",
       "326             NaN\n",
       "Name: From Sunday, May 17th through Saturday, May 23rd, for each trip, about how many items did you and... - Number of items purchased on trips to a store - A prepared meal or beverage (i.e., from a restaurant or a café), Length: 327, dtype: object"
      ]
     },
     "execution_count": 92,
     "metadata": {},
     "output_type": "execute_result"
    }
   ],
   "source": [
    "sacog[sacog.columns[261]]"
   ]
  },
  {
   "cell_type": "code",
   "execution_count": 93,
   "metadata": {},
   "outputs": [],
   "source": [
    "amounts_dict = {'1 -2 items':'1-2','2 - 5 items':'2-5','5 - 10 items':'5-10','10 - 15 items':'10-15','15 - 20 items':'15-20','20 - 25 items':'20-25','More than 25 items':'25+'}\n",
    "for i in range(261,270):\n",
    "    name = 'May-InStore-Items-' + items_dict[sacog.columns[i].split(' - ')[-1]]\n",
    "    recoded[name]  = sacog[sacog.columns[i]].fillna('No Response').replace(amounts_dict)\n",
    "recoded['May-InStore-Items-OtherType'] = sacog[sacog.columns[270]]"
   ]
  },
  {
   "cell_type": "code",
   "execution_count": 94,
   "metadata": {},
   "outputs": [
    {
     "data": {
      "text/plain": [
       "0                NaN\n",
       "1        Drive alone\n",
       "2                NaN\n",
       "3        Drive alone\n",
       "4      Personal bike\n",
       "           ...      \n",
       "322      Drive alone\n",
       "323              NaN\n",
       "324      Drive alone\n",
       "325      Drive alone\n",
       "326              NaN\n",
       "Name: From Sunday, May 17th through Saturday, May 23rd, what primary mode did you and/or someone else i... - Primary mode used for in-store shopping - A prepared meal or beverage (i.e., from a restaurant or a café), Length: 327, dtype: object"
      ]
     },
     "execution_count": 94,
     "metadata": {},
     "output_type": "execute_result"
    }
   ],
   "source": [
    "sacog[sacog.columns[271]]"
   ]
  },
  {
   "cell_type": "code",
   "execution_count": 95,
   "metadata": {},
   "outputs": [],
   "source": [
    "for i in range(271,280):\n",
    "    name = 'May-InStore-Mode-'+ items_dict[sacog.columns[i].split(' - ')[-1]]\n",
    "    recoded[name] = sacog[sacog.columns[i]].fillna('No Response').str.split('(').str[0]\n",
    "recoded['May-InStore-Mode-OtherType'] = sacog[sacog.columns[280]]"
   ]
  },
  {
   "cell_type": "code",
   "execution_count": 96,
   "metadata": {},
   "outputs": [
    {
     "data": {
      "text/plain": [
       "No Response                        250\n",
       "Drive alone                         61\n",
       "Carpool                              5\n",
       "Walking                              5\n",
       "Some other mode                      3\n",
       "Transportation Network Company       2\n",
       "Door-to-door shared TNC              1\n",
       "Name: May-InStore-Mode-Medication, dtype: int64"
      ]
     },
     "execution_count": 96,
     "metadata": {},
     "output_type": "execute_result"
    }
   ],
   "source": [
    "recoded['May-InStore-Mode-Medication'].value_counts()"
   ]
  },
  {
   "cell_type": "code",
   "execution_count": 97,
   "metadata": {},
   "outputs": [],
   "source": [
    "for i in range(281,290):\n",
    "    name = 'May-InStore-Distance-'+ items_dict[sacog.columns[i].split(' - ')[-1]]\n",
    "    recoded[name] = sacog[sacog.columns[i]].fillna('No Response')\n",
    "recoded['May-InStore-Distance-OtherType'] = sacog[sacog.columns[290]]"
   ]
  },
  {
   "cell_type": "code",
   "execution_count": 98,
   "metadata": {},
   "outputs": [],
   "source": [
    "for i in range(291,300):\n",
    "    name = 'May-ECommerce-Frequency-'+items_dict[sacog.columns[i].split(' - ')[-1]]\n",
    "    recoded[name] = sacog[sacog.columns[i]].fillna('No Response').str.split('(').str[0]\n",
    "recoded['May-ECommerce-Frequency-OtherType'] = sacog[sacog.columns[300]]"
   ]
  },
  {
   "cell_type": "code",
   "execution_count": 99,
   "metadata": {},
   "outputs": [],
   "source": [
    "for i in range(301,310):\n",
    "    name = 'PastYear-ECommerce-Frequency-'+items_dict[sacog.columns[i].split(' - ')[-1]]\n",
    "    recoded[name] = sacog[sacog.columns[i]].fillna('No Response').str.split('(').str[0].replace({'No, I and/or my household did not make an e-commerce purchase for this.':'Never'})\n",
    "recoded['PastYear-ECommerce-Frequency-OtherType'] = sacog[sacog.columns[310]]"
   ]
  },
  {
   "cell_type": "code",
   "execution_count": 100,
   "metadata": {},
   "outputs": [
    {
     "data": {
      "text/plain": [
       "'PastYear-ECommerce-Frequency-HomeOffice'"
      ]
     },
     "execution_count": 100,
     "metadata": {},
     "output_type": "execute_result"
    }
   ],
   "source": [
    "recoded.columns[-5]"
   ]
  },
  {
   "cell_type": "code",
   "execution_count": 101,
   "metadata": {},
   "outputs": [
    {
     "data": {
      "text/plain": [
       "Less than 1 time per month     115\n",
       "Almost never                    86\n",
       "Never                           60\n",
       "No Response                     42\n",
       "Less than 1 time per week       19\n",
       "About 1 time per week            4\n",
       "2 - 3 times per week             1\n",
       "Name: PastYear-ECommerce-Frequency-HomeOffice, dtype: int64"
      ]
     },
     "execution_count": 101,
     "metadata": {},
     "output_type": "execute_result"
    }
   ],
   "source": [
    "recoded['PastYear-ECommerce-Frequency-HomeOffice'].value_counts()"
   ]
  },
  {
   "cell_type": "code",
   "execution_count": 102,
   "metadata": {},
   "outputs": [
    {
     "data": {
      "text/plain": [
       "2 -5 items       68\n",
       "1 -2 items       67\n",
       "5 -10 items      10\n",
       "10 - 15 items     1\n",
       "Name: From Sunday, May 17th through Saturday, May 23rd, for e-commerce orders, about how many items did... - Number of items purchased per e-commerce order - A prepared meal or beverage (i.e., from a restaurant or a café), dtype: int64"
      ]
     },
     "execution_count": 102,
     "metadata": {},
     "output_type": "execute_result"
    }
   ],
   "source": [
    "sacog[sacog.columns[311]].value_counts()"
   ]
  },
  {
   "cell_type": "code",
   "execution_count": 103,
   "metadata": {},
   "outputs": [],
   "source": [
    "amounts_dict['2 -5 items'] = '2-5'\n",
    "amounts_dict['5 -10 items'] = '5-10'\n",
    "for i in range(311,320):\n",
    "    item = sacog.columns[i].split(' - ')[-1]\n",
    "    name = 'May-ECommerce-Items-' + items_dict[item]\n",
    "    same = sacog[sacog.columns[i+10]].copy()\n",
    "    series1 = sacog[sacog.columns[i]].copy().replace(amounts_dict)\n",
    "    series1[same == 1] = recoded['May-InStore-Items-' + items_dict[item]][same == 1]\n",
    "    recoded[name]  = series1.fillna('No Response')\n",
    "    \n",
    "recoded['May-ECommerce-Items-OtherType'] = sacog[sacog.columns[320]]"
   ]
  },
  {
   "cell_type": "code",
   "execution_count": 104,
   "metadata": {},
   "outputs": [
    {
     "data": {
      "text/plain": [
       "3      1.0\n",
       "8      1.0\n",
       "15     1.0\n",
       "16     1.0\n",
       "20     1.0\n",
       "      ... \n",
       "311    1.0\n",
       "314    1.0\n",
       "317    1.0\n",
       "320    1.0\n",
       "322    1.0\n",
       "Name: From Sunday, May 17th through Saturday, May 23rd, for e-commerce orders, about how many items did... - The same number of items as I would going to the store. - A prepared meal or beverage (i.e., from a restaurant or a café), Length: 78, dtype: float64"
      ]
     },
     "execution_count": 104,
     "metadata": {},
     "output_type": "execute_result"
    }
   ],
   "source": [
    "sacog.loc[sacog[sacog.columns[321]] == 1,sacog.columns[321]]"
   ]
  },
  {
   "cell_type": "code",
   "execution_count": 105,
   "metadata": {},
   "outputs": [
    {
     "data": {
      "text/plain": [
       "2-5            31\n",
       "No Response    24\n",
       "1-2            17\n",
       "5-10            5\n",
       "10-15           1\n",
       "Name: May-InStore-Items-PreparedFood, dtype: int64"
      ]
     },
     "execution_count": 105,
     "metadata": {},
     "output_type": "execute_result"
    }
   ],
   "source": [
    "recoded.loc[sacog[sacog.columns[321]] == 1,'May-InStore-Items-PreparedFood'].value_counts()"
   ]
  },
  {
   "cell_type": "code",
   "execution_count": 106,
   "metadata": {},
   "outputs": [
    {
     "data": {
      "text/plain": [
       "2-5            31\n",
       "No Response    24\n",
       "1-2            17\n",
       "5-10            5\n",
       "10-15           1\n",
       "Name: May-ECommerce-Items-PreparedFood, dtype: int64"
      ]
     },
     "execution_count": 106,
     "metadata": {},
     "output_type": "execute_result"
    }
   ],
   "source": [
    "recoded.loc[sacog[sacog.columns[321]] == 1,'May-ECommerce-Items-PreparedFood'].value_counts()"
   ]
  },
  {
   "cell_type": "code",
   "execution_count": 107,
   "metadata": {},
   "outputs": [
    {
     "data": {
      "text/plain": [
       "1 -2 items     21\n",
       "2 -5 items     21\n",
       "5 -10 items     3\n",
       "Name: From Sunday, May 17th through Saturday, May 23rd, for e-commerce orders, about how many items did... - Number of items purchased per e-commerce order - A prepared meal or beverage (i.e., from a restaurant or a café), dtype: int64"
      ]
     },
     "execution_count": 107,
     "metadata": {},
     "output_type": "execute_result"
    }
   ],
   "source": [
    "sacog.loc[sacog[sacog.columns[321]] == 1,sacog.columns[311]].value_counts()"
   ]
  },
  {
   "cell_type": "code",
   "execution_count": null,
   "metadata": {},
   "outputs": [],
   "source": []
  },
  {
   "cell_type": "code",
   "execution_count": null,
   "metadata": {},
   "outputs": [],
   "source": []
  },
  {
   "cell_type": "code",
   "execution_count": 108,
   "metadata": {},
   "outputs": [],
   "source": [
    "remote_type_dict = {'Number of call-in phone orders':'CallIn','Mumber of mobile app-based orders':'MobileApp','Number of internet (computer, tablet, or mobile) browser-based orders':'Browser'}\n",
    "for i in range(331,340):\n",
    "    remote_type = remote_type_dict[sacog.columns[i].split(' - ')[-2]]\n",
    "    name = 'May-' + remote_type + '-'+ items_dict[sacog.columns[i].split(' - ')[-1]]\n",
    "    series = sacog[sacog.columns[i]].str.split(' ').str[0].replace({'More':11}).fillna(-9998).astype(int)\n",
    "    recoded[name] = series\n",
    "recoded['May-CallIn-OtherType'] = sacog[sacog.columns[340]]"
   ]
  },
  {
   "cell_type": "code",
   "execution_count": 109,
   "metadata": {},
   "outputs": [
    {
     "data": {
      "text/plain": [
       "-9998    276\n",
       " 0        50\n",
       " 1         1\n",
       "Name: May-CallIn-HomeOffice, dtype: int64"
      ]
     },
     "execution_count": 109,
     "metadata": {},
     "output_type": "execute_result"
    }
   ],
   "source": [
    "recoded[recoded.columns[-5]].value_counts()"
   ]
  },
  {
   "cell_type": "code",
   "execution_count": 110,
   "metadata": {},
   "outputs": [],
   "source": [
    "for i in range(341,350):\n",
    "    remote_type = remote_type_dict[sacog.columns[i].split(' - ')[-2]]\n",
    "    name = 'May-' + remote_type + '-' + items_dict[sacog.columns[i].split(' - ')[-1]]\n",
    "    series = sacog[sacog.columns[i]].str.split(' ').str[0].replace({'More':11}).fillna(-9998).astype(int)\n",
    "    recoded[name] = series\n",
    "recoded['May-MobileApp-OtherType'] = sacog[sacog.columns[350]]"
   ]
  },
  {
   "cell_type": "code",
   "execution_count": 111,
   "metadata": {},
   "outputs": [],
   "source": [
    "for i in range(351,360):\n",
    "    remote_type = remote_type_dict[sacog.columns[i].split(' - ')[-2]]\n",
    "    name = 'May-' + remote_type + '-' + items_dict[sacog.columns[i].split(' - ')[-1]]\n",
    "    series = sacog[sacog.columns[i]].str.split(' ').str[0].replace({'More':11}).fillna(-9998).astype(int)\n",
    "    recoded[name] = series\n",
    "recoded['May-Browser-OtherType'] = sacog[sacog.columns[360]]"
   ]
  },
  {
   "cell_type": "code",
   "execution_count": 112,
   "metadata": {},
   "outputs": [],
   "source": [
    "pickups_dict = {'Number of curbside pick ups':'Curbside','Number of in-store pick ups':'InStore','Number of deliveries to my home':'ToHome','Number of deliveries to my work/school/other primary non-home location':'ToNonHome'}\n",
    "for i in range(361,370):\n",
    "    pickup = pickups_dict[sacog.columns[i].split(' - ')[-2]]\n",
    "    name = 'May-' + pickup + '-' + items_dict[sacog.columns[i].split(' - ')[-1]]\n",
    "    series = sacog[sacog.columns[i]].str.split(' ').str[0].replace({'More':11}).fillna(-9998).astype(int)\n",
    "    recoded[name] = series\n",
    "recoded['May-Curbside-OtherType'] = sacog[sacog.columns[370]]"
   ]
  },
  {
   "cell_type": "code",
   "execution_count": 113,
   "metadata": {},
   "outputs": [
    {
     "data": {
      "text/plain": [
       "-9998    267\n",
       " 0        57\n",
       " 1         3\n",
       "Name: May-Curbside-HomeOffice, dtype: int64"
      ]
     },
     "execution_count": 113,
     "metadata": {},
     "output_type": "execute_result"
    }
   ],
   "source": [
    "recoded[recoded.columns[-5]].value_counts()"
   ]
  },
  {
   "cell_type": "code",
   "execution_count": 114,
   "metadata": {},
   "outputs": [],
   "source": [
    "for i in range(371,380):\n",
    "    pickup = pickups_dict[sacog.columns[i].split(' - ')[-2]]\n",
    "    name = 'May-' + pickup + '-' + items_dict[sacog.columns[i].split(' - ')[-1]]\n",
    "    series = sacog[sacog.columns[i]].str.split(' ').str[0].replace({'More':11}).fillna(-9998).astype(int)\n",
    "    recoded[name] = series\n",
    "recoded['May-InStore-OtherType'] = sacog[sacog.columns[380]]"
   ]
  },
  {
   "cell_type": "code",
   "execution_count": 115,
   "metadata": {},
   "outputs": [],
   "source": [
    "for i in range(381,390):\n",
    "    pickup = pickups_dict[sacog.columns[i].split(' - ')[-2]]\n",
    "    name = 'May-' + pickup + '-' + items_dict[sacog.columns[i].split(' - ')[-1]]\n",
    "    series = sacog[sacog.columns[i]].str.split(' ').str[0].replace({'More':11}).fillna(-9998).astype(int)\n",
    "    recoded[name] = series\n",
    "recoded['May-ToHome-OtherType'] = sacog[sacog.columns[390]]"
   ]
  },
  {
   "cell_type": "code",
   "execution_count": 116,
   "metadata": {},
   "outputs": [],
   "source": [
    "for i in range(391,400):\n",
    "    pickup = pickups_dict[sacog.columns[i].split(' - ')[-2]]\n",
    "    name = 'May-' + pickup + '-' + items_dict[sacog.columns[i].split(' - ')[-1]]\n",
    "    series = sacog[sacog.columns[i]].str.split(' ').str[0].replace({'More':11}).fillna(-9998).astype(int)\n",
    "    recoded[name] = series\n",
    "recoded['May-ToNonHome-OtherType'] = sacog[sacog.columns[400]]"
   ]
  },
  {
   "cell_type": "code",
   "execution_count": 117,
   "metadata": {},
   "outputs": [],
   "source": [
    "for i in range(401,410):\n",
    "    item = sacog.columns[i].split(' - ')[-1]\n",
    "    name = 'May-Pickup-Mode-' + items_dict[item]\n",
    "    same = sacog[sacog.columns[i+10]].copy()\n",
    "    series1 = sacog[sacog.columns[i]].copy().str.split('(').str[0]\n",
    "    series1[same == 1] = recoded['May-InStore-Mode-' + items_dict[item]][same == 1]\n",
    "    recoded[name]  = series1.fillna('No Response')\n",
    "recoded['May-Pickup-Mode-OtherType'] = sacog[sacog.columns[410]]"
   ]
  },
  {
   "cell_type": "code",
   "execution_count": 118,
   "metadata": {},
   "outputs": [
    {
     "data": {
      "text/plain": [
       "Drive alone    17\n",
       "No Response     5\n",
       "Carpool         3\n",
       "Name: May-InStore-Mode-PreparedFood, dtype: int64"
      ]
     },
     "execution_count": 118,
     "metadata": {},
     "output_type": "execute_result"
    }
   ],
   "source": [
    "recoded.loc[sacog[sacog.columns[411]] == 1,'May-InStore-Mode-PreparedFood'].value_counts()"
   ]
  },
  {
   "cell_type": "code",
   "execution_count": 119,
   "metadata": {},
   "outputs": [
    {
     "data": {
      "text/plain": [
       "Drive alone    17\n",
       "No Response     5\n",
       "Carpool         3\n",
       "Name: May-Pickup-Mode-PreparedFood, dtype: int64"
      ]
     },
     "execution_count": 119,
     "metadata": {},
     "output_type": "execute_result"
    }
   ],
   "source": [
    "recoded.loc[sacog[sacog.columns[411]] == 1,'May-Pickup-Mode-PreparedFood'].value_counts()"
   ]
  },
  {
   "cell_type": "code",
   "execution_count": 120,
   "metadata": {},
   "outputs": [
    {
     "data": {
      "text/plain": [
       "1.0    25\n",
       "Name: From Sunday, May 17th through Saturday, May 23rd, what primary mode did you (or someone in your h... - I used the same mode as for in-person shopping trips. - A prepared meal or beverage (i.e., from a restaurant or a café), dtype: int64"
      ]
     },
     "execution_count": 120,
     "metadata": {},
     "output_type": "execute_result"
    }
   ],
   "source": [
    "sacog.loc[sacog[sacog.columns[411]] == 1,sacog.columns[411]].value_counts()"
   ]
  },
  {
   "cell_type": "code",
   "execution_count": 121,
   "metadata": {},
   "outputs": [
    {
     "data": {
      "text/plain": [
       "0                    NaN\n",
       "1                    NaN\n",
       "2                    NaN\n",
       "3            1 - 3 miles\n",
       "4            1 - 3 miles\n",
       "             ...        \n",
       "322    1/2 mile - 1 mile\n",
       "323                  NaN\n",
       "324                  NaN\n",
       "325          1 - 3 miles\n",
       "326                  NaN\n",
       "Name: From Sunday, May 17th through Saturday, May 23rd, about how far did you and/or someone else in yo... - E-commerce pick up trip distance - A prepared meal or beverage (i.e., from a restaurant or a café), Length: 327, dtype: object"
      ]
     },
     "execution_count": 121,
     "metadata": {},
     "output_type": "execute_result"
    }
   ],
   "source": [
    "sacog[sacog.columns[421]]"
   ]
  },
  {
   "cell_type": "code",
   "execution_count": 122,
   "metadata": {},
   "outputs": [],
   "source": [
    "for i in range(421,430):\n",
    "    item = sacog.columns[i].split(' - ')[-1]\n",
    "    name = 'May-Pickup-Distance-' + items_dict[item]\n",
    "    same = sacog[sacog.columns[i+10]].copy()\n",
    "    series1 = sacog[sacog.columns[i]].copy()\n",
    "    series1[same == 1] = recoded['May-InStore-Distance-' + items_dict[item]][same == 1]\n",
    "    recoded[name]  = series1.fillna('No Response')\n",
    "    \n",
    "recoded['May-Pickup-Distance-OtherType'] = sacog[sacog.columns[430]]"
   ]
  },
  {
   "cell_type": "code",
   "execution_count": 123,
   "metadata": {},
   "outputs": [
    {
     "data": {
      "text/html": [
       "<div>\n",
       "<style scoped>\n",
       "    .dataframe tbody tr th:only-of-type {\n",
       "        vertical-align: middle;\n",
       "    }\n",
       "\n",
       "    .dataframe tbody tr th {\n",
       "        vertical-align: top;\n",
       "    }\n",
       "\n",
       "    .dataframe thead th {\n",
       "        text-align: right;\n",
       "    }\n",
       "</style>\n",
       "<table border=\"1\" class=\"dataframe\">\n",
       "  <thead>\n",
       "    <tr style=\"text-align: right;\">\n",
       "      <th></th>\n",
       "      <th>May-InStore-Distance-PreparedFood</th>\n",
       "      <th>May-Pickup-Distance-PreparedFood</th>\n",
       "    </tr>\n",
       "  </thead>\n",
       "  <tbody>\n",
       "    <tr>\n",
       "      <th>0</th>\n",
       "      <td>No Response</td>\n",
       "      <td>No Response</td>\n",
       "    </tr>\n",
       "    <tr>\n",
       "      <th>1</th>\n",
       "      <td>3 - 5 miles</td>\n",
       "      <td>No Response</td>\n",
       "    </tr>\n",
       "    <tr>\n",
       "      <th>2</th>\n",
       "      <td>No Response</td>\n",
       "      <td>No Response</td>\n",
       "    </tr>\n",
       "    <tr>\n",
       "      <th>3</th>\n",
       "      <td>Less than 1/4 mile</td>\n",
       "      <td>1 - 3 miles</td>\n",
       "    </tr>\n",
       "    <tr>\n",
       "      <th>4</th>\n",
       "      <td>1 - 3 miles</td>\n",
       "      <td>1 - 3 miles</td>\n",
       "    </tr>\n",
       "    <tr>\n",
       "      <th>...</th>\n",
       "      <td>...</td>\n",
       "      <td>...</td>\n",
       "    </tr>\n",
       "    <tr>\n",
       "      <th>322</th>\n",
       "      <td>1 - 3 miles</td>\n",
       "      <td>1 - 3 miles</td>\n",
       "    </tr>\n",
       "    <tr>\n",
       "      <th>323</th>\n",
       "      <td>No Response</td>\n",
       "      <td>No Response</td>\n",
       "    </tr>\n",
       "    <tr>\n",
       "      <th>324</th>\n",
       "      <td>1 - 3 miles</td>\n",
       "      <td>No Response</td>\n",
       "    </tr>\n",
       "    <tr>\n",
       "      <th>325</th>\n",
       "      <td>1 - 3 miles</td>\n",
       "      <td>1 - 3 miles</td>\n",
       "    </tr>\n",
       "    <tr>\n",
       "      <th>326</th>\n",
       "      <td>No Response</td>\n",
       "      <td>No Response</td>\n",
       "    </tr>\n",
       "  </tbody>\n",
       "</table>\n",
       "<p>327 rows × 2 columns</p>\n",
       "</div>"
      ],
      "text/plain": [
       "    May-InStore-Distance-PreparedFood May-Pickup-Distance-PreparedFood\n",
       "0                         No Response                      No Response\n",
       "1                         3 - 5 miles                      No Response\n",
       "2                         No Response                      No Response\n",
       "3                  Less than 1/4 mile                      1 - 3 miles\n",
       "4                         1 - 3 miles                      1 - 3 miles\n",
       "..                                ...                              ...\n",
       "322                       1 - 3 miles                      1 - 3 miles\n",
       "323                       No Response                      No Response\n",
       "324                       1 - 3 miles                      No Response\n",
       "325                       1 - 3 miles                      1 - 3 miles\n",
       "326                       No Response                      No Response\n",
       "\n",
       "[327 rows x 2 columns]"
      ]
     },
     "execution_count": 123,
     "metadata": {},
     "output_type": "execute_result"
    }
   ],
   "source": [
    "recoded[['May-InStore-Distance-PreparedFood','May-Pickup-Distance-PreparedFood']]"
   ]
  },
  {
   "cell_type": "code",
   "execution_count": 124,
   "metadata": {},
   "outputs": [],
   "source": [
    "ease_dict = {'I found it very difficult to obtain the items I needed':1,'I found it difficult to obtain the items I needed':2, 'Neither difficult nor easy':3, 'I found it easy to obtain the items I needed':4,'I found it very easy to obtain the items I needed':5,'N/A':997}\n",
    "for i in range(441,450):\n",
    "    name = 'May-Ease-'+ items_dict[sacog.columns[i].split(' - ')[-1]]\n",
    "    recoded[name] = sacog[sacog.columns[i]].fillna(-9998).replace(ease_dict).astype(int)\n",
    "recoded['May-Ease-OtherType'] = sacog[sacog.columns[450]]"
   ]
  },
  {
   "cell_type": "code",
   "execution_count": 125,
   "metadata": {},
   "outputs": [
    {
     "data": {
      "text/plain": [
       " 4       93\n",
       " 5       91\n",
       " 3       58\n",
       " 2       43\n",
       "-9998    37\n",
       " 1        5\n",
       "Name: May-Ease-Groceries, dtype: int64"
      ]
     },
     "execution_count": 125,
     "metadata": {},
     "output_type": "execute_result"
    }
   ],
   "source": [
    "recoded[recoded.columns[-9]].value_counts()"
   ]
  },
  {
   "cell_type": "code",
   "execution_count": 126,
   "metadata": {},
   "outputs": [
    {
     "data": {
      "text/plain": [
       "0      Yes, for some shopping needs\n",
       "1                       No Response\n",
       "2                       No Response\n",
       "3      Yes, for some shopping needs\n",
       "4       Yes, for all shopping needs\n",
       "                   ...             \n",
       "322    Yes, for some shopping needs\n",
       "323                              No\n",
       "324                     No Response\n",
       "325    Yes, for some shopping needs\n",
       "326    Yes, for some shopping needs\n",
       "Name: JanFeb-ShareShopping, Length: 327, dtype: object"
      ]
     },
     "execution_count": 126,
     "metadata": {},
     "output_type": "execute_result"
    }
   ],
   "source": [
    "recoded['JanFeb-ShareShopping'] = sacog[sacog.columns[451]].fillna('No Response')\n",
    "recoded['JanFeb-ShareShopping']"
   ]
  },
  {
   "cell_type": "code",
   "execution_count": 127,
   "metadata": {},
   "outputs": [],
   "source": [
    "for i in range(452,461):\n",
    "    items = sacog.columns[i].split(' - ')[-1].replace('.1','')\n",
    "    name = 'JanFeb-Shared-'+items_dict[items]\n",
    "    recoded[name] = sacog[sacog.columns[i]].fillna(0).astype(int)\n",
    "recoded['JanFeb-Shared-OtherType'] = sacog[sacog.columns[461]]"
   ]
  },
  {
   "cell_type": "code",
   "execution_count": 128,
   "metadata": {},
   "outputs": [
    {
     "data": {
      "text/plain": [
       "0    261\n",
       "1     66\n",
       "Name: JanFeb-Shared-PreparedFood, dtype: int64"
      ]
     },
     "execution_count": 128,
     "metadata": {},
     "output_type": "execute_result"
    }
   ],
   "source": [
    "recoded[recoded.columns[-10]].value_counts()"
   ]
  },
  {
   "cell_type": "code",
   "execution_count": 129,
   "metadata": {},
   "outputs": [
    {
     "data": {
      "text/plain": [
       "0      1\n",
       "1      0\n",
       "2      0\n",
       "3      0\n",
       "4      0\n",
       "      ..\n",
       "322    1\n",
       "323    0\n",
       "324    1\n",
       "325    0\n",
       "326    0\n",
       "Name: JanFeb-ShoppingDifferent, Length: 327, dtype: int64"
      ]
     },
     "execution_count": 129,
     "metadata": {},
     "output_type": "execute_result"
    }
   ],
   "source": [
    "binary_dict[\"I don't remember\"] = 998\n",
    "recoded['JanFeb-ShoppingDifferent'] = sacog[sacog.columns[462]].replace(binary_dict).fillna(-9998)\n",
    "recoded['JanFeb-ShoppingDifferent']"
   ]
  },
  {
   "cell_type": "code",
   "execution_count": 130,
   "metadata": {},
   "outputs": [],
   "source": [
    "recoded['JanFeb-ShoppingExplanation'] = sacog[sacog.columns[463]]"
   ]
  },
  {
   "cell_type": "code",
   "execution_count": null,
   "metadata": {},
   "outputs": [],
   "source": []
  },
  {
   "cell_type": "code",
   "execution_count": 131,
   "metadata": {},
   "outputs": [],
   "source": [
    "for i in range(464,473):\n",
    "    items = sacog.columns[i].split(' - ')[-1]\n",
    "    name = 'Change-Shopping-TripsToStore-'+items_dict[items]\n",
    "    recoded[name] = sacog[sacog.columns[i]].fillna(\"No Response\")\n",
    "recoded['Change-Shopping-TripsToStore-'] = sacog[sacog.columns[473]]"
   ]
  },
  {
   "cell_type": "code",
   "execution_count": 132,
   "metadata": {},
   "outputs": [
    {
     "data": {
      "text/plain": [
       "Less           195\n",
       "No change       87\n",
       "More            38\n",
       "No Response      7\n",
       "Name: Change-Shopping-TripsToStore-Groceries, dtype: int64"
      ]
     },
     "execution_count": 132,
     "metadata": {},
     "output_type": "execute_result"
    }
   ],
   "source": [
    "recoded[recoded.columns[-9]].value_counts()"
   ]
  },
  {
   "cell_type": "code",
   "execution_count": 133,
   "metadata": {},
   "outputs": [],
   "source": [
    "for i in range(474,483):\n",
    "    items = sacog.columns[i].split(' - ')[-1]\n",
    "    name = 'Change-Shopping-TripModeToStore-'+items_dict[items]\n",
    "    recoded[name] = sacog[sacog.columns[i]].fillna(\"No Response\")\n",
    "recoded['Change-Shopping-TripModeToStore-'] = sacog[sacog.columns[483]]"
   ]
  },
  {
   "cell_type": "code",
   "execution_count": 134,
   "metadata": {},
   "outputs": [
    {
     "data": {
      "text/plain": [
       "No             279\n",
       "Yes             25\n",
       "No Response     23\n",
       "Name: Change-Shopping-TripModeToStore-Groceries, dtype: int64"
      ]
     },
     "execution_count": 134,
     "metadata": {},
     "output_type": "execute_result"
    }
   ],
   "source": [
    "recoded[recoded.columns[-9]].value_counts()"
   ]
  },
  {
   "cell_type": "code",
   "execution_count": 135,
   "metadata": {},
   "outputs": [],
   "source": [
    "for i in range(484,493):\n",
    "    items = sacog.columns[i].split(' - ')[-1]\n",
    "    name = 'Change-Shopping-InStorePurchaseSize-'+items_dict[items]\n",
    "    recoded[name] = sacog[sacog.columns[i]].fillna(\"No Response\")\n",
    "recoded['Change-Shopping-InStorePurchaseSize-OtherType'] = sacog[sacog.columns[493]]"
   ]
  },
  {
   "cell_type": "code",
   "execution_count": 136,
   "metadata": {},
   "outputs": [
    {
     "data": {
      "text/plain": [
       "More           143\n",
       "No change      101\n",
       "Less            67\n",
       "No Response     16\n",
       "Name: Change-Shopping-InStorePurchaseSize-Groceries, dtype: int64"
      ]
     },
     "execution_count": 136,
     "metadata": {},
     "output_type": "execute_result"
    }
   ],
   "source": [
    "recoded[recoded.columns[-9]].value_counts()"
   ]
  },
  {
   "cell_type": "code",
   "execution_count": 137,
   "metadata": {},
   "outputs": [],
   "source": [
    "for i in range(494,503):\n",
    "    items = sacog.columns[i].split(' - ')[-1]\n",
    "    name = 'Change-Shopping-InStoreForSomeoneElse-'+items_dict[items]\n",
    "    recoded[name] = sacog[sacog.columns[i]].fillna(\"No Response\")\n",
    "recoded['Change-Shopping-ForSomeoneElse-OtherType'] = sacog[sacog.columns[503]]"
   ]
  },
  {
   "cell_type": "code",
   "execution_count": 138,
   "metadata": {},
   "outputs": [
    {
     "data": {
      "text/plain": [
       "No             249\n",
       "Yes             51\n",
       "No Response     27\n",
       "Name: Change-Shopping-InStoreForSomeoneElse-Groceries, dtype: int64"
      ]
     },
     "execution_count": 138,
     "metadata": {},
     "output_type": "execute_result"
    }
   ],
   "source": [
    "recoded[recoded.columns[-9]].value_counts()"
   ]
  },
  {
   "cell_type": "code",
   "execution_count": 139,
   "metadata": {},
   "outputs": [],
   "source": [
    "for i in range(504,513):\n",
    "    items = sacog.columns[i].split(' - ')[-1]\n",
    "    name = 'Change-Shopping-TripDistanceToStore-'+items_dict[items]\n",
    "    recoded[name] = sacog[sacog.columns[i]].fillna(\"No Response\")\n",
    "recoded['Change-Shopping-TripDistanceToStore-OtherType'] = sacog[sacog.columns[513]]"
   ]
  },
  {
   "cell_type": "code",
   "execution_count": 140,
   "metadata": {},
   "outputs": [
    {
     "data": {
      "text/plain": [
       "No change      251\n",
       "Less            32\n",
       "No Response     26\n",
       "More            18\n",
       "Name: Change-Shopping-TripDistanceToStore-Groceries, dtype: int64"
      ]
     },
     "execution_count": 140,
     "metadata": {},
     "output_type": "execute_result"
    }
   ],
   "source": [
    "recoded[recoded.columns[-9]].value_counts()"
   ]
  },
  {
   "cell_type": "code",
   "execution_count": 141,
   "metadata": {},
   "outputs": [],
   "source": [
    "for i in range(514,523):\n",
    "    items = sacog.columns[i].split(' - ')[-1]\n",
    "    name = 'JanFeb-Shopping-TripModeToStore-'+items_dict[items]\n",
    "    recoded[name] = sacog[sacog.columns[i]].fillna(\"No Response\")\n",
    "recoded['JanFeb-Shopping-TripModeToStore-OtherType'] = sacog[sacog.columns[523]]"
   ]
  },
  {
   "cell_type": "code",
   "execution_count": 142,
   "metadata": {},
   "outputs": [
    {
     "data": {
      "text/plain": [
       "No Response                                               302\n",
       "Driving alone                                              13\n",
       "Carpooling (riding or driving)                              5\n",
       "Personal bike                                               4\n",
       "Transportation Network Company (e.g., Lyft, Uber, Via)      1\n",
       "Walking                                                     1\n",
       "Bus                                                         1\n",
       "Name: JanFeb-Shopping-TripModeToStore-Groceries, dtype: int64"
      ]
     },
     "execution_count": 142,
     "metadata": {},
     "output_type": "execute_result"
    }
   ],
   "source": [
    "recoded[recoded.columns[-9]].value_counts()"
   ]
  },
  {
   "cell_type": "code",
   "execution_count": 143,
   "metadata": {},
   "outputs": [],
   "source": [
    "for i in range(524,533):\n",
    "    items = sacog.columns[i].split(' - ')[-1]\n",
    "    name = 'Change-Shopping-ECommercePurchases-'+items_dict[items]\n",
    "    recoded[name] = sacog[sacog.columns[i]].fillna(\"No Response\")\n",
    "recoded['Change-Shopping-ECommercePurchases-OtherType'] = sacog[sacog.columns[533]]"
   ]
  },
  {
   "cell_type": "code",
   "execution_count": 144,
   "metadata": {},
   "outputs": [
    {
     "data": {
      "text/plain": [
       "No change      209\n",
       "More            87\n",
       "Less            22\n",
       "No Response      9\n",
       "Name: Change-Shopping-ECommercePurchases-Groceries, dtype: int64"
      ]
     },
     "execution_count": 144,
     "metadata": {},
     "output_type": "execute_result"
    }
   ],
   "source": [
    "recoded[recoded.columns[-9]].value_counts()"
   ]
  },
  {
   "cell_type": "code",
   "execution_count": 145,
   "metadata": {},
   "outputs": [],
   "source": [
    "for i in range(534,543):\n",
    "    items = sacog.columns[i].split(' - ')[-1]\n",
    "    name = 'Change-Shopping-ECommerceForSomeoneElse-'+items_dict[items]\n",
    "    recoded[name] = sacog[sacog.columns[i]].fillna(\"No Response\")\n",
    "recoded['Change-Shopping-ECommerceForSomeoneElse-OtherType'] = sacog[sacog.columns[543]]"
   ]
  },
  {
   "cell_type": "code",
   "execution_count": 146,
   "metadata": {},
   "outputs": [
    {
     "data": {
      "text/plain": [
       "No             281\n",
       "Yes             23\n",
       "No Response     23\n",
       "Name: Change-Shopping-ECommerceForSomeoneElse-Groceries, dtype: int64"
      ]
     },
     "execution_count": 146,
     "metadata": {},
     "output_type": "execute_result"
    }
   ],
   "source": [
    "recoded[recoded.columns[-9]].value_counts()"
   ]
  },
  {
   "cell_type": "code",
   "execution_count": 147,
   "metadata": {},
   "outputs": [],
   "source": [
    "for i in range(544,553):\n",
    "    items = sacog.columns[i].split(' - ')[-1]\n",
    "    name = 'Change-Shopping-DeliveriesToHome-'+items_dict[items]\n",
    "    recoded[name] = sacog[sacog.columns[i]].fillna(\"No Response\")\n",
    "recoded['Change-Shopping-DeliveriesToHome-OtherType'] = sacog[sacog.columns[553]]"
   ]
  },
  {
   "cell_type": "code",
   "execution_count": 148,
   "metadata": {},
   "outputs": [
    {
     "data": {
      "text/plain": [
       "No change      232\n",
       "More            67\n",
       "No Response     21\n",
       "Less             7\n",
       "Name: Change-Shopping-DeliveriesToHome-Groceries, dtype: int64"
      ]
     },
     "execution_count": 148,
     "metadata": {},
     "output_type": "execute_result"
    }
   ],
   "source": [
    "recoded[recoded.columns[-9]].value_counts()"
   ]
  },
  {
   "cell_type": "code",
   "execution_count": 149,
   "metadata": {},
   "outputs": [],
   "source": [
    "for i in range(554,563):\n",
    "    items = sacog.columns[i].split(' - ')[-1]\n",
    "    name = 'Change-Shopping-PickupNumber-'+items_dict[items]\n",
    "    recoded[name] = sacog[sacog.columns[i]].fillna(\"No Response\")\n",
    "recoded['Change-Shopping-PickupNumber-OtherType'] = sacog[sacog.columns[563]]"
   ]
  },
  {
   "cell_type": "code",
   "execution_count": 150,
   "metadata": {},
   "outputs": [
    {
     "data": {
      "text/plain": [
       "No change      239\n",
       "More            42\n",
       "No Response     30\n",
       "Less            16\n",
       "Name: Change-Shopping-PickupNumber-Groceries, dtype: int64"
      ]
     },
     "execution_count": 150,
     "metadata": {},
     "output_type": "execute_result"
    }
   ],
   "source": [
    "recoded[recoded.columns[-9]].value_counts()"
   ]
  },
  {
   "cell_type": "code",
   "execution_count": 151,
   "metadata": {},
   "outputs": [],
   "source": [
    "for i in range(564,573):\n",
    "    items = sacog.columns[i].split(' - ')[-1]\n",
    "    name = 'Change-Shopping-PickupMode-'+items_dict[items]\n",
    "    recoded[name] = sacog[sacog.columns[i]].fillna(\"No Response\")\n",
    "recoded['Change-Shopping-PickupMode-OtherType'] = sacog[sacog.columns[573]]"
   ]
  },
  {
   "cell_type": "code",
   "execution_count": 152,
   "metadata": {},
   "outputs": [
    {
     "data": {
      "text/plain": [
       "No             286\n",
       "No Response     22\n",
       "Yes             19\n",
       "Name: Change-Shopping-PickupMode-Groceries, dtype: int64"
      ]
     },
     "execution_count": 152,
     "metadata": {},
     "output_type": "execute_result"
    }
   ],
   "source": [
    "recoded[recoded.columns[-9]].value_counts()"
   ]
  },
  {
   "cell_type": "code",
   "execution_count": 153,
   "metadata": {},
   "outputs": [],
   "source": [
    "for i in range(574,583):\n",
    "    items = sacog.columns[i].split(' - ')[-1]\n",
    "    name = 'Change-Shopping-Curbside-'+items_dict[items]\n",
    "    recoded[name] = sacog[sacog.columns[i]].fillna(\"No Response\")\n",
    "recoded['Change-Shopping-Curbside-OtherType'] = sacog[sacog.columns[583]]"
   ]
  },
  {
   "cell_type": "code",
   "execution_count": 154,
   "metadata": {},
   "outputs": [
    {
     "data": {
      "text/plain": [
       "No change      249\n",
       "More            55\n",
       "No Response     15\n",
       "Less             8\n",
       "Name: Change-Shopping-Curbside-Groceries, dtype: int64"
      ]
     },
     "execution_count": 154,
     "metadata": {},
     "output_type": "execute_result"
    }
   ],
   "source": [
    "recoded[recoded.columns[-9]].value_counts()"
   ]
  },
  {
   "cell_type": "code",
   "execution_count": 155,
   "metadata": {},
   "outputs": [],
   "source": [
    "for i in range(584,593):\n",
    "    items = sacog.columns[i].split(' - ')[-1]\n",
    "    name = 'Change-Shopping-DeliveriesToNonHome-'+items_dict[items]\n",
    "    recoded[name] = sacog[sacog.columns[i]].fillna(\"No Response\")\n",
    "recoded['Change-Shopping-DeliveriesToNonHome-OtherType'] = sacog[sacog.columns[593]]"
   ]
  },
  {
   "cell_type": "code",
   "execution_count": 156,
   "metadata": {},
   "outputs": [
    {
     "data": {
      "text/plain": [
       "No change      270\n",
       "No Response     34\n",
       "More            20\n",
       "Less             3\n",
       "Name: Change-Shopping-DeliveriesToNonHome-Groceries, dtype: int64"
      ]
     },
     "execution_count": 156,
     "metadata": {},
     "output_type": "execute_result"
    }
   ],
   "source": [
    "recoded[recoded.columns[-9]].value_counts()"
   ]
  },
  {
   "cell_type": "code",
   "execution_count": 157,
   "metadata": {},
   "outputs": [],
   "source": [
    "for i in range(594,603):\n",
    "    items = sacog.columns[i].split(' - ')[-1]\n",
    "    name = 'JanFeb-Pickup-Mode-'+items_dict[items]\n",
    "    recoded[name] = sacog[sacog.columns[i]].fillna(\"No Response\")\n",
    "recoded['JanFeb-Pickup-Mode-OtherType'] = sacog[sacog.columns[603]]"
   ]
  },
  {
   "cell_type": "code",
   "execution_count": 158,
   "metadata": {},
   "outputs": [],
   "source": [
    "recoded['PurchaseComments'] = sacog[sacog.columns[614]]"
   ]
  },
  {
   "cell_type": "code",
   "execution_count": null,
   "metadata": {},
   "outputs": [],
   "source": []
  },
  {
   "cell_type": "code",
   "execution_count": 159,
   "metadata": {},
   "outputs": [],
   "source": [
    "recoded['JanFeb-ShareGreoceries'] = sacog[sacog.columns[615]].fillna('No Response')"
   ]
  },
  {
   "cell_type": "code",
   "execution_count": 160,
   "metadata": {},
   "outputs": [
    {
     "data": {
      "text/plain": [
       "Yes    164\n",
       "No     163\n",
       "Name: JanFeb-ShareGreoceries, dtype: int64"
      ]
     },
     "execution_count": 160,
     "metadata": {},
     "output_type": "execute_result"
    }
   ],
   "source": [
    "recoded['JanFeb-ShareGreoceries'].value_counts()"
   ]
  },
  {
   "cell_type": "code",
   "execution_count": 161,
   "metadata": {},
   "outputs": [
    {
     "data": {
      "text/plain": [
       "My immediate family members                                                                 207\n",
       "I only shopped for myself                                                                    83\n",
       "My immediate family members,My extended family members                                        8\n",
       "Non-family members in my household                                                            7\n",
       "Non-family members outside my household                                                       5\n",
       "My immediate family members,Non-family members outside my household                           5\n",
       "My extended family members                                                                    3\n",
       "Any person(s) not listed above                                                                2\n",
       "Colleagues or members of my professional network                                              1\n",
       "Non-family members in my household,Non-family members outside my household                    1\n",
       "My immediate family members,Any person(s) not listed above                                    1\n",
       "Non-family members outside my household,Colleagues or members of my professional network      1\n",
       "Non-family members outside my household,Any person(s) not listed above                        1\n",
       "My immediate family members,Non-family members in my household                                1\n",
       "Name: During that typical week in Jan./Feb. 2020 (prior to the COVID-19 pandemic), who would you shop for when grocery shopping?\\n \\n\\nPlease select all that apply. - Selected Choice, dtype: int64"
      ]
     },
     "execution_count": 161,
     "metadata": {},
     "output_type": "execute_result"
    }
   ],
   "source": [
    "sacog[sacog.columns[616]].value_counts()"
   ]
  },
  {
   "cell_type": "code",
   "execution_count": 162,
   "metadata": {},
   "outputs": [],
   "source": [
    "recoded['JanFeb-GroceriesFor-Myself'] = sacog[sacog.columns[616]].str.contains('I only shopped for myself',regex=False).fillna(0).astype(int)\n",
    "recoded['JanFeb-GroceriesFor-ImmediateFamily'] = sacog[sacog.columns[616]].str.contains('My immediate family members',regex=False).fillna(0).astype(int)\n",
    "recoded['JanFeb-GroceriesFor-ExtendedFamily'] = sacog[sacog.columns[616]].str.contains('My extended family members',regex=False).fillna(0).astype(int)\n",
    "recoded['JanFeb-GroceriesFor-NonFamilyInHousehold'] = sacog[sacog.columns[616]].str.contains('Non-family members in my household',regex=False).fillna(0).astype(int)\n",
    "recoded['JanFeb-GroceriesFor-NonFamilyNotInHousehold'] = sacog[sacog.columns[616]].str.contains('Non-family members outside my household',regex=False).fillna(0).astype(int)\n",
    "recoded['JanFeb-GroceriesFor-Colleagues'] = sacog[sacog.columns[616]].str.contains('Colleagues or members of my professional network',regex=False).fillna(0).astype(int)\n",
    "recoded['JanFeb-GroceriesFor-Other'] = sacog[sacog.columns[616]].str.contains('Any person(s) not listed above',regex=False).fillna(0).astype(int)\n",
    "recoded['JanFeb-GroceriesFor-OtherType'] = sacog[sacog.columns[617]]"
   ]
  },
  {
   "cell_type": "code",
   "execution_count": 163,
   "metadata": {},
   "outputs": [
    {
     "data": {
      "text/html": [
       "<div>\n",
       "<style scoped>\n",
       "    .dataframe tbody tr th:only-of-type {\n",
       "        vertical-align: middle;\n",
       "    }\n",
       "\n",
       "    .dataframe tbody tr th {\n",
       "        vertical-align: top;\n",
       "    }\n",
       "\n",
       "    .dataframe thead th {\n",
       "        text-align: right;\n",
       "    }\n",
       "</style>\n",
       "<table border=\"1\" class=\"dataframe\">\n",
       "  <thead>\n",
       "    <tr style=\"text-align: right;\">\n",
       "      <th></th>\n",
       "      <th>JanFeb-GroceriesFor-Myself</th>\n",
       "      <th>JanFeb-GroceriesFor-ImmediateFamily</th>\n",
       "      <th>JanFeb-GroceriesFor-ExtendedFamily</th>\n",
       "      <th>JanFeb-GroceriesFor-NonFamilyInHousehold</th>\n",
       "      <th>JanFeb-GroceriesFor-NonFamilyNotInHousehold</th>\n",
       "      <th>JanFeb-GroceriesFor-Colleagues</th>\n",
       "      <th>JanFeb-GroceriesFor-Other</th>\n",
       "      <th>JanFeb-GroceriesFor-OtherType</th>\n",
       "    </tr>\n",
       "  </thead>\n",
       "  <tbody>\n",
       "    <tr>\n",
       "      <th>280</th>\n",
       "      <td>0</td>\n",
       "      <td>1</td>\n",
       "      <td>0</td>\n",
       "      <td>0</td>\n",
       "      <td>0</td>\n",
       "      <td>0</td>\n",
       "      <td>0</td>\n",
       "      <td>NaN</td>\n",
       "    </tr>\n",
       "    <tr>\n",
       "      <th>281</th>\n",
       "      <td>0</td>\n",
       "      <td>0</td>\n",
       "      <td>0</td>\n",
       "      <td>1</td>\n",
       "      <td>0</td>\n",
       "      <td>0</td>\n",
       "      <td>0</td>\n",
       "      <td>NaN</td>\n",
       "    </tr>\n",
       "    <tr>\n",
       "      <th>282</th>\n",
       "      <td>1</td>\n",
       "      <td>0</td>\n",
       "      <td>0</td>\n",
       "      <td>0</td>\n",
       "      <td>0</td>\n",
       "      <td>0</td>\n",
       "      <td>0</td>\n",
       "      <td>NaN</td>\n",
       "    </tr>\n",
       "    <tr>\n",
       "      <th>283</th>\n",
       "      <td>1</td>\n",
       "      <td>0</td>\n",
       "      <td>0</td>\n",
       "      <td>0</td>\n",
       "      <td>0</td>\n",
       "      <td>0</td>\n",
       "      <td>0</td>\n",
       "      <td>NaN</td>\n",
       "    </tr>\n",
       "    <tr>\n",
       "      <th>284</th>\n",
       "      <td>0</td>\n",
       "      <td>1</td>\n",
       "      <td>0</td>\n",
       "      <td>0</td>\n",
       "      <td>0</td>\n",
       "      <td>0</td>\n",
       "      <td>0</td>\n",
       "      <td>NaN</td>\n",
       "    </tr>\n",
       "    <tr>\n",
       "      <th>285</th>\n",
       "      <td>0</td>\n",
       "      <td>1</td>\n",
       "      <td>0</td>\n",
       "      <td>0</td>\n",
       "      <td>0</td>\n",
       "      <td>0</td>\n",
       "      <td>0</td>\n",
       "      <td>NaN</td>\n",
       "    </tr>\n",
       "    <tr>\n",
       "      <th>286</th>\n",
       "      <td>0</td>\n",
       "      <td>1</td>\n",
       "      <td>0</td>\n",
       "      <td>0</td>\n",
       "      <td>0</td>\n",
       "      <td>0</td>\n",
       "      <td>0</td>\n",
       "      <td>NaN</td>\n",
       "    </tr>\n",
       "    <tr>\n",
       "      <th>287</th>\n",
       "      <td>1</td>\n",
       "      <td>0</td>\n",
       "      <td>0</td>\n",
       "      <td>0</td>\n",
       "      <td>0</td>\n",
       "      <td>0</td>\n",
       "      <td>0</td>\n",
       "      <td>NaN</td>\n",
       "    </tr>\n",
       "    <tr>\n",
       "      <th>288</th>\n",
       "      <td>1</td>\n",
       "      <td>0</td>\n",
       "      <td>0</td>\n",
       "      <td>0</td>\n",
       "      <td>0</td>\n",
       "      <td>0</td>\n",
       "      <td>0</td>\n",
       "      <td>NaN</td>\n",
       "    </tr>\n",
       "    <tr>\n",
       "      <th>289</th>\n",
       "      <td>0</td>\n",
       "      <td>0</td>\n",
       "      <td>0</td>\n",
       "      <td>0</td>\n",
       "      <td>1</td>\n",
       "      <td>1</td>\n",
       "      <td>0</td>\n",
       "      <td>NaN</td>\n",
       "    </tr>\n",
       "    <tr>\n",
       "      <th>290</th>\n",
       "      <td>0</td>\n",
       "      <td>1</td>\n",
       "      <td>0</td>\n",
       "      <td>0</td>\n",
       "      <td>0</td>\n",
       "      <td>0</td>\n",
       "      <td>0</td>\n",
       "      <td>NaN</td>\n",
       "    </tr>\n",
       "    <tr>\n",
       "      <th>291</th>\n",
       "      <td>0</td>\n",
       "      <td>1</td>\n",
       "      <td>0</td>\n",
       "      <td>0</td>\n",
       "      <td>0</td>\n",
       "      <td>0</td>\n",
       "      <td>0</td>\n",
       "      <td>NaN</td>\n",
       "    </tr>\n",
       "    <tr>\n",
       "      <th>292</th>\n",
       "      <td>0</td>\n",
       "      <td>1</td>\n",
       "      <td>0</td>\n",
       "      <td>0</td>\n",
       "      <td>0</td>\n",
       "      <td>0</td>\n",
       "      <td>0</td>\n",
       "      <td>NaN</td>\n",
       "    </tr>\n",
       "    <tr>\n",
       "      <th>293</th>\n",
       "      <td>0</td>\n",
       "      <td>1</td>\n",
       "      <td>1</td>\n",
       "      <td>0</td>\n",
       "      <td>0</td>\n",
       "      <td>0</td>\n",
       "      <td>0</td>\n",
       "      <td>NaN</td>\n",
       "    </tr>\n",
       "    <tr>\n",
       "      <th>294</th>\n",
       "      <td>0</td>\n",
       "      <td>1</td>\n",
       "      <td>0</td>\n",
       "      <td>0</td>\n",
       "      <td>0</td>\n",
       "      <td>0</td>\n",
       "      <td>0</td>\n",
       "      <td>NaN</td>\n",
       "    </tr>\n",
       "    <tr>\n",
       "      <th>295</th>\n",
       "      <td>0</td>\n",
       "      <td>1</td>\n",
       "      <td>0</td>\n",
       "      <td>0</td>\n",
       "      <td>0</td>\n",
       "      <td>0</td>\n",
       "      <td>0</td>\n",
       "      <td>NaN</td>\n",
       "    </tr>\n",
       "    <tr>\n",
       "      <th>296</th>\n",
       "      <td>0</td>\n",
       "      <td>1</td>\n",
       "      <td>0</td>\n",
       "      <td>0</td>\n",
       "      <td>0</td>\n",
       "      <td>0</td>\n",
       "      <td>0</td>\n",
       "      <td>NaN</td>\n",
       "    </tr>\n",
       "    <tr>\n",
       "      <th>297</th>\n",
       "      <td>0</td>\n",
       "      <td>1</td>\n",
       "      <td>0</td>\n",
       "      <td>0</td>\n",
       "      <td>0</td>\n",
       "      <td>0</td>\n",
       "      <td>0</td>\n",
       "      <td>NaN</td>\n",
       "    </tr>\n",
       "    <tr>\n",
       "      <th>298</th>\n",
       "      <td>0</td>\n",
       "      <td>1</td>\n",
       "      <td>0</td>\n",
       "      <td>0</td>\n",
       "      <td>0</td>\n",
       "      <td>0</td>\n",
       "      <td>0</td>\n",
       "      <td>NaN</td>\n",
       "    </tr>\n",
       "    <tr>\n",
       "      <th>299</th>\n",
       "      <td>0</td>\n",
       "      <td>1</td>\n",
       "      <td>1</td>\n",
       "      <td>0</td>\n",
       "      <td>0</td>\n",
       "      <td>0</td>\n",
       "      <td>0</td>\n",
       "      <td>NaN</td>\n",
       "    </tr>\n",
       "    <tr>\n",
       "      <th>300</th>\n",
       "      <td>0</td>\n",
       "      <td>1</td>\n",
       "      <td>0</td>\n",
       "      <td>0</td>\n",
       "      <td>0</td>\n",
       "      <td>0</td>\n",
       "      <td>0</td>\n",
       "      <td>NaN</td>\n",
       "    </tr>\n",
       "  </tbody>\n",
       "</table>\n",
       "</div>"
      ],
      "text/plain": [
       "     JanFeb-GroceriesFor-Myself  JanFeb-GroceriesFor-ImmediateFamily  \\\n",
       "280                           0                                    1   \n",
       "281                           0                                    0   \n",
       "282                           1                                    0   \n",
       "283                           1                                    0   \n",
       "284                           0                                    1   \n",
       "285                           0                                    1   \n",
       "286                           0                                    1   \n",
       "287                           1                                    0   \n",
       "288                           1                                    0   \n",
       "289                           0                                    0   \n",
       "290                           0                                    1   \n",
       "291                           0                                    1   \n",
       "292                           0                                    1   \n",
       "293                           0                                    1   \n",
       "294                           0                                    1   \n",
       "295                           0                                    1   \n",
       "296                           0                                    1   \n",
       "297                           0                                    1   \n",
       "298                           0                                    1   \n",
       "299                           0                                    1   \n",
       "300                           0                                    1   \n",
       "\n",
       "     JanFeb-GroceriesFor-ExtendedFamily  \\\n",
       "280                                   0   \n",
       "281                                   0   \n",
       "282                                   0   \n",
       "283                                   0   \n",
       "284                                   0   \n",
       "285                                   0   \n",
       "286                                   0   \n",
       "287                                   0   \n",
       "288                                   0   \n",
       "289                                   0   \n",
       "290                                   0   \n",
       "291                                   0   \n",
       "292                                   0   \n",
       "293                                   1   \n",
       "294                                   0   \n",
       "295                                   0   \n",
       "296                                   0   \n",
       "297                                   0   \n",
       "298                                   0   \n",
       "299                                   1   \n",
       "300                                   0   \n",
       "\n",
       "     JanFeb-GroceriesFor-NonFamilyInHousehold  \\\n",
       "280                                         0   \n",
       "281                                         1   \n",
       "282                                         0   \n",
       "283                                         0   \n",
       "284                                         0   \n",
       "285                                         0   \n",
       "286                                         0   \n",
       "287                                         0   \n",
       "288                                         0   \n",
       "289                                         0   \n",
       "290                                         0   \n",
       "291                                         0   \n",
       "292                                         0   \n",
       "293                                         0   \n",
       "294                                         0   \n",
       "295                                         0   \n",
       "296                                         0   \n",
       "297                                         0   \n",
       "298                                         0   \n",
       "299                                         0   \n",
       "300                                         0   \n",
       "\n",
       "     JanFeb-GroceriesFor-NonFamilyNotInHousehold  \\\n",
       "280                                            0   \n",
       "281                                            0   \n",
       "282                                            0   \n",
       "283                                            0   \n",
       "284                                            0   \n",
       "285                                            0   \n",
       "286                                            0   \n",
       "287                                            0   \n",
       "288                                            0   \n",
       "289                                            1   \n",
       "290                                            0   \n",
       "291                                            0   \n",
       "292                                            0   \n",
       "293                                            0   \n",
       "294                                            0   \n",
       "295                                            0   \n",
       "296                                            0   \n",
       "297                                            0   \n",
       "298                                            0   \n",
       "299                                            0   \n",
       "300                                            0   \n",
       "\n",
       "     JanFeb-GroceriesFor-Colleagues  JanFeb-GroceriesFor-Other  \\\n",
       "280                               0                          0   \n",
       "281                               0                          0   \n",
       "282                               0                          0   \n",
       "283                               0                          0   \n",
       "284                               0                          0   \n",
       "285                               0                          0   \n",
       "286                               0                          0   \n",
       "287                               0                          0   \n",
       "288                               0                          0   \n",
       "289                               1                          0   \n",
       "290                               0                          0   \n",
       "291                               0                          0   \n",
       "292                               0                          0   \n",
       "293                               0                          0   \n",
       "294                               0                          0   \n",
       "295                               0                          0   \n",
       "296                               0                          0   \n",
       "297                               0                          0   \n",
       "298                               0                          0   \n",
       "299                               0                          0   \n",
       "300                               0                          0   \n",
       "\n",
       "    JanFeb-GroceriesFor-OtherType  \n",
       "280                           NaN  \n",
       "281                           NaN  \n",
       "282                           NaN  \n",
       "283                           NaN  \n",
       "284                           NaN  \n",
       "285                           NaN  \n",
       "286                           NaN  \n",
       "287                           NaN  \n",
       "288                           NaN  \n",
       "289                           NaN  \n",
       "290                           NaN  \n",
       "291                           NaN  \n",
       "292                           NaN  \n",
       "293                           NaN  \n",
       "294                           NaN  \n",
       "295                           NaN  \n",
       "296                           NaN  \n",
       "297                           NaN  \n",
       "298                           NaN  \n",
       "299                           NaN  \n",
       "300                           NaN  "
      ]
     },
     "execution_count": 163,
     "metadata": {},
     "output_type": "execute_result"
    }
   ],
   "source": [
    "recoded.loc[280:300,'JanFeb-GroceriesFor-Myself':'JanFeb-GroceriesFor-OtherType']"
   ]
  },
  {
   "cell_type": "code",
   "execution_count": 164,
   "metadata": {},
   "outputs": [
    {
     "data": {
      "text/html": [
       "<div>\n",
       "<style scoped>\n",
       "    .dataframe tbody tr th:only-of-type {\n",
       "        vertical-align: middle;\n",
       "    }\n",
       "\n",
       "    .dataframe tbody tr th {\n",
       "        vertical-align: top;\n",
       "    }\n",
       "\n",
       "    .dataframe thead th {\n",
       "        text-align: right;\n",
       "    }\n",
       "</style>\n",
       "<table border=\"1\" class=\"dataframe\">\n",
       "  <thead>\n",
       "    <tr style=\"text-align: right;\">\n",
       "      <th></th>\n",
       "      <th>During that typical week in Jan./Feb. 2020 (prior to the COVID-19 pandemic), who would you shop for when grocery shopping?\\n \\n\\nPlease select all that apply. - Selected Choice</th>\n",
       "    </tr>\n",
       "  </thead>\n",
       "  <tbody>\n",
       "    <tr>\n",
       "      <th>280</th>\n",
       "      <td>My immediate family members</td>\n",
       "    </tr>\n",
       "    <tr>\n",
       "      <th>281</th>\n",
       "      <td>Non-family members in my household</td>\n",
       "    </tr>\n",
       "    <tr>\n",
       "      <th>282</th>\n",
       "      <td>I only shopped for myself</td>\n",
       "    </tr>\n",
       "    <tr>\n",
       "      <th>283</th>\n",
       "      <td>I only shopped for myself</td>\n",
       "    </tr>\n",
       "    <tr>\n",
       "      <th>284</th>\n",
       "      <td>My immediate family members</td>\n",
       "    </tr>\n",
       "    <tr>\n",
       "      <th>285</th>\n",
       "      <td>My immediate family members</td>\n",
       "    </tr>\n",
       "    <tr>\n",
       "      <th>286</th>\n",
       "      <td>My immediate family members</td>\n",
       "    </tr>\n",
       "    <tr>\n",
       "      <th>287</th>\n",
       "      <td>I only shopped for myself</td>\n",
       "    </tr>\n",
       "    <tr>\n",
       "      <th>288</th>\n",
       "      <td>I only shopped for myself</td>\n",
       "    </tr>\n",
       "    <tr>\n",
       "      <th>289</th>\n",
       "      <td>Non-family members outside my household,Collea...</td>\n",
       "    </tr>\n",
       "    <tr>\n",
       "      <th>290</th>\n",
       "      <td>My immediate family members</td>\n",
       "    </tr>\n",
       "    <tr>\n",
       "      <th>291</th>\n",
       "      <td>My immediate family members</td>\n",
       "    </tr>\n",
       "    <tr>\n",
       "      <th>292</th>\n",
       "      <td>My immediate family members</td>\n",
       "    </tr>\n",
       "    <tr>\n",
       "      <th>293</th>\n",
       "      <td>My immediate family members,My extended family...</td>\n",
       "    </tr>\n",
       "    <tr>\n",
       "      <th>294</th>\n",
       "      <td>My immediate family members</td>\n",
       "    </tr>\n",
       "    <tr>\n",
       "      <th>295</th>\n",
       "      <td>My immediate family members</td>\n",
       "    </tr>\n",
       "    <tr>\n",
       "      <th>296</th>\n",
       "      <td>My immediate family members</td>\n",
       "    </tr>\n",
       "    <tr>\n",
       "      <th>297</th>\n",
       "      <td>My immediate family members</td>\n",
       "    </tr>\n",
       "    <tr>\n",
       "      <th>298</th>\n",
       "      <td>My immediate family members</td>\n",
       "    </tr>\n",
       "    <tr>\n",
       "      <th>299</th>\n",
       "      <td>My immediate family members,My extended family...</td>\n",
       "    </tr>\n",
       "  </tbody>\n",
       "</table>\n",
       "</div>"
      ],
      "text/plain": [
       "    During that typical week in Jan./Feb. 2020 (prior to the COVID-19 pandemic), who would you shop for when grocery shopping?\\n \\n\\nPlease select all that apply. - Selected Choice\n",
       "280                        My immediate family members                                                                                                                              \n",
       "281                 Non-family members in my household                                                                                                                              \n",
       "282                          I only shopped for myself                                                                                                                              \n",
       "283                          I only shopped for myself                                                                                                                              \n",
       "284                        My immediate family members                                                                                                                              \n",
       "285                        My immediate family members                                                                                                                              \n",
       "286                        My immediate family members                                                                                                                              \n",
       "287                          I only shopped for myself                                                                                                                              \n",
       "288                          I only shopped for myself                                                                                                                              \n",
       "289  Non-family members outside my household,Collea...                                                                                                                              \n",
       "290                        My immediate family members                                                                                                                              \n",
       "291                        My immediate family members                                                                                                                              \n",
       "292                        My immediate family members                                                                                                                              \n",
       "293  My immediate family members,My extended family...                                                                                                                              \n",
       "294                        My immediate family members                                                                                                                              \n",
       "295                        My immediate family members                                                                                                                              \n",
       "296                        My immediate family members                                                                                                                              \n",
       "297                        My immediate family members                                                                                                                              \n",
       "298                        My immediate family members                                                                                                                              \n",
       "299  My immediate family members,My extended family...                                                                                                                              "
      ]
     },
     "execution_count": 164,
     "metadata": {},
     "output_type": "execute_result"
    }
   ],
   "source": [
    "sacog.iloc[280:300,616:617]"
   ]
  },
  {
   "cell_type": "code",
   "execution_count": 165,
   "metadata": {},
   "outputs": [
    {
     "data": {
      "text/plain": [
       "0           About 1 time per week\n",
       "1           About 1 time per week\n",
       "2            3 - 5 times per week\n",
       "3            2 - 3 times per week\n",
       "4           About 1 time per week\n",
       "                  ...            \n",
       "322    Less than 1 time per week \n",
       "323          3 - 5 times per week\n",
       "324          2 - 3 times per week\n",
       "325    Less than 1 time per week \n",
       "326          2 - 3 times per week\n",
       "Name: JanFeb-Grocery-Frequency, Length: 327, dtype: object"
      ]
     },
     "execution_count": 165,
     "metadata": {},
     "output_type": "execute_result"
    }
   ],
   "source": [
    "recoded['JanFeb-Grocery-Frequency'] = sacog[sacog.columns[618]].fillna(\"No Response\").str.split('(').str[0]\n",
    "recoded['JanFeb-Grocery-Frequency']"
   ]
  },
  {
   "cell_type": "code",
   "execution_count": 166,
   "metadata": {},
   "outputs": [
    {
     "data": {
      "text/plain": [
       "A little bit of both depending on my family’s needs. Sometimes we visited one store and other times we visited multiple.     1\n",
       "Usually one store, occasionally multiple stores                                                                              1\n",
       "It varied, depending on needs (all stores do not have all things)                                                            1\n",
       "Grocery store and Farmers market in same shopping center                                                                     1\n",
       "Name: During that typical week in Jan./Feb. 2020 (prior to the COVID-19 pandemic), did you and/or someone in your household visit multiple food stores per trip when you were shopping for groceries in person? - Something else: - Text, dtype: int64"
      ]
     },
     "execution_count": 166,
     "metadata": {},
     "output_type": "execute_result"
    }
   ],
   "source": [
    "sacog[sacog.columns[620]].value_counts()"
   ]
  },
  {
   "cell_type": "code",
   "execution_count": 167,
   "metadata": {},
   "outputs": [
    {
     "data": {
      "text/plain": [
       "0                                            SingleStore\n",
       "1                                            SingleStore\n",
       "2                                            SingleStore\n",
       "3                                            SingleStore\n",
       "4                                            SingleStore\n",
       "                             ...                        \n",
       "322    A little bit of both depending on my family’s ...\n",
       "323                                       MultipleStores\n",
       "324                                          SingleStore\n",
       "325                                          SingleStore\n",
       "326    It varied, depending on needs (all stores do n...\n",
       "Name: JanFeb-Grocery-MultipleStores, Length: 327, dtype: object"
      ]
     },
     "execution_count": 167,
     "metadata": {},
     "output_type": "execute_result"
    }
   ],
   "source": [
    "i = 619\n",
    "string = 'Something else:'\n",
    "column = sacog[sacog.columns[i]].copy()\n",
    "column[column == string] = sacog[sacog.columns[i+1]][column == string]\n",
    "recoded['JanFeb-Grocery-MultipleStores'] = column.fillna('No Response').replace({'Yes, I/my household usually visited multiple food stores when I made grocery trips.':'MultipleStores','No, I/my household usually visited only a single food store when I made grocery trips.':'SingleStore'})\n",
    "recoded['JanFeb-Grocery-MultipleStores']"
   ]
  },
  {
   "cell_type": "code",
   "execution_count": 168,
   "metadata": {},
   "outputs": [
    {
     "data": {
      "text/plain": [
       "0                                              NoErrands\n",
       "1                                              NoErrands\n",
       "2                                           OtherErrands\n",
       "3                                           OtherErrands\n",
       "4                                              NoErrands\n",
       "                             ...                        \n",
       "322                                         OtherErrands\n",
       "323                                         OtherErrands\n",
       "324                                         OtherErrands\n",
       "325                                            NoErrands\n",
       "326    Occasionally we ran errands while out shopping...\n",
       "Name: JanFeb-Grocery-OtherErrands, Length: 327, dtype: object"
      ]
     },
     "execution_count": 168,
     "metadata": {},
     "output_type": "execute_result"
    }
   ],
   "source": [
    "i = 621\n",
    "string = 'Something else:'\n",
    "column = sacog[sacog.columns[i]].copy()\n",
    "column[column == string] = sacog[sacog.columns[i+1]][column == string]\n",
    "recoded['JanFeb-Grocery-OtherErrands'] = column.fillna('No Response').replace({'Yes, I/my household usually ran other errands while out shopping for groceries.':'OtherErrands','No, I/my household usually did not run other errands while out shopping for groceries.':'NoErrands'})\n",
    "recoded['JanFeb-Grocery-OtherErrands']"
   ]
  },
  {
   "cell_type": "code",
   "execution_count": 169,
   "metadata": {},
   "outputs": [
    {
     "data": {
      "text/plain": [
       "0                                 NotChained\n",
       "1                                 NotChained\n",
       "2                                 NotChained\n",
       "3                                    Chained\n",
       "4                                 NotChained\n",
       "                       ...                  \n",
       "322                               NotChained\n",
       "323                              No Response\n",
       "324                                  Chained\n",
       "325                               NotChained\n",
       "326    For me, yes.  For my wife, sometimes.\n",
       "Name: JanFeb-Grocery-ToFromWork, Length: 327, dtype: object"
      ]
     },
     "execution_count": 169,
     "metadata": {},
     "output_type": "execute_result"
    }
   ],
   "source": [
    "i = 623\n",
    "string = 'I did something else:'\n",
    "column = sacog[sacog.columns[i]].copy()\n",
    "column[column == string] = sacog[sacog.columns[i+1]][column == string]\n",
    "recoded['JanFeb-Grocery-ToFromWork'] = column.fillna('No Response').replace({'Yes, I/my household usually went grocery shopping on my way to/from work, school, or elsewhere.':'Chained','No, I/my household usually went grocery shopping as a standalone trip.':'NotChained'})\n",
    "recoded['JanFeb-Grocery-ToFromWork']"
   ]
  },
  {
   "cell_type": "code",
   "execution_count": 170,
   "metadata": {},
   "outputs": [
    {
     "data": {
      "text/plain": [
       "On both weekdays and weekends    208\n",
       "On weekdays only                  82\n",
       "On weekends only                  34\n",
       "No Response                        3\n",
       "Name: JanFeb-Grocery-DayOfWeek, dtype: int64"
      ]
     },
     "execution_count": 170,
     "metadata": {},
     "output_type": "execute_result"
    }
   ],
   "source": [
    "i = 625\n",
    "string = 'I do something else:'\n",
    "column = sacog[sacog.columns[i]].copy()\n",
    "column[column == string] = sacog[sacog.columns[i+1]][column == string]\n",
    "recoded['JanFeb-Grocery-DayOfWeek'] = column.fillna('No Response')\n",
    "recoded['JanFeb-Grocery-DayOfWeek'].value_counts()"
   ]
  },
  {
   "cell_type": "code",
   "execution_count": 171,
   "metadata": {},
   "outputs": [],
   "source": [
    "series1 = sacog[sacog.columns[627]].copy()\n",
    "series2 = sacog[sacog.columns[630]].copy()\n",
    "name = 'Change-Grocery-Store'\n",
    "series1[series2.notna()] = series2[series2.notna()]\n",
    "recoded[name] = series1.fillna(-9998).replace({'True':1,'False':0}).astype(int)"
   ]
  },
  {
   "cell_type": "code",
   "execution_count": 172,
   "metadata": {},
   "outputs": [
    {
     "data": {
      "text/plain": [
       " 0       231\n",
       " 1        89\n",
       "-9998      7\n",
       "Name: Change-Grocery-Store, dtype: int64"
      ]
     },
     "execution_count": 172,
     "metadata": {},
     "output_type": "execute_result"
    }
   ],
   "source": [
    "recoded['Change-Grocery-Store'].value_counts()"
   ]
  },
  {
   "cell_type": "code",
   "execution_count": 173,
   "metadata": {},
   "outputs": [
    {
     "data": {
      "text/plain": [
       "265    0\n",
       "262    0\n",
       "159    0\n",
       "248    0\n",
       "65     0\n",
       "      ..\n",
       "106    1\n",
       "105    1\n",
       "104    1\n",
       "122    1\n",
       "326    1\n",
       "Length: 327, dtype: int64"
      ]
     },
     "execution_count": 173,
     "metadata": {},
     "output_type": "execute_result"
    }
   ],
   "source": [
    "#no one sees both sets\n",
    "sacog.iloc[:,np.r_[627,630]].notna().sum(axis=1).sort_values()"
   ]
  },
  {
   "cell_type": "code",
   "execution_count": 174,
   "metadata": {},
   "outputs": [],
   "source": [
    "series1 = sacog[sacog.columns[628]].copy()\n",
    "series2 = sacog[sacog.columns[631]].copy()\n",
    "name = 'Change-Grocery-TripNumber'\n",
    "series1[series2.notna()] = series2[series2.notna()]\n",
    "recoded[name] = series1.fillna(\"No Response\")"
   ]
  },
  {
   "cell_type": "code",
   "execution_count": 175,
   "metadata": {},
   "outputs": [],
   "source": [
    "series1 = sacog[sacog.columns[629]].copy()\n",
    "series2 = sacog[sacog.columns[632]].copy()\n",
    "name = 'Change-Grocery-TripStores'\n",
    "series1[series2.notna()] = series2[series2.notna()]\n",
    "recoded[name] = series1.fillna(\"No Response\")"
   ]
  },
  {
   "cell_type": "code",
   "execution_count": 176,
   "metadata": {},
   "outputs": [],
   "source": [
    "recoded['Change-Grocery-ToFromWork'] = sacog[sacog.columns[633]].fillna(-9998).replace({'True':1,'False':0}).astype(int)"
   ]
  },
  {
   "cell_type": "code",
   "execution_count": 177,
   "metadata": {},
   "outputs": [
    {
     "data": {
      "text/plain": [
       "-9998    187\n",
       " 1        93\n",
       " 0        47\n",
       "Name: Change-Grocery-ToFromWork, dtype: int64"
      ]
     },
     "execution_count": 177,
     "metadata": {},
     "output_type": "execute_result"
    }
   ],
   "source": [
    "recoded['Change-Grocery-ToFromWork'].value_counts()"
   ]
  },
  {
   "cell_type": "code",
   "execution_count": 178,
   "metadata": {},
   "outputs": [
    {
     "data": {
      "text/plain": [
       "0      Amazon Prime,Instacart Express, Amazon Prime P...\n",
       "1                                           Amazon Prime\n",
       "2      No, I am not a member of of any online shoppin...\n",
       "3                             Amazon Prime,Target Circle\n",
       "4                                           Amazon Prime\n",
       "                             ...                        \n",
       "322                           Amazon Prime,Target Circle\n",
       "323                           Amazon Prime,Target Circle\n",
       "324                                         Amazon Prime\n",
       "325                           Amazon Prime,Target Circle\n",
       "326    Amazon Prime,DashPass, Postmates Unlimited, Gr...\n",
       "Name: Are you a member of any online shopping rewards programs (e.g., Amazon Prime, Target Circle or Shipt, Shoprunner, Wine Club)\\n\\n\\nPlease select all that apply. - Selected Choice, Length: 327, dtype: object"
      ]
     },
     "execution_count": 178,
     "metadata": {},
     "output_type": "execute_result"
    }
   ],
   "source": [
    "sacog[sacog.columns[634]]"
   ]
  },
  {
   "cell_type": "code",
   "execution_count": 179,
   "metadata": {},
   "outputs": [],
   "source": [
    "rewards_dict = {'Amazon Prime':'AmazonPrime','Target Circle':'TargetCircle','Shoprunner':'Shoprunner','DashPass, Postmates Unlimited, Grubhub+, or other restaurant food delivery rewards program':'RestaurantDelivery','Instacart Express, Amazon Prime Pantry, or other grocery delivery rewards prorgram':'GroceryDelivery','Another rewards program not listed:':'Other'}"
   ]
  },
  {
   "cell_type": "code",
   "execution_count": 180,
   "metadata": {},
   "outputs": [],
   "source": [
    "#Nobody didn't answer at all, so if they weren't a member of any program, all of these columns would be 0\n",
    "for program in rewards_dict.keys():\n",
    "    recoded['Rewards-Member-'+rewards_dict[program]] = sacog[sacog.columns[634]].str.contains(program,regex=False).fillna(0).astype(int)\n",
    "\n",
    "recoded['Rewards-Member-OtherType'] = sacog[sacog.columns[635]]"
   ]
  },
  {
   "cell_type": "code",
   "execution_count": 181,
   "metadata": {},
   "outputs": [],
   "source": [
    "#Do not include \"I am not a member\" column, same for all other program questions below\n",
    "for i in range(636,642):\n",
    "    program = sacog.columns[i].split(' - ')[-1]\n",
    "    name = 'Rewards-Length-'+rewards_dict[program]\n",
    "    recoded[name] = sacog[sacog.columns[i]].fillna(\"No Response\")"
   ]
  },
  {
   "cell_type": "code",
   "execution_count": 182,
   "metadata": {},
   "outputs": [
    {
     "data": {
      "text/plain": [
       "Longer than 5 years            126\n",
       "Between 2 and 5 years           91\n",
       "No Response                     76\n",
       "Between 1 and 2 years           19\n",
       "Between 3 months and 1 year     10\n",
       "Fewer than 3 months              5\n",
       "Name: Rewards-Length-AmazonPrime, dtype: int64"
      ]
     },
     "execution_count": 182,
     "metadata": {},
     "output_type": "execute_result"
    }
   ],
   "source": [
    "recoded[recoded.columns[-6]].value_counts()"
   ]
  },
  {
   "cell_type": "code",
   "execution_count": 183,
   "metadata": {},
   "outputs": [],
   "source": [
    "for i in range(644,650):\n",
    "    program = sacog.columns[i].split(' - ')[-1]\n",
    "    name = 'Rewards-AnnualCost-'+rewards_dict[program]\n",
    "    recoded[name] = sacog[sacog.columns[i]].fillna(\"No Response\")"
   ]
  },
  {
   "cell_type": "code",
   "execution_count": 184,
   "metadata": {},
   "outputs": [],
   "source": [
    "for i in range(652,658):\n",
    "    program = sacog.columns[i].split(' - ')[-1]\n",
    "    name = 'Rewards-COVIDSignup-'+rewards_dict[program]\n",
    "    recoded[name] = sacog[sacog.columns[i]].fillna('-9998').replace({'Yes':1,'No':0}).astype(int)"
   ]
  },
  {
   "cell_type": "code",
   "execution_count": 185,
   "metadata": {},
   "outputs": [
    {
     "data": {
      "text/plain": [
       "-9998    325\n",
       " 1         2\n",
       "Name: Rewards-COVIDSignup-AmazonPrime, dtype: int64"
      ]
     },
     "execution_count": 185,
     "metadata": {},
     "output_type": "execute_result"
    }
   ],
   "source": [
    "recoded[recoded.columns[-6]].value_counts()"
   ]
  },
  {
   "cell_type": "code",
   "execution_count": 186,
   "metadata": {},
   "outputs": [],
   "source": [
    "money_dict = {'I would not pay for this.':'WouldNotPay','Below $25 / yr':'Under 25','$25 - $49.99 / yr':'25-50','$50 - $99.99 / yr':'50-99','$100 - $149.99 / yr':'100-150','$150 / yr and above':'Over 150'}"
   ]
  },
  {
   "cell_type": "code",
   "execution_count": 187,
   "metadata": {},
   "outputs": [],
   "source": [
    "#Merging \"additional subscription\" and \"separate subscription\"\n",
    "for i in range(660,666):\n",
    "    series1 = sacog[sacog.columns[i]].copy()\n",
    "    series2 = sacog[sacog.columns[i+8]].copy()\n",
    "    program = sacog.columns[i].split(' - ')[-1]\n",
    "    name = 'Rewards-CarbonOffset-'+rewards_dict[program]\n",
    "    series1[series2.notna()] = series2[series2.notna()]\n",
    "    recoded[name] = series1.fillna(\"No Response\").replace(money_dict)"
   ]
  },
  {
   "cell_type": "code",
   "execution_count": 188,
   "metadata": {},
   "outputs": [
    {
     "data": {
      "text/plain": [
       "125    0\n",
       "210    0\n",
       "85     0\n",
       "214    0\n",
       "291    0\n",
       "      ..\n",
       "108    1\n",
       "107    1\n",
       "106    1\n",
       "113    1\n",
       "326    1\n",
       "Length: 327, dtype: int64"
      ]
     },
     "execution_count": 188,
     "metadata": {},
     "output_type": "execute_result"
    }
   ],
   "source": [
    "#Nobody answers both questions\n",
    "sacog[[sacog.columns[660],sacog.columns[668]]].notna().sum(axis = 1).sort_values()"
   ]
  },
  {
   "cell_type": "code",
   "execution_count": 189,
   "metadata": {},
   "outputs": [],
   "source": [
    "subscription_dict = {'Food delivery subscription service (e.g., farm or CSA box, meal prep kits)':'Food','Clothing delivery subscription service (e.g., Stitch Fix, Trunk Club)':'Clothing','Personal care delivery subscription service (e.g., Dollar Shave Club)':'PersonalCare','Household items delivery service (e.g., Amazon Subscribe & Save)':'HouseholdItems','Some other delivery subscription service':'Other'}"
   ]
  },
  {
   "cell_type": "code",
   "execution_count": 190,
   "metadata": {},
   "outputs": [],
   "source": [
    "#Nobody didn't answer at all, so if they weren't a member of any program, all of these columns would be 0\n",
    "for program in subscription_dict.keys():\n",
    "    recoded['Subscription-Member-'+subscription_dict[program]] = sacog[sacog.columns[676]].str.contains(program,regex=False).fillna(0).astype(int)\n",
    "\n",
    "recoded['Subscription-Member-OtherType'] = sacog[sacog.columns[677]]"
   ]
  },
  {
   "cell_type": "code",
   "execution_count": 191,
   "metadata": {},
   "outputs": [],
   "source": [
    "for i in range(678,683):\n",
    "    program = sacog.columns[i].split(' - ')[-1]\n",
    "    name = 'Subscription-Length-'+subscription_dict[program]\n",
    "    recoded[name] = sacog[sacog.columns[i]].fillna(\"No Response\")"
   ]
  },
  {
   "cell_type": "code",
   "execution_count": 192,
   "metadata": {},
   "outputs": [],
   "source": [
    "for i in range(685,690):\n",
    "    program = sacog.columns[i].split(' - ')[-1]\n",
    "    name = 'Subscription-AnnualCost-'+subscription_dict[program]\n",
    "    recoded[name] = sacog[sacog.columns[i]].fillna(\"No Response\")"
   ]
  },
  {
   "cell_type": "code",
   "execution_count": 193,
   "metadata": {},
   "outputs": [],
   "source": [
    "for i in range(692,697):\n",
    "    program = sacog.columns[i].split(' - ')[-1]\n",
    "    name = 'Subscription-COVIDSignup-'+subscription_dict[program]\n",
    "    recoded[name] = sacog[sacog.columns[i]].fillna(\"No Response\")"
   ]
  },
  {
   "cell_type": "code",
   "execution_count": 194,
   "metadata": {},
   "outputs": [],
   "source": [
    "#Merging \"additional subscription\" and \"separate subscription\"\n",
    "for i in range(699,704):\n",
    "    series1 = sacog[sacog.columns[i]].copy()\n",
    "    series2 = sacog[sacog.columns[i+7]].copy()\n",
    "    program = sacog.columns[i].split(' - ')[-1]\n",
    "    name = 'Subscription-CarbonOffset-'+subscription_dict[program]\n",
    "    series1[series2.notna()] = series2[series2.notna()]\n",
    "    recoded[name] = series1.fillna(\"No Response\").replace(money_dict)"
   ]
  },
  {
   "cell_type": "code",
   "execution_count": 195,
   "metadata": {},
   "outputs": [],
   "source": [
    "recoded['Online-Ease'] = sacog[sacog.columns[713]].fillna('No Response').replace({'It is extremely easy':5, 'It is easy':4,'It is neither easy nor difficult':3,'It is difficult':2, 'It is extremely difficult':1, \"N/A - I don't do this.\":997})"
   ]
  },
  {
   "cell_type": "code",
   "execution_count": 196,
   "metadata": {},
   "outputs": [],
   "source": [
    "recoded['Online-Ease-Comment'] = sacog[sacog.columns[714]]"
   ]
  },
  {
   "cell_type": "code",
   "execution_count": 197,
   "metadata": {},
   "outputs": [],
   "source": [
    "recoded['OneClick'] = sacog[sacog.columns[715]].replace({'I use one-click ordering most of the time when shopping online.':'Mostly','I sometimes use one-click ordering when shopping online.':'Sometimes','No':'Never','Unsure':'Unsure','Not applicable / I never shop online or via mobile app':'N/A'}).fillna(\"No Response\")"
   ]
  },
  {
   "cell_type": "code",
   "execution_count": 198,
   "metadata": {},
   "outputs": [],
   "source": [
    "recoded['IntendToReturn'] = sacog[sacog.columns[716]].fillna('No Response').replace({'Not applicable / I never shop online or via mobile app':'N/A'})"
   ]
  },
  {
   "cell_type": "code",
   "execution_count": 199,
   "metadata": {},
   "outputs": [],
   "source": [
    "tracking_q_dict = {'I use a dedicated third-party parcel tracking application (e.g., Arrive, Deliveries, ParcelTrack).':'ThirdPartyApp','I keep track via the app which I made the purchase.':'OriginalApp','I check the detailed tracking information online.':'Online','I check my email for tracking updates.':'EMail','None of these.':'None'}\n",
    "tracking_item_dict = {'Parcels/non-food:':'NonFood','Prepared food:':'PreparedFood','Groceries:':'Groceries'}"
   ]
  },
  {
   "cell_type": "code",
   "execution_count": 200,
   "metadata": {},
   "outputs": [],
   "source": [
    "for i in range(717,732):\n",
    "    question = sacog.columns[i].split(' - ')[-2]\n",
    "    item = sacog.columns[i].split(' - ')[-1]\n",
    "    name = 'Tracking-'+tracking_item_dict[item]+'-'+tracking_q_dict[question]\n",
    "    recoded[name] = sacog[sacog.columns[i]].fillna(0).astype(int)"
   ]
  },
  {
   "cell_type": "code",
   "execution_count": 201,
   "metadata": {},
   "outputs": [
    {
     "data": {
      "text/plain": [
       "0      0\n",
       "1      0\n",
       "2      0\n",
       "3      0\n",
       "4      0\n",
       "      ..\n",
       "322    1\n",
       "323    1\n",
       "324    0\n",
       "325    0\n",
       "326    1\n",
       "Name: Tracking-NonFood-Online, Length: 327, dtype: int64"
      ]
     },
     "execution_count": 201,
     "metadata": {},
     "output_type": "execute_result"
    }
   ],
   "source": [
    "recoded[recoded.columns[-9]]"
   ]
  },
  {
   "cell_type": "code",
   "execution_count": 202,
   "metadata": {},
   "outputs": [],
   "source": [
    "tried_dict = {'I had never heard of this before now.':'NeverHeard','Yes, I tried this prior to Shelter in Place/Stay at Home orders':'YesBeforeSIP','Yes, I have tried this since the onset of Shelter in Place/Stay at Home orders':'YesSinceSIP','No':'No'}\n",
    "activity_dict = {'Bundled an online grocery order with your neighbor(s)':'BundlingOnlineGroceries','Received a crowd-sourced delivery (i.e., from a part-time or Gig worker)':'CrowdSourcedDelivery','Received a contactless e-commerce delivery at the curb in front of your home':'ContactlessCurbside','Received a contactless e-commerce delivery at the door to your residence':'ContactlessDoor','Received a contactless e-commerce delivery from a driverless vehicle at the curb in front of your home':'ContactlessDriverless','Completed an e-commerce curbside pick up at a store':'CurbsidePickup','Completed an e-commerce in-store pick up at a store':'InStorePickup','Used a pick up locker/collection point to receive an e-commerce purchase':'LockerPickup','Received a delivery from an aerial drone':'DroneDelivery'}"
   ]
  },
  {
   "cell_type": "code",
   "execution_count": 203,
   "metadata": {},
   "outputs": [
    {
     "data": {
      "text/plain": [
       "{'Bundle an online grocery order with your neighbor(s)': 'BundlingOnlineGroceries',\n",
       " 'Receive a crowd-sourced delivery (i.e., from a part-time or Gig worker)': 'CrowdSourcedDelivery',\n",
       " 'Receive a contactless e-commerce delivery at the curb in front of your home': 'ContactlessCurbside',\n",
       " 'Receive a contactless e-commerce delivery at the door to your residence': 'ContactlessDoor',\n",
       " 'Receive a contactless e-commerce delivery from a driverless vehicle at the curb in front of your home': 'ContactlessDriverless',\n",
       " 'Complete an e-commerce curbside pick up at a store': 'CurbsidePickup',\n",
       " 'Complete an e-commerce in-store pick up at a store': 'InStorePickup',\n",
       " 'Use a pick up locker/collection point to receive an e-commerce purchase': 'LockerPickup',\n",
       " 'Receive a delivery from an aerial drone': 'DroneDelivery'}"
      ]
     },
     "execution_count": 203,
     "metadata": {},
     "output_type": "execute_result"
    }
   ],
   "source": [
    "#bundled to bundle, etc.\n",
    "activity_dict_2 = {}\n",
    "for key in activity_dict.keys():\n",
    "    words = key.split()\n",
    "    words[0] = words[0][:-1]\n",
    "    activity_dict_2[' '.join(words)] = activity_dict[key]\n",
    "activity_dict_2"
   ]
  },
  {
   "cell_type": "code",
   "execution_count": 204,
   "metadata": {},
   "outputs": [],
   "source": [
    "for i in range(732,741):\n",
    "    activity = sacog.columns[i].split(' - ')[-1]\n",
    "    name = 'Tried-'+activity_dict[activity]\n",
    "    recoded[name] = sacog[sacog.columns[i]].replace(tried_dict).fillna('No Response')"
   ]
  },
  {
   "cell_type": "code",
   "execution_count": 205,
   "metadata": {},
   "outputs": [],
   "source": [
    "likely_dict = {'Very likely':5,'Likely':4,'Neither likely nor unlikely':3, 'Unlikely':2, 'Very unlikely':1}"
   ]
  },
  {
   "cell_type": "code",
   "execution_count": 206,
   "metadata": {},
   "outputs": [],
   "source": [
    "#Merging \"will continue to do\" and \"will start to try\"\n",
    "for i in range(741,750):\n",
    "    series1 = sacog[sacog.columns[i]].copy()\n",
    "    series2 = sacog[sacog.columns[i+12]].copy()\n",
    "    activity = sacog.columns[i].split(' - ')[-1]\n",
    "    name = 'DoInStage23-'+activity_dict_2[activity]\n",
    "    series1[series2.notna()] = series2[series2.notna()]\n",
    "    recoded[name] = series1.fillna(-9998).replace(likely_dict).astype(int)"
   ]
  },
  {
   "cell_type": "code",
   "execution_count": 207,
   "metadata": {},
   "outputs": [
    {
     "data": {
      "text/plain": [
       "152    0\n",
       "251    0\n",
       "221    1\n",
       "220    1\n",
       "219    1\n",
       "      ..\n",
       "105    1\n",
       "104    1\n",
       "103    1\n",
       "121    1\n",
       "326    1\n",
       "Length: 327, dtype: int64"
      ]
     },
     "execution_count": 207,
     "metadata": {},
     "output_type": "execute_result"
    }
   ],
   "source": [
    "#Nobody answers both questions\n",
    "sacog[[sacog.columns[741],sacog.columns[753]]].notna().sum(axis = 1).sort_values()"
   ]
  },
  {
   "cell_type": "code",
   "execution_count": 208,
   "metadata": {},
   "outputs": [
    {
     "data": {
      "text/plain": [
       " 5       103\n",
       " 1        78\n",
       " 4        73\n",
       " 3        50\n",
       " 2        19\n",
       "-9998      4\n",
       "Name: DoInStage23-ContactlessDoor, dtype: int64"
      ]
     },
     "execution_count": 208,
     "metadata": {},
     "output_type": "execute_result"
    }
   ],
   "source": [
    "recoded[recoded.columns[-6]].value_counts()"
   ]
  },
  {
   "cell_type": "code",
   "execution_count": 209,
   "metadata": {},
   "outputs": [],
   "source": [
    "recoded['DoInStage23-VisitRetail'] = sacog[sacog.columns[750]].fillna(-9998).replace(likely_dict).astype(int)\n",
    "recoded['DoInStage23-VisitRestaurant'] = sacog[sacog.columns[751]].fillna(-9998).replace(likely_dict).astype(int)\n",
    "recoded['DoInStage23-VisitBar'] = sacog[sacog.columns[752]].fillna(-9998).replace(likely_dict).astype(int)"
   ]
  },
  {
   "cell_type": "code",
   "execution_count": 210,
   "metadata": {},
   "outputs": [],
   "source": [
    "agree_dict = {'Strongly agree':5,'Agree':4,'Neither agree nor disagree':3,'Disagree':2,'Strongly disagree':1}\n",
    "recoded['Behavior-OnlyList'] = sacog[sacog.columns[762]].fillna(-9998).replace(agree_dict).astype(int)\n",
    "recoded['Behavior-NotMindGroceriesOnline'] = sacog[sacog.columns[763]].fillna(-9998).replace(agree_dict).astype(int)\n",
    "recoded['Behavior-NotMindRestaurantOnline'] = sacog[sacog.columns[764]].fillna(-9998).replace(agree_dict).astype(int)\n",
    "recoded['Behavior-InPersonIsChore'] = sacog[sacog.columns[765]].fillna(-9998).replace(agree_dict).astype(int)\n",
    "recoded['Behavior-GroceryExcuseToGetOut'] = sacog[sacog.columns[766]].fillna(-9998).replace(agree_dict).astype(int)\n",
    "recoded['Behavior-PickupExcuseToGetOut'] = sacog[sacog.columns[767]].fillna(-9998).replace(agree_dict).astype(int)"
   ]
  },
  {
   "cell_type": "code",
   "execution_count": 211,
   "metadata": {},
   "outputs": [
    {
     "data": {
      "text/plain": [
       " 2       103\n",
       " 3        84\n",
       " 1        68\n",
       " 4        52\n",
       " 5        19\n",
       "-9998      1\n",
       "Name: Behavior-PickupExcuseToGetOut, dtype: int64"
      ]
     },
     "execution_count": 211,
     "metadata": {},
     "output_type": "execute_result"
    }
   ],
   "source": [
    "recoded['Behavior-PickupExcuseToGetOut'].value_counts()"
   ]
  },
  {
   "cell_type": "code",
   "execution_count": 212,
   "metadata": {},
   "outputs": [],
   "source": [
    "recoded['ECommerce-Food-EnvironmentallyFriendly'] = sacog[sacog.columns[768]].fillna(-9998).replace(agree_dict).astype(int)\n",
    "recoded['ECommerce-Food-SupportLocal'] = sacog[sacog.columns[769]].fillna(-9998).replace(agree_dict).astype(int)\n",
    "recoded['ECommerce-Food-SavesTime'] = sacog[sacog.columns[770]].fillna(-9998).replace(agree_dict).astype(int)\n",
    "recoded['ECommerce-Food-SavesMoney'] = sacog[sacog.columns[771]].fillna(-9998).replace(agree_dict).astype(int)\n",
    "recoded['ECommerce-Food-HardToKnowExactly'] = sacog[sacog.columns[772]].fillna(-9998).replace(agree_dict).astype(int)\n",
    "recoded['ECommerce-Food-WorryAboutTheft'] = sacog[sacog.columns[773]].fillna(-9998).replace(agree_dict).astype(int)\n",
    "recoded['ECommerce-Food-AvoidCarrying'] = sacog[sacog.columns[774]].fillna(-9998).replace(agree_dict).astype(int)\n",
    "recoded['ECommerce-Food-InstantIsCool'] = sacog[sacog.columns[775]].fillna(-9998).replace(agree_dict).astype(int)\n",
    "recoded['ECommerce-Food-OtherThought'] = sacog[sacog.columns[776]].fillna(-9998).replace(agree_dict).astype(int)\n",
    "recoded['ECommerce-Food-OtherThoughtType'] = sacog[sacog.columns[777]]"
   ]
  },
  {
   "cell_type": "code",
   "execution_count": 213,
   "metadata": {},
   "outputs": [],
   "source": [
    "recoded['NonFood-OnlineRelaxing'] = sacog[sacog.columns[778]].fillna(-9998).replace(agree_dict).astype(int)\n",
    "recoded['NonFood-EnjoyOnlineClothing'] = sacog[sacog.columns[779]].fillna(-9998).replace(agree_dict).astype(int)\n",
    "recoded['NonFood-EnjoyOnlineElectronice'] = sacog[sacog.columns[780]].fillna(-9998).replace(agree_dict).astype(int)\n",
    "recoded['NonFood-SearchForBestDeals'] = sacog[sacog.columns[781]].fillna(-9998).replace(agree_dict).astype(int)\n",
    "recoded['NonFood-EnjoyBrowsingWOBuying'] = sacog[sacog.columns[782]].fillna(-9998).replace(agree_dict).astype(int)\n",
    "recoded['NonFood-InPersonClothingChore'] = sacog[sacog.columns[783]].fillna(-9998).replace(agree_dict).astype(int)\n",
    "recoded['NonFood-RetailExcuseToGetOut'] = sacog[sacog.columns[784]].fillna(-9998).replace(agree_dict).astype(int)"
   ]
  },
  {
   "cell_type": "code",
   "execution_count": 214,
   "metadata": {},
   "outputs": [],
   "source": [
    "recoded['ECommerce-NonFood-EnvironmentallyFriendly'] = sacog[sacog.columns[785]].fillna(-9998).replace(agree_dict).astype(int)\n",
    "recoded['ECommerce-NonFood-SupportLocal'] = sacog[sacog.columns[786]].fillna(-9998).replace(agree_dict).astype(int)\n",
    "recoded['ECommerce-NonFood-SavesTime'] = sacog[sacog.columns[787]].fillna(-9998).replace(agree_dict).astype(int)\n",
    "recoded['ECommerce-NonFood-SavesMoney'] = sacog[sacog.columns[788]].fillna(-9998).replace(agree_dict).astype(int)\n",
    "recoded['ECommerce-NonFood-HardToKnowExactly'] = sacog[sacog.columns[789]].fillna(-9998).replace(agree_dict).astype(int)\n",
    "recoded['ECommerce-NonFood-WorryAboutTheft'] = sacog[sacog.columns[790]].fillna(-9998).replace(agree_dict).astype(int)\n",
    "recoded['ECommerce-NonFood-CloseAttnToReviews'] = sacog[sacog.columns[791]].fillna(-9998).replace(agree_dict).astype(int)\n",
    "recoded['ECommerce-NonFood-ComparingEasy'] = sacog[sacog.columns[792]].fillna(-9998).replace(agree_dict).astype(int)\n",
    "recoded['ECommerce-NonFood-InstantIsCool'] = sacog[sacog.columns[793]].fillna(-9998).replace(agree_dict).astype(int)\n",
    "recoded['ECommerce-NonFood-OtherThought'] = sacog[sacog.columns[794]].fillna(-9998).replace(agree_dict).astype(int)\n",
    "recoded['ECommerce-NonFood-OtherThoughtType'] = sacog[sacog.columns[795]]"
   ]
  },
  {
   "cell_type": "code",
   "execution_count": null,
   "metadata": {},
   "outputs": [],
   "source": []
  },
  {
   "cell_type": "code",
   "execution_count": 215,
   "metadata": {},
   "outputs": [],
   "source": [
    "recoded['Attitude-SatisfiedWithLife'] = sacog[sacog.columns[796]].fillna(-9998).replace(agree_dict).astype(int)\n",
    "recoded['Attitude-ZoomFatigue'] = sacog[sacog.columns[797]].fillna(-9998).replace(agree_dict).astype(int)\n",
    "recoded['Attitude-SociallyIsolated'] = sacog[sacog.columns[798]].fillna(-9998).replace(agree_dict).astype(int)\n",
    "recoded['Attitude-Stressed'] = sacog[sacog.columns[799]].fillna(-9998).replace(agree_dict).astype(int)\n",
    "recoded['Attitude-HaveEnoughTime'] = sacog[sacog.columns[800]].fillna(-9998).replace(agree_dict).astype(int)\n",
    "recoded['Attitude-HaveEnoughFood'] = sacog[sacog.columns[801]].fillna(-9998).replace(agree_dict).astype(int)\n",
    "recoded['Attitude-HaveEnoughMeds'] = sacog[sacog.columns[802]].fillna(-9998).replace(agree_dict).astype(int)\n",
    "recoded['Attitude-WorryBasicNeeeds'] = sacog[sacog.columns[803]].fillna(-9998).replace(agree_dict).astype(int)"
   ]
  },
  {
   "cell_type": "code",
   "execution_count": 216,
   "metadata": {},
   "outputs": [],
   "source": [
    "recoded['TrustOrCaution'] = sacog[sacog.columns[804]].fillna('No Response').replace({'It is possible to trust most people.':'Trust','We can never be too cautious in our dealings with other people.':'Caution'})"
   ]
  },
  {
   "cell_type": "code",
   "execution_count": 217,
   "metadata": {},
   "outputs": [],
   "source": [
    "recoded['Attitude-WorryBasicNeeeds-Comment'] = sacog[sacog.columns[805]]"
   ]
  },
  {
   "cell_type": "code",
   "execution_count": null,
   "metadata": {},
   "outputs": [],
   "source": []
  },
  {
   "cell_type": "code",
   "execution_count": 218,
   "metadata": {},
   "outputs": [],
   "source": [
    "trustworthy_dict = {'Almost always trustworthy':5, 'Generally trustworthy':4,'Sometimes trustworthy':3, 'Not usually trustworthy':2,'Almost never trustworthy':1}\n",
    "recoded['Trust-MedicalWorkers'] = sacog[sacog.columns[806]].fillna(-9998).replace(trustworthy_dict).astype(int)\n",
    "recoded['Trust-BusTrainDrivers'] = sacog[sacog.columns[807]].fillna(-9998).replace(trustworthy_dict).astype(int)\n",
    "recoded['Trust-Amazon'] = sacog[sacog.columns[808]].fillna(-9998).replace(trustworthy_dict).astype(int)\n",
    "recoded['Trust-Walmart'] = sacog[sacog.columns[809]].fillna(-9998).replace(trustworthy_dict).astype(int)\n",
    "recoded['Trust-Target'] = sacog[sacog.columns[810]].fillna(-9998).replace(trustworthy_dict).astype(int)\n",
    "recoded['Trust-TNC'] = sacog[sacog.columns[811]].fillna(-9998).replace(trustworthy_dict).astype(int)\n",
    "recoded['Trust-FoodDeliveryCompanies'] = sacog[sacog.columns[812]].fillna(-9998).replace(trustworthy_dict).astype(int)\n",
    "recoded['Trust-GroceryDeliveryCompanies'] = sacog[sacog.columns[813]].fillna(-9998).replace(trustworthy_dict).astype(int)\n",
    "recoded['Trust-TNCDrivers'] = sacog[sacog.columns[814]].fillna(-9998).replace(trustworthy_dict).astype(int)\n",
    "recoded['Trust-TaxiDrivers'] = sacog[sacog.columns[815]].fillna(-9998).replace(trustworthy_dict).astype(int)\n",
    "recoded['Trust-USPSWorkers'] = sacog[sacog.columns[816]].fillna(-9998).replace(trustworthy_dict).astype(int)\n",
    "recoded['Trust-ParcelDeliveryDrivers'] = sacog[sacog.columns[817]].fillna(-9998).replace(trustworthy_dict).astype(int)\n",
    "recoded['Trust-AmazonDeliveryDrivers'] = sacog[sacog.columns[818]].fillna(-9998).replace(trustworthy_dict).astype(int)\n",
    "recoded['Trust-FoodDeliveryDrivers'] = sacog[sacog.columns[819]].fillna(-9998).replace(trustworthy_dict).astype(int)\n",
    "recoded['Trust-GroceryDeliveryDrivers'] = sacog[sacog.columns[820]].fillna(-9998).replace(trustworthy_dict).astype(int)"
   ]
  },
  {
   "cell_type": "code",
   "execution_count": 219,
   "metadata": {},
   "outputs": [],
   "source": [
    "recoded['COVID-PPEReducesContraction'] = sacog[sacog.columns[821]].fillna(-9998).replace(agree_dict).astype(int)\n",
    "recoded['COVID-PPEReducesTransmission'] = sacog[sacog.columns[822]].fillna(-9998).replace(agree_dict).astype(int)\n",
    "recoded['COVID-AbleSocialDistance'] = sacog[sacog.columns[823]].fillna(-9998).replace(agree_dict).astype(int)"
   ]
  },
  {
   "cell_type": "code",
   "execution_count": 220,
   "metadata": {},
   "outputs": [],
   "source": [
    "recoded['COVID-Trust-Community'] = sacog[sacog.columns[824]].fillna(-9998).replace({'Increased substantially':5,'Increased moderately':4,'Remained the same':3,'Decreased moderately':2, 'Decreased substantially':1})"
   ]
  },
  {
   "cell_type": "code",
   "execution_count": null,
   "metadata": {},
   "outputs": [],
   "source": []
  },
  {
   "cell_type": "code",
   "execution_count": 221,
   "metadata": {},
   "outputs": [],
   "source": [
    "recoded['COVID-Respondent-Symptoms'] = sacog[sacog.columns[825]].fillna(-9998).replace({'Yes':1,'No':0,'Prefer not to answer.':999})"
   ]
  },
  {
   "cell_type": "code",
   "execution_count": 222,
   "metadata": {},
   "outputs": [
    {
     "data": {
      "text/plain": [
       "0      290\n",
       "1       35\n",
       "999      2\n",
       "Name: COVID-Respondent-Symptoms, dtype: int64"
      ]
     },
     "execution_count": 222,
     "metadata": {},
     "output_type": "execute_result"
    }
   ],
   "source": [
    "recoded['COVID-Respondent-Symptoms'].value_counts()"
   ]
  },
  {
   "cell_type": "code",
   "execution_count": 223,
   "metadata": {},
   "outputs": [],
   "source": [
    "recoded['COVID-Respondent-Tested'] = sacog[sacog.columns[826]].fillna(-9998).replace({'Yes':1,'No':0,'Prefer not to answer.':999})"
   ]
  },
  {
   "cell_type": "code",
   "execution_count": 224,
   "metadata": {},
   "outputs": [
    {
     "data": {
      "text/plain": [
       "-9998    292\n",
       " 0        31\n",
       " 1         4\n",
       "Name: COVID-Respondent-Tested, dtype: int64"
      ]
     },
     "execution_count": 224,
     "metadata": {},
     "output_type": "execute_result"
    }
   ],
   "source": [
    "recoded['COVID-Respondent-Tested'].value_counts()"
   ]
  },
  {
   "cell_type": "code",
   "execution_count": 225,
   "metadata": {},
   "outputs": [],
   "source": [
    "recoded['COVID-Respondent-Positive'] = sacog[sacog.columns[827]].fillna(-9998).replace({'Yes':1,'No':0,'Prefer not to answer.':999,'I am still waiting on my results.':998})"
   ]
  },
  {
   "cell_type": "code",
   "execution_count": 226,
   "metadata": {},
   "outputs": [
    {
     "data": {
      "text/plain": [
       "-9998    323\n",
       " 0         4\n",
       "Name: COVID-Respondent-Positive, dtype: int64"
      ]
     },
     "execution_count": 226,
     "metadata": {},
     "output_type": "execute_result"
    }
   ],
   "source": [
    "recoded['COVID-Respondent-Positive'].value_counts()"
   ]
  },
  {
   "cell_type": "code",
   "execution_count": 227,
   "metadata": {},
   "outputs": [],
   "source": [
    "recoded['COVID-Household-Symptoms'] = sacog[sacog.columns[828]].fillna(-9998).replace({'Yes':1,'No':0,'Prefer not to answer.':999})\n",
    "recoded['COVID-Household-Tested'] = sacog[sacog.columns[829]].fillna(-9998).replace({'Yes':1,'No':0,'Prefer not to answer.':999})\n",
    "recoded['COVID-Household-Positive'] = sacog[sacog.columns[830]].fillna(-9998).replace({'Yes':1,'No':0,'Prefer not to answer.':999,'I am still waiting on my results.':998})"
   ]
  },
  {
   "cell_type": "code",
   "execution_count": 228,
   "metadata": {},
   "outputs": [],
   "source": [
    "recoded['Disability-Physical'] = sacog[sacog.columns[831]].str.contains('Physical disability (e.g., difficulty walking, using arms or hands, limited stamina)',regex=False).fillna(0).astype(int)\n",
    "recoded['Disability-Vision'] = sacog[sacog.columns[831]].str.contains('Vision disability (e.g., blindness, low vision)',regex=False).fillna(0).astype(int)\n",
    "recoded['Disability-Hearing'] = sacog[sacog.columns[831]].str.contains('Hearing disability (e.g., deaf/hard of hearing)',regex=False).fillna(0).astype(int)\n",
    "recoded['Disability-MentalHealth'] = sacog[sacog.columns[831]].str.contains('Mental health disability (e.g., depression, anxiety, schizophrenia, bipolar disorder)',regex=False).fillna(0).astype(int)\n",
    "recoded['Disability-Developmental'] = sacog[sacog.columns[831]].str.contains('Developmental disability (e.g., autism, learning disability, ADHD)',regex=False).fillna(0).astype(int)\n",
    "recoded['Disability-Chronic'] = sacog[sacog.columns[831]].str.contains(\"Chronic condition (e.g., multiple sclerosis, Crohn's disease)\",regex=False).fillna(0).astype(int)\n",
    "recoded['Disability-Other'] = sacog[sacog.columns[831]].str.contains('Other',regex=False).fillna(0).astype(int)\n",
    "recoded['Disability-None'] = sacog[sacog.columns[831]].str.contains(\"No, I don't have a disability or chronic condition\",regex=False).fillna(0).astype(int)\n",
    "recoded['Disability-PreferNotToAnswer'] = sacog[sacog.columns[831]].str.contains('Prefer not to answer',regex=False).fillna(0).astype(int)\n",
    "recoded['Disability-OtherType'] = sacog[sacog.columns[832]]"
   ]
  },
  {
   "cell_type": "code",
   "execution_count": 229,
   "metadata": {},
   "outputs": [],
   "source": [
    "recoded['Disability-LivingAssistance'] = sacog[sacog.columns[833]].fillna(-9998).replace({'Yes':1,'No':0}).astype(int)\n",
    "recoded['Disability-CommunicationDevice'] = sacog[sacog.columns[834]].fillna(-9998).replace({'Yes':1,'No':0}).astype(int)\n",
    "recoded['Disability-Errands-DifficultyAlone'] = sacog[sacog.columns[835]].fillna(-9998).replace({'Yes':1,'No':0}).astype(int)"
   ]
  },
  {
   "cell_type": "code",
   "execution_count": 230,
   "metadata": {},
   "outputs": [
    {
     "data": {
      "text/plain": [
       "A friend or family member      12\n",
       "A nurse/caregiver/attendant     3\n",
       "No one                          1\n",
       "Nobody                          1\n",
       "Name: Who usually accompanies you when you run errands? - Selected Choice, dtype: int64"
      ]
     },
     "execution_count": 230,
     "metadata": {},
     "output_type": "execute_result"
    }
   ],
   "source": [
    "i = 836\n",
    "string = 'Someone else:'\n",
    "column = sacog[sacog.columns[i]].copy()\n",
    "column[column == string] = sacog[sacog.columns[i+1]][column == string]\n",
    "recoded['Disability-Errands-Chaperone'] = column.fillna('No Response')\n",
    "column.value_counts()"
   ]
  },
  {
   "cell_type": "code",
   "execution_count": 231,
   "metadata": {},
   "outputs": [],
   "source": [
    "recoded['Disability-Errands-InStoreHelp'] = sacog[sacog.columns[838]].fillna(-9998).replace({'Yes':1,'No':0}).astype(int)\n",
    "recoded['Disability-Errands-OnlineHelp'] = sacog[sacog.columns[839]].fillna(-9998).replace({'Yes':1,'No':0}).astype(int)\n",
    "recoded['Disability-Errands-CustomerService'] = sacog[sacog.columns[840]].fillna(-9998).replace({'Yes':1,'No':0}).astype(int)"
   ]
  },
  {
   "cell_type": "code",
   "execution_count": null,
   "metadata": {},
   "outputs": [],
   "source": []
  },
  {
   "cell_type": "code",
   "execution_count": 232,
   "metadata": {},
   "outputs": [],
   "source": [
    "#nobody picked a different gender\n",
    "recoded['Gender'] = sacog[sacog.columns[841]]"
   ]
  },
  {
   "cell_type": "code",
   "execution_count": 233,
   "metadata": {},
   "outputs": [
    {
     "data": {
      "text/plain": [
       "No, not currently a student                                      308\n",
       "Yes, currently enrolled in a post-graduate degree program          7\n",
       "Yes, currently enrolled in a two-year college degree program       4\n",
       "Prefer not to answer                                               3\n",
       "Yes, currently enrolled in a four-year college degree program      3\n",
       "Yes, currently enrolled in another program                         2\n",
       "Name: Were you a currently enrolled student from Sunday, May 17th to Saturday, May 23rd? - Selected Choice, dtype: int64"
      ]
     },
     "execution_count": 233,
     "metadata": {},
     "output_type": "execute_result"
    }
   ],
   "source": [
    "sacog[sacog.columns[843]].value_counts()"
   ]
  },
  {
   "cell_type": "code",
   "execution_count": 234,
   "metadata": {},
   "outputs": [],
   "source": [
    "recoded['CurrentStudent'] = sacog[sacog.columns[843]].fillna('No Response').replace({'Yes, currently in high school':'HighSchool','Yes, currently enrolled in a two-year college degree program':'2Yr','Yes, currently enrolled in a four-year college degree program':'4Yr','Yes, currently enrolled in a post-graduate degree program':'PostGrad','No, not currently a student':'No','Yes, currently enrolled in another program':'Other'})\n",
    "recoded['CurrentStudent-OtherType'] = sacog[sacog.columns[844]]"
   ]
  },
  {
   "cell_type": "code",
   "execution_count": 235,
   "metadata": {},
   "outputs": [],
   "source": [
    "recoded['HighestEducation'] = sacog[sacog.columns[845]].fillna('No Response').str.split('(').str[0]"
   ]
  },
  {
   "cell_type": "code",
   "execution_count": 236,
   "metadata": {},
   "outputs": [],
   "source": [
    "recoded['May-Employment'] = sacog[sacog.columns[846]].fillna('No Response')\n",
    "recoded['May-Employment-Type'] = sacog[sacog.columns[847]].fillna('No Response').str.split('(').str[0]"
   ]
  },
  {
   "cell_type": "code",
   "execution_count": 237,
   "metadata": {},
   "outputs": [
    {
     "data": {
      "text/plain": [
       "0                                                    NaN\n",
       "1                                                    NaN\n",
       "2                                                    NaN\n",
       "3                                     Healthcare/Nursing\n",
       "4                                       Energy/utilities\n",
       "                             ...                        \n",
       "322                                            Education\n",
       "323                                            Education\n",
       "324    Transportation services (e.g., driving a truck...\n",
       "325                                                  NaN\n",
       "326                                        Communication\n",
       "Name: What best describes your primary employment's business or industry? - Selected Choice, Length: 327, dtype: object"
      ]
     },
     "execution_count": 237,
     "metadata": {},
     "output_type": "execute_result"
    }
   ],
   "source": [
    "i = 848\n",
    "string = 'Any business or industry not listed:'\n",
    "column = sacog[sacog.columns[i]].copy()\n",
    "column[column == string] = sacog[sacog.columns[i+1]][column == string]\n",
    "recoded['May-Employment-Industry'] = column.fillna('No Response').str.split('(').str[0]\n",
    "column"
   ]
  },
  {
   "cell_type": "code",
   "execution_count": 238,
   "metadata": {},
   "outputs": [],
   "source": [
    "for_hire_dict = {'I drive passengers for Uber, Lyft, Via, or other smartphone-app ride service':'TNCDriver','I deliver packages for a gig, contract-based, or smartphone-app service (e.g., AmazonFlex, Amazon Logistics, Uber Direct, Fedex Ground)':'ParcelDelivery','I deliver food for a smartphone-app service (e.g., Postmates, Doordash, Caviar, UberEats)':'FoodDelivery','I deliver groceries for a smartphone-app service (e.g., Instacart)':'GroceriesDelivery','I shop for groceries for a smartphone-app service (e.g., Instacart)':'GroceriesShopping',\"I provide some other 'for-hire' services not previously listed\":'Other','I provide none of these services':'None'}"
   ]
  },
  {
   "cell_type": "code",
   "execution_count": 239,
   "metadata": {},
   "outputs": [
    {
     "data": {
      "text/plain": [
       "204"
      ]
     },
     "execution_count": 239,
     "metadata": {},
     "output_type": "execute_result"
    }
   ],
   "source": [
    "sum(sacog[sacog.columns[850]].notna())"
   ]
  },
  {
   "cell_type": "code",
   "execution_count": 240,
   "metadata": {},
   "outputs": [],
   "source": [
    "for service in for_hire_dict.keys():\n",
    "    recoded['Contractor-'+for_hire_dict[service]] = sacog[sacog.columns[850]].str.contains(service,regex=False).fillna(0).astype(int)\n",
    "recoded['Contractor-OtherType'] = sacog[sacog.columns[851]]"
   ]
  },
  {
   "cell_type": "code",
   "execution_count": 241,
   "metadata": {},
   "outputs": [
    {
     "data": {
      "text/plain": [
       "0    326\n",
       "1      1\n",
       "Name: Contractor-GroceriesDelivery, dtype: int64"
      ]
     },
     "execution_count": 241,
     "metadata": {},
     "output_type": "execute_result"
    }
   ],
   "source": [
    "recoded[recoded.columns[-5]].value_counts()"
   ]
  },
  {
   "cell_type": "code",
   "execution_count": 242,
   "metadata": {},
   "outputs": [],
   "source": [
    "for i in range(852,858):\n",
    "    service = sacog.columns[i].split(' - ')[-1]\n",
    "    name = 'Contractor-'+for_hire_dict[service]+'-BeforeCOVID'\n",
    "    recoded[name] = sacog[sacog.columns[i]].fillna('-9998').replace({'Yes':1,'No':0}).astype(int)"
   ]
  },
  {
   "cell_type": "code",
   "execution_count": 243,
   "metadata": {},
   "outputs": [
    {
     "data": {
      "text/plain": [
       "-9998    325\n",
       " 1         1\n",
       " 0         1\n",
       "Name: Contractor-ParcelDelivery-BeforeCOVID, dtype: int64"
      ]
     },
     "execution_count": 243,
     "metadata": {},
     "output_type": "execute_result"
    }
   ],
   "source": [
    "recoded[recoded.columns[-5]].value_counts()"
   ]
  },
  {
   "cell_type": "code",
   "execution_count": 244,
   "metadata": {},
   "outputs": [],
   "source": [
    "recoded['WorkplaceDeliveries-FrontDesk'] = sacog[sacog.columns[860]].str.contains('A front desk or staff-person able to receive deliveries',regex=False).fillna(0).astype(int)\n",
    "recoded['WorkplaceDeliveries-Lockers'] = sacog[sacog.columns[860]].str.contains('Dedicated lockers/storage for deliveries',regex=False).fillna(0).astype(int)\n",
    "recoded['WorkplaceDeliveries-LoadingDock'] = sacog[sacog.columns[860]].str.contains('A loading dock for receiving deliveries',regex=False).fillna(0).astype(int)\n",
    "recoded['WorkplaceDeliveries-CurbSpace'] = sacog[sacog.columns[860]].str.contains('Dedicated curb loading space for receiving deliveries',regex=False).fillna(0).astype(int)\n",
    "recoded['WorkplaceDeliveries-Other'] = sacog[sacog.columns[860]].str.contains('Some other delivery-related amenity',regex=False).fillna(0).astype(int)\n",
    "recoded['WorkplaceDeliveries-None'] = sacog[sacog.columns[860]].str.contains('No delivery-related amenities are available',regex=False).fillna(0).astype(int)\n",
    "recoded['WorkplaceDeliveries-OtherType'] = sacog[sacog.columns[861]]"
   ]
  },
  {
   "cell_type": "code",
   "execution_count": 245,
   "metadata": {},
   "outputs": [],
   "source": [
    "recoded['Workplace-ZipCode'] = sacog[sacog.columns[862]].fillna(-9998).astype(int)\n",
    "recoded[['Workplace-CrossStreet1','Workplace-CrossStreet2']] = sacog[sacog.columns[863:865]].fillna('No Response')"
   ]
  },
  {
   "cell_type": "code",
   "execution_count": 246,
   "metadata": {},
   "outputs": [],
   "source": [
    "recoded['HispanicOrigin'] = sacog[sacog.columns[865]].fillna('No Response')\n",
    "recoded['HispanicOrigin-OtherType'] = sacog[sacog.columns[866]]"
   ]
  },
  {
   "cell_type": "code",
   "execution_count": 247,
   "metadata": {},
   "outputs": [
    {
     "data": {
      "text/plain": [
       "Colombian Heritage               1\n",
       "Panamanian                       1\n",
       "Dad's Mom's side is Hispanic.    1\n",
       "Spanish and Irish                1\n",
       "Name: Are you of Hispanic, Latino, or Spanish origin? - Yes, another Hispanic, Latino, or Spanish origin: - Text, dtype: int64"
      ]
     },
     "execution_count": 247,
     "metadata": {},
     "output_type": "execute_result"
    }
   ],
   "source": [
    "sacog[sacog.columns[866]].value_counts()"
   ]
  },
  {
   "cell_type": "code",
   "execution_count": 248,
   "metadata": {},
   "outputs": [],
   "source": [
    "#I'm leaving this alone for you to deal with\n",
    "recoded['Race'] = sacog[sacog.columns[867]]\n",
    "recoded['Race-WhiteOther'] = sacog[sacog.columns[868]]\n",
    "recoded['Race-AsianOther'] = sacog[sacog.columns[869]]\n",
    "recoded['Race-BlackOther'] = sacog[sacog.columns[870]]\n",
    "recoded['Race-NativeAmericanOther'] = sacog[sacog.columns[871]]\n",
    "recoded['Race-PacificIslanderOther'] = sacog[sacog.columns[872]]\n",
    "recoded['Race-Other'] = sacog[sacog.columns[873]]"
   ]
  },
  {
   "cell_type": "code",
   "execution_count": 249,
   "metadata": {},
   "outputs": [
    {
     "data": {
      "text/plain": [
       "$50,000 - $74,999       67\n",
       "$100,000 - $149,999     63\n",
       "$75,000 - $99,999       57\n",
       "$25,000 - $49,999       48\n",
       "Prefer not to answer    31\n",
       "$150,000 - $199,999     18\n",
       "Under $10,000           16\n",
       "$15,000 - $24,999       12\n",
       "$200,000 or more         8\n",
       "$10,000 - $14,999        4\n",
       "Don't know               2\n",
       "No Response              1\n",
       "Name: PersonalIncome, dtype: int64"
      ]
     },
     "execution_count": 249,
     "metadata": {},
     "output_type": "execute_result"
    }
   ],
   "source": [
    "recoded['PersonalIncome'] = sacog[sacog.columns[874]].fillna('No Response')\n",
    "recoded['PersonalIncome'].value_counts() "
   ]
  },
  {
   "cell_type": "code",
   "execution_count": 250,
   "metadata": {},
   "outputs": [],
   "source": [
    "recoded['Employment-Changed'] = sacog[sacog.columns[875]].fillna(-9998).replace({'Yes':1,'No':0})"
   ]
  },
  {
   "cell_type": "code",
   "execution_count": 251,
   "metadata": {},
   "outputs": [],
   "source": [
    "recoded['PersonalIncome-Changed'] = sacog[sacog.columns[876]].fillna(-9998)"
   ]
  },
  {
   "cell_type": "code",
   "execution_count": 252,
   "metadata": {},
   "outputs": [
    {
     "data": {
      "text/plain": [
       "0                           No Response\n",
       "1                           No Response\n",
       "2                           No Response\n",
       "3                           No Response\n",
       "4                           No Response\n",
       "                     ...               \n",
       "322                         No Response\n",
       "323                         No Response\n",
       "324    Both hour decreases and pay cuts\n",
       "325                         No Response\n",
       "326                         No Response\n",
       "Name: PersonalIncome-Decreased, Length: 327, dtype: object"
      ]
     },
     "execution_count": 252,
     "metadata": {},
     "output_type": "execute_result"
    }
   ],
   "source": [
    "i = 877\n",
    "string = 'Some other way:'\n",
    "column = sacog[sacog.columns[i]].copy()\n",
    "column[column == string] = sacog[sacog.columns[i+1]][column == string]\n",
    "recoded['PersonalIncome-Decreased'] = column.fillna('No Response')\n",
    "recoded['PersonalIncome-Decreased']"
   ]
  },
  {
   "cell_type": "code",
   "execution_count": 253,
   "metadata": {},
   "outputs": [
    {
     "data": {
      "text/plain": [
       "0      No Response\n",
       "1      No Response\n",
       "2      No Response\n",
       "3      No Response\n",
       "4      No Response\n",
       "          ...     \n",
       "322    No Response\n",
       "323    No Response\n",
       "324    No Response\n",
       "325    No Response\n",
       "326    No Response\n",
       "Name: PersonalIncome-Increased, Length: 327, dtype: object"
      ]
     },
     "execution_count": 253,
     "metadata": {},
     "output_type": "execute_result"
    }
   ],
   "source": [
    "i = 879\n",
    "string = 'Some other way:'\n",
    "column = sacog[sacog.columns[i]].copy()\n",
    "column[column == string] = sacog[sacog.columns[i+1]][column == string]\n",
    "recoded['PersonalIncome-Increased'] = column.fillna('No Response')\n",
    "recoded['PersonalIncome-Increased']"
   ]
  },
  {
   "cell_type": "code",
   "execution_count": 254,
   "metadata": {},
   "outputs": [],
   "source": [
    "recoded['BeforeCOVID-Employment'] = sacog[sacog.columns[881]].fillna('No Response')"
   ]
  },
  {
   "cell_type": "code",
   "execution_count": 255,
   "metadata": {},
   "outputs": [],
   "source": [
    "recoded['Employment-ExpectChange'] = sacog[sacog.columns[882]].fillna('No Response').replace({'Yes':1,'No':0})"
   ]
  },
  {
   "cell_type": "code",
   "execution_count": null,
   "metadata": {},
   "outputs": [],
   "source": []
  },
  {
   "cell_type": "code",
   "execution_count": 256,
   "metadata": {},
   "outputs": [],
   "source": [
    "children_dict = {'Zero':0,'One':1,'Two':2,'Three or more':3,'Prefer not to answer':999}\n",
    "recoded['Children-Under5'] = sacog[sacog.columns[883]].fillna(-9998).replace(children_dict).astype(int)\n",
    "recoded['Children-5To12'] = sacog[sacog.columns[884]].fillna(-9998).replace(children_dict).astype(int)\n",
    "recoded['Children-12To18'] = sacog[sacog.columns[885]].fillna(-9998).replace(children_dict).astype(int)"
   ]
  },
  {
   "cell_type": "code",
   "execution_count": 257,
   "metadata": {},
   "outputs": [],
   "source": [
    "recoded['OtherLanguageAtHome'] = sacog[sacog.columns[886]].fillna('NoResponse')\n",
    "recoded['OtherLanguageAtHome-Language'] = sacog[sacog.columns[887]]"
   ]
  },
  {
   "cell_type": "code",
   "execution_count": 258,
   "metadata": {},
   "outputs": [],
   "source": [
    "recoded['EnglishSpeaking'] = sacog[sacog.columns[888]].fillna('No Response')"
   ]
  },
  {
   "cell_type": "code",
   "execution_count": 259,
   "metadata": {},
   "outputs": [
    {
     "data": {
      "text/plain": [
       "0      Attached single-family home\n",
       "1      Detached single-family home\n",
       "2           Mobile home/RV/Trailer\n",
       "3      Detached single-family home\n",
       "4      Detached single-family home\n",
       "                  ...             \n",
       "322    Attached single-family home\n",
       "323    Detached single-family home\n",
       "324    Detached single-family home\n",
       "325    Detached single-family home\n",
       "326    Detached single-family home\n",
       "Name: HousingType, Length: 327, dtype: object"
      ]
     },
     "execution_count": 259,
     "metadata": {},
     "output_type": "execute_result"
    }
   ],
   "source": [
    "i = 889\n",
    "string = 'Any type of housing not listed:'\n",
    "column = sacog[sacog.columns[i]].copy()\n",
    "column[column == string] = sacog[sacog.columns[i+1]][column == string]\n",
    "recoded['HousingType'] = column.fillna('No Response')\n",
    "recoded['HousingType']"
   ]
  },
  {
   "cell_type": "code",
   "execution_count": 260,
   "metadata": {},
   "outputs": [],
   "source": [
    "recoded['HousingDeliveries-FrontDesk'] = sacog[sacog.columns[891]].str.contains('A front desk or staff-person able to receive deliveries',regex=False).fillna(0).astype(int)\n",
    "recoded['HousingDeliveries-Lockers'] = sacog[sacog.columns[891]].str.contains('Dedicated lockers/storage for deliveries',regex=False).fillna(0).astype(int)\n",
    "recoded['HousingDeliveries-LoadingDock'] = sacog[sacog.columns[891]].str.contains('A loading dock for receiving deliveries',regex=False).fillna(0).astype(int)\n",
    "recoded['HousingDeliveries-CurbSpace'] = sacog[sacog.columns[891]].str.contains('Dedicated curb loading space for receiving deliveries',regex=False).fillna(0).astype(int)\n",
    "recoded['HousingDeliveries-Other'] = sacog[sacog.columns[891]].str.contains('Some other delivery-related amenity',regex=False).fillna(0).astype(int) + sacog[sacog.columns[893]].str.contains('Some other delivery-related amenity',regex=False).fillna(0).astype(int)\n",
    "recoded['HousingDeliveries-None'] = sacog[sacog.columns[891]].str.contains('No delivery-related amenities are available',regex=False).fillna(0).astype(int)\n",
    "recoded['HousingDeliveries-PreferNotToAnswer'] = sacog[sacog.columns[891]].str.contains('Prefer not to answer',regex=False).fillna(0).astype(int)"
   ]
  },
  {
   "cell_type": "code",
   "execution_count": 261,
   "metadata": {},
   "outputs": [],
   "source": [
    "recoded['HousingDeliveries-Mailbox'] = sacog[sacog.columns[893]].str.contains('A mailbox',regex=False).fillna(0).astype(int)\n",
    "recoded['HousingDeliveries-GatedYard'] = sacog[sacog.columns[893]].str.contains('A gated yard',regex=False).fillna(0).astype(int)\n",
    "recoded['HousingDeliveries-LockedGatedYard'] = sacog[sacog.columns[893]].str.contains('A locked and gated yard',regex=False).fillna(0).astype(int)\n",
    "recoded['HousingDeliveries-Other'] = sacog[sacog.columns[893]].str.contains('Some other delivery-related amenity',regex=False).fillna(0).astype(int)\n",
    "recoded['HousingDeliveries-None'] = sacog[sacog.columns[893]].str.contains('No amenities are available',regex=False).fillna(0).astype(int)\n",
    "recoded['HousingDeliveries-PreferNotToAnswer'] = sacog[sacog.columns[893]].str.contains('Prefer not to answer',regex=False).fillna(0).astype(int)"
   ]
  },
  {
   "cell_type": "code",
   "execution_count": 262,
   "metadata": {},
   "outputs": [],
   "source": [
    "other1 = sacog[sacog.columns[892]].copy()\n",
    "other2 = sacog[sacog.columns[894]].copy()\n",
    "other1[other2.notna()] = other2[other2.notna()]\n",
    "recoded['HousingDeliveries-OtherType'] = other1"
   ]
  },
  {
   "cell_type": "code",
   "execution_count": 263,
   "metadata": {},
   "outputs": [],
   "source": [
    "recoded['SmartHome-DoorbellNoVideo'] = sacog[sacog.columns[895]].str.contains('A smart or connected doorbell (without video display)',regex=False).fillna(0).astype(int)\n",
    "recoded['SmartHome-DoorbellVideo'] = sacog[sacog.columns[895]].str.contains('A smart or connected doorbell (with video display)',regex=False).fillna(0).astype(int)\n",
    "recoded['SmartHome-Speaker'] = sacog[sacog.columns[895]].str.contains('A smart speaker or other similar device',regex=False).fillna(0).astype(int)\n",
    "recoded['SmartHome-Other'] = sacog[sacog.columns[895]].str.contains('Some other smart-home amenity',regex=False).fillna(0).astype(int)\n",
    "recoded['SmartHome-None'] = sacog[sacog.columns[895]].str.contains('No smart-home amenities',regex=False).fillna(0).astype(int)\n",
    "recoded['SmartHome-PreferNotToAnswer'] = sacog[sacog.columns[895]].str.contains('Prefer not to answer',regex=False).fillna(0).astype(int)\n",
    "recoded['SmartHome-OtherType'] = sacog[sacog.columns[896]]"
   ]
  },
  {
   "cell_type": "code",
   "execution_count": 264,
   "metadata": {},
   "outputs": [],
   "source": [
    "recoded['ReliableInternet'] = sacog[sacog.columns[897]].fillna(-9998).replace({'Yes':1,'No':0,'Prefer not to answer':999}).astype(int)\n",
    "recoded['Smartphone'] = sacog[sacog.columns[898]].fillna(-9998).replace({'Yes':1,'No':0,'Prefer not to answer':999}).astype(int)\n",
    "recoded['InternetDevices'] = sacog[sacog.columns[899]].fillna(-9998).replace({'Prefer not to answer':999,'One':1,'Two':2,'Three':3,'Four':4,'Five or more':5}).astype(int)"
   ]
  },
  {
   "cell_type": "code",
   "execution_count": 265,
   "metadata": {},
   "outputs": [],
   "source": [
    "recoded['COVIDCarPurchase'] = sacog[sacog.columns[900]].fillna('No Response')\n",
    "recoded['COVIDCarRental'] = sacog[sacog.columns[901]].fillna('No Response')"
   ]
  },
  {
   "cell_type": "code",
   "execution_count": 266,
   "metadata": {},
   "outputs": [],
   "source": [
    "recoded['LeasedVehicles'] = sacog[sacog.columns[902]].fillna(-9998).replace({'Prefer not to answer':999,'One':1,'Two':2,'Three':3,'Four':4,'Five or more':5,'Zero':0}).astype(int)"
   ]
  },
  {
   "cell_type": "code",
   "execution_count": 267,
   "metadata": {},
   "outputs": [],
   "source": [
    "recoded['VehicleToShop'] = sacog[sacog.columns[903]].fillna(-9998).replace({'Yes':1,'No':0,'Prefer not to answer':999}).astype(int)\n",
    "recoded['DriversLicense'] = sacog[sacog.columns[904]].fillna(-9998).replace({'Yes':1,'No':0,'Prefer not to answer':999}).astype(int)"
   ]
  },
  {
   "cell_type": "code",
   "execution_count": 268,
   "metadata": {},
   "outputs": [
    {
     "data": {
      "text/plain": [
       "No Response             81\n",
       "$100,000 - $149,999     65\n",
       "$150,000 - $199,999     44\n",
       "$75,000 - $99,999       35\n",
       "$50,000 - $74,999       31\n",
       "$200,000 or more        28\n",
       "Prefer not to answer    18\n",
       "$25,000 - $49,999       17\n",
       "$15,000 - $24,999        3\n",
       "$10,000 - $14,999        2\n",
       "Don't know               2\n",
       "Under $10,000            1\n",
       "Name: HouseholdIncome, dtype: int64"
      ]
     },
     "execution_count": 268,
     "metadata": {},
     "output_type": "execute_result"
    }
   ],
   "source": [
    "recoded['HouseholdIncome'] = sacog[sacog.columns[905]].fillna('No Response')\n",
    "recoded['HouseholdIncome'].value_counts() "
   ]
  },
  {
   "cell_type": "code",
   "execution_count": 269,
   "metadata": {},
   "outputs": [],
   "source": [
    "recoded['HouseholdIncome-Changed'] = sacog[sacog.columns[906]].fillna(-9998)"
   ]
  },
  {
   "cell_type": "code",
   "execution_count": 270,
   "metadata": {},
   "outputs": [],
   "source": [
    "recoded['Responsibilities-CaringChildren'] = sacog[sacog.columns[907]].str.contains('Increased time spent caring for children',regex=False).fillna(0).astype(int)\n",
    "recoded['Responsibilities-CaringParents'] = sacog[sacog.columns[907]].str.contains('Increased time spent caring for parents',regex=False).fillna(0).astype(int)\n",
    "recoded['Responsibilities-CaringNeighbors'] = sacog[sacog.columns[907]].str.contains('Increased time spent caring for neighbors',regex=False).fillna(0).astype(int)\n",
    "recoded['Responsibilities-Schooling'] = sacog[sacog.columns[907]].str.contains('Increased time spent schooling dependents',regex=False).fillna(0).astype(int)\n",
    "recoded['Responsibilities-Work'] = sacog[sacog.columns[907]].str.contains('Increased time spent on work responsibilities',regex=False).fillna(0).astype(int)\n",
    "recoded['Responsibilities-OnlineShopping'] = sacog[sacog.columns[907]].str.contains('Increased time spent shopping online',regex=False).fillna(0).astype(int)\n",
    "recoded['Responsibilities-PreferNotToAnswer'] = sacog[sacog.columns[907]].str.contains('Prefer not to answer',regex=False).fillna(0).astype(int)"
   ]
  },
  {
   "cell_type": "code",
   "execution_count": 271,
   "metadata": {},
   "outputs": [],
   "source": [
    "recoded['GiftCard'] = sacog[sacog.columns[908]].fillna('No Response')\n",
    "recoded['GiftCard-EMailAddress'] = sacog[sacog.columns[909]].fillna('No Response')\n",
    "recoded['GiftCard-MailingAddress'] = sacog[sacog.columns[910]].fillna('No Response')\n",
    "recoded['FutureParticipation'] = sacog[sacog.columns[911]].fillna(-9998).replace({'Yes':1,'No':0})\n",
    "recoded['SurveyFeedback'] = sacog[sacog.columns[912]]\n",
    "recoded['RandomID'] = sacog[sacog.columns[913]]\n",
    "recoded['ResponseID'] = sacog[sacog.columns[914]]\n",
    "recoded['DeviceIdentifier'] = sacog[sacog.columns[915]]"
   ]
  },
  {
   "cell_type": "code",
   "execution_count": 273,
   "metadata": {},
   "outputs": [],
   "source": [
    "recoded.to_csv('sacog_recoded.csv',index=False)"
   ]
  },
  {
   "cell_type": "code",
   "execution_count": 272,
   "metadata": {},
   "outputs": [],
   "source": [
    "#likely need to install new module\n",
    "recoded.to_excel('sacog_recoded.xlsx')"
   ]
  },
  {
   "cell_type": "code",
   "execution_count": null,
   "metadata": {},
   "outputs": [],
   "source": []
  }
 ],
 "metadata": {
  "kernelspec": {
   "display_name": "Python 3",
   "language": "python",
   "name": "python3"
  },
  "language_info": {
   "codemirror_mode": {
    "name": "ipython",
    "version": 3
   },
   "file_extension": ".py",
   "mimetype": "text/x-python",
   "name": "python",
   "nbconvert_exporter": "python",
   "pygments_lexer": "ipython3",
   "version": "3.6.8"
  }
 },
 "nbformat": 4,
 "nbformat_minor": 2
}
