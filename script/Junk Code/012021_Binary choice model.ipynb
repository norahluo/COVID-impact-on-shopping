{
 "cells": [
  {
   "cell_type": "code",
   "execution_count": 1,
   "metadata": {},
   "outputs": [],
   "source": [
    "import pandas as pd\n",
    "import pylogit\n",
    "import biogeme\n",
    "from statsmodels.formula.api import logit\n",
    "import numpy as np"
   ]
  },
  {
   "cell_type": "code",
   "execution_count": 2,
   "metadata": {},
   "outputs": [],
   "source": [
    "sacog = pd.read_excel('sacog_recoded_for_qianhua.xlsx')"
   ]
  },
  {
   "cell_type": "code",
   "execution_count": 3,
   "metadata": {},
   "outputs": [],
   "source": [
    "# Solve inconsistency in data coding and save as new dataset\n",
    "sacog = sacog.replace('Never ', 'Never')\n",
    "sacog.to_excel('sacog_recoded_012021.xlsx')"
   ]
  },
  {
   "cell_type": "code",
   "execution_count": 4,
   "metadata": {},
   "outputs": [],
   "source": [
    "never = [\"Never\", \"Almost never\"]\n",
    "never_and_noRes = [\"Never\", \"Almost never\", 'No Response']\n",
    "\n",
    "def count_(cat):\n",
    "    past_year_freq = 'PastYear-ECommerce-Frequency-' + cat\n",
    "    may_freq = 'May-ECommerce-Frequency-' + cat\n",
    "    may_order = 'May-ECommerce-Orders-' + cat\n",
    "    oldUser = sacog[~sacog[past_year_freq].isin(never_and_noRes)]\n",
    "    pastNever = sacog[sacog[past_year_freq].isin(never)]\n",
    "    adopter = pastNever[(pastNever[may_order] > 0) | (~pastNever[may_freq].isin(never_and_noRes))]\n",
    "    NonAdopter = pastNever[(pastNever[may_order] == 0) & pastNever[may_freq].isin(never)]\n",
    "    quiter = oldUser[(oldUser[may_order] == 0) & (oldUser[may_freq].isin(never))]\n",
    "    keeper = oldUser[(oldUser[may_order] > 0) | (~oldUser[may_freq].isin(never_and_noRes))]\n",
    "    nowUser = sacog[(sacog[may_order] > 0) | (~sacog[may_freq].isin(never_and_noRes))]\n",
    "    return [len(oldUser),\n",
    "           len(pastNever), \n",
    "           len(adopter),\n",
    "           len(NonAdopter),\n",
    "           len(quiter),\n",
    "           len(keeper),\n",
    "           len(nowUser),\n",
    "           oldUser,\n",
    "           pastNever,\n",
    "           adopter,\n",
    "           NonAdopter,\n",
    "           quiter,\n",
    "           keeper,\n",
    "           nowUser\n",
    "           ]\n",
    "\n",
    "dict_ = {}\n",
    "cat_ = ['PreparedFood', 'Groceries', 'OtherFood', 'PaperCleaning', 'Clothing', 'HomeOffice', 'Medication', 'ChildcareItems', 'Other']\n",
    "for cat in cat_:\n",
    "    dict_[cat] = count_(cat)"
   ]
  },
  {
   "cell_type": "code",
   "execution_count": 5,
   "metadata": {},
   "outputs": [],
   "source": [
    "def adoption(row, cat):\n",
    "    may_freq = 'May-ECommerce-Frequency-' + cat\n",
    "    may_order = 'May-ECommerce-Orders-' + cat\n",
    "    if (row[may_order] > 0) | (row[may_freq] not in never_and_noRes):\n",
    "        return 1 # Adopt/keeper\n",
    "    elif (row[may_order] == 0) & (row[may_freq] in never):\n",
    "        return 0 # Not Adopt/quiter\n",
    "    else:\n",
    "        return 999 # can't identify "
   ]
  },
  {
   "cell_type": "markdown",
   "metadata": {},
   "source": [
    "## 1) E-prepared-food"
   ]
  },
  {
   "cell_type": "code",
   "execution_count": 6,
   "metadata": {},
   "outputs": [],
   "source": [
    "pastNeverF = count_('PreparedFood')[8]\n",
    "oldUserF = count_('PreparedFood')[7]"
   ]
  },
  {
   "cell_type": "code",
   "execution_count": 7,
   "metadata": {},
   "outputs": [
    {
     "name": "stderr",
     "output_type": "stream",
     "text": [
      "/Users/apple/anaconda3/lib/python3.6/site-packages/ipykernel_launcher.py:1: SettingWithCopyWarning: \n",
      "A value is trying to be set on a copy of a slice from a DataFrame.\n",
      "Try using .loc[row_indexer,col_indexer] = value instead\n",
      "\n",
      "See the caveats in the documentation: http://pandas.pydata.org/pandas-docs/stable/indexing.html#indexing-view-versus-copy\n",
      "  \"\"\"Entry point for launching an IPython kernel.\n"
     ]
    }
   ],
   "source": [
    "pastNeverF['adopt'] = pastNeverF.apply(lambda row: adoption(row, 'PreparedFood'), axis = 1)\n",
    "oldUserF['quit'] = oldUserF.apply(lambda row: adoption(row, 'PreparedFood'), axis = 1)"
   ]
  },
  {
   "cell_type": "code",
   "execution_count": 8,
   "metadata": {},
   "outputs": [],
   "source": [
    "adoptF = pastNeverF[pastNeverF['adopt'] != 999][['adopt', 'COVID-PPEReducesContraction', 'COVID-PPEReducesTransmission', \n",
    "                  'COVID-AbleSocialDistance', 'Trust-FoodDeliveryCompanies',\n",
    "                  'Trust-FoodDeliveryDrivers', 'Behavior-PickupExcuseToGetOut',\n",
    "                  'Behavior-NotMindRestaurantOnline', 'ECommerce-Food-HardToKnowExactly',\n",
    "                  'ECommerce-Food-WorryAboutTheft', 'Attitude-SociallyIsolated',\n",
    "                  'Attitude-Stressed', 'Attitude-HaveEnoughFood', 'Online-Ease']]"
   ]
  },
  {
   "cell_type": "code",
   "execution_count": 9,
   "metadata": {},
   "outputs": [],
   "source": [
    "# Remove record with response -9998 or 997, reduce to 89 records\n",
    "adoptF = adoptF[~np.isin(sampleF, [-9998, 997]).any(axis=1)]"
   ]
  },
  {
   "cell_type": "code",
   "execution_count": 10,
   "metadata": {},
   "outputs": [
    {
     "data": {
      "text/html": [
       "<div>\n",
       "<style scoped>\n",
       "    .dataframe tbody tr th:only-of-type {\n",
       "        vertical-align: middle;\n",
       "    }\n",
       "\n",
       "    .dataframe tbody tr th {\n",
       "        vertical-align: top;\n",
       "    }\n",
       "\n",
       "    .dataframe thead th {\n",
       "        text-align: right;\n",
       "    }\n",
       "</style>\n",
       "<table border=\"1\" class=\"dataframe\">\n",
       "  <thead>\n",
       "    <tr style=\"text-align: right;\">\n",
       "      <th></th>\n",
       "      <th>adopt</th>\n",
       "      <th>COVID-PPEReducesContraction</th>\n",
       "      <th>COVID-PPEReducesTransmission</th>\n",
       "      <th>COVID-AbleSocialDistance</th>\n",
       "      <th>Trust-FoodDeliveryCompanies</th>\n",
       "      <th>Trust-FoodDeliveryDrivers</th>\n",
       "      <th>Behavior-PickupExcuseToGetOut</th>\n",
       "      <th>Behavior-NotMindRestaurantOnline</th>\n",
       "      <th>ECommerce-Food-HardToKnowExactly</th>\n",
       "      <th>ECommerce-Food-WorryAboutTheft</th>\n",
       "      <th>Attitude-SociallyIsolated</th>\n",
       "      <th>Attitude-Stressed</th>\n",
       "      <th>Attitude-HaveEnoughFood</th>\n",
       "      <th>Online-Ease</th>\n",
       "    </tr>\n",
       "  </thead>\n",
       "  <tbody>\n",
       "    <tr>\n",
       "      <th>count</th>\n",
       "      <td>89.000000</td>\n",
       "      <td>89.000000</td>\n",
       "      <td>89.000000</td>\n",
       "      <td>89.00000</td>\n",
       "      <td>89.000000</td>\n",
       "      <td>89.000000</td>\n",
       "      <td>89.000000</td>\n",
       "      <td>89.000000</td>\n",
       "      <td>89.000000</td>\n",
       "      <td>89.000000</td>\n",
       "      <td>89.000000</td>\n",
       "      <td>89.000000</td>\n",
       "      <td>89.000000</td>\n",
       "      <td>89.000000</td>\n",
       "    </tr>\n",
       "    <tr>\n",
       "      <th>mean</th>\n",
       "      <td>0.550562</td>\n",
       "      <td>3.966292</td>\n",
       "      <td>4.359551</td>\n",
       "      <td>4.41573</td>\n",
       "      <td>3.258427</td>\n",
       "      <td>3.629213</td>\n",
       "      <td>2.269663</td>\n",
       "      <td>3.146067</td>\n",
       "      <td>3.932584</td>\n",
       "      <td>2.640449</td>\n",
       "      <td>2.865169</td>\n",
       "      <td>2.988764</td>\n",
       "      <td>4.550562</td>\n",
       "      <td>4.101124</td>\n",
       "    </tr>\n",
       "    <tr>\n",
       "      <th>std</th>\n",
       "      <td>0.500255</td>\n",
       "      <td>1.210273</td>\n",
       "      <td>1.014074</td>\n",
       "      <td>0.61808</td>\n",
       "      <td>0.885849</td>\n",
       "      <td>0.728978</td>\n",
       "      <td>1.105400</td>\n",
       "      <td>1.092854</td>\n",
       "      <td>0.876431</td>\n",
       "      <td>1.100074</td>\n",
       "      <td>1.109781</td>\n",
       "      <td>1.123048</td>\n",
       "      <td>0.522477</td>\n",
       "      <td>0.798364</td>\n",
       "    </tr>\n",
       "    <tr>\n",
       "      <th>min</th>\n",
       "      <td>0.000000</td>\n",
       "      <td>1.000000</td>\n",
       "      <td>1.000000</td>\n",
       "      <td>2.00000</td>\n",
       "      <td>1.000000</td>\n",
       "      <td>1.000000</td>\n",
       "      <td>1.000000</td>\n",
       "      <td>1.000000</td>\n",
       "      <td>1.000000</td>\n",
       "      <td>1.000000</td>\n",
       "      <td>1.000000</td>\n",
       "      <td>1.000000</td>\n",
       "      <td>3.000000</td>\n",
       "      <td>1.000000</td>\n",
       "    </tr>\n",
       "    <tr>\n",
       "      <th>25%</th>\n",
       "      <td>0.000000</td>\n",
       "      <td>3.000000</td>\n",
       "      <td>4.000000</td>\n",
       "      <td>4.00000</td>\n",
       "      <td>3.000000</td>\n",
       "      <td>3.000000</td>\n",
       "      <td>1.000000</td>\n",
       "      <td>2.000000</td>\n",
       "      <td>4.000000</td>\n",
       "      <td>2.000000</td>\n",
       "      <td>2.000000</td>\n",
       "      <td>2.000000</td>\n",
       "      <td>4.000000</td>\n",
       "      <td>4.000000</td>\n",
       "    </tr>\n",
       "    <tr>\n",
       "      <th>50%</th>\n",
       "      <td>1.000000</td>\n",
       "      <td>4.000000</td>\n",
       "      <td>5.000000</td>\n",
       "      <td>4.00000</td>\n",
       "      <td>3.000000</td>\n",
       "      <td>4.000000</td>\n",
       "      <td>2.000000</td>\n",
       "      <td>3.000000</td>\n",
       "      <td>4.000000</td>\n",
       "      <td>2.000000</td>\n",
       "      <td>3.000000</td>\n",
       "      <td>3.000000</td>\n",
       "      <td>5.000000</td>\n",
       "      <td>4.000000</td>\n",
       "    </tr>\n",
       "    <tr>\n",
       "      <th>75%</th>\n",
       "      <td>1.000000</td>\n",
       "      <td>5.000000</td>\n",
       "      <td>5.000000</td>\n",
       "      <td>5.00000</td>\n",
       "      <td>4.000000</td>\n",
       "      <td>4.000000</td>\n",
       "      <td>3.000000</td>\n",
       "      <td>4.000000</td>\n",
       "      <td>4.000000</td>\n",
       "      <td>3.000000</td>\n",
       "      <td>4.000000</td>\n",
       "      <td>4.000000</td>\n",
       "      <td>5.000000</td>\n",
       "      <td>5.000000</td>\n",
       "    </tr>\n",
       "    <tr>\n",
       "      <th>max</th>\n",
       "      <td>1.000000</td>\n",
       "      <td>5.000000</td>\n",
       "      <td>5.000000</td>\n",
       "      <td>5.00000</td>\n",
       "      <td>5.000000</td>\n",
       "      <td>5.000000</td>\n",
       "      <td>5.000000</td>\n",
       "      <td>5.000000</td>\n",
       "      <td>5.000000</td>\n",
       "      <td>5.000000</td>\n",
       "      <td>5.000000</td>\n",
       "      <td>5.000000</td>\n",
       "      <td>5.000000</td>\n",
       "      <td>5.000000</td>\n",
       "    </tr>\n",
       "  </tbody>\n",
       "</table>\n",
       "</div>"
      ],
      "text/plain": [
       "           adopt  COVID-PPEReducesContraction  COVID-PPEReducesTransmission  \\\n",
       "count  89.000000                    89.000000                     89.000000   \n",
       "mean    0.550562                     3.966292                      4.359551   \n",
       "std     0.500255                     1.210273                      1.014074   \n",
       "min     0.000000                     1.000000                      1.000000   \n",
       "25%     0.000000                     3.000000                      4.000000   \n",
       "50%     1.000000                     4.000000                      5.000000   \n",
       "75%     1.000000                     5.000000                      5.000000   \n",
       "max     1.000000                     5.000000                      5.000000   \n",
       "\n",
       "       COVID-AbleSocialDistance  Trust-FoodDeliveryCompanies  \\\n",
       "count                  89.00000                    89.000000   \n",
       "mean                    4.41573                     3.258427   \n",
       "std                     0.61808                     0.885849   \n",
       "min                     2.00000                     1.000000   \n",
       "25%                     4.00000                     3.000000   \n",
       "50%                     4.00000                     3.000000   \n",
       "75%                     5.00000                     4.000000   \n",
       "max                     5.00000                     5.000000   \n",
       "\n",
       "       Trust-FoodDeliveryDrivers  Behavior-PickupExcuseToGetOut  \\\n",
       "count                  89.000000                      89.000000   \n",
       "mean                    3.629213                       2.269663   \n",
       "std                     0.728978                       1.105400   \n",
       "min                     1.000000                       1.000000   \n",
       "25%                     3.000000                       1.000000   \n",
       "50%                     4.000000                       2.000000   \n",
       "75%                     4.000000                       3.000000   \n",
       "max                     5.000000                       5.000000   \n",
       "\n",
       "       Behavior-NotMindRestaurantOnline  ECommerce-Food-HardToKnowExactly  \\\n",
       "count                         89.000000                         89.000000   \n",
       "mean                           3.146067                          3.932584   \n",
       "std                            1.092854                          0.876431   \n",
       "min                            1.000000                          1.000000   \n",
       "25%                            2.000000                          4.000000   \n",
       "50%                            3.000000                          4.000000   \n",
       "75%                            4.000000                          4.000000   \n",
       "max                            5.000000                          5.000000   \n",
       "\n",
       "       ECommerce-Food-WorryAboutTheft  Attitude-SociallyIsolated  \\\n",
       "count                       89.000000                  89.000000   \n",
       "mean                         2.640449                   2.865169   \n",
       "std                          1.100074                   1.109781   \n",
       "min                          1.000000                   1.000000   \n",
       "25%                          2.000000                   2.000000   \n",
       "50%                          2.000000                   3.000000   \n",
       "75%                          3.000000                   4.000000   \n",
       "max                          5.000000                   5.000000   \n",
       "\n",
       "       Attitude-Stressed  Attitude-HaveEnoughFood  Online-Ease  \n",
       "count          89.000000                89.000000    89.000000  \n",
       "mean            2.988764                 4.550562     4.101124  \n",
       "std             1.123048                 0.522477     0.798364  \n",
       "min             1.000000                 3.000000     1.000000  \n",
       "25%             2.000000                 4.000000     4.000000  \n",
       "50%             3.000000                 5.000000     4.000000  \n",
       "75%             4.000000                 5.000000     5.000000  \n",
       "max             5.000000                 5.000000     5.000000  "
      ]
     },
     "execution_count": 10,
     "metadata": {},
     "output_type": "execute_result"
    }
   ],
   "source": [
    "sampleF.describe()"
   ]
  },
  {
   "cell_type": "code",
   "execution_count": 11,
   "metadata": {},
   "outputs": [
    {
     "name": "stdout",
     "output_type": "stream",
     "text": [
      "Optimization terminated successfully.\n",
      "         Current function value: 0.506493\n",
      "         Iterations 6\n",
      "                           Logit Regression Results                           \n",
      "==============================================================================\n",
      "Dep. Variable:                  adopt   No. Observations:                   89\n",
      "Model:                          Logit   Df Residuals:                       75\n",
      "Method:                           MLE   Df Model:                           13\n",
      "Date:                Wed, 27 Jan 2021   Pseudo R-squ.:                  0.2638\n",
      "Time:                        16:17:18   Log-Likelihood:                -45.078\n",
      "converged:                       True   LL-Null:                       -61.234\n",
      "Covariance Type:            nonrobust   LLR p-value:                  0.002159\n",
      "====================================================================================================\n",
      "                                       coef    std err          z      P>|z|      [0.025      0.975]\n",
      "----------------------------------------------------------------------------------------------------\n",
      "const                               -1.7578      3.471     -0.506      0.613      -8.561       5.046\n",
      "COVID-PPEReducesContraction         -0.1310      0.382     -0.343      0.732      -0.879       0.617\n",
      "COVID-PPEReducesTransmission         0.6399      0.466      1.374      0.169      -0.273       1.553\n",
      "COVID-AbleSocialDistance             0.0105      0.510      0.020      0.984      -0.989       1.010\n",
      "Trust-FoodDeliveryCompanies         -0.1041      0.374     -0.278      0.781      -0.837       0.629\n",
      "Trust-FoodDeliveryDrivers            0.3564      0.510      0.698      0.485      -0.644       1.357\n",
      "Behavior-PickupExcuseToGetOut        0.9635      0.320      3.011      0.003       0.336       1.591\n",
      "Behavior-NotMindRestaurantOnline     0.6428      0.296      2.174      0.030       0.063       1.222\n",
      "ECommerce-Food-HardToKnowExactly     0.4165      0.353      1.180      0.238      -0.275       1.108\n",
      "ECommerce-Food-WorryAboutTheft      -0.6717      0.288     -2.334      0.020      -1.236      -0.108\n",
      "Attitude-SociallyIsolated            0.0537      0.273      0.197      0.844      -0.482       0.590\n",
      "Attitude-Stressed                    0.0648      0.281      0.231      0.818      -0.486       0.616\n",
      "Attitude-HaveEnoughFood             -0.5627      0.587     -0.959      0.338      -1.713       0.588\n",
      "Online-Ease                         -0.7476      0.397     -1.882      0.060      -1.526       0.031\n",
      "====================================================================================================\n"
     ]
    },
    {
     "name": "stderr",
     "output_type": "stream",
     "text": [
      "/Users/apple/anaconda3/lib/python3.6/site-packages/numpy/core/fromnumeric.py:2389: FutureWarning: Method .ptp is deprecated and will be removed in a future version. Use numpy.ptp instead.\n",
      "  return ptp(axis=axis, out=out, **kwargs)\n"
     ]
    }
   ],
   "source": [
    "import statsmodels.api as sm\n",
    "\n",
    "X = sampleF.iloc[:,1:]\n",
    "Y = sampleF.iloc[:,0]\n",
    "X = sm.add_constant(X) #?\n",
    "est = sm.Logit(Y, X).fit()\n",
    "print(est.summary())\n"
   ]
  },
  {
   "cell_type": "code",
   "execution_count": null,
   "metadata": {},
   "outputs": [],
   "source": []
  },
  {
   "cell_type": "markdown",
   "metadata": {},
   "source": [
    "## 2) E-grocery"
   ]
  },
  {
   "cell_type": "code",
   "execution_count": 12,
   "metadata": {},
   "outputs": [],
   "source": [
    "pastNeverG = count_('Groceries')[8]"
   ]
  },
  {
   "cell_type": "code",
   "execution_count": 13,
   "metadata": {},
   "outputs": [
    {
     "name": "stderr",
     "output_type": "stream",
     "text": [
      "/Users/apple/anaconda3/lib/python3.6/site-packages/ipykernel_launcher.py:1: SettingWithCopyWarning: \n",
      "A value is trying to be set on a copy of a slice from a DataFrame.\n",
      "Try using .loc[row_indexer,col_indexer] = value instead\n",
      "\n",
      "See the caveats in the documentation: http://pandas.pydata.org/pandas-docs/stable/indexing.html#indexing-view-versus-copy\n",
      "  \"\"\"Entry point for launching an IPython kernel.\n"
     ]
    }
   ],
   "source": [
    "pastNeverG['adopt'] = pastNeverG.apply(lambda row: adoption(row, 'Groceries'), axis = 1)"
   ]
  },
  {
   "cell_type": "code",
   "execution_count": 14,
   "metadata": {},
   "outputs": [],
   "source": [
    "sampleG = pastNeverG[pastNeverG['adopt'] != 999][['adopt', 'COVID-PPEReducesContraction', 'COVID-PPEReducesTransmission', \n",
    "                  'COVID-AbleSocialDistance', 'Trust-GroceryDeliveryCompanies',\n",
    "                  'Trust-GroceryDeliveryDrivers', 'Behavior-GroceryExcuseToGetOut',\n",
    "                  'Behavior-NotMindGroceriesOnline', 'Behavior-InPersonIsChore', \n",
    "                  'ECommerce-Food-HardToKnowExactly', 'ECommerce-Food-WorryAboutTheft', \n",
    "                  'Attitude-SociallyIsolated', 'Attitude-Stressed', \n",
    "                  'Attitude-HaveEnoughFood', 'Online-Ease']]"
   ]
  },
  {
   "cell_type": "code",
   "execution_count": 15,
   "metadata": {},
   "outputs": [],
   "source": [
    "# Remove record with response -9998 or 997, reduce to 87 records\n",
    "sampleG = sampleG[~np.isin(sampleG, [-9998, 997]).any(axis=1)]"
   ]
  },
  {
   "cell_type": "code",
   "execution_count": 16,
   "metadata": {},
   "outputs": [
    {
     "name": "stdout",
     "output_type": "stream",
     "text": [
      "Optimization terminated successfully.\n",
      "         Current function value: 0.464399\n",
      "         Iterations 6\n",
      "                           Logit Regression Results                           \n",
      "==============================================================================\n",
      "Dep. Variable:                  adopt   No. Observations:                  150\n",
      "Model:                          Logit   Df Residuals:                      135\n",
      "Method:                           MLE   Df Model:                           14\n",
      "Date:                Wed, 27 Jan 2021   Pseudo R-squ.:                  0.2755\n",
      "Time:                        16:17:18   Log-Likelihood:                -69.660\n",
      "converged:                       True   LL-Null:                       -96.155\n",
      "Covariance Type:            nonrobust   LLR p-value:                 1.909e-06\n",
      "====================================================================================================\n",
      "                                       coef    std err          z      P>|z|      [0.025      0.975]\n",
      "----------------------------------------------------------------------------------------------------\n",
      "const                               -5.2241      3.151     -1.658      0.097     -11.401       0.953\n",
      "COVID-PPEReducesContraction         -0.7259      0.285     -2.548      0.011      -1.284      -0.168\n",
      "COVID-PPEReducesTransmission         0.7394      0.371      1.993      0.046       0.012       1.467\n",
      "COVID-AbleSocialDistance             0.4251      0.348      1.223      0.221      -0.256       1.106\n",
      "Trust-GroceryDeliveryCompanies      -0.1877      0.318     -0.591      0.554      -0.810       0.435\n",
      "Trust-GroceryDeliveryDrivers         0.0502      0.380      0.132      0.895      -0.695       0.795\n",
      "Behavior-GroceryExcuseToGetOut       0.3181      0.207      1.540      0.124      -0.087       0.723\n",
      "Behavior-NotMindGroceriesOnline      0.7965      0.202      3.937      0.000       0.400       1.193\n",
      "Behavior-InPersonIsChore             0.3431      0.222      1.546      0.122      -0.092       0.778\n",
      "ECommerce-Food-HardToKnowExactly     0.9178      0.304      3.017      0.003       0.321       1.514\n",
      "ECommerce-Food-WorryAboutTheft      -0.7383      0.223     -3.317      0.001      -1.175      -0.302\n",
      "Attitude-SociallyIsolated            0.0384      0.217      0.177      0.859      -0.386       0.463\n",
      "Attitude-Stressed                    0.0225      0.215      0.105      0.917      -0.399       0.444\n",
      "Attitude-HaveEnoughFood             -0.5939      0.466     -1.275      0.202      -1.507       0.319\n",
      "Online-Ease                         -0.1843      0.333     -0.553      0.580      -0.838       0.469\n",
      "====================================================================================================\n"
     ]
    },
    {
     "name": "stderr",
     "output_type": "stream",
     "text": [
      "/Users/apple/anaconda3/lib/python3.6/site-packages/numpy/core/fromnumeric.py:2389: FutureWarning: Method .ptp is deprecated and will be removed in a future version. Use numpy.ptp instead.\n",
      "  return ptp(axis=axis, out=out, **kwargs)\n"
     ]
    }
   ],
   "source": [
    "X = sampleG.iloc[:,1:]\n",
    "Y = sampleG.iloc[:,0]\n",
    "X = sm.add_constant(X) #?\n",
    "est = sm.Logit(Y, X).fit()\n",
    "print(est.summary())"
   ]
  },
  {
   "cell_type": "code",
   "execution_count": null,
   "metadata": {},
   "outputs": [],
   "source": []
  }
 ],
 "metadata": {
  "kernelspec": {
   "display_name": "Python 3",
   "language": "python",
   "name": "python3"
  },
  "language_info": {
   "codemirror_mode": {
    "name": "ipython",
    "version": 3
   },
   "file_extension": ".py",
   "mimetype": "text/x-python",
   "name": "python",
   "nbconvert_exporter": "python",
   "pygments_lexer": "ipython3",
   "version": "3.6.8"
  }
 },
 "nbformat": 4,
 "nbformat_minor": 2
}
