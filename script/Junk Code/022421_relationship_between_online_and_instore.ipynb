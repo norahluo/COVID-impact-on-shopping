{
 "cells": [
  {
   "cell_type": "markdown",
   "metadata": {},
   "source": [
    "### Library, load data, data cleaning and imputation"
   ]
  },
  {
   "cell_type": "code",
   "execution_count": 1,
   "metadata": {},
   "outputs": [],
   "source": [
    "import pandas as pd\n",
    "import numpy as np\n",
    "import seaborn as sns\n",
    "import matplotlib.pyplot as plt\n",
    "from tabulate import tabulate"
   ]
  },
  {
   "cell_type": "code",
   "execution_count": 2,
   "metadata": {},
   "outputs": [],
   "source": [
    "sacog = pd.read_excel('sacog_recoded_012021.xlsx')"
   ]
  },
  {
   "cell_type": "code",
   "execution_count": 3,
   "metadata": {},
   "outputs": [],
   "source": [
    "freq_dict = {'More than 5 times per week': 7, \n",
    "             '3 - 5 times per week': 6,\n",
    "             '2 - 3 times per week': 5,\n",
    "             'About 1 time per week': 4,\n",
    "             'Less than 1 time per week ': 3,\n",
    "             'Less than 1 time per month ': 2,\n",
    "             'Never': 1,\n",
    "             'Almost never': 1,\n",
    "             'No Response': 0}"
   ]
  },
  {
   "cell_type": "code",
   "execution_count": 4,
   "metadata": {},
   "outputs": [],
   "source": [
    "def freq_online(orders):\n",
    "    if orders > 5:\n",
    "        return 7\n",
    "    elif orders > 3:\n",
    "        return 6\n",
    "    elif orders >= 2:\n",
    "        return 5\n",
    "    elif orders >= 1:\n",
    "        return 4"
   ]
  },
  {
   "cell_type": "code",
   "execution_count": 5,
   "metadata": {},
   "outputs": [],
   "source": [
    "def freq_instore(trips):\n",
    "    if trips/2 > 5:\n",
    "        return 7\n",
    "    elif trips/2 > 3:\n",
    "        return 6\n",
    "    elif trips/2 >= 2:\n",
    "        return 5\n",
    "    elif trips/2 >= 1:\n",
    "        return 4\n",
    "    elif trips/2 < 1:\n",
    "        return 3"
   ]
  },
  {
   "cell_type": "code",
   "execution_count": 6,
   "metadata": {},
   "outputs": [],
   "source": [
    "sacog['May_Freq_EPreparedFood'] = sacog['May-ECommerce-Frequency-PreparedFood'].map(freq_dict)\n",
    "sacog['May_Freq_EGroceries'] = sacog['May-ECommerce-Frequency-Groceries'].map(freq_dict)\n",
    "sacog['May_Freq_EOtherFood'] = sacog['May-ECommerce-Frequency-OtherFood'].map(freq_dict)\n",
    "sacog['May_Freq_EPaperCleaning'] = sacog['May-ECommerce-Frequency-PaperCleaning'].map(freq_dict)\n",
    "sacog['May_Freq_EClothing'] = sacog['May-ECommerce-Frequency-Clothing'].map(freq_dict)\n",
    "sacog['May_Freq_EHomeOffice'] = sacog['May-ECommerce-Frequency-HomeOffice'].map(freq_dict)\n",
    "sacog['May_Freq_EMedication'] = sacog['May-ECommerce-Frequency-Medication'].map(freq_dict)\n",
    "sacog['May_Freq_EChildcareItems'] = sacog['May-ECommerce-Frequency-ChildcareItems'].map(freq_dict)\n",
    "sacog['May_Freq_EOther'] = sacog['May-ECommerce-Frequency-Other'].map(freq_dict)"
   ]
  },
  {
   "cell_type": "code",
   "execution_count": 7,
   "metadata": {},
   "outputs": [],
   "source": [
    "sacog['May_Freq_PreparedFood'] = sacog['May-InStore-Frequency-PreparedFood'].map(freq_dict)\n",
    "sacog['May_Freq_Groceries'] = sacog['May-InStore-Frequency-Groceries'].map(freq_dict)\n",
    "sacog['May_Freq_OtherFood'] = sacog['May-InStore-Frequency-OtherFood'].map(freq_dict)\n",
    "sacog['May_Freq_PaperCleaning'] = sacog['May-InStore-Frequency-PaperCleaning'].map(freq_dict)\n",
    "sacog['May_Freq_Clothing'] = sacog['May-InStore-Frequency-Clothing'].map(freq_dict)\n",
    "sacog['May_Freq_HomeOffice'] = sacog['May-InStore-Frequency-HomeOffice'].map(freq_dict)\n",
    "sacog['May_Freq_Medication'] = sacog['May-InStore-Frequency-Medication'].map(freq_dict)\n",
    "sacog['May_Freq_ChildcareItems'] = sacog['May-InStore-Frequency-ChildcareItems'].map(freq_dict)\n",
    "sacog['May_Freq_Other'] = sacog['May-InStore-Frequency-Other'].map(freq_dict)"
   ]
  },
  {
   "cell_type": "code",
   "execution_count": 8,
   "metadata": {},
   "outputs": [],
   "source": [
    "# Impute from # of orders during survey week\n",
    "sacog.loc[sacog['May-ECommerce-Orders-PreparedFood'] > 0, 'May_Freq_EPreparedFood'] = sacog.loc[sacog['May-ECommerce-Orders-PreparedFood'] > 0]['May-ECommerce-Orders-PreparedFood'].apply(freq_online)\n",
    "sacog.loc[sacog['May-ECommerce-Orders-Groceries'] > 0, 'May_Freq_EGroceries'] = sacog.loc[sacog['May-ECommerce-Orders-Groceries'] > 0]['May-ECommerce-Orders-Groceries'].apply(freq_online)\n",
    "sacog.loc[sacog['May-ECommerce-Orders-OtherFood'] > 0, 'May_Freq_EOtherFood'] = sacog.loc[sacog['May-ECommerce-Orders-OtherFood'] > 0]['May-ECommerce-Orders-OtherFood'].apply(freq_online)\n",
    "sacog.loc[sacog['May-ECommerce-Orders-PaperCleaning'] > 0, 'May_Freq_EPaperCleaning'] = sacog.loc[sacog['May-ECommerce-Orders-PaperCleaning'] > 0]['May-ECommerce-Orders-PaperCleaning'].apply(freq_online)\n",
    "sacog.loc[sacog['May-ECommerce-Orders-Clothing'] > 0, 'May_Freq_EClothing'] = sacog.loc[sacog['May-ECommerce-Orders-Clothing'] > 0]['May-ECommerce-Orders-Clothing'].apply(freq_online)\n",
    "sacog.loc[sacog['May-ECommerce-Orders-HomeOffice'] > 0, 'May_Freq_EHomeOffice'] = sacog.loc[sacog['May-ECommerce-Orders-HomeOffice'] > 0]['May-ECommerce-Orders-HomeOffice'].apply(freq_online)\n",
    "sacog.loc[sacog['May-ECommerce-Orders-Medication'] > 0, 'May_Freq_EMedication'] = sacog.loc[sacog['May-ECommerce-Orders-Medication'] > 0]['May-ECommerce-Orders-Medication'].apply(freq_online)\n",
    "sacog.loc[sacog['May-ECommerce-Orders-ChildcareItems'] > 0, 'May_Freq_EChildcareItems'] = sacog.loc[sacog['May-ECommerce-Orders-ChildcareItems'] > 0]['May-ECommerce-Orders-ChildcareItems'].apply(freq_online)\n",
    "sacog.loc[sacog['May-ECommerce-Orders-Other'] > 0, 'May_Freq_EOther'] = sacog.loc[sacog['May-ECommerce-Orders-Other'] > 0]['May-ECommerce-Orders-Other'].apply(freq_online)"
   ]
  },
  {
   "cell_type": "code",
   "execution_count": 9,
   "metadata": {},
   "outputs": [],
   "source": [
    "# Impute from # of trips during survey week\n",
    "sacog.loc[sacog['May-InStore-Trips-PreparedFood'] > 0, 'May_Freq_PreparedFood'] = sacog.loc[sacog['May-InStore-Trips-PreparedFood'] > 0]['May-InStore-Trips-PreparedFood'].apply(freq_instore)\n",
    "sacog.loc[sacog['May-InStore-Trips-Groceries'] > 0, 'May_Freq_Groceries'] = sacog.loc[sacog['May-InStore-Trips-Groceries'] > 0]['May-InStore-Trips-Groceries'].apply(freq_instore)\n",
    "sacog.loc[sacog['May-InStore-Trips-OtherFood'] > 0, 'May_Freq_OtherFood'] = sacog.loc[sacog['May-InStore-Trips-OtherFood'] > 0]['May-InStore-Trips-OtherFood'].apply(freq_instore)\n",
    "sacog.loc[sacog['May-InStore-Trips-PaperCleaning'] > 0, 'May_Freq_PaperCleaning'] = sacog.loc[sacog['May-InStore-Trips-PaperCleaning'] > 0]['May-InStore-Trips-PaperCleaning'].apply(freq_instore)\n",
    "sacog.loc[sacog['May-InStore-Trips-Clothing'] > 0, 'May_Freq_Clothing'] = sacog.loc[sacog['May-InStore-Trips-Clothing'] > 0]['May-InStore-Trips-Clothing'].apply(freq_instore)\n",
    "sacog.loc[sacog['May-InStore-Trips-HomeOffice'] > 0, 'May_Freq_HomeOffice'] = sacog.loc[sacog['May-InStore-Trips-HomeOffice'] > 0]['May-InStore-Trips-HomeOffice'].apply(freq_instore)\n",
    "sacog.loc[sacog['May-InStore-Trips-Medication'] > 0, 'May_Freq_Medication'] = sacog.loc[sacog['May-InStore-Trips-Medication'] > 0]['May-InStore-Trips-Medication'].apply(freq_instore)\n",
    "sacog.loc[sacog['May-InStore-Trips-ChildcareItems'] > 0, 'May_Freq_ChildcareItems'] = sacog.loc[sacog['May-InStore-Trips-ChildcareItems'] > 0]['May-InStore-Trips-ChildcareItems'].apply(freq_instore)\n",
    "sacog.loc[sacog['May-InStore-Trips-Other'] > 0, 'May_Freq_Other'] = sacog.loc[sacog['May-InStore-Trips-Other'] > 0]['May-InStore-Trips-Other'].apply(freq_instore)"
   ]
  },
  {
   "cell_type": "code",
   "execution_count": 10,
   "metadata": {},
   "outputs": [
    {
     "data": {
      "text/plain": [
       "count    327.000000\n",
       "mean       3.314985\n",
       "std        1.673097\n",
       "min        0.000000\n",
       "25%        2.000000\n",
       "50%        4.000000\n",
       "75%        4.000000\n",
       "max        7.000000\n",
       "Name: May_Freq_PreparedFood, dtype: float64"
      ]
     },
     "execution_count": 10,
     "metadata": {},
     "output_type": "execute_result"
    }
   ],
   "source": [
    "sacog['May_Freq_PreparedFood'].describe()"
   ]
  },
  {
   "cell_type": "code",
   "execution_count": 11,
   "metadata": {},
   "outputs": [],
   "source": [
    "MayNeverOnline = sacog[(sacog['May-ECommerce-Frequency-PreparedFood'].isin([\"Never\", \"Almost never\"])) & \n",
    "          (sacog['May-ECommerce-Frequency-Groceries'].isin([\"Never\", \"Almost never\"])) & \n",
    "          (sacog['May-ECommerce-Frequency-OtherFood'].isin([\"Never\", \"Almost never\"])) &\n",
    "          (sacog['May-ECommerce-Frequency-PaperCleaning'].isin([\"Never\", \"Almost never\"])) &\n",
    "          (sacog['May-ECommerce-Frequency-Clothing'].isin([\"Never\", \"Almost never\"])) &\n",
    "          (sacog['May-ECommerce-Frequency-HomeOffice'].isin([\"Never\", \"Almost never\"])) &\n",
    "          (sacog['May-ECommerce-Frequency-Medication'].isin([\"Never\", \"Almost never\"])) &\n",
    "          (sacog['May-ECommerce-Frequency-ChildcareItems'].isin([\"Never\", \"Almost never\"])) &\n",
    "          (sacog['May-ECommerce-Frequency-Other'].isin([\"Never\", \"Almost never\"]))]"
   ]
  },
  {
   "cell_type": "code",
   "execution_count": 12,
   "metadata": {},
   "outputs": [],
   "source": [
    "MayNeverInStore = sacog[(sacog['May-InStore-Frequency-PreparedFood'].isin([\"Never\", \"Almost never\"])) & \n",
    "          (sacog['May-InStore-Frequency-Groceries'].isin([\"Never\", \"Almost never\"])) & \n",
    "          (sacog['May-InStore-Frequency-OtherFood'].isin([\"Never\", \"Almost never\"])) &\n",
    "          (sacog['May-InStore-Frequency-PaperCleaning'].isin([\"Never\", \"Almost never\"])) &\n",
    "          (sacog['May-InStore-Frequency-Clothing'].isin([\"Never\", \"Almost never\"])) &\n",
    "          (sacog['May-InStore-Frequency-HomeOffice'].isin([\"Never\", \"Almost never\"])) &\n",
    "          (sacog['May-InStore-Frequency-Medication'].isin([\"Never\", \"Almost never\"])) &\n",
    "          (sacog['May-InStore-Frequency-ChildcareItems'].isin([\"Never\", \"Almost never\"])) &\n",
    "          (sacog['May-InStore-Frequency-Other'].isin([\"Never\", \"Almost never\"]))]"
   ]
  },
  {
   "cell_type": "code",
   "execution_count": 17,
   "metadata": {},
   "outputs": [
    {
     "data": {
      "text/plain": [
       "47"
      ]
     },
     "metadata": {},
     "output_type": "display_data"
    },
    {
     "data": {
      "text/plain": [
       "9"
      ]
     },
     "metadata": {},
     "output_type": "display_data"
    },
    {
     "data": {
      "text/plain": [
       "134"
      ]
     },
     "metadata": {},
     "output_type": "display_data"
    },
    {
     "data": {
      "text/plain": [
       "30"
      ]
     },
     "metadata": {},
     "output_type": "display_data"
    },
    {
     "data": {
      "text/plain": [
       "69"
      ]
     },
     "metadata": {},
     "output_type": "display_data"
    },
    {
     "data": {
      "text/plain": [
       "130"
      ]
     },
     "metadata": {},
     "output_type": "display_data"
    },
    {
     "data": {
      "text/plain": [
       "78"
      ]
     },
     "metadata": {},
     "output_type": "display_data"
    },
    {
     "data": {
      "text/plain": [
       "220"
      ]
     },
     "metadata": {},
     "output_type": "display_data"
    },
    {
     "data": {
      "text/plain": [
       "40"
      ]
     },
     "metadata": {},
     "output_type": "display_data"
    }
   ],
   "source": [
    "display(len(sacog[(sacog['May-InStore-Frequency-PreparedFood'].isin([\"Never\", \"Almost never\"]))]))\n",
    "display(len(sacog[(sacog['May-InStore-Frequency-Groceries'].isin([\"Never\", \"Almost never\"]))]))\n",
    "display(len(sacog[(sacog['May-InStore-Frequency-OtherFood'].isin([\"Never\", \"Almost never\"]))]))\n",
    "display(len(sacog[(sacog['May-InStore-Frequency-PaperCleaning'].isin([\"Never\", \"Almost never\"]))]))\n",
    "display(len(sacog[(sacog['May-InStore-Frequency-Clothing'].isin([\"Never\", \"Almost never\"]))]))\n",
    "display(len(sacog[(sacog['May-InStore-Frequency-HomeOffice'].isin([\"Never\", \"Almost never\"]))]))\n",
    "display(len(sacog[(sacog['May-InStore-Frequency-Medication'].isin([\"Never\", \"Almost never\"]))]))\n",
    "display(len(sacog[(sacog['May-InStore-Frequency-ChildcareItems'].isin([\"Never\", \"Almost never\"]))]))\n",
    "display(len(sacog[(sacog['May-InStore-Frequency-Other'].isin([\"Never\", \"Almost never\"]))]))"
   ]
  },
  {
   "cell_type": "code",
   "execution_count": 18,
   "metadata": {},
   "outputs": [
    {
     "data": {
      "text/plain": [
       "79"
      ]
     },
     "metadata": {},
     "output_type": "display_data"
    },
    {
     "data": {
      "text/plain": [
       "141"
      ]
     },
     "metadata": {},
     "output_type": "display_data"
    },
    {
     "data": {
      "text/plain": [
       "168"
      ]
     },
     "metadata": {},
     "output_type": "display_data"
    },
    {
     "data": {
      "text/plain": [
       "124"
      ]
     },
     "metadata": {},
     "output_type": "display_data"
    },
    {
     "data": {
      "text/plain": [
       "66"
      ]
     },
     "metadata": {},
     "output_type": "display_data"
    },
    {
     "data": {
      "text/plain": [
       "115"
      ]
     },
     "metadata": {},
     "output_type": "display_data"
    },
    {
     "data": {
      "text/plain": [
       "102"
      ]
     },
     "metadata": {},
     "output_type": "display_data"
    },
    {
     "data": {
      "text/plain": [
       "179"
      ]
     },
     "metadata": {},
     "output_type": "display_data"
    },
    {
     "data": {
      "text/plain": [
       "32"
      ]
     },
     "metadata": {},
     "output_type": "display_data"
    }
   ],
   "source": [
    "display(len(sacog[(sacog['May-ECommerce-Frequency-PreparedFood'].isin([\"Never\", \"Almost never\"]))]))\n",
    "display(len(sacog[(sacog['May-ECommerce-Frequency-Groceries'].isin([\"Never\", \"Almost never\"]))]))\n",
    "display(len(sacog[(sacog['May-ECommerce-Frequency-OtherFood'].isin([\"Never\", \"Almost never\"]))]))\n",
    "display(len(sacog[(sacog['May-ECommerce-Frequency-PaperCleaning'].isin([\"Never\", \"Almost never\"]))]))\n",
    "display(len(sacog[(sacog['May-ECommerce-Frequency-Clothing'].isin([\"Never\", \"Almost never\"]))]))\n",
    "display(len(sacog[(sacog['May-ECommerce-Frequency-HomeOffice'].isin([\"Never\", \"Almost never\"]))]))\n",
    "display(len(sacog[(sacog['May-ECommerce-Frequency-Medication'].isin([\"Never\", \"Almost never\"]))]))\n",
    "display(len(sacog[(sacog['May-ECommerce-Frequency-ChildcareItems'].isin([\"Never\", \"Almost never\"]))]))\n",
    "display(len(sacog[(sacog['May-ECommerce-Frequency-Other'].isin([\"Never\", \"Almost never\"]))]))"
   ]
  },
  {
   "cell_type": "code",
   "execution_count": 22,
   "metadata": {},
   "outputs": [
    {
     "data": {
      "text/plain": [
       "51"
      ]
     },
     "execution_count": 22,
     "metadata": {},
     "output_type": "execute_result"
    }
   ],
   "source": [
    "never_and_noRes = [\"Never\", \"Almost never\", 'No Response']\n",
    "len(sacog[(sacog['May-ECommerce-Frequency-PreparedFood'].isin([\"Never\", \"Almost never\"])) & \n",
    "          ((sacog['May-InStore-Trips-PreparedFood'] > 0) | \n",
    "          (~sacog['May-InStore-Frequency-PreparedFood'].isin(never_and_noRes)))])"
   ]
  },
  {
   "cell_type": "code",
   "execution_count": 23,
   "metadata": {},
   "outputs": [
    {
     "data": {
      "text/plain": [
       "140"
      ]
     },
     "execution_count": 23,
     "metadata": {},
     "output_type": "execute_result"
    }
   ],
   "source": [
    "never_and_noRes = [\"Never\", \"Almost never\", 'No Response']\n",
    "len(sacog[(sacog['May-ECommerce-Frequency-Groceries'].isin([\"Never\", \"Almost never\"])) & \n",
    "          ((sacog['May-InStore-Trips-Groceries'] > 0) | \n",
    "          (~sacog['May-InStore-Frequency-Groceries'].isin(never_and_noRes)))])"
   ]
  },
  {
   "cell_type": "code",
   "execution_count": 24,
   "metadata": {},
   "outputs": [
    {
     "data": {
      "text/plain": [
       "69"
      ]
     },
     "execution_count": 24,
     "metadata": {},
     "output_type": "execute_result"
    }
   ],
   "source": [
    "never_and_noRes = [\"Never\", \"Almost never\", 'No Response']\n",
    "len(sacog[(sacog['May-ECommerce-Frequency-OtherFood'].isin([\"Never\", \"Almost never\"])) & \n",
    "          ((sacog['May-InStore-Trips-OtherFood'] > 0) | \n",
    "          (~sacog['May-InStore-Frequency-OtherFood'].isin(never_and_noRes)))])"
   ]
  },
  {
   "cell_type": "code",
   "execution_count": 25,
   "metadata": {},
   "outputs": [
    {
     "data": {
      "text/plain": [
       "105"
      ]
     },
     "execution_count": 25,
     "metadata": {},
     "output_type": "execute_result"
    }
   ],
   "source": [
    "never_and_noRes = [\"Never\", \"Almost never\", 'No Response']\n",
    "len(sacog[(sacog['May-ECommerce-Frequency-PaperCleaning'].isin([\"Never\", \"Almost never\"])) & \n",
    "          ((sacog['May-InStore-Trips-PaperCleaning'] > 0) | \n",
    "          (~sacog['May-InStore-Frequency-PaperCleaning'].isin(never_and_noRes)))])"
   ]
  },
  {
   "cell_type": "code",
   "execution_count": 27,
   "metadata": {},
   "outputs": [
    {
     "data": {
      "text/plain": [
       "36"
      ]
     },
     "execution_count": 27,
     "metadata": {},
     "output_type": "execute_result"
    }
   ],
   "source": [
    "never_and_noRes = [\"Never\", \"Almost never\", 'No Response']\n",
    "len(sacog[(sacog['May-ECommerce-Frequency-Clothing'].isin([\"Never\", \"Almost never\"])) & \n",
    "          ((sacog['May-InStore-Trips-Clothing'] > 0) | \n",
    "          (~sacog['May-InStore-Frequency-Clothing'].isin(never_and_noRes)))])"
   ]
  },
  {
   "cell_type": "code",
   "execution_count": 28,
   "metadata": {},
   "outputs": [
    {
     "data": {
      "text/plain": [
       "33"
      ]
     },
     "execution_count": 28,
     "metadata": {},
     "output_type": "execute_result"
    }
   ],
   "source": [
    "never_and_noRes = [\"Never\", \"Almost never\", 'No Response']\n",
    "len(sacog[(sacog['May-ECommerce-Frequency-HomeOffice'].isin([\"Never\", \"Almost never\"])) & \n",
    "          ((sacog['May-InStore-Trips-HomeOffice'] > 0) | \n",
    "          (~sacog['May-InStore-Frequency-HomeOffice'].isin(never_and_noRes)))])"
   ]
  },
  {
   "cell_type": "code",
   "execution_count": 29,
   "metadata": {},
   "outputs": [
    {
     "data": {
      "text/plain": [
       "57"
      ]
     },
     "execution_count": 29,
     "metadata": {},
     "output_type": "execute_result"
    }
   ],
   "source": [
    "never_and_noRes = [\"Never\", \"Almost never\", 'No Response']\n",
    "len(sacog[(sacog['May-ECommerce-Frequency-Medication'].isin([\"Never\", \"Almost never\"])) & \n",
    "          ((sacog['May-InStore-Trips-Medication'] > 0) | \n",
    "          (~sacog['May-InStore-Frequency-Medication'].isin(never_and_noRes)))])"
   ]
  },
  {
   "cell_type": "code",
   "execution_count": 30,
   "metadata": {},
   "outputs": [
    {
     "data": {
      "text/plain": [
       "7"
      ]
     },
     "execution_count": 30,
     "metadata": {},
     "output_type": "execute_result"
    }
   ],
   "source": [
    "never_and_noRes = [\"Never\", \"Almost never\", 'No Response']\n",
    "len(sacog[(sacog['May-ECommerce-Frequency-ChildcareItems'].isin([\"Never\", \"Almost never\"])) & \n",
    "          ((sacog['May-InStore-Trips-ChildcareItems'] > 0) | \n",
    "          (~sacog['May-InStore-Frequency-ChildcareItems'].isin(never_and_noRes)))])"
   ]
  },
  {
   "cell_type": "code",
   "execution_count": 32,
   "metadata": {},
   "outputs": [
    {
     "data": {
      "text/plain": [
       "2"
      ]
     },
     "execution_count": 32,
     "metadata": {},
     "output_type": "execute_result"
    }
   ],
   "source": [
    "len(sacog[(sacog['May-ECommerce-Frequency-Other'].isin([\"Never\", \"Almost never\"])) & \n",
    "          ((sacog['May-InStore-Trips-Other'] > 0) | \n",
    "          (~sacog['May-InStore-Frequency-Other'].isin(never_and_noRes)))])"
   ]
  },
  {
   "cell_type": "code",
   "execution_count": 20,
   "metadata": {},
   "outputs": [
    {
     "data": {
      "text/plain": [
       "27"
      ]
     },
     "metadata": {},
     "output_type": "display_data"
    },
    {
     "data": {
      "text/plain": [
       "0"
      ]
     },
     "metadata": {},
     "output_type": "display_data"
    },
    {
     "data": {
      "text/plain": [
       "93"
      ]
     },
     "metadata": {},
     "output_type": "display_data"
    },
    {
     "data": {
      "text/plain": [
       "14"
      ]
     },
     "metadata": {},
     "output_type": "display_data"
    },
    {
     "data": {
      "text/plain": [
       "25"
      ]
     },
     "metadata": {},
     "output_type": "display_data"
    },
    {
     "data": {
      "text/plain": [
       "77"
      ]
     },
     "metadata": {},
     "output_type": "display_data"
    },
    {
     "data": {
      "text/plain": [
       "43"
      ]
     },
     "metadata": {},
     "output_type": "display_data"
    },
    {
     "data": {
      "text/plain": [
       "163"
      ]
     },
     "metadata": {},
     "output_type": "display_data"
    },
    {
     "data": {
      "text/plain": [
       "21"
      ]
     },
     "metadata": {},
     "output_type": "display_data"
    }
   ],
   "source": [
    "display(len(sacog[(sacog['May-ECommerce-Frequency-PreparedFood'].isin([\"Never\", \"Almost never\"])) & (sacog['May-InStore-Frequency-PreparedFood'].isin([\"Never\", \"Almost never\"]))]))\n",
    "display(len(sacog[(sacog['May-ECommerce-Frequency-Groceries'].isin([\"Never\", \"Almost never\"])) & (sacog['May-InStore-Frequency-Groceries'].isin([\"Never\", \"Almost never\"]))]))\n",
    "display(len(sacog[(sacog['May-ECommerce-Frequency-OtherFood'].isin([\"Never\", \"Almost never\"])) & (sacog['May-InStore-Frequency-OtherFood'].isin([\"Never\", \"Almost never\"]))]))\n",
    "display(len(sacog[(sacog['May-ECommerce-Frequency-PaperCleaning'].isin([\"Never\", \"Almost never\"])) & (sacog['May-InStore-Frequency-PaperCleaning'].isin([\"Never\", \"Almost never\"]))]))\n",
    "display(len(sacog[(sacog['May-ECommerce-Frequency-Clothing'].isin([\"Never\", \"Almost never\"])) & (sacog['May-InStore-Frequency-Clothing'].isin([\"Never\", \"Almost never\"]))]))\n",
    "display(len(sacog[(sacog['May-ECommerce-Frequency-HomeOffice'].isin([\"Never\", \"Almost never\"])) & (sacog['May-InStore-Frequency-HomeOffice'].isin([\"Never\", \"Almost never\"]))]))\n",
    "display(len(sacog[(sacog['May-ECommerce-Frequency-Medication'].isin([\"Never\", \"Almost never\"])) & (sacog['May-InStore-Frequency-Medication'].isin([\"Never\", \"Almost never\"]))]))\n",
    "display(len(sacog[(sacog['May-ECommerce-Frequency-ChildcareItems'].isin([\"Never\", \"Almost never\"])) & (sacog['May-InStore-Frequency-ChildcareItems'].isin([\"Never\", \"Almost never\"]))]))\n",
    "display(len(sacog[(sacog['May-ECommerce-Frequency-Other'].isin([\"Never\", \"Almost never\"])) & (sacog['May-InStore-Frequency-Other'].isin([\"Never\", \"Almost never\"]))]))"
   ]
  },
  {
   "cell_type": "code",
   "execution_count": 13,
   "metadata": {},
   "outputs": [
    {
     "data": {
      "text/html": [
       "<div>\n",
       "<style scoped>\n",
       "    .dataframe tbody tr th:only-of-type {\n",
       "        vertical-align: middle;\n",
       "    }\n",
       "\n",
       "    .dataframe tbody tr th {\n",
       "        vertical-align: top;\n",
       "    }\n",
       "\n",
       "    .dataframe thead th {\n",
       "        text-align: right;\n",
       "    }\n",
       "</style>\n",
       "<table border=\"1\" class=\"dataframe\">\n",
       "  <thead>\n",
       "    <tr style=\"text-align: right;\">\n",
       "      <th></th>\n",
       "      <th>Unnamed: 0</th>\n",
       "      <th>Unnamed: 0.1</th>\n",
       "      <th>Duration (in seconds)</th>\n",
       "      <th>Response ID</th>\n",
       "      <th>May-WorkingHours</th>\n",
       "      <th>May-TelecommutingDays</th>\n",
       "      <th>May-Trips-Commuting</th>\n",
       "      <th>May-Trips-Medical</th>\n",
       "      <th>May-Trips-Gym</th>\n",
       "      <th>May-Trips-ToSchool</th>\n",
       "      <th>...</th>\n",
       "      <th>May_Freq_EOther</th>\n",
       "      <th>May_Freq_PreparedFood</th>\n",
       "      <th>May_Freq_Groceries</th>\n",
       "      <th>May_Freq_OtherFood</th>\n",
       "      <th>May_Freq_PaperCleaning</th>\n",
       "      <th>May_Freq_Clothing</th>\n",
       "      <th>May_Freq_HomeOffice</th>\n",
       "      <th>May_Freq_Medication</th>\n",
       "      <th>May_Freq_ChildcareItems</th>\n",
       "      <th>May_Freq_Other</th>\n",
       "    </tr>\n",
       "  </thead>\n",
       "  <tbody>\n",
       "    <tr>\n",
       "      <th>35</th>\n",
       "      <td>35</td>\n",
       "      <td>35</td>\n",
       "      <td>4144</td>\n",
       "      <td>R_2Pp64ByAP6j9RNt</td>\n",
       "      <td>I did not work from Sunday, May 17th through S...</td>\n",
       "      <td>-1</td>\n",
       "      <td>-9998</td>\n",
       "      <td>2</td>\n",
       "      <td>-9998</td>\n",
       "      <td>-9998</td>\n",
       "      <td>...</td>\n",
       "      <td>1</td>\n",
       "      <td>1</td>\n",
       "      <td>1</td>\n",
       "      <td>1</td>\n",
       "      <td>1</td>\n",
       "      <td>1</td>\n",
       "      <td>1</td>\n",
       "      <td>1</td>\n",
       "      <td>1</td>\n",
       "      <td>1</td>\n",
       "    </tr>\n",
       "    <tr>\n",
       "      <th>259</th>\n",
       "      <td>259</td>\n",
       "      <td>259</td>\n",
       "      <td>4177</td>\n",
       "      <td>R_3k1zXauQf81xWFW</td>\n",
       "      <td>I did not work from Sunday, May 17th through S...</td>\n",
       "      <td>0</td>\n",
       "      <td>0</td>\n",
       "      <td>1</td>\n",
       "      <td>0</td>\n",
       "      <td>0</td>\n",
       "      <td>...</td>\n",
       "      <td>2</td>\n",
       "      <td>1</td>\n",
       "      <td>1</td>\n",
       "      <td>1</td>\n",
       "      <td>1</td>\n",
       "      <td>1</td>\n",
       "      <td>1</td>\n",
       "      <td>1</td>\n",
       "      <td>1</td>\n",
       "      <td>1</td>\n",
       "    </tr>\n",
       "  </tbody>\n",
       "</table>\n",
       "<p>2 rows × 690 columns</p>\n",
       "</div>"
      ],
      "text/plain": [
       "     Unnamed: 0  Unnamed: 0.1  Duration (in seconds)        Response ID  \\\n",
       "35           35            35                   4144  R_2Pp64ByAP6j9RNt   \n",
       "259         259           259                   4177  R_3k1zXauQf81xWFW   \n",
       "\n",
       "                                      May-WorkingHours  May-TelecommutingDays  \\\n",
       "35   I did not work from Sunday, May 17th through S...                     -1   \n",
       "259  I did not work from Sunday, May 17th through S...                      0   \n",
       "\n",
       "     May-Trips-Commuting  May-Trips-Medical  May-Trips-Gym  \\\n",
       "35                 -9998                  2          -9998   \n",
       "259                    0                  1              0   \n",
       "\n",
       "     May-Trips-ToSchool  ...  May_Freq_EOther  May_Freq_PreparedFood  \\\n",
       "35                -9998  ...                1                      1   \n",
       "259                   0  ...                2                      1   \n",
       "\n",
       "     May_Freq_Groceries  May_Freq_OtherFood  May_Freq_PaperCleaning  \\\n",
       "35                    1                   1                       1   \n",
       "259                   1                   1                       1   \n",
       "\n",
       "     May_Freq_Clothing May_Freq_HomeOffice May_Freq_Medication  \\\n",
       "35                   1                   1                   1   \n",
       "259                  1                   1                   1   \n",
       "\n",
       "    May_Freq_ChildcareItems May_Freq_Other  \n",
       "35                        1              1  \n",
       "259                       1              1  \n",
       "\n",
       "[2 rows x 690 columns]"
      ]
     },
     "execution_count": 13,
     "metadata": {},
     "output_type": "execute_result"
    }
   ],
   "source": [
    "MayNeverInStore.head()"
   ]
  },
  {
   "cell_type": "code",
   "execution_count": 85,
   "metadata": {},
   "outputs": [],
   "source": [
    "PastNeverOnline = sacog[(sacog['PastYear-ECommerce-Frequency-PreparedFood'].isin([\"Never\", \"Almost never\"])) & \n",
    "          (sacog['PastYear-ECommerce-Frequency-Groceries'].isin([\"Never\", \"Almost never\"])) & \n",
    "          (sacog['PastYear-ECommerce-Frequency-OtherFood'].isin([\"Never\", \"Almost never\"])) &\n",
    "          (sacog['PastYear-ECommerce-Frequency-PaperCleaning'].isin([\"Never\", \"Almost never\"])) &\n",
    "          (sacog['PastYear-ECommerce-Frequency-Clothing'].isin([\"Never\", \"Almost never\"])) &\n",
    "          (sacog['PastYear-ECommerce-Frequency-HomeOffice'].isin([\"Never\", \"Almost never\"])) &\n",
    "          (sacog['PastYear-ECommerce-Frequency-Medication'].isin([\"Never\", \"Almost never\"])) &\n",
    "          (sacog['PastYear-ECommerce-Frequency-ChildcareItems'].isin([\"Never\", \"Almost never\"])) &\n",
    "          (sacog['PastYear-ECommerce-Frequency-Other'].isin([\"Never\", \"Almost never\"]))]"
   ]
  },
  {
   "cell_type": "code",
   "execution_count": 86,
   "metadata": {},
   "outputs": [
    {
     "data": {
      "text/html": [
       "<div>\n",
       "<style scoped>\n",
       "    .dataframe tbody tr th:only-of-type {\n",
       "        vertical-align: middle;\n",
       "    }\n",
       "\n",
       "    .dataframe tbody tr th {\n",
       "        vertical-align: top;\n",
       "    }\n",
       "\n",
       "    .dataframe thead th {\n",
       "        text-align: right;\n",
       "    }\n",
       "</style>\n",
       "<table border=\"1\" class=\"dataframe\">\n",
       "  <thead>\n",
       "    <tr style=\"text-align: right;\">\n",
       "      <th></th>\n",
       "      <th>May_Freq_PreparedFood</th>\n",
       "      <th>May_Freq_Groceries</th>\n",
       "      <th>May_Freq_OtherFood</th>\n",
       "      <th>May_Freq_PaperCleaning</th>\n",
       "      <th>May_Freq_Clothing</th>\n",
       "      <th>May_Freq_HomeOffice</th>\n",
       "      <th>May_Freq_Medication</th>\n",
       "      <th>May_Freq_ChildcareItems</th>\n",
       "      <th>May_Freq_Other</th>\n",
       "    </tr>\n",
       "  </thead>\n",
       "  <tbody>\n",
       "    <tr>\n",
       "      <th>47</th>\n",
       "      <td>6</td>\n",
       "      <td>5</td>\n",
       "      <td>0</td>\n",
       "      <td>0</td>\n",
       "      <td>0</td>\n",
       "      <td>0</td>\n",
       "      <td>0</td>\n",
       "      <td>0</td>\n",
       "      <td>4</td>\n",
       "    </tr>\n",
       "    <tr>\n",
       "      <th>71</th>\n",
       "      <td>0</td>\n",
       "      <td>3</td>\n",
       "      <td>0</td>\n",
       "      <td>0</td>\n",
       "      <td>0</td>\n",
       "      <td>0</td>\n",
       "      <td>3</td>\n",
       "      <td>0</td>\n",
       "      <td>0</td>\n",
       "    </tr>\n",
       "    <tr>\n",
       "      <th>78</th>\n",
       "      <td>0</td>\n",
       "      <td>5</td>\n",
       "      <td>4</td>\n",
       "      <td>0</td>\n",
       "      <td>0</td>\n",
       "      <td>0</td>\n",
       "      <td>0</td>\n",
       "      <td>0</td>\n",
       "      <td>0</td>\n",
       "    </tr>\n",
       "    <tr>\n",
       "      <th>187</th>\n",
       "      <td>0</td>\n",
       "      <td>5</td>\n",
       "      <td>4</td>\n",
       "      <td>4</td>\n",
       "      <td>2</td>\n",
       "      <td>1</td>\n",
       "      <td>1</td>\n",
       "      <td>1</td>\n",
       "      <td>1</td>\n",
       "    </tr>\n",
       "    <tr>\n",
       "      <th>210</th>\n",
       "      <td>5</td>\n",
       "      <td>6</td>\n",
       "      <td>1</td>\n",
       "      <td>4</td>\n",
       "      <td>1</td>\n",
       "      <td>0</td>\n",
       "      <td>1</td>\n",
       "      <td>1</td>\n",
       "      <td>0</td>\n",
       "    </tr>\n",
       "    <tr>\n",
       "      <th>257</th>\n",
       "      <td>4</td>\n",
       "      <td>5</td>\n",
       "      <td>0</td>\n",
       "      <td>0</td>\n",
       "      <td>0</td>\n",
       "      <td>0</td>\n",
       "      <td>0</td>\n",
       "      <td>0</td>\n",
       "      <td>0</td>\n",
       "    </tr>\n",
       "    <tr>\n",
       "      <th>263</th>\n",
       "      <td>4</td>\n",
       "      <td>5</td>\n",
       "      <td>4</td>\n",
       "      <td>4</td>\n",
       "      <td>4</td>\n",
       "      <td>4</td>\n",
       "      <td>2</td>\n",
       "      <td>1</td>\n",
       "      <td>4</td>\n",
       "    </tr>\n",
       "    <tr>\n",
       "      <th>280</th>\n",
       "      <td>2</td>\n",
       "      <td>4</td>\n",
       "      <td>1</td>\n",
       "      <td>2</td>\n",
       "      <td>2</td>\n",
       "      <td>1</td>\n",
       "      <td>2</td>\n",
       "      <td>2</td>\n",
       "      <td>0</td>\n",
       "    </tr>\n",
       "    <tr>\n",
       "      <th>281</th>\n",
       "      <td>5</td>\n",
       "      <td>5</td>\n",
       "      <td>4</td>\n",
       "      <td>4</td>\n",
       "      <td>1</td>\n",
       "      <td>1</td>\n",
       "      <td>2</td>\n",
       "      <td>1</td>\n",
       "      <td>0</td>\n",
       "    </tr>\n",
       "  </tbody>\n",
       "</table>\n",
       "</div>"
      ],
      "text/plain": [
       "     May_Freq_PreparedFood  May_Freq_Groceries  May_Freq_OtherFood  \\\n",
       "47                       6                   5                   0   \n",
       "71                       0                   3                   0   \n",
       "78                       0                   5                   4   \n",
       "187                      0                   5                   4   \n",
       "210                      5                   6                   1   \n",
       "257                      4                   5                   0   \n",
       "263                      4                   5                   4   \n",
       "280                      2                   4                   1   \n",
       "281                      5                   5                   4   \n",
       "\n",
       "     May_Freq_PaperCleaning  May_Freq_Clothing  May_Freq_HomeOffice  \\\n",
       "47                        0                  0                    0   \n",
       "71                        0                  0                    0   \n",
       "78                        0                  0                    0   \n",
       "187                       4                  2                    1   \n",
       "210                       4                  1                    0   \n",
       "257                       0                  0                    0   \n",
       "263                       4                  4                    4   \n",
       "280                       2                  2                    1   \n",
       "281                       4                  1                    1   \n",
       "\n",
       "     May_Freq_Medication  May_Freq_ChildcareItems  May_Freq_Other  \n",
       "47                     0                        0               4  \n",
       "71                     3                        0               0  \n",
       "78                     0                        0               0  \n",
       "187                    1                        1               1  \n",
       "210                    1                        1               0  \n",
       "257                    0                        0               0  \n",
       "263                    2                        1               4  \n",
       "280                    2                        2               0  \n",
       "281                    2                        1               0  "
      ]
     },
     "execution_count": 86,
     "metadata": {},
     "output_type": "execute_result"
    }
   ],
   "source": [
    "PastNeverOnline[['May_Freq_PreparedFood', 'May_Freq_Groceries', 'May_Freq_OtherFood',\n",
    "               'May_Freq_PaperCleaning', 'May_Freq_Clothing', 'May_Freq_HomeOffice', \n",
    "               'May_Freq_Medication', 'May_Freq_ChildcareItems', 'May_Freq_Other']]"
   ]
  },
  {
   "cell_type": "code",
   "execution_count": 20,
   "metadata": {},
   "outputs": [
    {
     "data": {
      "text/html": [
       "<div>\n",
       "<style scoped>\n",
       "    .dataframe tbody tr th:only-of-type {\n",
       "        vertical-align: middle;\n",
       "    }\n",
       "\n",
       "    .dataframe tbody tr th {\n",
       "        vertical-align: top;\n",
       "    }\n",
       "\n",
       "    .dataframe thead th {\n",
       "        text-align: right;\n",
       "    }\n",
       "</style>\n",
       "<table border=\"1\" class=\"dataframe\">\n",
       "  <thead>\n",
       "    <tr style=\"text-align: right;\">\n",
       "      <th></th>\n",
       "      <th>May_Freq_EPreparedFood</th>\n",
       "      <th>May_Freq_EGrocery</th>\n",
       "      <th>May_Freq_EOtherFood</th>\n",
       "      <th>May_Freq_EPaperCleaning</th>\n",
       "      <th>May_Freq_EClothing</th>\n",
       "      <th>May_Freq_EHomeOffice</th>\n",
       "      <th>May_Freq_EMedication</th>\n",
       "      <th>May_Freq_EChildcare</th>\n",
       "      <th>May_Freq_Eother</th>\n",
       "    </tr>\n",
       "  </thead>\n",
       "  <tbody>\n",
       "    <tr>\n",
       "      <th>47</th>\n",
       "      <td>5</td>\n",
       "      <td>0</td>\n",
       "      <td>0</td>\n",
       "      <td>0</td>\n",
       "      <td>0</td>\n",
       "      <td>0</td>\n",
       "      <td>0</td>\n",
       "      <td>0</td>\n",
       "      <td>5</td>\n",
       "    </tr>\n",
       "    <tr>\n",
       "      <th>71</th>\n",
       "      <td>0</td>\n",
       "      <td>0</td>\n",
       "      <td>0</td>\n",
       "      <td>0</td>\n",
       "      <td>0</td>\n",
       "      <td>0</td>\n",
       "      <td>0</td>\n",
       "      <td>0</td>\n",
       "      <td>2</td>\n",
       "    </tr>\n",
       "    <tr>\n",
       "      <th>78</th>\n",
       "      <td>0</td>\n",
       "      <td>0</td>\n",
       "      <td>0</td>\n",
       "      <td>5</td>\n",
       "      <td>5</td>\n",
       "      <td>0</td>\n",
       "      <td>0</td>\n",
       "      <td>0</td>\n",
       "      <td>0</td>\n",
       "    </tr>\n",
       "    <tr>\n",
       "      <th>187</th>\n",
       "      <td>0</td>\n",
       "      <td>1</td>\n",
       "      <td>1</td>\n",
       "      <td>1</td>\n",
       "      <td>1</td>\n",
       "      <td>1</td>\n",
       "      <td>1</td>\n",
       "      <td>1</td>\n",
       "      <td>1</td>\n",
       "    </tr>\n",
       "    <tr>\n",
       "      <th>210</th>\n",
       "      <td>0</td>\n",
       "      <td>0</td>\n",
       "      <td>0</td>\n",
       "      <td>0</td>\n",
       "      <td>0</td>\n",
       "      <td>4</td>\n",
       "      <td>0</td>\n",
       "      <td>0</td>\n",
       "      <td>0</td>\n",
       "    </tr>\n",
       "    <tr>\n",
       "      <th>257</th>\n",
       "      <td>0</td>\n",
       "      <td>0</td>\n",
       "      <td>0</td>\n",
       "      <td>0</td>\n",
       "      <td>0</td>\n",
       "      <td>0</td>\n",
       "      <td>4</td>\n",
       "      <td>0</td>\n",
       "      <td>0</td>\n",
       "    </tr>\n",
       "    <tr>\n",
       "      <th>263</th>\n",
       "      <td>0</td>\n",
       "      <td>0</td>\n",
       "      <td>0</td>\n",
       "      <td>0</td>\n",
       "      <td>0</td>\n",
       "      <td>5</td>\n",
       "      <td>1</td>\n",
       "      <td>1</td>\n",
       "      <td>0</td>\n",
       "    </tr>\n",
       "    <tr>\n",
       "      <th>280</th>\n",
       "      <td>4</td>\n",
       "      <td>1</td>\n",
       "      <td>1</td>\n",
       "      <td>1</td>\n",
       "      <td>1</td>\n",
       "      <td>1</td>\n",
       "      <td>1</td>\n",
       "      <td>1</td>\n",
       "      <td>1</td>\n",
       "    </tr>\n",
       "    <tr>\n",
       "      <th>281</th>\n",
       "      <td>1</td>\n",
       "      <td>1</td>\n",
       "      <td>0</td>\n",
       "      <td>1</td>\n",
       "      <td>1</td>\n",
       "      <td>1</td>\n",
       "      <td>1</td>\n",
       "      <td>1</td>\n",
       "      <td>0</td>\n",
       "    </tr>\n",
       "  </tbody>\n",
       "</table>\n",
       "</div>"
      ],
      "text/plain": [
       "     May_Freq_EPreparedFood  May_Freq_EGrocery  May_Freq_EOtherFood  \\\n",
       "47                        5                  0                    0   \n",
       "71                        0                  0                    0   \n",
       "78                        0                  0                    0   \n",
       "187                       0                  1                    1   \n",
       "210                       0                  0                    0   \n",
       "257                       0                  0                    0   \n",
       "263                       0                  0                    0   \n",
       "280                       4                  1                    1   \n",
       "281                       1                  1                    0   \n",
       "\n",
       "     May_Freq_EPaperCleaning  May_Freq_EClothing  May_Freq_EHomeOffice  \\\n",
       "47                         0                   0                     0   \n",
       "71                         0                   0                     0   \n",
       "78                         5                   5                     0   \n",
       "187                        1                   1                     1   \n",
       "210                        0                   0                     4   \n",
       "257                        0                   0                     0   \n",
       "263                        0                   0                     5   \n",
       "280                        1                   1                     1   \n",
       "281                        1                   1                     1   \n",
       "\n",
       "     May_Freq_EMedication  May_Freq_EChildcare  May_Freq_Eother  \n",
       "47                      0                    0                5  \n",
       "71                      0                    0                2  \n",
       "78                      0                    0                0  \n",
       "187                     1                    1                1  \n",
       "210                     0                    0                0  \n",
       "257                     4                    0                0  \n",
       "263                     1                    1                0  \n",
       "280                     1                    1                1  \n",
       "281                     1                    1                0  "
      ]
     },
     "execution_count": 20,
     "metadata": {},
     "output_type": "execute_result"
    }
   ],
   "source": [
    "PastNeverOnline[['May_Freq_EPreparedFood', 'May_Freq_EGrocery', 'May_Freq_EOtherFood',\n",
    "               'May_Freq_EPaperCleaning', 'May_Freq_EClothing', 'May_Freq_EHomeOffice', \n",
    "               'May_Freq_EMedication', 'May_Freq_EChildcare', 'May_Freq_Eother']]"
   ]
  },
  {
   "cell_type": "code",
   "execution_count": 20,
   "metadata": {},
   "outputs": [
    {
     "data": {
      "text/html": [
       "<div>\n",
       "<style scoped>\n",
       "    .dataframe tbody tr th:only-of-type {\n",
       "        vertical-align: middle;\n",
       "    }\n",
       "\n",
       "    .dataframe tbody tr th {\n",
       "        vertical-align: top;\n",
       "    }\n",
       "\n",
       "    .dataframe thead th {\n",
       "        text-align: right;\n",
       "    }\n",
       "</style>\n",
       "<table border=\"1\" class=\"dataframe\">\n",
       "  <thead>\n",
       "    <tr style=\"text-align: right;\">\n",
       "      <th></th>\n",
       "      <th>May-ECommerce-Orders-PreparedFood</th>\n",
       "      <th>May-ECommerce-Frequency-PreparedFood</th>\n",
       "      <th>May_Freq_EPreparedFood</th>\n",
       "    </tr>\n",
       "  </thead>\n",
       "  <tbody>\n",
       "    <tr>\n",
       "      <th>5</th>\n",
       "      <td>-9998</td>\n",
       "      <td>No Response</td>\n",
       "      <td>0</td>\n",
       "    </tr>\n",
       "    <tr>\n",
       "      <th>12</th>\n",
       "      <td>-9998</td>\n",
       "      <td>No Response</td>\n",
       "      <td>0</td>\n",
       "    </tr>\n",
       "    <tr>\n",
       "      <th>13</th>\n",
       "      <td>-9998</td>\n",
       "      <td>No Response</td>\n",
       "      <td>0</td>\n",
       "    </tr>\n",
       "    <tr>\n",
       "      <th>14</th>\n",
       "      <td>-9998</td>\n",
       "      <td>No Response</td>\n",
       "      <td>0</td>\n",
       "    </tr>\n",
       "    <tr>\n",
       "      <th>15</th>\n",
       "      <td>-9998</td>\n",
       "      <td>No Response</td>\n",
       "      <td>0</td>\n",
       "    </tr>\n",
       "  </tbody>\n",
       "</table>\n",
       "</div>"
      ],
      "text/plain": [
       "    May-ECommerce-Orders-PreparedFood May-ECommerce-Frequency-PreparedFood  \\\n",
       "5                               -9998                          No Response   \n",
       "12                              -9998                          No Response   \n",
       "13                              -9998                          No Response   \n",
       "14                              -9998                          No Response   \n",
       "15                              -9998                          No Response   \n",
       "\n",
       "    May_Freq_EPreparedFood  \n",
       "5                        0  \n",
       "12                       0  \n",
       "13                       0  \n",
       "14                       0  \n",
       "15                       0  "
      ]
     },
     "execution_count": 20,
     "metadata": {},
     "output_type": "execute_result"
    }
   ],
   "source": [
    "sacog[(sacog['May-ECommerce-Orders-PreparedFood'] == -9998) & (sacog['May-ECommerce-Frequency-PreparedFood'].isin(['No Response']))][['May-ECommerce-Orders-PreparedFood', 'May-ECommerce-Frequency-PreparedFood','May_Freq_EPreparedFood']].head()"
   ]
  },
  {
   "cell_type": "code",
   "execution_count": 21,
   "metadata": {},
   "outputs": [
    {
     "data": {
      "text/html": [
       "<div>\n",
       "<style scoped>\n",
       "    .dataframe tbody tr th:only-of-type {\n",
       "        vertical-align: middle;\n",
       "    }\n",
       "\n",
       "    .dataframe tbody tr th {\n",
       "        vertical-align: top;\n",
       "    }\n",
       "\n",
       "    .dataframe thead th {\n",
       "        text-align: right;\n",
       "    }\n",
       "</style>\n",
       "<table border=\"1\" class=\"dataframe\">\n",
       "  <thead>\n",
       "    <tr style=\"text-align: right;\">\n",
       "      <th></th>\n",
       "      <th>May-InStore-Trips-PreparedFood</th>\n",
       "      <th>May-InStore-Frequency-PreparedFood</th>\n",
       "      <th>May_Freq_PreparedFood</th>\n",
       "    </tr>\n",
       "  </thead>\n",
       "  <tbody>\n",
       "    <tr>\n",
       "      <th>9</th>\n",
       "      <td>-9998</td>\n",
       "      <td>No Response</td>\n",
       "      <td>0</td>\n",
       "    </tr>\n",
       "    <tr>\n",
       "      <th>14</th>\n",
       "      <td>-9998</td>\n",
       "      <td>No Response</td>\n",
       "      <td>0</td>\n",
       "    </tr>\n",
       "    <tr>\n",
       "      <th>42</th>\n",
       "      <td>-9998</td>\n",
       "      <td>No Response</td>\n",
       "      <td>0</td>\n",
       "    </tr>\n",
       "    <tr>\n",
       "      <th>56</th>\n",
       "      <td>-9998</td>\n",
       "      <td>No Response</td>\n",
       "      <td>0</td>\n",
       "    </tr>\n",
       "    <tr>\n",
       "      <th>65</th>\n",
       "      <td>-9998</td>\n",
       "      <td>No Response</td>\n",
       "      <td>0</td>\n",
       "    </tr>\n",
       "  </tbody>\n",
       "</table>\n",
       "</div>"
      ],
      "text/plain": [
       "    May-InStore-Trips-PreparedFood May-InStore-Frequency-PreparedFood  \\\n",
       "9                            -9998                        No Response   \n",
       "14                           -9998                        No Response   \n",
       "42                           -9998                        No Response   \n",
       "56                           -9998                        No Response   \n",
       "65                           -9998                        No Response   \n",
       "\n",
       "    May_Freq_PreparedFood  \n",
       "9                       0  \n",
       "14                      0  \n",
       "42                      0  \n",
       "56                      0  \n",
       "65                      0  "
      ]
     },
     "execution_count": 21,
     "metadata": {},
     "output_type": "execute_result"
    }
   ],
   "source": [
    "sacog[(sacog['May-InStore-Trips-PreparedFood'] == -9998) & (sacog['May-InStore-Frequency-PreparedFood'].isin(['No Response']))][['May-InStore-Trips-PreparedFood', 'May-InStore-Frequency-PreparedFood','May_Freq_PreparedFood']].head()"
   ]
  },
  {
   "cell_type": "markdown",
   "metadata": {},
   "source": [
    "### See if there's a pattern for instore & online shopping \n",
    "### 1) Prepared Food"
   ]
  },
  {
   "cell_type": "code",
   "execution_count": 52,
   "metadata": {},
   "outputs": [],
   "source": [
    "### Need to screening data first. \n",
    "prefood = sacog[ ~((sacog['May-InStore-Trips-PreparedFood'] == -9998) & (sacog['May-InStore-Frequency-PreparedFood'].isin(['No Response'])))\n",
    "     & ~((sacog['May-ECommerce-Orders-PreparedFood'] == -9998) & (sacog['May-ECommerce-Frequency-PreparedFood'].isin(['No Response'])))]"
   ]
  },
  {
   "cell_type": "code",
   "execution_count": 53,
   "metadata": {},
   "outputs": [],
   "source": [
    "prefood[['May_Freq_PreparedFood', 'May_Freq_EPreparedFood']]\n",
    "less = prefood[prefood['May_Freq_PreparedFood'] > prefood['May_Freq_EPreparedFood']]\n",
    "same = prefood[prefood['May_Freq_PreparedFood'] == prefood['May_Freq_EPreparedFood']]\n",
    "more = prefood[prefood['May_Freq_PreparedFood'] < prefood['May_Freq_EPreparedFood']]"
   ]
  },
  {
   "cell_type": "code",
   "execution_count": 54,
   "metadata": {},
   "outputs": [
    {
     "name": "stdout",
     "output_type": "stream",
     "text": [
      "Category        More InStore  Ratio      Same  Ratio      More Online  Ratio\n",
      "------------  --------------  -------  ------  -------  -------------  -------\n",
      "PreparedFood              90  35.3%       101  39.6%               64  25.1%\n"
     ]
    }
   ],
   "source": [
    "print(tabulate([['PreparedFood', \n",
    "                 len(less),\n",
    "                 \"{:.1%}\".format(len(less)/len(prefood)),\n",
    "                 len(same), \n",
    "                 \"{:.1%}\".format(len(same)/len(prefood)),\n",
    "                 len(more), \n",
    "                 \"{:.1%}\".format(len(more)/len(prefood))]], headers=['Category', 'More InStore', 'Ratio', 'Same', 'Ratio', 'More Online', 'Ratio']))\n"
   ]
  },
  {
   "cell_type": "markdown",
   "metadata": {},
   "source": [
    "### 2) Grocery"
   ]
  },
  {
   "cell_type": "code",
   "execution_count": 64,
   "metadata": {},
   "outputs": [],
   "source": [
    "### Need to screening data first. \n",
    "grocery = sacog[ ~((sacog['May-InStore-Trips-Groceries'] == -9998) & (sacog['May-InStore-Frequency-Groceries'].isin(['No Response'])))\n",
    "     & ~((sacog['May-ECommerce-Orders-Groceries'] == -9998) & (sacog['May-ECommerce-Frequency-Groceries'].isin(['No Response'])))]"
   ]
  },
  {
   "cell_type": "code",
   "execution_count": 65,
   "metadata": {},
   "outputs": [],
   "source": [
    "grocery[['May_Freq_Grocery', 'May_Freq_EGrocery']]\n",
    "lessG = grocery[grocery['May_Freq_Grocery'] > grocery['May_Freq_EGrocery']]\n",
    "sameG = grocery[grocery['May_Freq_Grocery'] == grocery['May_Freq_EGrocery']]\n",
    "moreG = grocery[grocery['May_Freq_Grocery'] < grocery['May_Freq_EGrocery']]"
   ]
  },
  {
   "cell_type": "code",
   "execution_count": 66,
   "metadata": {},
   "outputs": [
    {
     "name": "stdout",
     "output_type": "stream",
     "text": [
      "Category      More InStore  Ratio      Same  Ratio      More Online  Ratio\n",
      "----------  --------------  -------  ------  -------  -------------  -------\n",
      "Grocery                191  75.2%        38  15.0%               25  9.8%\n"
     ]
    }
   ],
   "source": [
    "print(tabulate([['Grocery', \n",
    "                 len(lessG),\n",
    "                 \"{:.1%}\".format(len(lessG)/len(grocery)),\n",
    "                 len(sameG), \n",
    "                 \"{:.1%}\".format(len(sameG)/len(grocery)),\n",
    "                 len(moreG), \n",
    "                 \"{:.1%}\".format(len(moreG)/len(grocery))]], headers=['Category', 'More InStore', 'Ratio', 'Same', 'Ratio', 'More Online', 'Ratio']))\n"
   ]
  },
  {
   "cell_type": "code",
   "execution_count": 71,
   "metadata": {},
   "outputs": [
    {
     "data": {
      "text/plain": [
       "['Unnamed: 0',\n",
       " 'Unnamed: 0.1',\n",
       " 'Duration (in seconds)',\n",
       " 'Response ID',\n",
       " 'May-WorkingHours',\n",
       " 'May-TelecommutingDays',\n",
       " 'May-Trips-Commuting',\n",
       " 'May-Trips-Medical',\n",
       " 'May-Trips-Gym',\n",
       " 'May-Trips-ToSchool',\n",
       " 'May-Trips-FromSchool',\n",
       " 'May-Trips-Bar',\n",
       " 'May-Trips-MovieTheater',\n",
       " 'May-Trips-Friends',\n",
       " 'May-Trips-Family',\n",
       " 'May-Trips-Other',\n",
       " 'May-Trips-OtherType',\n",
       " 'CommutingFollowup',\n",
       " 'May-TripDistance-Commuting',\n",
       " 'May-TripDistance-Medical',\n",
       " 'May-TripDistance-Gym',\n",
       " 'May-TripDistance-ToSchool',\n",
       " 'May-TripDistance-FromSchool',\n",
       " 'May-TripDistance-Bar',\n",
       " 'May-TripDistance-MovieTheater',\n",
       " 'May-TripDistance-Friends',\n",
       " 'May-TripDistance-Family',\n",
       " 'May-TripDistance-Other',\n",
       " 'May-TripDistance-OtherType',\n",
       " 'May-TripMode-Commuting',\n",
       " 'May-TripMode-Medical',\n",
       " 'May-TripMode-Gym',\n",
       " 'May-TripMode-ToSchool',\n",
       " 'May-TripMode-FromSchool',\n",
       " 'May-TripMode-Bar',\n",
       " 'May-TripMode-MovieTheater',\n",
       " 'May-TripMode-Friends',\n",
       " 'May-TripMode-Family',\n",
       " 'May-TripMode-Other',\n",
       " 'May-TripMode-OtherType',\n",
       " 'LivingInSamePlace',\n",
       " 'JanFeb-WorkingHours',\n",
       " 'JanFeb-TelecommutingDays',\n",
       " 'DifferentTravelPatterns',\n",
       " 'DifferentPatternsExplanation',\n",
       " 'JanFeb-TripNumber-Commuting',\n",
       " 'JanFeb-TripNumber-Medical',\n",
       " 'JanFeb-TripNumber-Gym',\n",
       " 'JanFeb-TripNumber-ToSchool',\n",
       " 'JanFeb-TripNumber-FromSchool',\n",
       " 'JanFeb-TripNumber-Bar',\n",
       " 'JanFeb-TripNumber-MovieTheater',\n",
       " 'JanFeb-TripNumber-Friends',\n",
       " 'JanFeb-TripNumber-Family',\n",
       " 'JanFeb-TripNumber-Other',\n",
       " 'JanFeb-TripNumber-OtherType',\n",
       " 'Change-NonShopping-TripDistance-Commuting',\n",
       " 'Change-NonShopping-TripDistance-Medical',\n",
       " 'Change-NonShopping-TripDistance-Gym',\n",
       " 'Change-NonShopping-TripDistance-ToSchool',\n",
       " 'Change-NonShopping-TripDistance-FromSchool',\n",
       " 'Change-NonShopping-TripDistance-Bar',\n",
       " 'Change-NonShopping-TripDistance-MovieTheater',\n",
       " 'Change-NonShopping-TripDistance-Friends',\n",
       " 'Change-NonShopping-TripDistance-Family',\n",
       " 'Change-NonShopping-TripDistance-Other',\n",
       " 'Change-NonShopping-TripDistance-OtherType',\n",
       " 'Change-NonShopping-TripMode-Commuting',\n",
       " 'Change-NonShopping-TripMode-Medical',\n",
       " 'Change-NonShopping-TripMode-Gym',\n",
       " 'Change-NonShopping-TripMode-ToSchool',\n",
       " 'Change-NonShopping-TripMode-FromSchool',\n",
       " 'Change-NonShopping-TripMode-Bar',\n",
       " 'Change-NonShopping-TripMode-MovieTheater',\n",
       " 'Change-NonShopping-TripMode-Friends',\n",
       " 'Change-NonShopping-TripMode-Family',\n",
       " 'Change-NonShopping-TripMode-Other',\n",
       " 'Change-NonShopping-TripMode-OtherType',\n",
       " 'JanFeb-NonShopping-TripMode-Commuting',\n",
       " 'JanFeb-NonShopping-TripMode-Medical',\n",
       " 'JanFeb-NonShopping-TripMode-Gym',\n",
       " 'JanFeb-NonShopping-TripMode-ToSchool',\n",
       " 'JanFeb-NonShopping-TripMode-FromSchool',\n",
       " 'JanFeb-NonShopping-TripMode-Bar',\n",
       " 'JanFeb-NonShopping-TripMode-MovieTheater',\n",
       " 'JanFeb-NonShopping-TripMode-Friends',\n",
       " 'JanFeb-NonShopping-TripMode-Family',\n",
       " 'JanFeb-NonShopping-TripMode-Other',\n",
       " 'JanFeb-NonShopping-TripMode-OtherType',\n",
       " 'JanFeb-TripDistance-Commuting',\n",
       " 'JanFeb-TripDistance-Medical',\n",
       " 'JanFeb-TripDistance-Gym',\n",
       " 'JanFeb-TripDistance-ToSchool',\n",
       " 'JanFeb-TripDistance-FromSchool',\n",
       " 'JanFeb-TripDistance-Bar',\n",
       " 'JanFeb-TripDistance-MovieTheater',\n",
       " 'JanFeb-TripDistance-Friends',\n",
       " 'JanFeb-TripDistance-Family',\n",
       " 'JanFeb-TripDistance-Other',\n",
       " 'JanFeb-TripDistance-OtherType',\n",
       " 'KnowAboutSIP',\n",
       " 'PreparedToSIP',\n",
       " 'NumberInHousehold',\n",
       " 'LiveWithSpouse',\n",
       " 'LiveWithChildren',\n",
       " 'LiveWithSiblings',\n",
       " 'LiveWithParents',\n",
       " 'LiveWithGrandparents',\n",
       " 'LiveWithOtherRelatives',\n",
       " 'LiveWithRoommates',\n",
       " 'May-ShareShopping',\n",
       " 'May-Shared-PreparedFood',\n",
       " 'May-Shared-Groceries',\n",
       " 'May-Shared-OtherFood',\n",
       " 'May-Shared-PaperCleaning',\n",
       " 'May-Shared-Clothing',\n",
       " 'May-Shared-HomeOffice',\n",
       " 'May-Shared-Medication',\n",
       " 'May-Shared-ChildcareItems',\n",
       " 'May-Shared-Other',\n",
       " 'May-Shared-OtherType',\n",
       " 'ShoppingOnBehalf',\n",
       " 'May-ShoppingForImmediateFamily',\n",
       " 'May-ShoppingForExtendedFamily',\n",
       " 'May-ShoppingForNonFamily',\n",
       " 'May-ShoppingForColleagues',\n",
       " 'May-ShoppingForOther',\n",
       " 'May-ShoppingForOtherType',\n",
       " 'ImmediateFamily-Household',\n",
       " 'ImmediateFamily-Neighborhood',\n",
       " 'ImmediateFamily-City',\n",
       " 'ImmediateFamily-OutsideRegion',\n",
       " 'ExtendedFamily-Household',\n",
       " 'ExtendedFamily-Neighborhood',\n",
       " 'ExtendedFamily-City',\n",
       " 'ExtendedFamily-OutsideRegion',\n",
       " 'NonFamily-Household',\n",
       " 'NonFamily-Neighborhood',\n",
       " 'NonFamily-City',\n",
       " 'NonFamily-OutsideRegion',\n",
       " 'Colleagues-Household',\n",
       " 'Colleagues-Neighborhood',\n",
       " 'Colleagues-City',\n",
       " 'Colleagues-OutsideRegion',\n",
       " 'Other-Household',\n",
       " 'Other-Neighborhood',\n",
       " 'Other-City',\n",
       " 'Other-OutsideRegion',\n",
       " 'OtherType',\n",
       " 'May-InStore-Trips-PreparedFood',\n",
       " 'May-InStore-Trips-Groceries',\n",
       " 'May-InStore-Trips-OtherFood',\n",
       " 'May-InStore-Trips-PaperCleaning',\n",
       " 'May-InStore-Trips-Clothing',\n",
       " 'May-InStore-Trips-HomeOffice',\n",
       " 'May-InStore-Trips-Medication',\n",
       " 'May-InStore-Trips-ChildcareItems',\n",
       " 'May-InStore-Trips-Other',\n",
       " 'May-InStore-Trips-OtherType',\n",
       " 'May-ECommerce-Orders-PreparedFood',\n",
       " 'May-ECommerce-Orders-Groceries',\n",
       " 'May-ECommerce-Orders-OtherFood',\n",
       " 'May-ECommerce-Orders-PaperCleaning',\n",
       " 'May-ECommerce-Orders-Clothing',\n",
       " 'May-ECommerce-Orders-HomeOffice',\n",
       " 'May-ECommerce-Orders-Medication',\n",
       " 'May-ECommerce-Orders-ChildcareItems',\n",
       " 'May-ECommerce-Orders-Other',\n",
       " 'May-ECommerce-Orders-OtherType',\n",
       " 'May-InStore-Frequency-PreparedFood',\n",
       " 'May-InStore-Frequency-Groceries',\n",
       " 'May-InStore-Frequency-OtherFood',\n",
       " 'May-InStore-Frequency-PaperCleaning',\n",
       " 'May-InStore-Frequency-Clothing',\n",
       " 'May-InStore-Frequency-HomeOffice',\n",
       " 'May-InStore-Frequency-Medication',\n",
       " 'May-InStore-Frequency-ChildcareItems',\n",
       " 'May-InStore-Frequency-Other',\n",
       " 'May-InStore-Frequency-OtherType',\n",
       " 'May-InStore-Items-PreparedFood',\n",
       " 'May-InStore-Items-Groceries',\n",
       " 'May-InStore-Items-OtherFood',\n",
       " 'May-InStore-Items-PaperCleaning',\n",
       " 'May-InStore-Items-Clothing',\n",
       " 'May-InStore-Items-HomeOffice',\n",
       " 'May-InStore-Items-Medication',\n",
       " 'May-InStore-Items-ChildcareItems',\n",
       " 'May-InStore-Items-Other',\n",
       " 'May-InStore-Items-OtherType',\n",
       " 'May-InStore-Mode-PreparedFood',\n",
       " 'May-InStore-Mode-Groceries',\n",
       " 'May-InStore-Mode-OtherFood',\n",
       " 'May-InStore-Mode-PaperCleaning',\n",
       " 'May-InStore-Mode-Clothing',\n",
       " 'May-InStore-Mode-HomeOffice',\n",
       " 'May-InStore-Mode-Medication',\n",
       " 'May-InStore-Mode-ChildcareItems',\n",
       " 'May-InStore-Mode-Other',\n",
       " 'May-InStore-Mode-OtherType',\n",
       " 'May-InStore-Distance-PreparedFood',\n",
       " 'May-InStore-Distance-Groceries',\n",
       " 'May-InStore-Distance-OtherFood',\n",
       " 'May-InStore-Distance-PaperCleaning',\n",
       " 'May-InStore-Distance-Clothing',\n",
       " 'May-InStore-Distance-HomeOffice',\n",
       " 'May-InStore-Distance-Medication',\n",
       " 'May-InStore-Distance-ChildcareItems',\n",
       " 'May-InStore-Distance-Other',\n",
       " 'May-InStore-Distance-OtherType',\n",
       " 'May-ECommerce-Frequency-PreparedFood',\n",
       " 'May-ECommerce-Frequency-Groceries',\n",
       " 'May-ECommerce-Frequency-OtherFood',\n",
       " 'May-ECommerce-Frequency-PaperCleaning',\n",
       " 'May-ECommerce-Frequency-Clothing',\n",
       " 'May-ECommerce-Frequency-HomeOffice',\n",
       " 'May-ECommerce-Frequency-Medication',\n",
       " 'May-ECommerce-Frequency-ChildcareItems',\n",
       " 'May-ECommerce-Frequency-Other',\n",
       " 'May-ECommerce-Frequency-OtherType',\n",
       " 'PastYear-ECommerce-Frequency-PreparedFood',\n",
       " 'PastYear-ECommerce-Frequency-Groceries',\n",
       " 'PastYear-ECommerce-Frequency-OtherFood',\n",
       " 'PastYear-ECommerce-Frequency-PaperCleaning',\n",
       " 'PastYear-ECommerce-Frequency-Clothing',\n",
       " 'PastYear-ECommerce-Frequency-HomeOffice',\n",
       " 'PastYear-ECommerce-Frequency-Medication',\n",
       " 'PastYear-ECommerce-Frequency-ChildcareItems',\n",
       " 'PastYear-ECommerce-Frequency-Other',\n",
       " 'PastYear-ECommerce-Frequency-OtherType',\n",
       " 'May-ECommerce-Items-PreparedFood',\n",
       " 'May-ECommerce-Items-Groceries',\n",
       " 'May-ECommerce-Items-OtherFood',\n",
       " 'May-ECommerce-Items-PaperCleaning',\n",
       " 'May-ECommerce-Items-Clothing',\n",
       " 'May-ECommerce-Items-HomeOffice',\n",
       " 'May-ECommerce-Items-Medication',\n",
       " 'May-ECommerce-Items-ChildcareItems',\n",
       " 'May-ECommerce-Items-Other',\n",
       " 'May-ECommerce-Items-OtherType',\n",
       " 'May-CallIn-PreparedFood',\n",
       " 'May-CallIn-Groceries',\n",
       " 'May-CallIn-OtherFood',\n",
       " 'May-CallIn-PaperCleaning',\n",
       " 'May-CallIn-Clothing',\n",
       " 'May-CallIn-HomeOffice',\n",
       " 'May-CallIn-Medication',\n",
       " 'May-CallIn-ChildcareItems',\n",
       " 'May-CallIn-Other',\n",
       " 'May-CallIn-OtherType',\n",
       " 'May-MobileApp-PreparedFood',\n",
       " 'May-MobileApp-Groceries',\n",
       " 'May-MobileApp-OtherFood',\n",
       " 'May-MobileApp-PaperCleaning',\n",
       " 'May-MobileApp-Clothing',\n",
       " 'May-MobileApp-HomeOffice',\n",
       " 'May-MobileApp-Medication',\n",
       " 'May-MobileApp-ChildcareItems',\n",
       " 'May-MobileApp-Other',\n",
       " 'May-MobileApp-OtherType',\n",
       " 'May-Browser-PreparedFood',\n",
       " 'May-Browser-Groceries',\n",
       " 'May-Browser-OtherFood',\n",
       " 'May-Browser-PaperCleaning',\n",
       " 'May-Browser-Clothing',\n",
       " 'May-Browser-HomeOffice',\n",
       " 'May-Browser-Medication',\n",
       " 'May-Browser-ChildcareItems',\n",
       " 'May-Browser-Other',\n",
       " 'May-Browser-OtherType',\n",
       " 'May-Curbside-PreparedFood',\n",
       " 'May-Curbside-Groceries',\n",
       " 'May-Curbside-OtherFood',\n",
       " 'May-Curbside-PaperCleaning',\n",
       " 'May-Curbside-Clothing',\n",
       " 'May-Curbside-HomeOffice',\n",
       " 'May-Curbside-Medication',\n",
       " 'May-Curbside-ChildcareItems',\n",
       " 'May-Curbside-Other',\n",
       " 'May-Curbside-OtherType',\n",
       " 'May-InStore-PreparedFood',\n",
       " 'May-InStore-Groceries',\n",
       " 'May-InStore-OtherFood',\n",
       " 'May-InStore-PaperCleaning',\n",
       " 'May-InStore-Clothing',\n",
       " 'May-InStore-HomeOffice',\n",
       " 'May-InStore-Medication',\n",
       " 'May-InStore-ChildcareItems',\n",
       " 'May-InStore-Other',\n",
       " 'May-InStore-OtherType',\n",
       " 'May-ToHome-PreparedFood',\n",
       " 'May-ToHome-Groceries',\n",
       " 'May-ToHome-OtherFood',\n",
       " 'May-ToHome-PaperCleaning',\n",
       " 'May-ToHome-Clothing',\n",
       " 'May-ToHome-HomeOffice',\n",
       " 'May-ToHome-Medication',\n",
       " 'May-ToHome-ChildcareItems',\n",
       " 'May-ToHome-Other',\n",
       " 'May-ToHome-OtherType',\n",
       " 'May-ToNonHome-PreparedFood',\n",
       " 'May-ToNonHome-Groceries',\n",
       " 'May-ToNonHome-OtherFood',\n",
       " 'May-ToNonHome-PaperCleaning',\n",
       " 'May-ToNonHome-Clothing',\n",
       " 'May-ToNonHome-HomeOffice',\n",
       " 'May-ToNonHome-Medication',\n",
       " 'May-ToNonHome-ChildcareItems',\n",
       " 'May-ToNonHome-Other',\n",
       " 'May-ToNonHome-OtherType',\n",
       " 'May-Pickup-Mode-PreparedFood',\n",
       " 'May-Pickup-Mode-Groceries',\n",
       " 'May-Pickup-Mode-OtherFood',\n",
       " 'May-Pickup-Mode-PaperCleaning',\n",
       " 'May-Pickup-Mode-Clothing',\n",
       " 'May-Pickup-Mode-HomeOffice',\n",
       " 'May-Pickup-Mode-Medication',\n",
       " 'May-Pickup-Mode-ChildcareItems',\n",
       " 'May-Pickup-Mode-Other',\n",
       " 'May-Pickup-Mode-OtherType',\n",
       " 'May-Pickup-Distance-PreparedFood',\n",
       " 'May-Pickup-Distance-Groceries',\n",
       " 'May-Pickup-Distance-OtherFood',\n",
       " 'May-Pickup-Distance-PaperCleaning',\n",
       " 'May-Pickup-Distance-Clothing',\n",
       " 'May-Pickup-Distance-HomeOffice',\n",
       " 'May-Pickup-Distance-Medication',\n",
       " 'May-Pickup-Distance-ChildcareItems',\n",
       " 'May-Pickup-Distance-Other',\n",
       " 'May-Pickup-Distance-OtherType',\n",
       " 'May-Ease-PreparedFood',\n",
       " 'May-Ease-Groceries',\n",
       " 'May-Ease-OtherFood',\n",
       " 'May-Ease-PaperCleaning',\n",
       " 'May-Ease-Clothing',\n",
       " 'May-Ease-HomeOffice',\n",
       " 'May-Ease-Medication',\n",
       " 'May-Ease-ChildcareItems',\n",
       " 'May-Ease-Other',\n",
       " 'May-Ease-OtherType',\n",
       " 'JanFeb-ShareShopping',\n",
       " 'JanFeb-Shared-PreparedFood',\n",
       " 'JanFeb-Shared-Groceries',\n",
       " 'JanFeb-Shared-OtherFood',\n",
       " 'JanFeb-Shared-PaperCleaning',\n",
       " 'JanFeb-Shared-Clothing',\n",
       " 'JanFeb-Shared-HomeOffice',\n",
       " 'JanFeb-Shared-Medication',\n",
       " 'JanFeb-Shared-ChildcareItems',\n",
       " 'JanFeb-Shared-Other',\n",
       " 'JanFeb-Shared-OtherType',\n",
       " 'JanFeb-ShoppingDifferent',\n",
       " 'JanFeb-ShoppingExplanation',\n",
       " 'Change-Shopping-TripsToStore-PreparedFood',\n",
       " 'Change-Shopping-TripsToStore-Groceries',\n",
       " 'Change-Shopping-TripsToStore-OtherFood',\n",
       " 'Change-Shopping-TripsToStore-PaperCleaning',\n",
       " 'Change-Shopping-TripsToStore-Clothing',\n",
       " 'Change-Shopping-TripsToStore-HomeOffice',\n",
       " 'Change-Shopping-TripsToStore-Medication',\n",
       " 'Change-Shopping-TripsToStore-ChildcareItems',\n",
       " 'Change-Shopping-TripsToStore-Other',\n",
       " 'Change-Shopping-TripsToStore-',\n",
       " 'Change-Shopping-TripModeToStore-PreparedFood',\n",
       " 'Change-Shopping-TripModeToStore-Groceries',\n",
       " 'Change-Shopping-TripModeToStore-OtherFood',\n",
       " 'Change-Shopping-TripModeToStore-PaperCleaning',\n",
       " 'Change-Shopping-TripModeToStore-Clothing',\n",
       " 'Change-Shopping-TripModeToStore-HomeOffice',\n",
       " 'Change-Shopping-TripModeToStore-Medication',\n",
       " 'Change-Shopping-TripModeToStore-ChildcareItems',\n",
       " 'Change-Shopping-TripModeToStore-Other',\n",
       " 'Change-Shopping-TripModeToStore-',\n",
       " 'Change-Shopping-InStorePurchaseSize-PreparedFood',\n",
       " 'Change-Shopping-InStorePurchaseSize-Groceries',\n",
       " 'Change-Shopping-InStorePurchaseSize-OtherFood',\n",
       " 'Change-Shopping-InStorePurchaseSize-PaperCleaning',\n",
       " 'Change-Shopping-InStorePurchaseSize-Clothing',\n",
       " 'Change-Shopping-InStorePurchaseSize-HomeOffice',\n",
       " 'Change-Shopping-InStorePurchaseSize-Medication',\n",
       " 'Change-Shopping-InStorePurchaseSize-ChildcareItems',\n",
       " 'Change-Shopping-InStorePurchaseSize-Other',\n",
       " 'Change-Shopping-InStorePurchaseSize-OtherType',\n",
       " 'Change-Shopping-InStoreForSomeoneElse-PreparedFood',\n",
       " 'Change-Shopping-InStoreForSomeoneElse-Groceries',\n",
       " 'Change-Shopping-InStoreForSomeoneElse-OtherFood',\n",
       " 'Change-Shopping-InStoreForSomeoneElse-PaperCleaning',\n",
       " 'Change-Shopping-InStoreForSomeoneElse-Clothing',\n",
       " 'Change-Shopping-InStoreForSomeoneElse-HomeOffice',\n",
       " 'Change-Shopping-InStoreForSomeoneElse-Medication',\n",
       " 'Change-Shopping-InStoreForSomeoneElse-ChildcareItems',\n",
       " 'Change-Shopping-InStoreForSomeoneElse-Other',\n",
       " 'Change-Shopping-ForSomeoneElse-OtherType',\n",
       " 'Change-Shopping-TripDistanceToStore-PreparedFood',\n",
       " 'Change-Shopping-TripDistanceToStore-Groceries',\n",
       " 'Change-Shopping-TripDistanceToStore-OtherFood',\n",
       " 'Change-Shopping-TripDistanceToStore-PaperCleaning',\n",
       " 'Change-Shopping-TripDistanceToStore-Clothing',\n",
       " 'Change-Shopping-TripDistanceToStore-HomeOffice',\n",
       " 'Change-Shopping-TripDistanceToStore-Medication',\n",
       " 'Change-Shopping-TripDistanceToStore-ChildcareItems',\n",
       " 'Change-Shopping-TripDistanceToStore-Other',\n",
       " 'Change-Shopping-TripDistanceToStore-OtherType',\n",
       " 'JanFeb-Shopping-TripModeToStore-PreparedFood',\n",
       " 'JanFeb-Shopping-TripModeToStore-Groceries',\n",
       " 'JanFeb-Shopping-TripModeToStore-OtherFood',\n",
       " 'JanFeb-Shopping-TripModeToStore-PaperCleaning',\n",
       " 'JanFeb-Shopping-TripModeToStore-Clothing',\n",
       " 'JanFeb-Shopping-TripModeToStore-HomeOffice',\n",
       " 'JanFeb-Shopping-TripModeToStore-Medication',\n",
       " 'JanFeb-Shopping-TripModeToStore-ChildcareItems',\n",
       " 'JanFeb-Shopping-TripModeToStore-Other',\n",
       " 'JanFeb-Shopping-TripModeToStore-OtherType',\n",
       " 'Change-Shopping-ECommercePurchases-PreparedFood',\n",
       " 'Change-Shopping-ECommercePurchases-Groceries',\n",
       " 'Change-Shopping-ECommercePurchases-OtherFood',\n",
       " 'Change-Shopping-ECommercePurchases-PaperCleaning',\n",
       " 'Change-Shopping-ECommercePurchases-Clothing',\n",
       " 'Change-Shopping-ECommercePurchases-HomeOffice',\n",
       " 'Change-Shopping-ECommercePurchases-Medication',\n",
       " 'Change-Shopping-ECommercePurchases-ChildcareItems',\n",
       " 'Change-Shopping-ECommercePurchases-Other',\n",
       " 'Change-Shopping-ECommercePurchases-OtherType',\n",
       " 'Change-Shopping-ECommerceForSomeoneElse-PreparedFood',\n",
       " 'Change-Shopping-ECommerceForSomeoneElse-Groceries',\n",
       " 'Change-Shopping-ECommerceForSomeoneElse-OtherFood',\n",
       " 'Change-Shopping-ECommerceForSomeoneElse-PaperCleaning',\n",
       " 'Change-Shopping-ECommerceForSomeoneElse-Clothing',\n",
       " 'Change-Shopping-ECommerceForSomeoneElse-HomeOffice',\n",
       " 'Change-Shopping-ECommerceForSomeoneElse-Medication',\n",
       " 'Change-Shopping-ECommerceForSomeoneElse-ChildcareItems',\n",
       " 'Change-Shopping-ECommerceForSomeoneElse-Other',\n",
       " 'Change-Shopping-ECommerceForSomeoneElse-OtherType',\n",
       " 'Change-Shopping-DeliveriesToHome-PreparedFood',\n",
       " 'Change-Shopping-DeliveriesToHome-Groceries',\n",
       " 'Change-Shopping-DeliveriesToHome-OtherFood',\n",
       " 'Change-Shopping-DeliveriesToHome-PaperCleaning',\n",
       " 'Change-Shopping-DeliveriesToHome-Clothing',\n",
       " 'Change-Shopping-DeliveriesToHome-HomeOffice',\n",
       " 'Change-Shopping-DeliveriesToHome-Medication',\n",
       " 'Change-Shopping-DeliveriesToHome-ChildcareItems',\n",
       " 'Change-Shopping-DeliveriesToHome-Other',\n",
       " 'Change-Shopping-DeliveriesToHome-OtherType',\n",
       " 'Change-Shopping-PickupNumber-PreparedFood',\n",
       " 'Change-Shopping-PickupNumber-Groceries',\n",
       " 'Change-Shopping-PickupNumber-OtherFood',\n",
       " 'Change-Shopping-PickupNumber-PaperCleaning',\n",
       " 'Change-Shopping-PickupNumber-Clothing',\n",
       " 'Change-Shopping-PickupNumber-HomeOffice',\n",
       " 'Change-Shopping-PickupNumber-Medication',\n",
       " 'Change-Shopping-PickupNumber-ChildcareItems',\n",
       " 'Change-Shopping-PickupNumber-Other',\n",
       " 'Change-Shopping-PickupNumber-OtherType',\n",
       " 'Change-Shopping-PickupMode-PreparedFood',\n",
       " 'Change-Shopping-PickupMode-Groceries',\n",
       " 'Change-Shopping-PickupMode-OtherFood',\n",
       " 'Change-Shopping-PickupMode-PaperCleaning',\n",
       " 'Change-Shopping-PickupMode-Clothing',\n",
       " 'Change-Shopping-PickupMode-HomeOffice',\n",
       " 'Change-Shopping-PickupMode-Medication',\n",
       " 'Change-Shopping-PickupMode-ChildcareItems',\n",
       " 'Change-Shopping-PickupMode-Other',\n",
       " 'Change-Shopping-PickupMode-OtherType',\n",
       " 'Change-Shopping-Curbside-PreparedFood',\n",
       " 'Change-Shopping-Curbside-Groceries',\n",
       " 'Change-Shopping-Curbside-OtherFood',\n",
       " 'Change-Shopping-Curbside-PaperCleaning',\n",
       " 'Change-Shopping-Curbside-Clothing',\n",
       " 'Change-Shopping-Curbside-HomeOffice',\n",
       " 'Change-Shopping-Curbside-Medication',\n",
       " 'Change-Shopping-Curbside-ChildcareItems',\n",
       " 'Change-Shopping-Curbside-Other',\n",
       " 'Change-Shopping-Curbside-OtherType',\n",
       " 'Change-Shopping-DeliveriesToNonHome-PreparedFood',\n",
       " 'Change-Shopping-DeliveriesToNonHome-Groceries',\n",
       " 'Change-Shopping-DeliveriesToNonHome-OtherFood',\n",
       " 'Change-Shopping-DeliveriesToNonHome-PaperCleaning',\n",
       " 'Change-Shopping-DeliveriesToNonHome-Clothing',\n",
       " 'Change-Shopping-DeliveriesToNonHome-HomeOffice',\n",
       " 'Change-Shopping-DeliveriesToNonHome-Medication',\n",
       " 'Change-Shopping-DeliveriesToNonHome-ChildcareItems',\n",
       " 'Change-Shopping-DeliveriesToNonHome-Other',\n",
       " 'Change-Shopping-DeliveriesToNonHome-OtherType',\n",
       " 'JanFeb-Pickup-Mode-PreparedFood',\n",
       " 'JanFeb-Pickup-Mode-Groceries',\n",
       " 'JanFeb-Pickup-Mode-OtherFood',\n",
       " 'JanFeb-Pickup-Mode-PaperCleaning',\n",
       " 'JanFeb-Pickup-Mode-Clothing',\n",
       " 'JanFeb-Pickup-Mode-HomeOffice',\n",
       " 'JanFeb-Pickup-Mode-Medication',\n",
       " 'JanFeb-Pickup-Mode-ChildcareItems',\n",
       " 'JanFeb-Pickup-Mode-Other',\n",
       " 'JanFeb-Pickup-Mode-OtherType',\n",
       " 'PurchaseComments',\n",
       " 'JanFeb-ShareGreoceries',\n",
       " 'JanFeb-GroceriesFor-Myself',\n",
       " 'JanFeb-GroceriesFor-ImmediateFamily',\n",
       " 'JanFeb-GroceriesFor-ExtendedFamily',\n",
       " 'JanFeb-GroceriesFor-NonFamilyInHousehold',\n",
       " 'JanFeb-GroceriesFor-NonFamilyNotInHousehold',\n",
       " 'JanFeb-GroceriesFor-Colleagues',\n",
       " 'JanFeb-GroceriesFor-Other',\n",
       " 'JanFeb-GroceriesFor-OtherType',\n",
       " 'JanFeb-Grocery-Frequency',\n",
       " 'JanFeb-Grocery-MultipleStores',\n",
       " 'JanFeb-Grocery-OtherErrands',\n",
       " 'JanFeb-Grocery-ToFromWork',\n",
       " 'JanFeb-Grocery-DayOfWeek',\n",
       " 'Change-Grocery-Store',\n",
       " 'Change-Grocery-TripNumber',\n",
       " 'Change-Grocery-TripStores',\n",
       " 'Change-Grocery-ToFromWork',\n",
       " 'Rewards-Member-AmazonPrime',\n",
       " 'Rewards-Member-TargetCircle',\n",
       " 'Rewards-Member-Shoprunner',\n",
       " 'Rewards-Member-RestaurantDelivery',\n",
       " 'Rewards-Member-GroceryDelivery',\n",
       " 'Rewards-Member-Other',\n",
       " 'Rewards-Member-OtherType',\n",
       " 'Rewards-Length-AmazonPrime',\n",
       " 'Rewards-Length-TargetCircle',\n",
       " 'Rewards-Length-Shoprunner',\n",
       " 'Rewards-Length-RestaurantDelivery',\n",
       " 'Rewards-Length-GroceryDelivery',\n",
       " 'Rewards-Length-Other',\n",
       " 'Rewards-AnnualCost-AmazonPrime',\n",
       " 'Rewards-AnnualCost-TargetCircle',\n",
       " 'Rewards-AnnualCost-Shoprunner',\n",
       " 'Rewards-AnnualCost-RestaurantDelivery',\n",
       " 'Rewards-AnnualCost-GroceryDelivery',\n",
       " 'Rewards-AnnualCost-Other',\n",
       " 'Rewards-COVIDSignup-AmazonPrime',\n",
       " 'Rewards-COVIDSignup-TargetCircle',\n",
       " 'Rewards-COVIDSignup-Shoprunner',\n",
       " 'Rewards-COVIDSignup-RestaurantDelivery',\n",
       " 'Rewards-COVIDSignup-GroceryDelivery',\n",
       " 'Rewards-COVIDSignup-Other',\n",
       " 'Rewards-CarbonOffset-AmazonPrime',\n",
       " 'Rewards-CarbonOffset-TargetCircle',\n",
       " 'Rewards-CarbonOffset-Shoprunner',\n",
       " 'Rewards-CarbonOffset-RestaurantDelivery',\n",
       " 'Rewards-CarbonOffset-GroceryDelivery',\n",
       " 'Rewards-CarbonOffset-Other',\n",
       " 'Subscription-Member-Food',\n",
       " 'Subscription-Member-Clothing',\n",
       " 'Subscription-Member-PersonalCare',\n",
       " 'Subscription-Member-HouseholdItems',\n",
       " 'Subscription-Member-Other',\n",
       " 'Subscription-Member-OtherType',\n",
       " 'Subscription-Length-Food',\n",
       " 'Subscription-Length-Clothing',\n",
       " 'Subscription-Length-PersonalCare',\n",
       " 'Subscription-Length-HouseholdItems',\n",
       " 'Subscription-Length-Other',\n",
       " 'Subscription-AnnualCost-Food',\n",
       " 'Subscription-AnnualCost-Clothing',\n",
       " 'Subscription-AnnualCost-PersonalCare',\n",
       " 'Subscription-AnnualCost-HouseholdItems',\n",
       " 'Subscription-AnnualCost-Other',\n",
       " 'Subscription-COVIDSignup-Food',\n",
       " 'Subscription-COVIDSignup-Clothing',\n",
       " 'Subscription-COVIDSignup-PersonalCare',\n",
       " 'Subscription-COVIDSignup-HouseholdItems',\n",
       " 'Subscription-COVIDSignup-Other',\n",
       " 'Subscription-CarbonOffset-Food',\n",
       " 'Subscription-CarbonOffset-Clothing',\n",
       " 'Subscription-CarbonOffset-PersonalCare',\n",
       " 'Subscription-CarbonOffset-HouseholdItems',\n",
       " 'Subscription-CarbonOffset-Other',\n",
       " 'Online-Ease',\n",
       " 'Online-Ease-Comment',\n",
       " 'OneClick',\n",
       " 'IntendToReturn',\n",
       " 'Tracking-NonFood-ThirdPartyApp',\n",
       " 'Tracking-PreparedFood-ThirdPartyApp',\n",
       " 'Tracking-Groceries-ThirdPartyApp',\n",
       " 'Tracking-NonFood-EMail',\n",
       " 'Tracking-PreparedFood-EMail',\n",
       " 'Tracking-Groceries-EMail',\n",
       " 'Tracking-NonFood-Online',\n",
       " 'Tracking-PreparedFood-Online',\n",
       " 'Tracking-Groceries-Online',\n",
       " 'Tracking-NonFood-None',\n",
       " 'Tracking-PreparedFood-None',\n",
       " 'Tracking-Groceries-None',\n",
       " 'Tracking-NonFood-OriginalApp',\n",
       " 'Tracking-PreparedFood-OriginalApp',\n",
       " 'Tracking-Groceries-OriginalApp',\n",
       " 'Tried-BundlingOnlineGroceries',\n",
       " 'Tried-CrowdSourcedDelivery',\n",
       " 'Tried-ContactlessCurbside',\n",
       " 'Tried-ContactlessDoor',\n",
       " 'Tried-ContactlessDriverless',\n",
       " 'Tried-CurbsidePickup',\n",
       " 'Tried-InStorePickup',\n",
       " 'Tried-LockerPickup',\n",
       " 'Tried-DroneDelivery',\n",
       " 'DoInStage23-BundlingOnlineGroceries',\n",
       " 'DoInStage23-CrowdSourcedDelivery',\n",
       " 'DoInStage23-ContactlessCurbside',\n",
       " 'DoInStage23-ContactlessDoor',\n",
       " 'DoInStage23-ContactlessDriverless',\n",
       " 'DoInStage23-CurbsidePickup',\n",
       " 'DoInStage23-InStorePickup',\n",
       " 'DoInStage23-LockerPickup',\n",
       " 'DoInStage23-DroneDelivery',\n",
       " 'DoInStage23-VisitRetail',\n",
       " 'DoInStage23-VisitRestaurant',\n",
       " 'DoInStage23-VisitBar',\n",
       " 'Behavior-OnlyList',\n",
       " 'Behavior-NotMindGroceriesOnline',\n",
       " 'Behavior-NotMindRestaurantOnline',\n",
       " 'Behavior-InPersonIsChore',\n",
       " 'Behavior-GroceryExcuseToGetOut',\n",
       " 'Behavior-PickupExcuseToGetOut',\n",
       " 'ECommerce-Food-EnvironmentallyFriendly',\n",
       " 'ECommerce-Food-SupportLocal',\n",
       " 'ECommerce-Food-SavesTime',\n",
       " 'ECommerce-Food-SavesMoney',\n",
       " 'ECommerce-Food-HardToKnowExactly',\n",
       " 'ECommerce-Food-WorryAboutTheft',\n",
       " 'ECommerce-Food-AvoidCarrying',\n",
       " 'ECommerce-Food-InstantIsCool',\n",
       " 'ECommerce-Food-OtherThought',\n",
       " 'ECommerce-Food-OtherThoughtType',\n",
       " 'NonFood-OnlineRelaxing',\n",
       " 'NonFood-EnjoyOnlineClothing',\n",
       " 'NonFood-EnjoyOnlineElectronice',\n",
       " 'NonFood-SearchForBestDeals',\n",
       " 'NonFood-EnjoyBrowsingWOBuying',\n",
       " 'NonFood-InPersonClothingChore',\n",
       " 'NonFood-RetailExcuseToGetOut',\n",
       " 'ECommerce-NonFood-EnvironmentallyFriendly',\n",
       " 'ECommerce-NonFood-SupportLocal',\n",
       " 'ECommerce-NonFood-SavesTime',\n",
       " 'ECommerce-NonFood-SavesMoney',\n",
       " 'ECommerce-NonFood-HardToKnowExactly',\n",
       " 'ECommerce-NonFood-WorryAboutTheft',\n",
       " 'ECommerce-NonFood-CloseAttnToReviews',\n",
       " 'ECommerce-NonFood-ComparingEasy',\n",
       " 'ECommerce-NonFood-InstantIsCool',\n",
       " 'ECommerce-NonFood-OtherThought',\n",
       " 'ECommerce-NonFood-OtherThoughtType',\n",
       " 'Attitude-SatisfiedWithLife',\n",
       " 'Attitude-ZoomFatigue',\n",
       " 'Attitude-SociallyIsolated',\n",
       " 'Attitude-Stressed',\n",
       " 'Attitude-HaveEnoughTime',\n",
       " 'Attitude-HaveEnoughFood',\n",
       " 'Attitude-HaveEnoughMeds',\n",
       " 'Attitude-WorryBasicNeeeds',\n",
       " 'TrustOrCaution',\n",
       " 'Attitude-WorryBasicNeeeds-Comment',\n",
       " 'Trust-MedicalWorkers',\n",
       " 'Trust-BusTrainDrivers',\n",
       " 'Trust-Amazon',\n",
       " 'Trust-Walmart',\n",
       " 'Trust-Target',\n",
       " 'Trust-TNC',\n",
       " 'Trust-FoodDeliveryCompanies',\n",
       " 'Trust-GroceryDeliveryCompanies',\n",
       " 'Trust-TNCDrivers',\n",
       " 'Trust-TaxiDrivers',\n",
       " 'Trust-USPSWorkers',\n",
       " 'Trust-ParcelDeliveryDrivers',\n",
       " 'Trust-AmazonDeliveryDrivers',\n",
       " 'Trust-FoodDeliveryDrivers',\n",
       " 'Trust-GroceryDeliveryDrivers',\n",
       " 'COVID-PPEReducesContraction',\n",
       " 'COVID-PPEReducesTransmission',\n",
       " 'COVID-AbleSocialDistance',\n",
       " 'COVID-Trust-Community',\n",
       " 'DeviceIdentifier',\n",
       " 'May_Freq_EPreparedFood',\n",
       " 'May_Freq_EGrocery',\n",
       " 'May_Freq_EOtherFood',\n",
       " 'May_Freq_EPaperCleaning',\n",
       " 'May_Freq_EClothing',\n",
       " 'May_Freq_EHomeOffice',\n",
       " 'May_Freq_EMedication',\n",
       " 'May_Freq_EChildcare',\n",
       " 'May_Freq_Eother',\n",
       " 'May_Freq_PreparedFood',\n",
       " 'May_Freq_Grocery',\n",
       " 'May_Freq_OtherFood',\n",
       " 'May_Freq_PaperCleaning',\n",
       " 'May_Freq_Clothing',\n",
       " 'May_Freq_HomeOffice',\n",
       " 'May_Freq_Medication',\n",
       " 'May_Freq_Childcare',\n",
       " 'May_Freq_other']"
      ]
     },
     "execution_count": 71,
     "metadata": {},
     "output_type": "execute_result"
    }
   ],
   "source": [
    "# Look at whether they shop more or less\n",
    "list(sacog.columns)"
   ]
  },
  {
   "cell_type": "markdown",
   "metadata": {},
   "source": [
    "### 3) Clothing"
   ]
  },
  {
   "cell_type": "code",
   "execution_count": 61,
   "metadata": {},
   "outputs": [],
   "source": [
    "### Need to screening data first. \n",
    "clothing = sacog[ ~((sacog['May-InStore-Trips-Clothing'] == -9998) & (sacog['May-InStore-Frequency-Clothing'].isin(['No Response'])))\n",
    "     & ~((sacog['May-ECommerce-Orders-Clothing'] == -9998) & (sacog['May-ECommerce-Frequency-Clothing'].isin(['No Response'])))]"
   ]
  },
  {
   "cell_type": "code",
   "execution_count": 68,
   "metadata": {},
   "outputs": [],
   "source": [
    "clothing[['May_Freq_Clothing', 'May_Freq_EClothing']]\n",
    "lessC = clothing[clothing['May_Freq_Clothing'] > clothing['May_Freq_EClothing']]\n",
    "sameC = clothing[clothing['May_Freq_Clothing'] == clothing['May_Freq_EClothing']]\n",
    "moreC = clothing[clothing['May_Freq_Clothing'] < clothing['May_Freq_EClothing']]"
   ]
  },
  {
   "cell_type": "code",
   "execution_count": 69,
   "metadata": {},
   "outputs": [
    {
     "name": "stdout",
     "output_type": "stream",
     "text": [
      "Category      More InStore  Ratio      Same  Ratio      More Online  Ratio\n",
      "----------  --------------  -------  ------  -------  -------------  -------\n",
      "clothing                50  22.2%        99  44.0%               76  33.8%\n"
     ]
    }
   ],
   "source": [
    "print(tabulate([['clothing', \n",
    "                 len(lessC),\n",
    "                 \"{:.1%}\".format(len(lessC)/len(clothing)),\n",
    "                 len(sameC), \n",
    "                 \"{:.1%}\".format(len(sameC)/len(clothing)),\n",
    "                 len(moreC), \n",
    "                 \"{:.1%}\".format(len(moreC)/len(clothing))]], headers=['Category', 'More InStore', 'Ratio', 'Same', 'Ratio', 'More Online', 'Ratio']))\n"
   ]
  },
  {
   "cell_type": "markdown",
   "metadata": {},
   "source": [
    "### 4) Medication"
   ]
  },
  {
   "cell_type": "code",
   "execution_count": 72,
   "metadata": {},
   "outputs": [],
   "source": [
    "med = sacog[ ~((sacog['May-InStore-Trips-Medication'] == -9998) & (sacog['May-InStore-Frequency-Medication'].isin(['No Response'])))\n",
    "     & ~((sacog['May-ECommerce-Orders-Medication'] == -9998) & (sacog['May-ECommerce-Frequency-Medication'].isin(['No Response'])))]"
   ]
  },
  {
   "cell_type": "code",
   "execution_count": 73,
   "metadata": {},
   "outputs": [],
   "source": [
    "med[['May_Freq_Medication', 'May_Freq_EMedication']]\n",
    "lessM = med[med['May_Freq_Medication'] > med['May_Freq_EMedication']]\n",
    "sameM = med[med['May_Freq_Medication'] == med['May_Freq_EMedication']]\n",
    "moreM = med[med['May_Freq_Medication'] < med['May_Freq_EMedication']]"
   ]
  },
  {
   "cell_type": "code",
   "execution_count": 74,
   "metadata": {},
   "outputs": [
    {
     "name": "stdout",
     "output_type": "stream",
     "text": [
      "Category      More InStore  Ratio      Same  Ratio      More Online  Ratio\n",
      "----------  --------------  -------  ------  -------  -------------  -------\n",
      "med                     73  32.3%        99  43.8%               54  23.9%\n"
     ]
    }
   ],
   "source": [
    "print(tabulate([['med', \n",
    "                 len(lessM),\n",
    "                 \"{:.1%}\".format(len(lessM)/len(med)),\n",
    "                 len(sameM), \n",
    "                 \"{:.1%}\".format(len(sameM)/len(med)),\n",
    "                 len(moreM), \n",
    "                 \"{:.1%}\".format(len(moreM)/len(med))]], headers=['Category', 'More InStore', 'Ratio', 'Same', 'Ratio', 'More Online', 'Ratio']))"
   ]
  },
  {
   "cell_type": "code",
   "execution_count": 95,
   "metadata": {},
   "outputs": [],
   "source": [
    "never = [\"Never\", \"Almost never\"]\n",
    "never_and_noRes = [\"Never\", \"Almost never\", 'No Response']\n",
    "\n",
    "def instore_online(cat):\n",
    "    instore_trips = 'May-InStore-Trips-' + cat\n",
    "    instore_freq = 'May-InStore-Frequency-' + cat\n",
    "    online_order = 'May-ECommerce-Orders-' + cat\n",
    "    online_freq = 'May-ECommerce-Frequency-' + cat\n",
    "    may_freq = 'May_Freq_' + cat\n",
    "    may_efreq = 'May_Freq_E' + cat\n",
    "    \n",
    "    past_year_freq = 'PastYear-ECommerce-Frequency-' + cat\n",
    "    oldUser = sacog[~sacog[past_year_freq].isin(never_and_noRes)]\n",
    "    pastNever = sacog[sacog[past_year_freq].isin(never)]\n",
    "    adopter = pastNever[(pastNever[online_order] > 0) | (~pastNever[online_freq].isin(never_and_noRes))]\n",
    "    NonAdopter = pastNever[(pastNever[online_order] == 0) & pastNever[online_freq].isin(never)]\n",
    "    \n",
    "    valid_record_ad = adopter[~((adopter[instore_trips] == -9998) & (adopter[instore_freq].isin(['No Response'])))\n",
    "     & ~((adopter[online_order] == -9998) & (adopter[online_freq].isin(['No Response'])))]\n",
    "    \n",
    "    valid_record_old = oldUser[~((oldUser[instore_trips] == -9998) & (oldUser[instore_freq].isin(['No Response'])))\n",
    "     & ~((oldUser[online_order] == -9998) & (oldUser[online_freq].isin(['No Response'])))]\n",
    "    \n",
    "    valid_record = sacog[~((sacog[instore_trips] == -9998) & (sacog[instore_freq].isin(['No Response'])))\n",
    "     & ~((sacog[online_order] == -9998) & (sacog[online_freq].isin(['No Response'])))]\n",
    "    \n",
    "    less_online_ad = valid_record_ad[valid_record_ad[may_freq] > valid_record_ad[may_efreq]]\n",
    "    same_online_ad = valid_record_ad[valid_record_ad[may_freq] == valid_record_ad[may_efreq]]\n",
    "    more_online_ad = valid_record_ad[valid_record_ad[may_freq] < valid_record_ad[may_efreq]]\n",
    "    \n",
    "    less_online_old = valid_record_old[valid_record_old[may_freq] > valid_record_old[may_efreq]]\n",
    "    same_online_old = valid_record_old[valid_record_old[may_freq] == valid_record_old[may_efreq]]\n",
    "    more_online_old = valid_record_old[valid_record_old[may_freq] < valid_record_old[may_efreq]]\n",
    "    \n",
    "    less_online = valid_record[valid_record[may_freq] > valid_record[may_efreq]]\n",
    "    same_online = valid_record[valid_record[may_freq] == valid_record[may_efreq]]\n",
    "    more_online = valid_record[valid_record[may_freq] < valid_record[may_efreq]]\n",
    "    \n",
    "    return [[valid_record, less_online, same_online, more_online],\n",
    "           [valid_record_ad, less_online_ad, same_online_ad, more_online_ad],\n",
    "           [valid_record_old, less_online_old, same_online_old, more_online_old]]"
   ]
  },
  {
   "cell_type": "code",
   "execution_count": null,
   "metadata": {},
   "outputs": [],
   "source": []
  },
  {
   "cell_type": "code",
   "execution_count": 96,
   "metadata": {},
   "outputs": [],
   "source": [
    "dict_ = {}\n",
    "cat_ = ['PreparedFood', 'Groceries', 'OtherFood', 'PaperCleaning', 'Clothing', 'HomeOffice', 'Medication', 'ChildcareItems', 'Other']\n",
    "for cat in cat_:\n",
    "    dict_[cat] = instore_online(cat)"
   ]
  },
  {
   "cell_type": "markdown",
   "metadata": {},
   "source": [
    "### people are still relying more on instore grocery shopping. In May, the adoption rate of egrocery is 26.5% but only 9.8% indicating they shop more frequently online, meaning people are trying this new alternatives. Similar situation for paper cleaning, prepared foodClothing has the highest percentage in terms of people who shop more frequently online."
   ]
  },
  {
   "cell_type": "code",
   "execution_count": 98,
   "metadata": {},
   "outputs": [
    {
     "name": "stdout",
     "output_type": "stream",
     "text": [
      "Category          More InStore  Ratio      Same  Ratio      More Online  Ratio\n",
      "--------------  --------------  -------  ------  -------  -------------  -------\n",
      "PreparedFood                90  35.3%       101  39.6%               64  25.1%\n",
      "Groceries                  191  75.2%        38  15.0%               25  9.8%\n",
      "OtherFood                   87  38.8%       109  48.7%               28  12.5%\n",
      "PaperCleaning              143  62.7%        56  24.6%               29  12.7%\n",
      "Clothing                    50  22.2%        99  44.0%               76  33.8%\n",
      "HomeOffice                  48  21.5%       125  56.1%               50  22.4%\n",
      "Medication                  73  32.3%        99  43.8%               54  23.9%\n",
      "ChildcareItems              18  8.0%        180  80.4%               26  11.6%\n",
      "Other                       27  18.2%        77  52.0%               44  29.7%\n"
     ]
    }
   ],
   "source": [
    "print(tabulate([[cat, \n",
    "                 len(dict_[cat][0][1]),\n",
    "                 \"{:.1%}\".format(len(dict_[cat][0][1])/len(dict_[cat][0][0])),\n",
    "                 len(dict_[cat][0][2]), \n",
    "                 \"{:.1%}\".format(len(dict_[cat][0][2])/len(dict_[cat][0][0])),\n",
    "                 len(dict_[cat][0][3]), \n",
    "                 \"{:.1%}\".format(len(dict_[cat][0][3])/len(dict_[cat][0][0]))] for cat in cat_], headers=['Category', 'More InStore', 'Ratio', 'Same', 'Ratio', 'More Online', 'Ratio']))"
   ]
  },
  {
   "cell_type": "markdown",
   "metadata": {},
   "source": [
    "### New adopter"
   ]
  },
  {
   "cell_type": "code",
   "execution_count": 99,
   "metadata": {},
   "outputs": [
    {
     "name": "stdout",
     "output_type": "stream",
     "text": [
      "Category          More InStore  Ratio      Same  Ratio      More Online  Ratio\n",
      "--------------  --------------  -------  ------  -------  -------------  -------\n",
      "PreparedFood                 5  10.9%        23  50.0%               18  39.1%\n",
      "Groceries                   24  47.1%        17  33.3%               10  19.6%\n",
      "OtherFood                    5  22.7%         4  18.2%               13  59.1%\n",
      "PaperCleaning               14  37.8%        11  29.7%               12  32.4%\n",
      "Clothing                     1  8.3%          4  33.3%                7  58.3%\n",
      "HomeOffice                   2  8.3%          9  37.5%               13  54.2%\n",
      "Medication                   2  13.3%         9  60.0%                4  26.7%\n",
      "ChildcareItems               0  0.0%          0  0.0%                 3  100.0%\n",
      "Other                        1  9.1%          1  9.1%                 9  81.8%\n"
     ]
    }
   ],
   "source": [
    "print(tabulate([[cat, \n",
    "                 len(dict_[cat][1][1]),\n",
    "                 \"{:.1%}\".format(len(dict_[cat][1][1])/len(dict_[cat][1][0])),\n",
    "                 len(dict_[cat][1][2]), \n",
    "                 \"{:.1%}\".format(len(dict_[cat][1][2])/len(dict_[cat][1][0])),\n",
    "                 len(dict_[cat][1][3]), \n",
    "                 \"{:.1%}\".format(len(dict_[cat][1][3])/len(dict_[cat][1][0]))] for cat in cat_], headers=['Category', 'More InStore', 'Ratio', 'Same', 'Ratio', 'More Online', 'Ratio']))"
   ]
  },
  {
   "cell_type": "markdown",
   "metadata": {},
   "source": [
    "### Old User: seems that compared to new adopter, the proportion of old users relying more online than instore is less. What's the characteristics of people doing more online shopping than instore?"
   ]
  },
  {
   "cell_type": "code",
   "execution_count": 100,
   "metadata": {},
   "outputs": [
    {
     "name": "stdout",
     "output_type": "stream",
     "text": [
      "Category          More InStore  Ratio      Same  Ratio      More Online  Ratio\n",
      "--------------  --------------  -------  ------  -------  -------------  -------\n",
      "PreparedFood                35  25.9%        55  40.7%               45  33.3%\n",
      "Groceries                   35  50.0%        21  30.0%               14  20.0%\n",
      "OtherFood                   19  37.3%        18  35.3%               14  27.5%\n",
      "PaperCleaning               37  45.1%        29  35.4%               16  19.5%\n",
      "Clothing                    24  15.3%        68  43.3%               65  41.4%\n",
      "HomeOffice                  17  18.7%        41  45.1%               33  36.3%\n",
      "Medication                  18  16.4%        45  40.9%               47  42.7%\n",
      "ChildcareItems               7  15.2%        18  39.1%               21  45.7%\n",
      "Other                        6  19.4%         8  25.8%               17  54.8%\n"
     ]
    }
   ],
   "source": [
    "print(tabulate([[cat, \n",
    "                 len(dict_[cat][2][1]),\n",
    "                 \"{:.1%}\".format(len(dict_[cat][2][1])/len(dict_[cat][2][0])),\n",
    "                 len(dict_[cat][2][2]), \n",
    "                 \"{:.1%}\".format(len(dict_[cat][2][2])/len(dict_[cat][2][0])),\n",
    "                 len(dict_[cat][2][3]), \n",
    "                 \"{:.1%}\".format(len(dict_[cat][2][3])/len(dict_[cat][2][0]))] for cat in cat_], headers=['Category', 'More InStore', 'Ratio', 'Same', 'Ratio', 'More Online', 'Ratio']))"
   ]
  },
  {
   "cell_type": "markdown",
   "metadata": {},
   "source": [
    "### 1) Look into the behavior of people don't do online at present"
   ]
  },
  {
   "cell_type": "code",
   "execution_count": 5,
   "metadata": {},
   "outputs": [
    {
     "data": {
      "text/html": [
       "<div>\n",
       "<style scoped>\n",
       "    .dataframe tbody tr th:only-of-type {\n",
       "        vertical-align: middle;\n",
       "    }\n",
       "\n",
       "    .dataframe tbody tr th {\n",
       "        vertical-align: top;\n",
       "    }\n",
       "\n",
       "    .dataframe thead th {\n",
       "        text-align: right;\n",
       "    }\n",
       "</style>\n",
       "<table border=\"1\" class=\"dataframe\">\n",
       "  <thead>\n",
       "    <tr style=\"text-align: right;\">\n",
       "      <th></th>\n",
       "      <th>May-InStore-Frequency-PreparedFood</th>\n",
       "      <th>May-InStore-Frequency-Groceries</th>\n",
       "      <th>May-InStore-Frequency-OtherFood</th>\n",
       "      <th>May-InStore-Frequency-PaperCleaning</th>\n",
       "      <th>May-InStore-Frequency-Clothing</th>\n",
       "      <th>May-InStore-Frequency-HomeOffice</th>\n",
       "      <th>May-InStore-Frequency-Medication</th>\n",
       "      <th>May-InStore-Frequency-ChildcareItems</th>\n",
       "      <th>May-InStore-Frequency-Other</th>\n",
       "    </tr>\n",
       "  </thead>\n",
       "  <tbody>\n",
       "    <tr>\n",
       "      <th>2</th>\n",
       "      <td>Never</td>\n",
       "      <td>No Response</td>\n",
       "      <td>Never</td>\n",
       "      <td>About 1 time per week</td>\n",
       "      <td>Less than 1 time per week</td>\n",
       "      <td>About 1 time per week</td>\n",
       "      <td>No Response</td>\n",
       "      <td>Never</td>\n",
       "      <td>No Response</td>\n",
       "    </tr>\n",
       "    <tr>\n",
       "      <th>158</th>\n",
       "      <td>No Response</td>\n",
       "      <td>No Response</td>\n",
       "      <td>No Response</td>\n",
       "      <td>Almost never</td>\n",
       "      <td>Never</td>\n",
       "      <td>Never</td>\n",
       "      <td>Never</td>\n",
       "      <td>Never</td>\n",
       "      <td>Never</td>\n",
       "    </tr>\n",
       "    <tr>\n",
       "      <th>324</th>\n",
       "      <td>No Response</td>\n",
       "      <td>No Response</td>\n",
       "      <td>No Response</td>\n",
       "      <td>No Response</td>\n",
       "      <td>No Response</td>\n",
       "      <td>No Response</td>\n",
       "      <td>No Response</td>\n",
       "      <td>No Response</td>\n",
       "      <td>No Response</td>\n",
       "    </tr>\n",
       "  </tbody>\n",
       "</table>\n",
       "</div>"
      ],
      "text/plain": [
       "    May-InStore-Frequency-PreparedFood May-InStore-Frequency-Groceries  \\\n",
       "2                                Never                     No Response   \n",
       "158                        No Response                     No Response   \n",
       "324                        No Response                     No Response   \n",
       "\n",
       "    May-InStore-Frequency-OtherFood May-InStore-Frequency-PaperCleaning  \\\n",
       "2                             Never               About 1 time per week   \n",
       "158                     No Response                        Almost never   \n",
       "324                     No Response                         No Response   \n",
       "\n",
       "    May-InStore-Frequency-Clothing May-InStore-Frequency-HomeOffice  \\\n",
       "2       Less than 1 time per week             About 1 time per week   \n",
       "158                          Never                            Never   \n",
       "324                    No Response                      No Response   \n",
       "\n",
       "    May-InStore-Frequency-Medication May-InStore-Frequency-ChildcareItems  \\\n",
       "2                        No Response                                Never   \n",
       "158                            Never                                Never   \n",
       "324                      No Response                          No Response   \n",
       "\n",
       "    May-InStore-Frequency-Other  \n",
       "2                   No Response  \n",
       "158                       Never  \n",
       "324                 No Response  "
      ]
     },
     "execution_count": 5,
     "metadata": {},
     "output_type": "execute_result"
    }
   ],
   "source": [
    "MayNeverOnline[['May-InStore-Frequency-PreparedFood', 'May-InStore-Frequency-Groceries', 'May-InStore-Frequency-OtherFood',\n",
    "               'May-InStore-Frequency-PaperCleaning', 'May-InStore-Frequency-Clothing', 'May-InStore-Frequency-HomeOffice', \n",
    "               'May-InStore-Frequency-Medication', 'May-InStore-Frequency-ChildcareItems', 'May-InStore-Frequency-Other']]"
   ]
  },
  {
   "cell_type": "code",
   "execution_count": 7,
   "metadata": {},
   "outputs": [
    {
     "data": {
      "text/html": [
       "<div>\n",
       "<style scoped>\n",
       "    .dataframe tbody tr th:only-of-type {\n",
       "        vertical-align: middle;\n",
       "    }\n",
       "\n",
       "    .dataframe tbody tr th {\n",
       "        vertical-align: top;\n",
       "    }\n",
       "\n",
       "    .dataframe thead th {\n",
       "        text-align: right;\n",
       "    }\n",
       "</style>\n",
       "<table border=\"1\" class=\"dataframe\">\n",
       "  <thead>\n",
       "    <tr style=\"text-align: right;\">\n",
       "      <th></th>\n",
       "      <th>May-InStore-Trips-PreparedFood</th>\n",
       "      <th>May-InStore-Trips-Groceries</th>\n",
       "      <th>May-InStore-Trips-OtherFood</th>\n",
       "      <th>May-InStore-Trips-PaperCleaning</th>\n",
       "      <th>May-InStore-Trips-Clothing</th>\n",
       "      <th>May-InStore-Trips-HomeOffice</th>\n",
       "      <th>May-InStore-Trips-Medication</th>\n",
       "      <th>May-InStore-Trips-ChildcareItems</th>\n",
       "      <th>May-InStore-Trips-Other</th>\n",
       "    </tr>\n",
       "  </thead>\n",
       "  <tbody>\n",
       "    <tr>\n",
       "      <th>2</th>\n",
       "      <td>0</td>\n",
       "      <td>6</td>\n",
       "      <td>0</td>\n",
       "      <td>0</td>\n",
       "      <td>0</td>\n",
       "      <td>0</td>\n",
       "      <td>6</td>\n",
       "      <td>0</td>\n",
       "      <td>0</td>\n",
       "    </tr>\n",
       "    <tr>\n",
       "      <th>158</th>\n",
       "      <td>4</td>\n",
       "      <td>6</td>\n",
       "      <td>2</td>\n",
       "      <td>0</td>\n",
       "      <td>0</td>\n",
       "      <td>0</td>\n",
       "      <td>0</td>\n",
       "      <td>0</td>\n",
       "      <td>0</td>\n",
       "    </tr>\n",
       "    <tr>\n",
       "      <th>324</th>\n",
       "      <td>-9998</td>\n",
       "      <td>-9998</td>\n",
       "      <td>-9998</td>\n",
       "      <td>-9998</td>\n",
       "      <td>-9998</td>\n",
       "      <td>-9998</td>\n",
       "      <td>-9998</td>\n",
       "      <td>-9998</td>\n",
       "      <td>-9998</td>\n",
       "    </tr>\n",
       "  </tbody>\n",
       "</table>\n",
       "</div>"
      ],
      "text/plain": [
       "     May-InStore-Trips-PreparedFood  May-InStore-Trips-Groceries  \\\n",
       "2                                 0                            6   \n",
       "158                               4                            6   \n",
       "324                           -9998                        -9998   \n",
       "\n",
       "     May-InStore-Trips-OtherFood  May-InStore-Trips-PaperCleaning  \\\n",
       "2                              0                                0   \n",
       "158                            2                                0   \n",
       "324                        -9998                            -9998   \n",
       "\n",
       "     May-InStore-Trips-Clothing  May-InStore-Trips-HomeOffice  \\\n",
       "2                             0                             0   \n",
       "158                           0                             0   \n",
       "324                       -9998                         -9998   \n",
       "\n",
       "     May-InStore-Trips-Medication  May-InStore-Trips-ChildcareItems  \\\n",
       "2                               6                                 0   \n",
       "158                             0                                 0   \n",
       "324                         -9998                             -9998   \n",
       "\n",
       "     May-InStore-Trips-Other  \n",
       "2                          0  \n",
       "158                        0  \n",
       "324                    -9998  "
      ]
     },
     "execution_count": 7,
     "metadata": {},
     "output_type": "execute_result"
    }
   ],
   "source": [
    "MayNeverOnline[['May-InStore-Trips-PreparedFood', 'May-InStore-Trips-Groceries', 'May-InStore-Trips-OtherFood',\n",
    "               'May-InStore-Trips-PaperCleaning', 'May-InStore-Trips-Clothing', 'May-InStore-Trips-HomeOffice', \n",
    "               'May-InStore-Trips-Medication', 'May-InStore-Trips-ChildcareItems', 'May-InStore-Trips-Other']]"
   ]
  }
 ],
 "metadata": {
  "kernelspec": {
   "display_name": "Python 3",
   "language": "python",
   "name": "python3"
  },
  "language_info": {
   "codemirror_mode": {
    "name": "ipython",
    "version": 3
   },
   "file_extension": ".py",
   "mimetype": "text/x-python",
   "name": "python",
   "nbconvert_exporter": "python",
   "pygments_lexer": "ipython3",
   "version": "3.6.8"
  }
 },
 "nbformat": 4,
 "nbformat_minor": 2
}
