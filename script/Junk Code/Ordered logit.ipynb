{
 "cells": [
  {
   "cell_type": "code",
   "execution_count": 2,
   "metadata": {},
   "outputs": [],
   "source": [
    "from statsmodels.miscmodels.ordinal_model import OrderedModel\n",
    "import pandas as pd\n",
    "import numpy as np\n",
    "import seaborn as sns\n",
    "import matplotlib.pyplot as plt\n",
    "from tabulate import tabulate"
   ]
  },
  {
   "cell_type": "code",
   "execution_count": 3,
   "metadata": {},
   "outputs": [],
   "source": [
    "sacog = pd.read_excel('sacog_recoded_012021.xlsx')"
   ]
  },
  {
   "cell_type": "code",
   "execution_count": 4,
   "metadata": {},
   "outputs": [],
   "source": [
    "freq_dict = {'More than 5 times per week': 7, \n",
    "             '3 - 5 times per week': 6,\n",
    "             '2 - 3 times per week': 5,\n",
    "             'About 1 time per week': 4,\n",
    "             'Less than 1 time per week ': 3,\n",
    "             'Less than 1 time per month ': 2,\n",
    "             'Never': 1,\n",
    "             'Almost never': 1,\n",
    "             'No Response': 0}"
   ]
  },
  {
   "cell_type": "code",
   "execution_count": 5,
   "metadata": {},
   "outputs": [],
   "source": [
    "def freq_online(orders):\n",
    "    if orders > 5:\n",
    "        return 7\n",
    "    elif orders > 3:\n",
    "        return 6\n",
    "    elif orders >= 2:\n",
    "        return 5\n",
    "    elif orders >= 1:\n",
    "        return 4"
   ]
  },
  {
   "cell_type": "code",
   "execution_count": 6,
   "metadata": {},
   "outputs": [],
   "source": [
    "sacog['May_Freq_EPreparedFood'] = sacog['May-ECommerce-Frequency-PreparedFood'].map(freq_dict)\n",
    "sacog['May_Freq_EGroceries'] = sacog['May-ECommerce-Frequency-Groceries'].map(freq_dict)\n",
    "sacog['May_Freq_EOtherFood'] = sacog['May-ECommerce-Frequency-OtherFood'].map(freq_dict)\n",
    "sacog['May_Freq_EPaperCleaning'] = sacog['May-ECommerce-Frequency-PaperCleaning'].map(freq_dict)\n",
    "sacog['May_Freq_EClothing'] = sacog['May-ECommerce-Frequency-Clothing'].map(freq_dict)\n",
    "sacog['May_Freq_EHomeOffice'] = sacog['May-ECommerce-Frequency-HomeOffice'].map(freq_dict)\n",
    "sacog['May_Freq_EMedication'] = sacog['May-ECommerce-Frequency-Medication'].map(freq_dict)\n",
    "sacog['May_Freq_EChildcareItems'] = sacog['May-ECommerce-Frequency-ChildcareItems'].map(freq_dict)\n",
    "sacog['May_Freq_EOther'] = sacog['May-ECommerce-Frequency-Other'].map(freq_dict)"
   ]
  },
  {
   "cell_type": "code",
   "execution_count": 7,
   "metadata": {},
   "outputs": [],
   "source": [
    "sacog.loc[sacog['May-ECommerce-Orders-PreparedFood'] > 0, 'May_Freq_EPreparedFood'] = sacog.loc[sacog['May-ECommerce-Orders-PreparedFood'] > 0]['May-ECommerce-Orders-PreparedFood'].apply(freq_online)\n",
    "sacog.loc[sacog['May-ECommerce-Orders-Groceries'] > 0, 'May_Freq_EGroceries'] = sacog.loc[sacog['May-ECommerce-Orders-Groceries'] > 0]['May-ECommerce-Orders-Groceries'].apply(freq_online)\n",
    "sacog.loc[sacog['May-ECommerce-Orders-OtherFood'] > 0, 'May_Freq_EOtherFood'] = sacog.loc[sacog['May-ECommerce-Orders-OtherFood'] > 0]['May-ECommerce-Orders-OtherFood'].apply(freq_online)\n",
    "sacog.loc[sacog['May-ECommerce-Orders-PaperCleaning'] > 0, 'May_Freq_EPaperCleaning'] = sacog.loc[sacog['May-ECommerce-Orders-PaperCleaning'] > 0]['May-ECommerce-Orders-PaperCleaning'].apply(freq_online)\n",
    "sacog.loc[sacog['May-ECommerce-Orders-Clothing'] > 0, 'May_Freq_EClothing'] = sacog.loc[sacog['May-ECommerce-Orders-Clothing'] > 0]['May-ECommerce-Orders-Clothing'].apply(freq_online)\n",
    "sacog.loc[sacog['May-ECommerce-Orders-HomeOffice'] > 0, 'May_Freq_EHomeOffice'] = sacog.loc[sacog['May-ECommerce-Orders-HomeOffice'] > 0]['May-ECommerce-Orders-HomeOffice'].apply(freq_online)\n",
    "sacog.loc[sacog['May-ECommerce-Orders-Medication'] > 0, 'May_Freq_EMedication'] = sacog.loc[sacog['May-ECommerce-Orders-Medication'] > 0]['May-ECommerce-Orders-Medication'].apply(freq_online)\n",
    "sacog.loc[sacog['May-ECommerce-Orders-ChildcareItems'] > 0, 'May_Freq_EChildcareItems'] = sacog.loc[sacog['May-ECommerce-Orders-ChildcareItems'] > 0]['May-ECommerce-Orders-ChildcareItems'].apply(freq_online)\n",
    "sacog.loc[sacog['May-ECommerce-Orders-Other'] > 0, 'May_Freq_EOther'] = sacog.loc[sacog['May-ECommerce-Orders-Other'] > 0]['May-ECommerce-Orders-Other'].apply(freq_online)"
   ]
  },
  {
   "cell_type": "code",
   "execution_count": 9,
   "metadata": {},
   "outputs": [
    {
     "data": {
      "text/plain": [
       "count    327.000000\n",
       "mean       2.593272\n",
       "std        2.017489\n",
       "min        0.000000\n",
       "25%        1.000000\n",
       "50%        3.000000\n",
       "75%        4.000000\n",
       "max        7.000000\n",
       "Name: May_Freq_EPreparedFood, dtype: float64"
      ]
     },
     "execution_count": 9,
     "metadata": {},
     "output_type": "execute_result"
    }
   ],
   "source": [
    "sacog['May_Freq_EPreparedFood'].describe()"
   ]
  },
  {
   "cell_type": "code",
   "execution_count": null,
   "metadata": {},
   "outputs": [],
   "source": []
  }
 ],
 "metadata": {
  "kernelspec": {
   "display_name": "Python 3",
   "language": "python",
   "name": "python3"
  },
  "language_info": {
   "codemirror_mode": {
    "name": "ipython",
    "version": 3
   },
   "file_extension": ".py",
   "mimetype": "text/x-python",
   "name": "python",
   "nbconvert_exporter": "python",
   "pygments_lexer": "ipython3",
   "version": "3.6.8"
  }
 },
 "nbformat": 4,
 "nbformat_minor": 2
}
