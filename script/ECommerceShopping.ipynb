{
 "cells": [
  {
   "cell_type": "code",
   "execution_count": 1,
   "metadata": {},
   "outputs": [],
   "source": [
    "import pandas as pd\n",
    "import numpy as np\n",
    "import matplotlib.pyplot as plt\n",
    "from utils import kmeans_missing, Past_Label, independent_ttest"
   ]
  },
  {
   "cell_type": "markdown",
   "metadata": {},
   "source": [
    "## Load Data"
   ]
  },
  {
   "cell_type": "code",
   "execution_count": 2,
   "metadata": {},
   "outputs": [],
   "source": [
    "survey = pd.read_excel('../data/originalData/rMoves_and_2020_for_qianhua.xlsx', usecols=lambda x: 'Unnamed' not in x,)\n",
    "survey = survey.replace({'Never ': 'Never', \n",
    "                         'Less than 1 time per month ': 'Less than 1 time per month',\n",
    "                         'Less than 1 time per week ': 'Less than 1 time per week'})\n",
    "\n",
    "\n",
    "demo = pd.read_csv('../data/processedData/rMoves_and_2020_matchLabel.csv', dtype = {'match_id': 'Int64'})\n",
    "demo = demo.iloc[2838:,:]\n",
    "info = ['match_id', \n",
    "        'PersonalIncome',\n",
    "        'HouseholdIncome', \n",
    "        'What is your age group?',\n",
    "        'numkids']\n",
    "demo = demo[info]\n",
    "\n",
    "\n",
    "# only keep responses from the individual who also took the survey for the household in 2018\n",
    "sacog_demo = pd.merge(demo, survey, left_on = 'match_id', right_index = True)\n",
    "sacog_demo.rename(columns = {'What is your age group?': 'age', 'Unnamed: 0': 'id'}, inplace = True)\n"
   ]
  },
  {
   "cell_type": "markdown",
   "metadata": {},
   "source": [
    "## Data Cleaning and Data Engineering"
   ]
  },
  {
   "cell_type": "code",
   "execution_count": 3,
   "metadata": {},
   "outputs": [],
   "source": [
    "def ShoppingBehavior(df):\n",
    "    ###########################################\n",
    "    \n",
    "    # Infer weekly online/instore shopping frequency for both past year and during pandemic\n",
    "    # Further calculate the share of online shopping during the pandemic\n",
    "    \n",
    "    ###########################################\n",
    "    cat_ = ['PreparedFood', 'Groceries', 'OtherFood', 'PaperCleaning', 'Clothing','HomeOffice','Medication','ChildcareItems']\n",
    "\n",
    "    freq_dict = {'More than 5 times per week': 5, \n",
    "                 '3 - 5 times per week': 4, \n",
    "                 '2 - 3 times per week': 2.5,\n",
    "                 'About 1 time per week': 1, \n",
    "                 'Less than 1 time per week': 0.5, #Treat as once every 2 week\n",
    "                 'Less than 1 time per month': 0.25, # Treat as once per month\n",
    "                 'Never': 0,\n",
    "                 'Almost never': 0,\n",
    "                 'No Response': 0} # Treat no response as never\n",
    "    \n",
    "    for cat in cat_:\n",
    "        df['PastYear-ECommerce-Frequency-'+cat].replace({'No Response': 'Never'},inplace =True)\n",
    "        df['PastYear-Orders-'+cat] = df['PastYear-ECommerce-Frequency-'+cat].map(freq_dict)\n",
    "        \n",
    "        df['May-InStore-Trips-'+cat].replace({-9998: 0}, inplace =True) # treat -9998 (no response) as 0 trip\n",
    "        df['May-ECommerce-Orders-'+cat].replace({-9998: 0},inplace =True) # treat -9998 (no response) as 0 order\n",
    "        \n",
    "        df['May-Trips-'+cat] = df['May-InStore-Trips-'+cat] /2 # divided by 2 as a round trip will count as twice\n",
    "        df['May-Orders-'+cat] = df['May-ECommerce-Orders-'+cat] # just change to a shorter name\n",
    "        # If didn't purchase online/instore during the surveyed week, infer shopping frequency from 'May-ECommerce-Frequency-cat'\n",
    "        df.loc[df['May-ECommerce-Orders-'+cat] == 0, 'May-Orders-'+cat] = df.loc[df['May-ECommerce-Orders-'+cat] == 0]['May-ECommerce-Frequency-'+cat].map(freq_dict)\n",
    "        df.loc[df['May-InStore-Trips-'+cat] == 0, 'May-Trips-'+cat] = df.loc[df['May-InStore-Trips-'+cat] == 0]['May-InStore-Frequency-'+cat].map(freq_dict)\n",
    "        \n",
    "        df['May-Total-'+ cat] = df['May-Orders-'+cat] + df['May-Trips-'+cat]\n",
    "        df['May-Portion-E' + cat] = df['May-Orders-' + cat] / df['May-Total-'+cat]\n",
    "        \n",
    "    return df"
   ]
  },
  {
   "cell_type": "code",
   "execution_count": 4,
   "metadata": {},
   "outputs": [],
   "source": [
    "# Infer income and age category\n",
    "def incomeLevel(income):\n",
    "    if income in ['Under $10,000', '$10,000 - $14,999','$15,000 - $24,999','$25,000 - $49,999']:\n",
    "        return 'Low income'\n",
    "    elif income in ['$50,000 - $74,999', '$75,000 - $99,999']:\n",
    "        return 'Medium income'\n",
    "    elif income in ['$100,000 - $149,999', '$150,000 - $199,999','$200,000 or more']: \n",
    "        return 'High income'\n",
    "    else:\n",
    "        return 'Unknown'\n",
    "    \n",
    "def ageLevel(age):\n",
    "    if age in ['18 - 19', '20 - 24', '25 - 34', '35 - 44']:\n",
    "        return 'Gen Y & Z'\n",
    "    elif age in ['45 - 54']:\n",
    "        return 'Gen X'\n",
    "    elif age in ['55 - 59', '60 - 64', '65 - 74', '75 - 84']:\n",
    "        return 'Baby Boomer and Older'\n",
    "    "
   ]
  },
  {
   "cell_type": "code",
   "execution_count": 5,
   "metadata": {},
   "outputs": [],
   "source": [
    "# Extract shopping channel usage pattern across different commodity types\n",
    "sacog_demo = ShoppingBehavior(sacog_demo)\n",
    "\n",
    "# Assign Income & Age group \n",
    "sacog_demo.loc[sacog_demo.NumberInHousehold == 1, 'HouseholdIncome'] = sacog_demo.loc[sacog_demo.NumberInHousehold == 1, 'PersonalIncome']\n",
    "sacog_demo['incomelevel'] = sacog_demo['HouseholdIncome'].apply(incomeLevel)\n",
    "sacog_demo['ageLevel'] = sacog_demo['age'].apply(ageLevel)"
   ]
  },
  {
   "cell_type": "code",
   "execution_count": 6,
   "metadata": {},
   "outputs": [],
   "source": [
    "sacog_demo.to_csv('../data/processedData/sacog_demo.csv')"
   ]
  },
  {
   "cell_type": "markdown",
   "metadata": {},
   "source": [
    "## Descriptive Analysis"
   ]
  },
  {
   "cell_type": "code",
   "execution_count": 7,
   "metadata": {},
   "outputs": [],
   "source": [
    "cat = ['ChildcareItems', 'Clothing',  'HomeOffice', 'Medication', 'PreparedFood', 'OtherFood', 'PaperCleaning', 'Groceries' ]"
   ]
  },
  {
   "cell_type": "code",
   "execution_count": 8,
   "metadata": {},
   "outputs": [
    {
     "data": {
      "image/png": "[encoded data removed]",
      "text/plain": [
       "<Figure size 2880x1224 with 2 Axes>"
      ]
     },
     "metadata": {
      "needs_background": "light"
     },
     "output_type": "display_data"
    }
   ],
   "source": [
    "PurchaseFreq = pd.DataFrame(index = cat)\n",
    "PurchaseFreq['ECommerce Orders (Before)'] = sacog_demo[['PastYear-Orders-'+cat_ for cat_ in cat]].mean().values\n",
    "PurchaseFreq['ECommerce Orders (During)'] = sacog_demo[['May-Orders-'+cat_ for cat_ in cat]].mean().values\n",
    "PurchaseFreq['In-person Trips (During)'] = sacog_demo[['May-Trips-'+cat_ for cat_ in cat]].mean().values\n",
    "\n",
    "plt.rcParams.update({'font.size': 35, 'font.family': 'Times New Roman'}) # fix the font size for matplot\n",
    "plt.figure(figsize=(40, 17))\n",
    "\n",
    "plt.subplot(1, 2, 2)\n",
    "PurchaseFreq.iloc[:,1:].plot(kind='bar', stacked = True, ax = plt.gca(), color = ['darkorange', 'lightgreen']*8, width = 0.4)\n",
    "plt.xlabel('Category', fontsize=40)\n",
    "plt.ylabel('Number of events per week', fontsize=40)\n",
    "#plt.title('Shopping events in May')\n",
    "plt.xticks(rotation=18)\n",
    "for p in plt.gca().patches:\n",
    "    height = p.get_height()\n",
    "    width = p.get_width()\n",
    "    x = p.get_x()\n",
    "    y = p.get_y()\n",
    "    \n",
    "    label_text = f'{height:.2f}'\n",
    "    label_x = x + width/2\n",
    "    label_y = y + height/2\n",
    "    plt.gca().text(label_x, label_y, label_text, ha = 'center', va = 'center', fontsize = 33)\n",
    "    \n",
    "plt.subplot(1, 2, 1)\n",
    "PurchaseFreq.iloc[:,[0,1]].plot(kind='bar', ax = plt.gca(), color = ['skyblue','darkorange'], width = 0.7)\n",
    "for p in plt.gca().patches:\n",
    "    plt.gca().annotate(round(p.get_height(), 2), (p.get_x() - 0.07, p.get_height() + 0.02), fontsize = 33)\n",
    "plt.xlabel('Category', fontsize = 40)\n",
    "plt.ylabel('Number of events per week', fontsize = 40)\n",
    "plt.ylim(0,2)\n",
    "#plt.title('Comparison of shopping frequency')\n",
    "plt.xticks(rotation=18)\n",
    "\n",
    "plt.savefig('../output/ShoppingFrequency.tiff', dpi=400)"
   ]
  },
  {
   "cell_type": "markdown",
   "metadata": {},
   "source": [
    "## Shopping Style during- and pre-pandemic"
   ]
  },
  {
   "cell_type": "code",
   "execution_count": 9,
   "metadata": {},
   "outputs": [],
   "source": [
    "cat = ['ChildcareItems', 'Clothing', 'HomeOffice', 'Medication',  'PreparedFood', 'OtherFood', 'PaperCleaning', 'Groceries' ]\n",
    "\n",
    "# Find all the observations with complete shopping records for centroid initialization\n",
    "subset = sacog_demo[~sacog_demo[['May-Portion-E'+cat_ for cat_ in cat]].isna().any(axis = 1)]\n",
    "subset = subset[['May-Portion-E'+cat_ for cat_ in cat]]\n",
    "\n",
    "# X is for clustering, contain all 313 records, with nan representing 'no shopping'\n",
    "X = sacog_demo[['May-Portion-E'+cat_ for cat_ in cat]]"
   ]
  },
  {
   "cell_type": "code",
   "execution_count": 10,
   "metadata": {},
   "outputs": [
    {
     "name": "stderr",
     "output_type": "stream",
     "text": [
      "D:\\Moomoo Research\\ECommerce study\\script\\utils.py:139: RuntimeWarning: invalid value encountered in double_scalars\n",
      "  sil_.append((b - a)/max(a,b))\n",
      "D:\\Moomoo Research\\ECommerce study\\script\\utils.py:93: RuntimeWarning: Mean of empty slice\n",
      "  centroids[j] = np.nanmean(data[clusters == j], axis = 0)\n"
     ]
    },
    {
     "data": {
      "text/plain": [
       "Text(0.5, 1.0, 'Silhouette score')"
      ]
     },
     "execution_count": 10,
     "metadata": {},
     "output_type": "execute_result"
    },
    {
     "data": {
      "image/png": "[encoded data removed]",
      "text/plain": [
       "<Figure size 1440x576 with 2 Axes>"
      ]
     },
     "metadata": {
      "needs_background": "light"
     },
     "output_type": "display_data"
    }
   ],
   "source": [
    "# Weighting means I care more about the similarity or dissimilarity of purchase channel for \n",
    "# categories with a higher weight. Categories with a higher shopping rate will get a higher weight\n",
    "K = range(2, 15)\n",
    "cost = []\n",
    "sil = []\n",
    "\n",
    "# The weight is calculated using the inverse of shopping rate for each category and normalized by the lowest weight - childcareItem\n",
    "# The weight for grocery is set to 10\n",
    "weight = np.array(1/(sacog_demo[['May-Portion-E'+cat_ for cat_ in cat]].isna().sum() / 313)) \n",
    "weight = weight/weight[0]\n",
    "weight[-1] = 10\n",
    "\n",
    "for i in K:\n",
    "    km = kmeans_missing(potential_centroids = subset, n_clusters = i, weight = weight)\n",
    "    km.fit(X, max_iter = 10000, number_of_runs = 1000, init = 'kmeans++')\n",
    "    cost.append(km.costs)\n",
    "    sil.append(km.silhouette(X))\n",
    "    \n",
    "fig, ax = plt.subplots(1, 2, figsize = (20,8))\n",
    "ax[0].plot(K, cost, 'go-')\n",
    "ax[0].set_xlabel('K')\n",
    "ax[0].set_ylabel('inertia')\n",
    "ax[0].set_xticks(K)\n",
    "ax[0].set_title('Elbow Method')\n",
    "\n",
    "ax[1].plot(K, sil, 'go-')\n",
    "ax[1].set_xlabel('K')\n",
    "ax[1].set_ylabel('silhouette')\n",
    "ax[1].set_xticks(K)\n",
    "ax[1].set_title('Silhouette score')"
   ]
  },
  {
   "cell_type": "code",
   "execution_count": 11,
   "metadata": {},
   "outputs": [],
   "source": [
    "km5 = kmeans_missing(subset, 5, weight = weight) \n",
    "km5.fit(X, max_iter = 10000, number_of_runs = 10000, init = 'kmeans++')\n",
    "\n",
    "df = pd.DataFrame(km5.centroids, columns = cat)\n",
    "df\n",
    "df['size'] = np.unique(km5.labels, return_counts = True)[1]\n",
    "df['Percentage'] = df['size']/313"
   ]
  },
  {
   "cell_type": "code",
   "execution_count": 12,
   "metadata": {},
   "outputs": [
    {
     "data": {
      "text/html": [
       "<div>\n",
       "<style scoped>\n",
       "    .dataframe tbody tr th:only-of-type {\n",
       "        vertical-align: middle;\n",
       "    }\n",
       "\n",
       "    .dataframe tbody tr th {\n",
       "        vertical-align: top;\n",
       "    }\n",
       "\n",
       "    .dataframe thead th {\n",
       "        text-align: right;\n",
       "    }\n",
       "</style>\n",
       "<table border=\"1\" class=\"dataframe\">\n",
       "  <thead>\n",
       "    <tr style=\"text-align: right;\">\n",
       "      <th></th>\n",
       "      <th>ChildcareItems</th>\n",
       "      <th>Clothing</th>\n",
       "      <th>HomeOffice</th>\n",
       "      <th>Medication</th>\n",
       "      <th>PreparedFood</th>\n",
       "      <th>OtherFood</th>\n",
       "      <th>PaperCleaning</th>\n",
       "      <th>Groceries</th>\n",
       "      <th>size</th>\n",
       "      <th>Percentage</th>\n",
       "    </tr>\n",
       "  </thead>\n",
       "  <tbody>\n",
       "    <tr>\n",
       "      <th>0</th>\n",
       "      <td>0.598765</td>\n",
       "      <td>0.801378</td>\n",
       "      <td>0.513889</td>\n",
       "      <td>0.755387</td>\n",
       "      <td>0.034561</td>\n",
       "      <td>0.084848</td>\n",
       "      <td>0.089927</td>\n",
       "      <td>0.039764</td>\n",
       "      <td>57</td>\n",
       "      <td>0.182109</td>\n",
       "    </tr>\n",
       "    <tr>\n",
       "      <th>1</th>\n",
       "      <td>0.633333</td>\n",
       "      <td>0.554060</td>\n",
       "      <td>0.431373</td>\n",
       "      <td>0.378049</td>\n",
       "      <td>0.454759</td>\n",
       "      <td>0.459539</td>\n",
       "      <td>0.305483</td>\n",
       "      <td>0.485084</td>\n",
       "      <td>52</td>\n",
       "      <td>0.166134</td>\n",
       "    </tr>\n",
       "    <tr>\n",
       "      <th>2</th>\n",
       "      <td>0.641975</td>\n",
       "      <td>0.581991</td>\n",
       "      <td>0.519076</td>\n",
       "      <td>0.343075</td>\n",
       "      <td>0.598228</td>\n",
       "      <td>0.234483</td>\n",
       "      <td>0.256241</td>\n",
       "      <td>0.037716</td>\n",
       "      <td>92</td>\n",
       "      <td>0.293930</td>\n",
       "    </tr>\n",
       "    <tr>\n",
       "      <th>3</th>\n",
       "      <td>0.317949</td>\n",
       "      <td>0.102339</td>\n",
       "      <td>0.137500</td>\n",
       "      <td>0.135632</td>\n",
       "      <td>0.164368</td>\n",
       "      <td>0.070707</td>\n",
       "      <td>0.022727</td>\n",
       "      <td>0.011112</td>\n",
       "      <td>83</td>\n",
       "      <td>0.265176</td>\n",
       "    </tr>\n",
       "    <tr>\n",
       "      <th>4</th>\n",
       "      <td>0.877334</td>\n",
       "      <td>0.943427</td>\n",
       "      <td>0.891503</td>\n",
       "      <td>0.795843</td>\n",
       "      <td>0.663888</td>\n",
       "      <td>0.773684</td>\n",
       "      <td>0.906800</td>\n",
       "      <td>0.740228</td>\n",
       "      <td>29</td>\n",
       "      <td>0.092652</td>\n",
       "    </tr>\n",
       "  </tbody>\n",
       "</table>\n",
       "</div>"
      ],
      "text/plain": [
       "   ChildcareItems  Clothing  HomeOffice  Medication  PreparedFood  OtherFood  \\\n",
       "0        0.598765  0.801378    0.513889    0.755387      0.034561   0.084848   \n",
       "1        0.633333  0.554060    0.431373    0.378049      0.454759   0.459539   \n",
       "2        0.641975  0.581991    0.519076    0.343075      0.598228   0.234483   \n",
       "3        0.317949  0.102339    0.137500    0.135632      0.164368   0.070707   \n",
       "4        0.877334  0.943427    0.891503    0.795843      0.663888   0.773684   \n",
       "\n",
       "   PaperCleaning  Groceries  size  Percentage  \n",
       "0       0.089927   0.039764    57    0.182109  \n",
       "1       0.305483   0.485084    52    0.166134  \n",
       "2       0.256241   0.037716    92    0.293930  \n",
       "3       0.022727   0.011112    83    0.265176  \n",
       "4       0.906800   0.740228    29    0.092652  "
      ]
     },
     "execution_count": 12,
     "metadata": {},
     "output_type": "execute_result"
    }
   ],
   "source": [
    "df"
   ]
  },
  {
   "cell_type": "code",
   "execution_count": 13,
   "metadata": {},
   "outputs": [
    {
     "data": {
      "text/html": [
       "<style  type=\"text/css\" >\n",
       "    #T_b7fe5e28_80be_11ed_8437_8cc6813ba66drow0_col0 {\n",
       "            background-color:  #fff7fb;\n",
       "            color:  #000000;\n",
       "        }    #T_b7fe5e28_80be_11ed_8437_8cc6813ba66drow0_col1 {\n",
       "            background-color:  #fff7fb;\n",
       "            color:  #000000;\n",
       "        }    #T_b7fe5e28_80be_11ed_8437_8cc6813ba66drow0_col2 {\n",
       "            background-color:  #fff7fb;\n",
       "            color:  #000000;\n",
       "        }    #T_b7fe5e28_80be_11ed_8437_8cc6813ba66drow0_col3 {\n",
       "            background-color:  #fff7fb;\n",
       "            color:  #000000;\n",
       "        }    #T_b7fe5e28_80be_11ed_8437_8cc6813ba66drow0_col4 {\n",
       "            background-color:  #dad9ea;\n",
       "            color:  #000000;\n",
       "        }    #T_b7fe5e28_80be_11ed_8437_8cc6813ba66drow0_col5 {\n",
       "            background-color:  #fff7fb;\n",
       "            color:  #000000;\n",
       "        }    #T_b7fe5e28_80be_11ed_8437_8cc6813ba66drow0_col6 {\n",
       "            background-color:  #fff7fb;\n",
       "            color:  #000000;\n",
       "        }    #T_b7fe5e28_80be_11ed_8437_8cc6813ba66drow0_col7 {\n",
       "            background-color:  #fff7fb;\n",
       "            color:  #000000;\n",
       "        }    #T_b7fe5e28_80be_11ed_8437_8cc6813ba66drow1_col0 {\n",
       "            background-color:  #73a9cf;\n",
       "            color:  #000000;\n",
       "        }    #T_b7fe5e28_80be_11ed_8437_8cc6813ba66drow1_col1 {\n",
       "            background-color:  #046299;\n",
       "            color:  #f1f1f1;\n",
       "        }    #T_b7fe5e28_80be_11ed_8437_8cc6813ba66drow1_col2 {\n",
       "            background-color:  #75a9cf;\n",
       "            color:  #000000;\n",
       "        }    #T_b7fe5e28_80be_11ed_8437_8cc6813ba66drow1_col3 {\n",
       "            background-color:  #034871;\n",
       "            color:  #f1f1f1;\n",
       "        }    #T_b7fe5e28_80be_11ed_8437_8cc6813ba66drow1_col4 {\n",
       "            background-color:  #fff7fb;\n",
       "            color:  #000000;\n",
       "        }    #T_b7fe5e28_80be_11ed_8437_8cc6813ba66drow1_col5 {\n",
       "            background-color:  #fcf4fa;\n",
       "            color:  #000000;\n",
       "        }    #T_b7fe5e28_80be_11ed_8437_8cc6813ba66drow1_col6 {\n",
       "            background-color:  #f4edf6;\n",
       "            color:  #000000;\n",
       "        }    #T_b7fe5e28_80be_11ed_8437_8cc6813ba66drow1_col7 {\n",
       "            background-color:  #f9f2f8;\n",
       "            color:  #000000;\n",
       "        }    #T_b7fe5e28_80be_11ed_8437_8cc6813ba66drow2_col0 {\n",
       "            background-color:  #4c99c5;\n",
       "            color:  #000000;\n",
       "        }    #T_b7fe5e28_80be_11ed_8437_8cc6813ba66drow2_col1 {\n",
       "            background-color:  #529bc7;\n",
       "            color:  #000000;\n",
       "        }    #T_b7fe5e28_80be_11ed_8437_8cc6813ba66drow2_col2 {\n",
       "            background-color:  #71a8ce;\n",
       "            color:  #000000;\n",
       "        }    #T_b7fe5e28_80be_11ed_8437_8cc6813ba66drow2_col3 {\n",
       "            background-color:  #bbc7e0;\n",
       "            color:  #000000;\n",
       "        }    #T_b7fe5e28_80be_11ed_8437_8cc6813ba66drow2_col4 {\n",
       "            background-color:  #045483;\n",
       "            color:  #f1f1f1;\n",
       "        }    #T_b7fe5e28_80be_11ed_8437_8cc6813ba66drow2_col5 {\n",
       "            background-color:  #d4d4e8;\n",
       "            color:  #000000;\n",
       "        }    #T_b7fe5e28_80be_11ed_8437_8cc6813ba66drow2_col6 {\n",
       "            background-color:  #cccfe5;\n",
       "            color:  #000000;\n",
       "        }    #T_b7fe5e28_80be_11ed_8437_8cc6813ba66drow2_col7 {\n",
       "            background-color:  #faf2f8;\n",
       "            color:  #000000;\n",
       "        }    #T_b7fe5e28_80be_11ed_8437_8cc6813ba66drow3_col0 {\n",
       "            background-color:  #549cc7;\n",
       "            color:  #000000;\n",
       "        }    #T_b7fe5e28_80be_11ed_8437_8cc6813ba66drow3_col1 {\n",
       "            background-color:  #62a2cb;\n",
       "            color:  #000000;\n",
       "        }    #T_b7fe5e28_80be_11ed_8437_8cc6813ba66drow3_col2 {\n",
       "            background-color:  #a1bbda;\n",
       "            color:  #000000;\n",
       "        }    #T_b7fe5e28_80be_11ed_8437_8cc6813ba66drow3_col3 {\n",
       "            background-color:  #a9bfdc;\n",
       "            color:  #000000;\n",
       "        }    #T_b7fe5e28_80be_11ed_8437_8cc6813ba66drow3_col4 {\n",
       "            background-color:  #2685bb;\n",
       "            color:  #000000;\n",
       "        }    #T_b7fe5e28_80be_11ed_8437_8cc6813ba66drow3_col5 {\n",
       "            background-color:  #5a9ec9;\n",
       "            color:  #000000;\n",
       "        }    #T_b7fe5e28_80be_11ed_8437_8cc6813ba66drow3_col6 {\n",
       "            background-color:  #b9c6e0;\n",
       "            color:  #000000;\n",
       "        }    #T_b7fe5e28_80be_11ed_8437_8cc6813ba66drow3_col7 {\n",
       "            background-color:  #2c89bd;\n",
       "            color:  #000000;\n",
       "        }    #T_b7fe5e28_80be_11ed_8437_8cc6813ba66drow4_col0 {\n",
       "            background-color:  #023858;\n",
       "            color:  #f1f1f1;\n",
       "        }    #T_b7fe5e28_80be_11ed_8437_8cc6813ba66drow4_col1 {\n",
       "            background-color:  #023858;\n",
       "            color:  #f1f1f1;\n",
       "        }    #T_b7fe5e28_80be_11ed_8437_8cc6813ba66drow4_col2 {\n",
       "            background-color:  #023858;\n",
       "            color:  #f1f1f1;\n",
       "        }    #T_b7fe5e28_80be_11ed_8437_8cc6813ba66drow4_col3 {\n",
       "            background-color:  #023858;\n",
       "            color:  #f1f1f1;\n",
       "        }    #T_b7fe5e28_80be_11ed_8437_8cc6813ba66drow4_col4 {\n",
       "            background-color:  #023858;\n",
       "            color:  #f1f1f1;\n",
       "        }    #T_b7fe5e28_80be_11ed_8437_8cc6813ba66drow4_col5 {\n",
       "            background-color:  #023858;\n",
       "            color:  #f1f1f1;\n",
       "        }    #T_b7fe5e28_80be_11ed_8437_8cc6813ba66drow4_col6 {\n",
       "            background-color:  #023858;\n",
       "            color:  #f1f1f1;\n",
       "        }    #T_b7fe5e28_80be_11ed_8437_8cc6813ba66drow4_col7 {\n",
       "            background-color:  #023858;\n",
       "            color:  #f1f1f1;\n",
       "        }</style><table id=\"T_b7fe5e28_80be_11ed_8437_8cc6813ba66d\" ><thead>    <tr>        <th class=\"blank level0\" ></th>        <th class=\"col_heading level0 col0\" >ChildcareItems</th>        <th class=\"col_heading level0 col1\" >Clothing</th>        <th class=\"col_heading level0 col2\" >HomeOffice</th>        <th class=\"col_heading level0 col3\" >Medication</th>        <th class=\"col_heading level0 col4\" >PreparedFood</th>        <th class=\"col_heading level0 col5\" >OtherFood</th>        <th class=\"col_heading level0 col6\" >PaperCleaning</th>        <th class=\"col_heading level0 col7\" >Groceries</th>        <th class=\"col_heading level0 col8\" >size</th>        <th class=\"col_heading level0 col9\" >Percentage</th>    </tr></thead><tbody>\n",
       "                <tr>\n",
       "                        <th id=\"T_b7fe5e28_80be_11ed_8437_8cc6813ba66dlevel0_row0\" class=\"row_heading level0 row0\" >ECommerce Independent</th>\n",
       "                        <td id=\"T_b7fe5e28_80be_11ed_8437_8cc6813ba66drow0_col0\" class=\"data row0 col0\" >0.317949</td>\n",
       "                        <td id=\"T_b7fe5e28_80be_11ed_8437_8cc6813ba66drow0_col1\" class=\"data row0 col1\" >0.102339</td>\n",
       "                        <td id=\"T_b7fe5e28_80be_11ed_8437_8cc6813ba66drow0_col2\" class=\"data row0 col2\" >0.137500</td>\n",
       "                        <td id=\"T_b7fe5e28_80be_11ed_8437_8cc6813ba66drow0_col3\" class=\"data row0 col3\" >0.135632</td>\n",
       "                        <td id=\"T_b7fe5e28_80be_11ed_8437_8cc6813ba66drow0_col4\" class=\"data row0 col4\" >0.164368</td>\n",
       "                        <td id=\"T_b7fe5e28_80be_11ed_8437_8cc6813ba66drow0_col5\" class=\"data row0 col5\" >0.070707</td>\n",
       "                        <td id=\"T_b7fe5e28_80be_11ed_8437_8cc6813ba66drow0_col6\" class=\"data row0 col6\" >0.022727</td>\n",
       "                        <td id=\"T_b7fe5e28_80be_11ed_8437_8cc6813ba66drow0_col7\" class=\"data row0 col7\" >0.011112</td>\n",
       "                        <td id=\"T_b7fe5e28_80be_11ed_8437_8cc6813ba66drow0_col8\" class=\"data row0 col8\" >83</td>\n",
       "                        <td id=\"T_b7fe5e28_80be_11ed_8437_8cc6813ba66drow0_col9\" class=\"data row0 col9\" >0.265176</td>\n",
       "            </tr>\n",
       "            <tr>\n",
       "                        <th id=\"T_b7fe5e28_80be_11ed_8437_8cc6813ba66dlevel0_row1\" class=\"row_heading level0 row1\" >ENonFood</th>\n",
       "                        <td id=\"T_b7fe5e28_80be_11ed_8437_8cc6813ba66drow1_col0\" class=\"data row1 col0\" >0.598765</td>\n",
       "                        <td id=\"T_b7fe5e28_80be_11ed_8437_8cc6813ba66drow1_col1\" class=\"data row1 col1\" >0.801378</td>\n",
       "                        <td id=\"T_b7fe5e28_80be_11ed_8437_8cc6813ba66drow1_col2\" class=\"data row1 col2\" >0.513889</td>\n",
       "                        <td id=\"T_b7fe5e28_80be_11ed_8437_8cc6813ba66drow1_col3\" class=\"data row1 col3\" >0.755387</td>\n",
       "                        <td id=\"T_b7fe5e28_80be_11ed_8437_8cc6813ba66drow1_col4\" class=\"data row1 col4\" >0.034561</td>\n",
       "                        <td id=\"T_b7fe5e28_80be_11ed_8437_8cc6813ba66drow1_col5\" class=\"data row1 col5\" >0.084848</td>\n",
       "                        <td id=\"T_b7fe5e28_80be_11ed_8437_8cc6813ba66drow1_col6\" class=\"data row1 col6\" >0.089927</td>\n",
       "                        <td id=\"T_b7fe5e28_80be_11ed_8437_8cc6813ba66drow1_col7\" class=\"data row1 col7\" >0.039764</td>\n",
       "                        <td id=\"T_b7fe5e28_80be_11ed_8437_8cc6813ba66drow1_col8\" class=\"data row1 col8\" >57</td>\n",
       "                        <td id=\"T_b7fe5e28_80be_11ed_8437_8cc6813ba66drow1_col9\" class=\"data row1 col9\" >0.182109</td>\n",
       "            </tr>\n",
       "            <tr>\n",
       "                        <th id=\"T_b7fe5e28_80be_11ed_8437_8cc6813ba66dlevel0_row2\" class=\"row_heading level0 row2\" >ENonFood & EPrepFood</th>\n",
       "                        <td id=\"T_b7fe5e28_80be_11ed_8437_8cc6813ba66drow2_col0\" class=\"data row2 col0\" >0.641975</td>\n",
       "                        <td id=\"T_b7fe5e28_80be_11ed_8437_8cc6813ba66drow2_col1\" class=\"data row2 col1\" >0.581991</td>\n",
       "                        <td id=\"T_b7fe5e28_80be_11ed_8437_8cc6813ba66drow2_col2\" class=\"data row2 col2\" >0.519076</td>\n",
       "                        <td id=\"T_b7fe5e28_80be_11ed_8437_8cc6813ba66drow2_col3\" class=\"data row2 col3\" >0.343075</td>\n",
       "                        <td id=\"T_b7fe5e28_80be_11ed_8437_8cc6813ba66drow2_col4\" class=\"data row2 col4\" >0.598228</td>\n",
       "                        <td id=\"T_b7fe5e28_80be_11ed_8437_8cc6813ba66drow2_col5\" class=\"data row2 col5\" >0.234483</td>\n",
       "                        <td id=\"T_b7fe5e28_80be_11ed_8437_8cc6813ba66drow2_col6\" class=\"data row2 col6\" >0.256241</td>\n",
       "                        <td id=\"T_b7fe5e28_80be_11ed_8437_8cc6813ba66drow2_col7\" class=\"data row2 col7\" >0.037716</td>\n",
       "                        <td id=\"T_b7fe5e28_80be_11ed_8437_8cc6813ba66drow2_col8\" class=\"data row2 col8\" >92</td>\n",
       "                        <td id=\"T_b7fe5e28_80be_11ed_8437_8cc6813ba66drow2_col9\" class=\"data row2 col9\" >0.293930</td>\n",
       "            </tr>\n",
       "            <tr>\n",
       "                        <th id=\"T_b7fe5e28_80be_11ed_8437_8cc6813ba66dlevel0_row3\" class=\"row_heading level0 row3\" >Partially ECommerce</th>\n",
       "                        <td id=\"T_b7fe5e28_80be_11ed_8437_8cc6813ba66drow3_col0\" class=\"data row3 col0\" >0.633333</td>\n",
       "                        <td id=\"T_b7fe5e28_80be_11ed_8437_8cc6813ba66drow3_col1\" class=\"data row3 col1\" >0.554060</td>\n",
       "                        <td id=\"T_b7fe5e28_80be_11ed_8437_8cc6813ba66drow3_col2\" class=\"data row3 col2\" >0.431373</td>\n",
       "                        <td id=\"T_b7fe5e28_80be_11ed_8437_8cc6813ba66drow3_col3\" class=\"data row3 col3\" >0.378049</td>\n",
       "                        <td id=\"T_b7fe5e28_80be_11ed_8437_8cc6813ba66drow3_col4\" class=\"data row3 col4\" >0.454759</td>\n",
       "                        <td id=\"T_b7fe5e28_80be_11ed_8437_8cc6813ba66drow3_col5\" class=\"data row3 col5\" >0.459539</td>\n",
       "                        <td id=\"T_b7fe5e28_80be_11ed_8437_8cc6813ba66drow3_col6\" class=\"data row3 col6\" >0.305483</td>\n",
       "                        <td id=\"T_b7fe5e28_80be_11ed_8437_8cc6813ba66drow3_col7\" class=\"data row3 col7\" >0.485084</td>\n",
       "                        <td id=\"T_b7fe5e28_80be_11ed_8437_8cc6813ba66drow3_col8\" class=\"data row3 col8\" >52</td>\n",
       "                        <td id=\"T_b7fe5e28_80be_11ed_8437_8cc6813ba66drow3_col9\" class=\"data row3 col9\" >0.166134</td>\n",
       "            </tr>\n",
       "            <tr>\n",
       "                        <th id=\"T_b7fe5e28_80be_11ed_8437_8cc6813ba66dlevel0_row4\" class=\"row_heading level0 row4\" >ECommerce Dependent</th>\n",
       "                        <td id=\"T_b7fe5e28_80be_11ed_8437_8cc6813ba66drow4_col0\" class=\"data row4 col0\" >0.877334</td>\n",
       "                        <td id=\"T_b7fe5e28_80be_11ed_8437_8cc6813ba66drow4_col1\" class=\"data row4 col1\" >0.943427</td>\n",
       "                        <td id=\"T_b7fe5e28_80be_11ed_8437_8cc6813ba66drow4_col2\" class=\"data row4 col2\" >0.891503</td>\n",
       "                        <td id=\"T_b7fe5e28_80be_11ed_8437_8cc6813ba66drow4_col3\" class=\"data row4 col3\" >0.795843</td>\n",
       "                        <td id=\"T_b7fe5e28_80be_11ed_8437_8cc6813ba66drow4_col4\" class=\"data row4 col4\" >0.663888</td>\n",
       "                        <td id=\"T_b7fe5e28_80be_11ed_8437_8cc6813ba66drow4_col5\" class=\"data row4 col5\" >0.773684</td>\n",
       "                        <td id=\"T_b7fe5e28_80be_11ed_8437_8cc6813ba66drow4_col6\" class=\"data row4 col6\" >0.906800</td>\n",
       "                        <td id=\"T_b7fe5e28_80be_11ed_8437_8cc6813ba66drow4_col7\" class=\"data row4 col7\" >0.740228</td>\n",
       "                        <td id=\"T_b7fe5e28_80be_11ed_8437_8cc6813ba66drow4_col8\" class=\"data row4 col8\" >29</td>\n",
       "                        <td id=\"T_b7fe5e28_80be_11ed_8437_8cc6813ba66drow4_col9\" class=\"data row4 col9\" >0.092652</td>\n",
       "            </tr>\n",
       "    </tbody></table>"
      ],
      "text/plain": [
       "<pandas.io.formats.style.Styler at 0x1f9b5b06ac0>"
      ]
     },
     "execution_count": 13,
     "metadata": {},
     "output_type": "execute_result"
    }
   ],
   "source": [
    "# Name each group based on the shopping behavior (i.e., share of online orders across eight categories) they manifested \n",
    "label_dict = dict(zip([3,0,2,1,4], ['ECommerce Independent', 'ENonFood', 'ENonFood & EPrepFood', 'Partially ECommerce', 'ECommerce Dependent']))\n",
    "df = df.iloc[[3,0,2,1,4]].rename(index = label_dict)\n",
    "df.style.background_gradient(subset = cat)"
   ]
  },
  {
   "cell_type": "code",
   "execution_count": 14,
   "metadata": {},
   "outputs": [],
   "source": [
    "sacog_demo['label'] = km5.labels\n",
    "sacog_demo['label'] = sacog_demo['label'].map(label_dict)"
   ]
  },
  {
   "cell_type": "markdown",
   "metadata": {},
   "source": [
    "### Shopping Style pre-pandemic"
   ]
  },
  {
   "cell_type": "code",
   "execution_count": 15,
   "metadata": {},
   "outputs": [],
   "source": [
    "X_May = sacog_demo[['May-Orders-'+ cat_ for cat_ in cat]]/4\n",
    "X_Past = sacog_demo[['PastYear-Orders-'+ cat_ for cat_ in cat]]/4\n",
    "X_Past.columns = cat\n",
    "X_May.columns = cat"
   ]
  },
  {
   "cell_type": "code",
   "execution_count": 16,
   "metadata": {},
   "outputs": [],
   "source": [
    "# records that are greater than 95% quantile are replaced by the mean\n",
    "for cat_ in cat:\n",
    "    X_May.loc[X_May[cat_] > X_May[cat_].quantile(.95), cat_] = X_May[cat_].mean()\n",
    "    "
   ]
  },
  {
   "cell_type": "code",
   "execution_count": 17,
   "metadata": {},
   "outputs": [],
   "source": [
    "# Calculate the mean online orders for each group\n",
    "mean_ = X_May.groupby(sacog_demo.label).mean()\n",
    "mean_ = mean_.reindex(['ECommerce Independent', 'ENonFood', 'ENonFood & EPrepFood', 'Partially ECommerce', 'ECommerce Dependent'])"
   ]
  },
  {
   "cell_type": "code",
   "execution_count": 18,
   "metadata": {},
   "outputs": [],
   "source": [
    "# Figure out pre-pandemic style for each household\n",
    "essential = ['PreparedFood', 'Groceries', 'Clothing','PaperCleaning', 'Medication']\n",
    "cat = ['ChildcareItems', 'Clothing', 'HomeOffice', 'Medication',  'PreparedFood', 'OtherFood', 'PaperCleaning', 'Groceries' ]\n",
    "\n",
    "def Past_Label(row, kid, centroid):\n",
    "    \n",
    "    if kid.loc[row.name] > 0:\n",
    "        # exclude the household from ECommerce dependent group if never shopped for essential items online\n",
    "        if sum(row[[cat_ for cat_ in essential+['ChildcareItems']]].isin([0])) > 0:\n",
    "            # exclude the household from Partially ECommerce if never shopped for grocery online\n",
    "            if sum(row[['Groceries']].isin([0])) >0:\n",
    "                # exclude the household from ENonfood & EPrepFood if never shopped for prepared food online\n",
    "                if sum(row[['PreparedFood']].isin([0])) >0:\n",
    "                    \n",
    "                    return np.sum((row - centroid[:2])**2, axis = 1).idxmin()\n",
    "                else:\n",
    "                    return np.sum((row - centroid[:3])**2, axis = 1).idxmin()\n",
    "            \n",
    "            else:\n",
    "                return np.sum((row - centroid[:4])**2, axis = 1).idxmin()\n",
    "        else:\n",
    "            return np.sum((row - centroid)**2, axis = 1).idxmin()\n",
    "            \n",
    "    else:\n",
    "        if sum(row[[cat_ for cat_ in essential]].isin([0])) > 0:\n",
    "            if sum(row[['Groceries']].isin([0])) > 0:\n",
    "                if sum(row[['PreparedFood']].isin([0])) > 0:\n",
    "                    \n",
    "                    return np.sum((row[cat[1:]] - centroid[:2][cat[1:]])**2, axis = 1).idxmin()\n",
    "                else:\n",
    "                    return np.sum((row[cat[1:]] - centroid[:3][cat[1:]])**2, axis = 1).idxmin()\n",
    "                \n",
    "            else:\n",
    "                return np.sum((row[cat[1:]] - centroid[:4][cat[1:]])**2, axis = 1).idxmin()\n",
    "\n",
    "        else:\n",
    "            return np.sum((row[cat[1:]] - centroid[cat[1:]])**2, axis = 1).idxmin()\n",
    "    "
   ]
  },
  {
   "cell_type": "code",
   "execution_count": 19,
   "metadata": {},
   "outputs": [],
   "source": [
    "sacog_demo['past_label'] = X_Past.apply(lambda x: Past_Label(x, sacog_demo['numkids'], mean_), axis = 1)\n",
    "sacog_demo.to_csv('../data/sacog_demo_label.csv')"
   ]
  },
  {
   "cell_type": "code",
   "execution_count": 20,
   "metadata": {},
   "outputs": [
    {
     "data": {
      "text/html": [
       "<div>\n",
       "<style scoped>\n",
       "    .dataframe tbody tr th:only-of-type {\n",
       "        vertical-align: middle;\n",
       "    }\n",
       "\n",
       "    .dataframe tbody tr th {\n",
       "        vertical-align: top;\n",
       "    }\n",
       "\n",
       "    .dataframe thead th {\n",
       "        text-align: right;\n",
       "    }\n",
       "</style>\n",
       "<table border=\"1\" class=\"dataframe\">\n",
       "  <thead>\n",
       "    <tr style=\"text-align: right;\">\n",
       "      <th>label</th>\n",
       "      <th>ECommerce Independent</th>\n",
       "      <th>ENonFood</th>\n",
       "      <th>ENonFood &amp; EPrepFood</th>\n",
       "      <th>Partially ECommerce</th>\n",
       "      <th>ECommerce Dependent</th>\n",
       "      <th>All</th>\n",
       "    </tr>\n",
       "    <tr>\n",
       "      <th>past_label</th>\n",
       "      <th></th>\n",
       "      <th></th>\n",
       "      <th></th>\n",
       "      <th></th>\n",
       "      <th></th>\n",
       "      <th></th>\n",
       "    </tr>\n",
       "  </thead>\n",
       "  <tbody>\n",
       "    <tr>\n",
       "      <th>ECommerce Independent</th>\n",
       "      <td>55</td>\n",
       "      <td>35</td>\n",
       "      <td>46</td>\n",
       "      <td>24</td>\n",
       "      <td>12</td>\n",
       "      <td>172</td>\n",
       "    </tr>\n",
       "    <tr>\n",
       "      <th>ENonFood</th>\n",
       "      <td>9</td>\n",
       "      <td>13</td>\n",
       "      <td>18</td>\n",
       "      <td>15</td>\n",
       "      <td>5</td>\n",
       "      <td>60</td>\n",
       "    </tr>\n",
       "    <tr>\n",
       "      <th>ENonFood &amp; EPrepFood</th>\n",
       "      <td>7</td>\n",
       "      <td>3</td>\n",
       "      <td>15</td>\n",
       "      <td>5</td>\n",
       "      <td>5</td>\n",
       "      <td>35</td>\n",
       "    </tr>\n",
       "    <tr>\n",
       "      <th>Partially ECommerce</th>\n",
       "      <td>5</td>\n",
       "      <td>4</td>\n",
       "      <td>9</td>\n",
       "      <td>6</td>\n",
       "      <td>3</td>\n",
       "      <td>27</td>\n",
       "    </tr>\n",
       "    <tr>\n",
       "      <th>ECommerce Dependent</th>\n",
       "      <td>7</td>\n",
       "      <td>2</td>\n",
       "      <td>4</td>\n",
       "      <td>2</td>\n",
       "      <td>4</td>\n",
       "      <td>19</td>\n",
       "    </tr>\n",
       "    <tr>\n",
       "      <th>All</th>\n",
       "      <td>83</td>\n",
       "      <td>57</td>\n",
       "      <td>92</td>\n",
       "      <td>52</td>\n",
       "      <td>29</td>\n",
       "      <td>313</td>\n",
       "    </tr>\n",
       "  </tbody>\n",
       "</table>\n",
       "</div>"
      ],
      "text/plain": [
       "label                  ECommerce Independent  ENonFood  ENonFood & EPrepFood  \\\n",
       "past_label                                                                     \n",
       "ECommerce Independent                     55        35                    46   \n",
       "ENonFood                                   9        13                    18   \n",
       "ENonFood & EPrepFood                       7         3                    15   \n",
       "Partially ECommerce                        5         4                     9   \n",
       "ECommerce Dependent                        7         2                     4   \n",
       "All                                       83        57                    92   \n",
       "\n",
       "label                  Partially ECommerce  ECommerce Dependent  All  \n",
       "past_label                                                            \n",
       "ECommerce Independent                   24                   12  172  \n",
       "ENonFood                                15                    5   60  \n",
       "ENonFood & EPrepFood                     5                    5   35  \n",
       "Partially ECommerce                      6                    3   27  \n",
       "ECommerce Dependent                      2                    4   19  \n",
       "All                                     52                   29  313  "
      ]
     },
     "execution_count": 20,
     "metadata": {},
     "output_type": "execute_result"
    }
   ],
   "source": [
    "ct = pd.crosstab(sacog_demo.past_label, sacog_demo.label, margins = True)[['ECommerce Independent', 'ENonFood', 'ENonFood & EPrepFood', 'Partially ECommerce', 'ECommerce Dependent', 'All']]\n",
    "ct = ct.reindex(['ECommerce Independent', 'ENonFood', 'ENonFood & EPrepFood', 'Partially ECommerce', 'ECommerce Dependent', 'All'])\n",
    "ct"
   ]
  },
  {
   "cell_type": "code",
   "execution_count": 25,
   "metadata": {},
   "outputs": [
    {
     "data": {
      "application/vnd.plotly.v1+json": {
       "config": {
        "plotlyServerURL": "https://plot.ly"
       },
       "data": [
        {
         "link": {
          "source": [
           0,
           0,
           0,
           0,
           0,
           1,
           1,
           1,
           1,
           1,
           2,
           2,
           2,
           2,
           2,
           3,
           3,
           3,
           3,
           3,
           4,
           4,
           4,
           4,
           4
          ],
          "target": [
           5,
           6,
           7,
           8,
           9,
           5,
           6,
           7,
           8,
           9,
           5,
           6,
           7,
           8,
           9,
           5,
           6,
           7,
           8,
           9,
           5,
           6,
           7,
           8,
           9,
           5,
           6,
           7,
           8,
           9
          ],
          "value": [
           4,
           7,
           2,
           4,
           2,
           12,
           55,
           35,
           46,
           24,
           5,
           9,
           13,
           18,
           15,
           5,
           7,
           3,
           15,
           5,
           3,
           5,
           4,
           9,
           6
          ]
         },
         "node": {
          "color": [
           "salmon",
           "teal",
           "olive",
           "orange",
           "pink",
           "salmon",
           "teal",
           "olive",
           "orange",
           "pink"
          ],
          "label": [
           "ECommerce Dependent",
           "ECommerce Independent",
           "ENonFood",
           "ENonFood & EPrepFood",
           "Partially ECommerce",
           "ECommerce Dependent",
           "ECommerce Independent",
           "ENonFood",
           "ENonFood & EPrepFood",
           "Partially ECommerce"
          ],
          "pad": 10,
          "thickness": 20
         },
         "textfont": {
          "color": "Black",
          "family": "Times New Roman",
          "size": 18
         },
         "type": "sankey"
        }
       ],
       "layout": {
        "template": {
         "data": {
          "bar": [
           {
            "error_x": {
             "color": "#2a3f5f"
            },
            "error_y": {
             "color": "#2a3f5f"
            },
            "marker": {
             "line": {
              "color": "#E5ECF6",
              "width": 0.5
             },
             "pattern": {
              "fillmode": "overlay",
              "size": 10,
              "solidity": 0.2
             }
            },
            "type": "bar"
           }
          ],
          "barpolar": [
           {
            "marker": {
             "line": {
              "color": "#E5ECF6",
              "width": 0.5
             },
             "pattern": {
              "fillmode": "overlay",
              "size": 10,
              "solidity": 0.2
             }
            },
            "type": "barpolar"
           }
          ],
          "carpet": [
           {
            "aaxis": {
             "endlinecolor": "#2a3f5f",
             "gridcolor": "white",
             "linecolor": "white",
             "minorgridcolor": "white",
             "startlinecolor": "#2a3f5f"
            },
            "baxis": {
             "endlinecolor": "#2a3f5f",
             "gridcolor": "white",
             "linecolor": "white",
             "minorgridcolor": "white",
             "startlinecolor": "#2a3f5f"
            },
            "type": "carpet"
           }
          ],
          "choropleth": [
           {
            "colorbar": {
             "outlinewidth": 0,
             "ticks": ""
            },
            "type": "choropleth"
           }
          ],
          "contour": [
           {
            "colorbar": {
             "outlinewidth": 0,
             "ticks": ""
            },
            "colorscale": [
             [
              0,
              "#0d0887"
             ],
             [
              0.1111111111111111,
              "#46039f"
             ],
             [
              0.2222222222222222,
              "#7201a8"
             ],
             [
              0.3333333333333333,
              "#9c179e"
             ],
             [
              0.4444444444444444,
              "#bd3786"
             ],
             [
              0.5555555555555556,
              "#d8576b"
             ],
             [
              0.6666666666666666,
              "#ed7953"
             ],
             [
              0.7777777777777778,
              "#fb9f3a"
             ],
             [
              0.8888888888888888,
              "#fdca26"
             ],
             [
              1,
              "#f0f921"
             ]
            ],
            "type": "contour"
           }
          ],
          "contourcarpet": [
           {
            "colorbar": {
             "outlinewidth": 0,
             "ticks": ""
            },
            "type": "contourcarpet"
           }
          ],
          "heatmap": [
           {
            "colorbar": {
             "outlinewidth": 0,
             "ticks": ""
            },
            "colorscale": [
             [
              0,
              "#0d0887"
             ],
             [
              0.1111111111111111,
              "#46039f"
             ],
             [
              0.2222222222222222,
              "#7201a8"
             ],
             [
              0.3333333333333333,
              "#9c179e"
             ],
             [
              0.4444444444444444,
              "#bd3786"
             ],
             [
              0.5555555555555556,
              "#d8576b"
             ],
             [
              0.6666666666666666,
              "#ed7953"
             ],
             [
              0.7777777777777778,
              "#fb9f3a"
             ],
             [
              0.8888888888888888,
              "#fdca26"
             ],
             [
              1,
              "#f0f921"
             ]
            ],
            "type": "heatmap"
           }
          ],
          "heatmapgl": [
           {
            "colorbar": {
             "outlinewidth": 0,
             "ticks": ""
            },
            "colorscale": [
             [
              0,
              "#0d0887"
             ],
             [
              0.1111111111111111,
              "#46039f"
             ],
             [
              0.2222222222222222,
              "#7201a8"
             ],
             [
              0.3333333333333333,
              "#9c179e"
             ],
             [
              0.4444444444444444,
              "#bd3786"
             ],
             [
              0.5555555555555556,
              "#d8576b"
             ],
             [
              0.6666666666666666,
              "#ed7953"
             ],
             [
              0.7777777777777778,
              "#fb9f3a"
             ],
             [
              0.8888888888888888,
              "#fdca26"
             ],
             [
              1,
              "#f0f921"
             ]
            ],
            "type": "heatmapgl"
           }
          ],
          "histogram": [
           {
            "marker": {
             "pattern": {
              "fillmode": "overlay",
              "size": 10,
              "solidity": 0.2
             }
            },
            "type": "histogram"
           }
          ],
          "histogram2d": [
           {
            "colorbar": {
             "outlinewidth": 0,
             "ticks": ""
            },
            "colorscale": [
             [
              0,
              "#0d0887"
             ],
             [
              0.1111111111111111,
              "#46039f"
             ],
             [
              0.2222222222222222,
              "#7201a8"
             ],
             [
              0.3333333333333333,
              "#9c179e"
             ],
             [
              0.4444444444444444,
              "#bd3786"
             ],
             [
              0.5555555555555556,
              "#d8576b"
             ],
             [
              0.6666666666666666,
              "#ed7953"
             ],
             [
              0.7777777777777778,
              "#fb9f3a"
             ],
             [
              0.8888888888888888,
              "#fdca26"
             ],
             [
              1,
              "#f0f921"
             ]
            ],
            "type": "histogram2d"
           }
          ],
          "histogram2dcontour": [
           {
            "colorbar": {
             "outlinewidth": 0,
             "ticks": ""
            },
            "colorscale": [
             [
              0,
              "#0d0887"
             ],
             [
              0.1111111111111111,
              "#46039f"
             ],
             [
              0.2222222222222222,
              "#7201a8"
             ],
             [
              0.3333333333333333,
              "#9c179e"
             ],
             [
              0.4444444444444444,
              "#bd3786"
             ],
             [
              0.5555555555555556,
              "#d8576b"
             ],
             [
              0.6666666666666666,
              "#ed7953"
             ],
             [
              0.7777777777777778,
              "#fb9f3a"
             ],
             [
              0.8888888888888888,
              "#fdca26"
             ],
             [
              1,
              "#f0f921"
             ]
            ],
            "type": "histogram2dcontour"
           }
          ],
          "mesh3d": [
           {
            "colorbar": {
             "outlinewidth": 0,
             "ticks": ""
            },
            "type": "mesh3d"
           }
          ],
          "parcoords": [
           {
            "line": {
             "colorbar": {
              "outlinewidth": 0,
              "ticks": ""
             }
            },
            "type": "parcoords"
           }
          ],
          "pie": [
           {
            "automargin": true,
            "type": "pie"
           }
          ],
          "scatter": [
           {
            "marker": {
             "colorbar": {
              "outlinewidth": 0,
              "ticks": ""
             }
            },
            "type": "scatter"
           }
          ],
          "scatter3d": [
           {
            "line": {
             "colorbar": {
              "outlinewidth": 0,
              "ticks": ""
             }
            },
            "marker": {
             "colorbar": {
              "outlinewidth": 0,
              "ticks": ""
             }
            },
            "type": "scatter3d"
           }
          ],
          "scattercarpet": [
           {
            "marker": {
             "colorbar": {
              "outlinewidth": 0,
              "ticks": ""
             }
            },
            "type": "scattercarpet"
           }
          ],
          "scattergeo": [
           {
            "marker": {
             "colorbar": {
              "outlinewidth": 0,
              "ticks": ""
             }
            },
            "type": "scattergeo"
           }
          ],
          "scattergl": [
           {
            "marker": {
             "colorbar": {
              "outlinewidth": 0,
              "ticks": ""
             }
            },
            "type": "scattergl"
           }
          ],
          "scattermapbox": [
           {
            "marker": {
             "colorbar": {
              "outlinewidth": 0,
              "ticks": ""
             }
            },
            "type": "scattermapbox"
           }
          ],
          "scatterpolar": [
           {
            "marker": {
             "colorbar": {
              "outlinewidth": 0,
              "ticks": ""
             }
            },
            "type": "scatterpolar"
           }
          ],
          "scatterpolargl": [
           {
            "marker": {
             "colorbar": {
              "outlinewidth": 0,
              "ticks": ""
             }
            },
            "type": "scatterpolargl"
           }
          ],
          "scatterternary": [
           {
            "marker": {
             "colorbar": {
              "outlinewidth": 0,
              "ticks": ""
             }
            },
            "type": "scatterternary"
           }
          ],
          "surface": [
           {
            "colorbar": {
             "outlinewidth": 0,
             "ticks": ""
            },
            "colorscale": [
             [
              0,
              "#0d0887"
             ],
             [
              0.1111111111111111,
              "#46039f"
             ],
             [
              0.2222222222222222,
              "#7201a8"
             ],
             [
              0.3333333333333333,
              "#9c179e"
             ],
             [
              0.4444444444444444,
              "#bd3786"
             ],
             [
              0.5555555555555556,
              "#d8576b"
             ],
             [
              0.6666666666666666,
              "#ed7953"
             ],
             [
              0.7777777777777778,
              "#fb9f3a"
             ],
             [
              0.8888888888888888,
              "#fdca26"
             ],
             [
              1,
              "#f0f921"
             ]
            ],
            "type": "surface"
           }
          ],
          "table": [
           {
            "cells": {
             "fill": {
              "color": "#EBF0F8"
             },
             "line": {
              "color": "white"
             }
            },
            "header": {
             "fill": {
              "color": "#C8D4E3"
             },
             "line": {
              "color": "white"
             }
            },
            "type": "table"
           }
          ]
         },
         "layout": {
          "annotationdefaults": {
           "arrowcolor": "#2a3f5f",
           "arrowhead": 0,
           "arrowwidth": 1
          },
          "autotypenumbers": "strict",
          "coloraxis": {
           "colorbar": {
            "outlinewidth": 0,
            "ticks": ""
           }
          },
          "colorscale": {
           "diverging": [
            [
             0,
             "#8e0152"
            ],
            [
             0.1,
             "#c51b7d"
            ],
            [
             0.2,
             "#de77ae"
            ],
            [
             0.3,
             "#f1b6da"
            ],
            [
             0.4,
             "#fde0ef"
            ],
            [
             0.5,
             "#f7f7f7"
            ],
            [
             0.6,
             "#e6f5d0"
            ],
            [
             0.7,
             "#b8e186"
            ],
            [
             0.8,
             "#7fbc41"
            ],
            [
             0.9,
             "#4d9221"
            ],
            [
             1,
             "#276419"
            ]
           ],
           "sequential": [
            [
             0,
             "#0d0887"
            ],
            [
             0.1111111111111111,
             "#46039f"
            ],
            [
             0.2222222222222222,
             "#7201a8"
            ],
            [
             0.3333333333333333,
             "#9c179e"
            ],
            [
             0.4444444444444444,
             "#bd3786"
            ],
            [
             0.5555555555555556,
             "#d8576b"
            ],
            [
             0.6666666666666666,
             "#ed7953"
            ],
            [
             0.7777777777777778,
             "#fb9f3a"
            ],
            [
             0.8888888888888888,
             "#fdca26"
            ],
            [
             1,
             "#f0f921"
            ]
           ],
           "sequentialminus": [
            [
             0,
             "#0d0887"
            ],
            [
             0.1111111111111111,
             "#46039f"
            ],
            [
             0.2222222222222222,
             "#7201a8"
            ],
            [
             0.3333333333333333,
             "#9c179e"
            ],
            [
             0.4444444444444444,
             "#bd3786"
            ],
            [
             0.5555555555555556,
             "#d8576b"
            ],
            [
             0.6666666666666666,
             "#ed7953"
            ],
            [
             0.7777777777777778,
             "#fb9f3a"
            ],
            [
             0.8888888888888888,
             "#fdca26"
            ],
            [
             1,
             "#f0f921"
            ]
           ]
          },
          "colorway": [
           "#636efa",
           "#EF553B",
           "#00cc96",
           "#ab63fa",
           "#FFA15A",
           "#19d3f3",
           "#FF6692",
           "#B6E880",
           "#FF97FF",
           "#FECB52"
          ],
          "font": {
           "color": "#2a3f5f"
          },
          "geo": {
           "bgcolor": "white",
           "lakecolor": "white",
           "landcolor": "#E5ECF6",
           "showlakes": true,
           "showland": true,
           "subunitcolor": "white"
          },
          "hoverlabel": {
           "align": "left"
          },
          "hovermode": "closest",
          "mapbox": {
           "style": "light"
          },
          "paper_bgcolor": "white",
          "plot_bgcolor": "#E5ECF6",
          "polar": {
           "angularaxis": {
            "gridcolor": "white",
            "linecolor": "white",
            "ticks": ""
           },
           "bgcolor": "#E5ECF6",
           "radialaxis": {
            "gridcolor": "white",
            "linecolor": "white",
            "ticks": ""
           }
          },
          "scene": {
           "xaxis": {
            "backgroundcolor": "#E5ECF6",
            "gridcolor": "white",
            "gridwidth": 2,
            "linecolor": "white",
            "showbackground": true,
            "ticks": "",
            "zerolinecolor": "white"
           },
           "yaxis": {
            "backgroundcolor": "#E5ECF6",
            "gridcolor": "white",
            "gridwidth": 2,
            "linecolor": "white",
            "showbackground": true,
            "ticks": "",
            "zerolinecolor": "white"
           },
           "zaxis": {
            "backgroundcolor": "#E5ECF6",
            "gridcolor": "white",
            "gridwidth": 2,
            "linecolor": "white",
            "showbackground": true,
            "ticks": "",
            "zerolinecolor": "white"
           }
          },
          "shapedefaults": {
           "line": {
            "color": "#2a3f5f"
           }
          },
          "ternary": {
           "aaxis": {
            "gridcolor": "white",
            "linecolor": "white",
            "ticks": ""
           },
           "baxis": {
            "gridcolor": "white",
            "linecolor": "white",
            "ticks": ""
           },
           "bgcolor": "#E5ECF6",
           "caxis": {
            "gridcolor": "white",
            "linecolor": "white",
            "ticks": ""
           }
          },
          "title": {
           "x": 0.05
          },
          "xaxis": {
           "automargin": true,
           "gridcolor": "white",
           "linecolor": "white",
           "ticks": "",
           "title": {
            "standoff": 15
           },
           "zerolinecolor": "white",
           "zerolinewidth": 2
          },
          "yaxis": {
           "automargin": true,
           "gridcolor": "white",
           "linecolor": "white",
           "ticks": "",
           "title": {
            "standoff": 15
           },
           "zerolinecolor": "white",
           "zerolinewidth": 2
          }
         }
        },
        "title": {
         "text": "Dynamic of Shopping Style"
        }
       }
      },
      "text/html": [
       "<div>                            <div id=\"fd7c1798-0047-4b9b-a2f7-8cc5e88c547f\" class=\"plotly-graph-div\" style=\"height:525px; width:100%;\"></div>            <script type=\"text/javascript\">                require([\"plotly\"], function(Plotly) {                    window.PLOTLYENV=window.PLOTLYENV || {};                                    if (document.getElementById(\"fd7c1798-0047-4b9b-a2f7-8cc5e88c547f\")) {                    Plotly.newPlot(                        \"fd7c1798-0047-4b9b-a2f7-8cc5e88c547f\",                        [{\"link\":{\"source\":[0,0,0,0,0,1,1,1,1,1,2,2,2,2,2,3,3,3,3,3,4,4,4,4,4],\"target\":[5,6,7,8,9,5,6,7,8,9,5,6,7,8,9,5,6,7,8,9,5,6,7,8,9,5,6,7,8,9],\"value\":[4,7,2,4,2,12,55,35,46,24,5,9,13,18,15,5,7,3,15,5,3,5,4,9,6]},\"node\":{\"color\":[\"salmon\",\"teal\",\"olive\",\"orange\",\"pink\",\"salmon\",\"teal\",\"olive\",\"orange\",\"pink\"],\"label\":[\"ECommerce Dependent\",\"ECommerce Independent\",\"ENonFood\",\"ENonFood & EPrepFood\",\"Partially ECommerce\",\"ECommerce Dependent\",\"ECommerce Independent\",\"ENonFood\",\"ENonFood & EPrepFood\",\"Partially ECommerce\"],\"pad\":10,\"thickness\":20},\"textfont\":{\"color\":\"Black\",\"family\":\"Times New Roman\",\"size\":18},\"type\":\"sankey\"}],                        {\"template\":{\"data\":{\"bar\":[{\"error_x\":{\"color\":\"#2a3f5f\"},\"error_y\":{\"color\":\"#2a3f5f\"},\"marker\":{\"line\":{\"color\":\"#E5ECF6\",\"width\":0.5},\"pattern\":{\"fillmode\":\"overlay\",\"size\":10,\"solidity\":0.2}},\"type\":\"bar\"}],\"barpolar\":[{\"marker\":{\"line\":{\"color\":\"#E5ECF6\",\"width\":0.5},\"pattern\":{\"fillmode\":\"overlay\",\"size\":10,\"solidity\":0.2}},\"type\":\"barpolar\"}],\"carpet\":[{\"aaxis\":{\"endlinecolor\":\"#2a3f5f\",\"gridcolor\":\"white\",\"linecolor\":\"white\",\"minorgridcolor\":\"white\",\"startlinecolor\":\"#2a3f5f\"},\"baxis\":{\"endlinecolor\":\"#2a3f5f\",\"gridcolor\":\"white\",\"linecolor\":\"white\",\"minorgridcolor\":\"white\",\"startlinecolor\":\"#2a3f5f\"},\"type\":\"carpet\"}],\"choropleth\":[{\"colorbar\":{\"outlinewidth\":0,\"ticks\":\"\"},\"type\":\"choropleth\"}],\"contour\":[{\"colorbar\":{\"outlinewidth\":0,\"ticks\":\"\"},\"colorscale\":[[0.0,\"#0d0887\"],[0.1111111111111111,\"#46039f\"],[0.2222222222222222,\"#7201a8\"],[0.3333333333333333,\"#9c179e\"],[0.4444444444444444,\"#bd3786\"],[0.5555555555555556,\"#d8576b\"],[0.6666666666666666,\"#ed7953\"],[0.7777777777777778,\"#fb9f3a\"],[0.8888888888888888,\"#fdca26\"],[1.0,\"#f0f921\"]],\"type\":\"contour\"}],\"contourcarpet\":[{\"colorbar\":{\"outlinewidth\":0,\"ticks\":\"\"},\"type\":\"contourcarpet\"}],\"heatmap\":[{\"colorbar\":{\"outlinewidth\":0,\"ticks\":\"\"},\"colorscale\":[[0.0,\"#0d0887\"],[0.1111111111111111,\"#46039f\"],[0.2222222222222222,\"#7201a8\"],[0.3333333333333333,\"#9c179e\"],[0.4444444444444444,\"#bd3786\"],[0.5555555555555556,\"#d8576b\"],[0.6666666666666666,\"#ed7953\"],[0.7777777777777778,\"#fb9f3a\"],[0.8888888888888888,\"#fdca26\"],[1.0,\"#f0f921\"]],\"type\":\"heatmap\"}],\"heatmapgl\":[{\"colorbar\":{\"outlinewidth\":0,\"ticks\":\"\"},\"colorscale\":[[0.0,\"#0d0887\"],[0.1111111111111111,\"#46039f\"],[0.2222222222222222,\"#7201a8\"],[0.3333333333333333,\"#9c179e\"],[0.4444444444444444,\"#bd3786\"],[0.5555555555555556,\"#d8576b\"],[0.6666666666666666,\"#ed7953\"],[0.7777777777777778,\"#fb9f3a\"],[0.8888888888888888,\"#fdca26\"],[1.0,\"#f0f921\"]],\"type\":\"heatmapgl\"}],\"histogram\":[{\"marker\":{\"pattern\":{\"fillmode\":\"overlay\",\"size\":10,\"solidity\":0.2}},\"type\":\"histogram\"}],\"histogram2d\":[{\"colorbar\":{\"outlinewidth\":0,\"ticks\":\"\"},\"colorscale\":[[0.0,\"#0d0887\"],[0.1111111111111111,\"#46039f\"],[0.2222222222222222,\"#7201a8\"],[0.3333333333333333,\"#9c179e\"],[0.4444444444444444,\"#bd3786\"],[0.5555555555555556,\"#d8576b\"],[0.6666666666666666,\"#ed7953\"],[0.7777777777777778,\"#fb9f3a\"],[0.8888888888888888,\"#fdca26\"],[1.0,\"#f0f921\"]],\"type\":\"histogram2d\"}],\"histogram2dcontour\":[{\"colorbar\":{\"outlinewidth\":0,\"ticks\":\"\"},\"colorscale\":[[0.0,\"#0d0887\"],[0.1111111111111111,\"#46039f\"],[0.2222222222222222,\"#7201a8\"],[0.3333333333333333,\"#9c179e\"],[0.4444444444444444,\"#bd3786\"],[0.5555555555555556,\"#d8576b\"],[0.6666666666666666,\"#ed7953\"],[0.7777777777777778,\"#fb9f3a\"],[0.8888888888888888,\"#fdca26\"],[1.0,\"#f0f921\"]],\"type\":\"histogram2dcontour\"}],\"mesh3d\":[{\"colorbar\":{\"outlinewidth\":0,\"ticks\":\"\"},\"type\":\"mesh3d\"}],\"parcoords\":[{\"line\":{\"colorbar\":{\"outlinewidth\":0,\"ticks\":\"\"}},\"type\":\"parcoords\"}],\"pie\":[{\"automargin\":true,\"type\":\"pie\"}],\"scatter\":[{\"marker\":{\"colorbar\":{\"outlinewidth\":0,\"ticks\":\"\"}},\"type\":\"scatter\"}],\"scatter3d\":[{\"line\":{\"colorbar\":{\"outlinewidth\":0,\"ticks\":\"\"}},\"marker\":{\"colorbar\":{\"outlinewidth\":0,\"ticks\":\"\"}},\"type\":\"scatter3d\"}],\"scattercarpet\":[{\"marker\":{\"colorbar\":{\"outlinewidth\":0,\"ticks\":\"\"}},\"type\":\"scattercarpet\"}],\"scattergeo\":[{\"marker\":{\"colorbar\":{\"outlinewidth\":0,\"ticks\":\"\"}},\"type\":\"scattergeo\"}],\"scattergl\":[{\"marker\":{\"colorbar\":{\"outlinewidth\":0,\"ticks\":\"\"}},\"type\":\"scattergl\"}],\"scattermapbox\":[{\"marker\":{\"colorbar\":{\"outlinewidth\":0,\"ticks\":\"\"}},\"type\":\"scattermapbox\"}],\"scatterpolar\":[{\"marker\":{\"colorbar\":{\"outlinewidth\":0,\"ticks\":\"\"}},\"type\":\"scatterpolar\"}],\"scatterpolargl\":[{\"marker\":{\"colorbar\":{\"outlinewidth\":0,\"ticks\":\"\"}},\"type\":\"scatterpolargl\"}],\"scatterternary\":[{\"marker\":{\"colorbar\":{\"outlinewidth\":0,\"ticks\":\"\"}},\"type\":\"scatterternary\"}],\"surface\":[{\"colorbar\":{\"outlinewidth\":0,\"ticks\":\"\"},\"colorscale\":[[0.0,\"#0d0887\"],[0.1111111111111111,\"#46039f\"],[0.2222222222222222,\"#7201a8\"],[0.3333333333333333,\"#9c179e\"],[0.4444444444444444,\"#bd3786\"],[0.5555555555555556,\"#d8576b\"],[0.6666666666666666,\"#ed7953\"],[0.7777777777777778,\"#fb9f3a\"],[0.8888888888888888,\"#fdca26\"],[1.0,\"#f0f921\"]],\"type\":\"surface\"}],\"table\":[{\"cells\":{\"fill\":{\"color\":\"#EBF0F8\"},\"line\":{\"color\":\"white\"}},\"header\":{\"fill\":{\"color\":\"#C8D4E3\"},\"line\":{\"color\":\"white\"}},\"type\":\"table\"}]},\"layout\":{\"annotationdefaults\":{\"arrowcolor\":\"#2a3f5f\",\"arrowhead\":0,\"arrowwidth\":1},\"autotypenumbers\":\"strict\",\"coloraxis\":{\"colorbar\":{\"outlinewidth\":0,\"ticks\":\"\"}},\"colorscale\":{\"diverging\":[[0,\"#8e0152\"],[0.1,\"#c51b7d\"],[0.2,\"#de77ae\"],[0.3,\"#f1b6da\"],[0.4,\"#fde0ef\"],[0.5,\"#f7f7f7\"],[0.6,\"#e6f5d0\"],[0.7,\"#b8e186\"],[0.8,\"#7fbc41\"],[0.9,\"#4d9221\"],[1,\"#276419\"]],\"sequential\":[[0.0,\"#0d0887\"],[0.1111111111111111,\"#46039f\"],[0.2222222222222222,\"#7201a8\"],[0.3333333333333333,\"#9c179e\"],[0.4444444444444444,\"#bd3786\"],[0.5555555555555556,\"#d8576b\"],[0.6666666666666666,\"#ed7953\"],[0.7777777777777778,\"#fb9f3a\"],[0.8888888888888888,\"#fdca26\"],[1.0,\"#f0f921\"]],\"sequentialminus\":[[0.0,\"#0d0887\"],[0.1111111111111111,\"#46039f\"],[0.2222222222222222,\"#7201a8\"],[0.3333333333333333,\"#9c179e\"],[0.4444444444444444,\"#bd3786\"],[0.5555555555555556,\"#d8576b\"],[0.6666666666666666,\"#ed7953\"],[0.7777777777777778,\"#fb9f3a\"],[0.8888888888888888,\"#fdca26\"],[1.0,\"#f0f921\"]]},\"colorway\":[\"#636efa\",\"#EF553B\",\"#00cc96\",\"#ab63fa\",\"#FFA15A\",\"#19d3f3\",\"#FF6692\",\"#B6E880\",\"#FF97FF\",\"#FECB52\"],\"font\":{\"color\":\"#2a3f5f\"},\"geo\":{\"bgcolor\":\"white\",\"lakecolor\":\"white\",\"landcolor\":\"#E5ECF6\",\"showlakes\":true,\"showland\":true,\"subunitcolor\":\"white\"},\"hoverlabel\":{\"align\":\"left\"},\"hovermode\":\"closest\",\"mapbox\":{\"style\":\"light\"},\"paper_bgcolor\":\"white\",\"plot_bgcolor\":\"#E5ECF6\",\"polar\":{\"angularaxis\":{\"gridcolor\":\"white\",\"linecolor\":\"white\",\"ticks\":\"\"},\"bgcolor\":\"#E5ECF6\",\"radialaxis\":{\"gridcolor\":\"white\",\"linecolor\":\"white\",\"ticks\":\"\"}},\"scene\":{\"xaxis\":{\"backgroundcolor\":\"#E5ECF6\",\"gridcolor\":\"white\",\"gridwidth\":2,\"linecolor\":\"white\",\"showbackground\":true,\"ticks\":\"\",\"zerolinecolor\":\"white\"},\"yaxis\":{\"backgroundcolor\":\"#E5ECF6\",\"gridcolor\":\"white\",\"gridwidth\":2,\"linecolor\":\"white\",\"showbackground\":true,\"ticks\":\"\",\"zerolinecolor\":\"white\"},\"zaxis\":{\"backgroundcolor\":\"#E5ECF6\",\"gridcolor\":\"white\",\"gridwidth\":2,\"linecolor\":\"white\",\"showbackground\":true,\"ticks\":\"\",\"zerolinecolor\":\"white\"}},\"shapedefaults\":{\"line\":{\"color\":\"#2a3f5f\"}},\"ternary\":{\"aaxis\":{\"gridcolor\":\"white\",\"linecolor\":\"white\",\"ticks\":\"\"},\"baxis\":{\"gridcolor\":\"white\",\"linecolor\":\"white\",\"ticks\":\"\"},\"bgcolor\":\"#E5ECF6\",\"caxis\":{\"gridcolor\":\"white\",\"linecolor\":\"white\",\"ticks\":\"\"}},\"title\":{\"x\":0.05},\"xaxis\":{\"automargin\":true,\"gridcolor\":\"white\",\"linecolor\":\"white\",\"ticks\":\"\",\"title\":{\"standoff\":15},\"zerolinecolor\":\"white\",\"zerolinewidth\":2},\"yaxis\":{\"automargin\":true,\"gridcolor\":\"white\",\"linecolor\":\"white\",\"ticks\":\"\",\"title\":{\"standoff\":15},\"zerolinecolor\":\"white\",\"zerolinewidth\":2}}},\"title\":{\"text\":\"Dynamic of Shopping Style\"}},                        {\"responsive\": true}                    ).then(function(){\n",
       "                            \n",
       "var gd = document.getElementById('fd7c1798-0047-4b9b-a2f7-8cc5e88c547f');\n",
       "var x = new MutationObserver(function (mutations, observer) {{\n",
       "        var display = window.getComputedStyle(gd).display;\n",
       "        if (!display || display === 'none') {{\n",
       "            console.log([gd, 'removed!']);\n",
       "            Plotly.purge(gd);\n",
       "            observer.disconnect();\n",
       "        }}\n",
       "}});\n",
       "\n",
       "// Listen for the removal of the full notebook cells\n",
       "var notebookContainer = gd.closest('#notebook-container');\n",
       "if (notebookContainer) {{\n",
       "    x.observe(notebookContainer, {childList: true});\n",
       "}}\n",
       "\n",
       "// Listen for the clearing of the current output cell\n",
       "var outputEl = gd.closest('.output');\n",
       "if (outputEl) {{\n",
       "    x.observe(outputEl, {childList: true});\n",
       "}}\n",
       "\n",
       "                        })                };                });            </script>        </div>"
      ]
     },
     "metadata": {},
     "output_type": "display_data"
    }
   ],
   "source": [
    "import plotly.graph_objects as go\n",
    "\n",
    "df = pd.DataFrame({'Past style': sacog_demo.past_label, \n",
    "              'May style': sacog_demo.label})\n",
    "\n",
    "fig = go.Figure(data = [go.Sankey(\n",
    "                        textfont = dict(color = 'Black', family='Times New Roman', size = 18),\n",
    "                        node = dict(\n",
    "                        pad = 10,\n",
    "                        thickness = 20,\n",
    "                        label = ['ECommerce Dependent', 'ECommerce Independent', 'ENonFood', 'ENonFood & EPrepFood', 'Partially ECommerce',\n",
    "                                 'ECommerce Dependent', 'ECommerce Independent', 'ENonFood', 'ENonFood & EPrepFood','Partially ECommerce'],\n",
    "                        color = ['salmon','teal','olive','orange','pink',\n",
    "                                'salmon','teal','olive','orange','pink'],\n",
    "                        ),\n",
    "                        link = dict(\n",
    "                            source = [0]*5 + [1]*5 + [2]*5 + [3]*5 + [4]*5,\n",
    "                            target = [5,6,7,8,9]*6,\n",
    "                            value = list(df.groupby('Past style')['May style'].value_counts().sort_index())\n",
    "                        ))]\n",
    "               )\n",
    "\n",
    "fig.update_layout(title_text = 'Dynamic of Shopping Style')\n",
    "fig.show()\n"
   ]
  },
  {
   "cell_type": "markdown",
   "metadata": {},
   "source": [
    "### Heterogeneity in shopping style across generations"
   ]
  },
  {
   "cell_type": "code",
   "execution_count": 26,
   "metadata": {},
   "outputs": [],
   "source": [
    "generation_order = ['Gen Y & Z', 'Gen X', 'Baby Boomer and Older']\n",
    "group_order = ['ECommerce Independent', 'ENonFood', 'ENonFood & EPrepFood', 'Partially ECommerce', 'ECommerce Dependent']"
   ]
  },
  {
   "cell_type": "code",
   "execution_count": 27,
   "metadata": {},
   "outputs": [],
   "source": [
    "# Calculate the shopping style distribution by generation cohort, and see if the proportion of a style within a generation \n",
    "# cohort is significantly less or greater than the proportion among the whole population\n",
    "def genHetero(data, label, genorder,grouporder):\n",
    "    \n",
    "    df = data.groupby('ageLevel')[label].value_counts(normalize = True).unstack().reindex(genorder)[grouporder].T\n",
    "    df['Total'] = data[label].value_counts(normalize=True)\n",
    "    df = df.applymap('{:.0%}'.format).applymap(str)\n",
    "    df.rename_axis(index=None)\n",
    "    \n",
    "    sig = dict(zip(generation_order, [[],[],[]]))\n",
    "    for gen in genorder:\n",
    "        for style in grouporder:\n",
    "            group_mean = data[label] == style\n",
    "            gen_mean = data[data.ageLevel == gen][label] == style\n",
    "            _, _, _, p = independent_ttest(group_mean, gen_mean, 0.05)\n",
    "            sig[gen].append(p)\n",
    "    p_ = pd.DataFrame(sig).applymap(lambda x: ''.join(['*' for t in [.1, .05, .01] if x<=t]))\n",
    "    p_['Total'] = np.array(['']*len(grouporder))\n",
    "    p_.set_axis(grouporder, inplace = True)\n",
    "    \n",
    "    display(df + p_)  \n",
    "    "
   ]
  },
  {
   "cell_type": "code",
   "execution_count": 28,
   "metadata": {},
   "outputs": [
    {
     "data": {
      "text/html": [
       "<div>\n",
       "<style scoped>\n",
       "    .dataframe tbody tr th:only-of-type {\n",
       "        vertical-align: middle;\n",
       "    }\n",
       "\n",
       "    .dataframe tbody tr th {\n",
       "        vertical-align: top;\n",
       "    }\n",
       "\n",
       "    .dataframe thead th {\n",
       "        text-align: right;\n",
       "    }\n",
       "</style>\n",
       "<table border=\"1\" class=\"dataframe\">\n",
       "  <thead>\n",
       "    <tr style=\"text-align: right;\">\n",
       "      <th>ageLevel</th>\n",
       "      <th>Gen Y &amp; Z</th>\n",
       "      <th>Gen X</th>\n",
       "      <th>Baby Boomer and Older</th>\n",
       "      <th>Total</th>\n",
       "    </tr>\n",
       "    <tr>\n",
       "      <th>past_label</th>\n",
       "      <th></th>\n",
       "      <th></th>\n",
       "      <th></th>\n",
       "      <th></th>\n",
       "    </tr>\n",
       "  </thead>\n",
       "  <tbody>\n",
       "    <tr>\n",
       "      <th>ECommerce Independent</th>\n",
       "      <td>52%</td>\n",
       "      <td>56%</td>\n",
       "      <td>57%</td>\n",
       "      <td>55%</td>\n",
       "    </tr>\n",
       "    <tr>\n",
       "      <th>ENonFood</th>\n",
       "      <td>15%</td>\n",
       "      <td>22%</td>\n",
       "      <td>21%</td>\n",
       "      <td>19%</td>\n",
       "    </tr>\n",
       "    <tr>\n",
       "      <th>ENonFood &amp; EPrepFood</th>\n",
       "      <td>13%</td>\n",
       "      <td>11%</td>\n",
       "      <td>10%</td>\n",
       "      <td>11%</td>\n",
       "    </tr>\n",
       "    <tr>\n",
       "      <th>Partially ECommerce</th>\n",
       "      <td>11%</td>\n",
       "      <td>7%</td>\n",
       "      <td>7%</td>\n",
       "      <td>9%</td>\n",
       "    </tr>\n",
       "    <tr>\n",
       "      <th>ECommerce Dependent</th>\n",
       "      <td>8%</td>\n",
       "      <td>4%</td>\n",
       "      <td>5%</td>\n",
       "      <td>6%</td>\n",
       "    </tr>\n",
       "  </tbody>\n",
       "</table>\n",
       "</div>"
      ],
      "text/plain": [
       "ageLevel              Gen Y & Z Gen X Baby Boomer and Older Total\n",
       "past_label                                                       \n",
       "ECommerce Independent       52%   56%                   57%   55%\n",
       "ENonFood                    15%   22%                   21%   19%\n",
       "ENonFood & EPrepFood        13%   11%                   10%   11%\n",
       "Partially ECommerce         11%    7%                    7%    9%\n",
       "ECommerce Dependent          8%    4%                    5%    6%"
      ]
     },
     "metadata": {},
     "output_type": "display_data"
    }
   ],
   "source": [
    "genHetero(sacog_demo, 'past_label', generation_order, group_order)                  \n",
    "         "
   ]
  },
  {
   "cell_type": "code",
   "execution_count": 29,
   "metadata": {},
   "outputs": [
    {
     "data": {
      "text/html": [
       "<div>\n",
       "<style scoped>\n",
       "    .dataframe tbody tr th:only-of-type {\n",
       "        vertical-align: middle;\n",
       "    }\n",
       "\n",
       "    .dataframe tbody tr th {\n",
       "        vertical-align: top;\n",
       "    }\n",
       "\n",
       "    .dataframe thead th {\n",
       "        text-align: right;\n",
       "    }\n",
       "</style>\n",
       "<table border=\"1\" class=\"dataframe\">\n",
       "  <thead>\n",
       "    <tr style=\"text-align: right;\">\n",
       "      <th>ageLevel</th>\n",
       "      <th>Gen Y &amp; Z</th>\n",
       "      <th>Gen X</th>\n",
       "      <th>Baby Boomer and Older</th>\n",
       "      <th>Total</th>\n",
       "    </tr>\n",
       "    <tr>\n",
       "      <th>label</th>\n",
       "      <th></th>\n",
       "      <th></th>\n",
       "      <th></th>\n",
       "      <th></th>\n",
       "    </tr>\n",
       "  </thead>\n",
       "  <tbody>\n",
       "    <tr>\n",
       "      <th>ECommerce Independent</th>\n",
       "      <td>27%</td>\n",
       "      <td>19%*</td>\n",
       "      <td>29%</td>\n",
       "      <td>27%</td>\n",
       "    </tr>\n",
       "    <tr>\n",
       "      <th>ENonFood</th>\n",
       "      <td>15%</td>\n",
       "      <td>20%</td>\n",
       "      <td>21%</td>\n",
       "      <td>18%</td>\n",
       "    </tr>\n",
       "    <tr>\n",
       "      <th>ENonFood &amp; EPrepFood</th>\n",
       "      <td>34%</td>\n",
       "      <td>35%</td>\n",
       "      <td>23%*</td>\n",
       "      <td>29%</td>\n",
       "    </tr>\n",
       "    <tr>\n",
       "      <th>Partially ECommerce</th>\n",
       "      <td>18%</td>\n",
       "      <td>17%</td>\n",
       "      <td>16%</td>\n",
       "      <td>17%</td>\n",
       "    </tr>\n",
       "    <tr>\n",
       "      <th>ECommerce Dependent</th>\n",
       "      <td>6%</td>\n",
       "      <td>9%</td>\n",
       "      <td>12%</td>\n",
       "      <td>9%</td>\n",
       "    </tr>\n",
       "  </tbody>\n",
       "</table>\n",
       "</div>"
      ],
      "text/plain": [
       "ageLevel              Gen Y & Z Gen X Baby Boomer and Older Total\n",
       "label                                                            \n",
       "ECommerce Independent       27%  19%*                   29%   27%\n",
       "ENonFood                    15%   20%                   21%   18%\n",
       "ENonFood & EPrepFood        34%   35%                  23%*   29%\n",
       "Partially ECommerce         18%   17%                   16%   17%\n",
       "ECommerce Dependent          6%    9%                   12%    9%"
      ]
     },
     "metadata": {},
     "output_type": "display_data"
    }
   ],
   "source": [
    "genHetero(sacog_demo, 'label', generation_order, group_order)     "
   ]
  },
  {
   "cell_type": "code",
   "execution_count": 30,
   "metadata": {},
   "outputs": [
    {
     "data": {
      "text/html": [
       "<div>\n",
       "<style scoped>\n",
       "    .dataframe tbody tr th:only-of-type {\n",
       "        vertical-align: middle;\n",
       "    }\n",
       "\n",
       "    .dataframe tbody tr th {\n",
       "        vertical-align: top;\n",
       "    }\n",
       "\n",
       "    .dataframe thead th {\n",
       "        text-align: right;\n",
       "    }\n",
       "</style>\n",
       "<table border=\"1\" class=\"dataframe\">\n",
       "  <thead>\n",
       "    <tr style=\"text-align: right;\">\n",
       "      <th>ageLevel</th>\n",
       "      <th>Gen Y &amp; Z</th>\n",
       "      <th>Gen X</th>\n",
       "      <th>Baby Boomer and Older</th>\n",
       "      <th>Total</th>\n",
       "    </tr>\n",
       "    <tr>\n",
       "      <th>label</th>\n",
       "      <th></th>\n",
       "      <th></th>\n",
       "      <th></th>\n",
       "      <th></th>\n",
       "    </tr>\n",
       "  </thead>\n",
       "  <tbody>\n",
       "    <tr>\n",
       "      <th>ECommerce Independent</th>\n",
       "      <td>32%</td>\n",
       "      <td>20%*</td>\n",
       "      <td>36%</td>\n",
       "      <td>32%</td>\n",
       "    </tr>\n",
       "    <tr>\n",
       "      <th>ENonFood</th>\n",
       "      <td>15%</td>\n",
       "      <td>30%</td>\n",
       "      <td>21%</td>\n",
       "      <td>20%</td>\n",
       "    </tr>\n",
       "    <tr>\n",
       "      <th>ENonFood &amp; EPrepFood</th>\n",
       "      <td>32%</td>\n",
       "      <td>23%</td>\n",
       "      <td>23%</td>\n",
       "      <td>27%</td>\n",
       "    </tr>\n",
       "    <tr>\n",
       "      <th>Partially ECommerce</th>\n",
       "      <td>17%</td>\n",
       "      <td>17%</td>\n",
       "      <td>10%</td>\n",
       "      <td>14%</td>\n",
       "    </tr>\n",
       "    <tr>\n",
       "      <th>ECommerce Dependent</th>\n",
       "      <td>3%*</td>\n",
       "      <td>10%</td>\n",
       "      <td>9%</td>\n",
       "      <td>7%</td>\n",
       "    </tr>\n",
       "  </tbody>\n",
       "</table>\n",
       "</div>"
      ],
      "text/plain": [
       "ageLevel              Gen Y & Z Gen X Baby Boomer and Older Total\n",
       "label                                                            \n",
       "ECommerce Independent       32%  20%*                   36%   32%\n",
       "ENonFood                    15%   30%                   21%   20%\n",
       "ENonFood & EPrepFood        32%   23%                   23%   27%\n",
       "Partially ECommerce         17%   17%                   10%   14%\n",
       "ECommerce Dependent         3%*   10%                    9%    7%"
      ]
     },
     "metadata": {},
     "output_type": "display_data"
    }
   ],
   "source": [
    "EInd = sacog_demo[sacog_demo.past_label == 'ECommerce Independent']\n",
    "genHetero(EInd, 'label', generation_order, group_order)"
   ]
  },
  {
   "cell_type": "markdown",
   "metadata": {},
   "source": [
    "### Future Intention"
   ]
  },
  {
   "cell_type": "code",
   "execution_count": 31,
   "metadata": {},
   "outputs": [],
   "source": [
    "intent = [\n",
    " 'DoInStage23-ContactlessDoor',\n",
    " 'DoInStage23-CurbsidePickup',\n",
    " 'DoInStage23-InStorePickup',\n",
    " 'DoInStage23-VisitRetail',\n",
    " 'DoInStage23-VisitRestaurant',\n",
    " ]"
   ]
  },
  {
   "cell_type": "code",
   "execution_count": 32,
   "metadata": {},
   "outputs": [],
   "source": [
    "pd.options.display.float_format = '{:.1f}'.format\n",
    "df = sacog_demo[sacog_demo != -9998].groupby('label')[intent].mean().reindex(group_order)\n",
    "df = df.append(pd.DataFrame(sacog_demo[sacog_demo != -9998][intent].mean()).T.rename({0:'Total'}))"
   ]
  },
  {
   "cell_type": "code",
   "execution_count": 33,
   "metadata": {},
   "outputs": [
    {
     "name": "stderr",
     "output_type": "stream",
     "text": [
      "<ipython-input-33-4aef0184266a>:5: UserWarning:\n",
      "\n",
      "Boolean Series key will be reindexed to match DataFrame index.\n",
      "\n"
     ]
    },
    {
     "data": {
      "text/html": [
       "<div>\n",
       "<style scoped>\n",
       "    .dataframe tbody tr th:only-of-type {\n",
       "        vertical-align: middle;\n",
       "    }\n",
       "\n",
       "    .dataframe tbody tr th {\n",
       "        vertical-align: top;\n",
       "    }\n",
       "\n",
       "    .dataframe thead th {\n",
       "        text-align: right;\n",
       "    }\n",
       "</style>\n",
       "<table border=\"1\" class=\"dataframe\">\n",
       "  <thead>\n",
       "    <tr style=\"text-align: right;\">\n",
       "      <th></th>\n",
       "      <th>DoInStage23-ContactlessDoor</th>\n",
       "      <th>DoInStage23-CurbsidePickup</th>\n",
       "      <th>DoInStage23-InStorePickup</th>\n",
       "      <th>DoInStage23-VisitRetail</th>\n",
       "      <th>DoInStage23-VisitRestaurant</th>\n",
       "    </tr>\n",
       "  </thead>\n",
       "  <tbody>\n",
       "    <tr>\n",
       "      <th>ECommerce Independent</th>\n",
       "      <td>3.0*</td>\n",
       "      <td>2.8**</td>\n",
       "      <td>3.0</td>\n",
       "      <td>3.8**</td>\n",
       "      <td>3.0</td>\n",
       "    </tr>\n",
       "    <tr>\n",
       "      <th>ENonFood</th>\n",
       "      <td>2.7***</td>\n",
       "      <td>2.8**</td>\n",
       "      <td>2.9*</td>\n",
       "      <td>3.6</td>\n",
       "      <td>2.9</td>\n",
       "    </tr>\n",
       "    <tr>\n",
       "      <th>ENonFood &amp; EPrepFood</th>\n",
       "      <td>3.4</td>\n",
       "      <td>3.7***</td>\n",
       "      <td>3.6***</td>\n",
       "      <td>3.6</td>\n",
       "      <td>2.9</td>\n",
       "    </tr>\n",
       "    <tr>\n",
       "      <th>Partially ECommerce</th>\n",
       "      <td>3.9***</td>\n",
       "      <td>3.4</td>\n",
       "      <td>3.3</td>\n",
       "      <td>3.2*</td>\n",
       "      <td>2.8</td>\n",
       "    </tr>\n",
       "    <tr>\n",
       "      <th>ECommerce Dependent</th>\n",
       "      <td>4.0***</td>\n",
       "      <td>3.3</td>\n",
       "      <td>2.8*</td>\n",
       "      <td>2.6***</td>\n",
       "      <td>2.4**</td>\n",
       "    </tr>\n",
       "    <tr>\n",
       "      <th>Total</th>\n",
       "      <td>3.3</td>\n",
       "      <td>3.2</td>\n",
       "      <td>3.2</td>\n",
       "      <td>3.5</td>\n",
       "      <td>2.9</td>\n",
       "    </tr>\n",
       "  </tbody>\n",
       "</table>\n",
       "</div>"
      ],
      "text/plain": [
       "                      DoInStage23-ContactlessDoor DoInStage23-CurbsidePickup  \\\n",
       "ECommerce Independent                        3.0*                      2.8**   \n",
       "ENonFood                                   2.7***                      2.8**   \n",
       "ENonFood & EPrepFood                          3.4                     3.7***   \n",
       "Partially ECommerce                        3.9***                        3.4   \n",
       "ECommerce Dependent                        4.0***                        3.3   \n",
       "Total                                         3.3                        3.2   \n",
       "\n",
       "                      DoInStage23-InStorePickup DoInStage23-VisitRetail  \\\n",
       "ECommerce Independent                       3.0                   3.8**   \n",
       "ENonFood                                   2.9*                     3.6   \n",
       "ENonFood & EPrepFood                     3.6***                     3.6   \n",
       "Partially ECommerce                         3.3                    3.2*   \n",
       "ECommerce Dependent                        2.8*                  2.6***   \n",
       "Total                                       3.2                     3.5   \n",
       "\n",
       "                      DoInStage23-VisitRestaurant  \n",
       "ECommerce Independent                         3.0  \n",
       "ENonFood                                      2.9  \n",
       "ENonFood & EPrepFood                          2.9  \n",
       "Partially ECommerce                           2.8  \n",
       "ECommerce Dependent                         2.4**  \n",
       "Total                                         2.9  "
      ]
     },
     "execution_count": 33,
     "metadata": {},
     "output_type": "execute_result"
    }
   ],
   "source": [
    "sig = dict(zip(intent, [[] for _ in range(5)]))\n",
    "for intention in intent:\n",
    "    for style in group_order:\n",
    "        ppl_mean = sacog_demo[sacog_demo[intention] != -9998][intention]\n",
    "        group_mean = sacog_demo[sacog_demo[intention] != -9998][sacog_demo.label == style][intention]\n",
    "        _, _, _, p = independent_ttest(ppl_mean, group_mean, 0.05)\n",
    "        sig[intention].append(p)\n",
    "p_ = pd.DataFrame(sig).rename(dict(zip(range(5), group_order))).applymap(lambda x: ''.join(['*' for t in [.1, .05, .01] if x<=t]))\n",
    "p_.loc['Total'] = [''] * len(intent)\n",
    "p_\n",
    "df.round(1).astype(str) + p_"
   ]
  },
  {
   "cell_type": "code",
   "execution_count": null,
   "metadata": {},
   "outputs": [],
   "source": []
  }
 ],
 "metadata": {
  "kernelspec": {
   "display_name": "Python 3",
   "language": "python",
   "name": "python3"
  },
  "language_info": {
   "codemirror_mode": {
    "name": "ipython",
    "version": 3
   },
   "file_extension": ".py",
   "mimetype": "text/x-python",
   "name": "python",
   "nbconvert_exporter": "python",
   "pygments_lexer": "ipython3",
   "version": "3.8.3"
  }
 },
 "nbformat": 4,
 "nbformat_minor": 4
}
